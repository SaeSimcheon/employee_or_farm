{
 "cells": [
  {
   "cell_type": "markdown",
   "metadata": {},
   "source": [
    "# 거리두기 확인하기"
   ]
  },
  {
   "cell_type": "code",
   "execution_count": null,
   "metadata": {},
   "outputs": [],
   "source": [
    "def solution(places):\n",
    "    answer = []\n",
    "    \n",
    "    dx1 = [-1, 0, 1, 0]\n",
    "    dy1 = [0, -1, 0, 1]\n",
    "    dx2 = [1, 1, -1, -1]\n",
    "    dy2 = [1, -1, 1, -1]\n",
    "    dx3 = [-2, 0, 2, 0]\n",
    "    dy3 = [0, -2, 0, 2]\n",
    "    for k in range(5):\n",
    "        flag = False\n",
    "        for i in range(5):\n",
    "            for j in range(5):\n",
    "                if places[k][i][j] == 'P':\n",
    "                    for w in range(4):\n",
    "                        xx = i+dx1[w]\n",
    "                        yy = j+dy1[w]\n",
    "                        if 0 <= xx < 5 and 0 <= yy < 5 and places[k][xx][yy] == 'P':\n",
    "                            answer.append(0)\n",
    "                            flag = True\n",
    "                            break\n",
    "                    if flag:\n",
    "                        break\n",
    "                        \n",
    "                    for v in range(4):\n",
    "                        xxxx = i+dx2[v]\n",
    "                        yyyy = j+dy2[v]\n",
    "                        if 0 <= xxxx < 5 and 0 <= yyyy < 5 and places[k][xxxx][yyyy] == 'P':\n",
    "                            if places[k][i][yyyy] == 'O' or places[k][xxxx][j] == 'O':\n",
    "                                answer.append(0)\n",
    "                                flag = True\n",
    "                                break\n",
    "                    if flag:\n",
    "                        break\n",
    "                    \n",
    "                    for z in range(4):\n",
    "                        xxx = i+dx3[z]\n",
    "                        yyy = j+dy3[z]\n",
    "                        if 0 <= xxx < 5 and 0 <= yyy < 5 and places[k][xxx][yyy] == 'P':\n",
    "                            if places[k][i+dx1[z]][j+dy1[z]] == 'O':\n",
    "                                answer.append(0)\n",
    "                                flag = True\n",
    "                                break\n",
    "                    if flag:\n",
    "                        break\n",
    "                if flag:\n",
    "                    break\n",
    "            if flag:\n",
    "                break\n",
    "        else:\n",
    "            answer.append(1)\n",
    "\n",
    "    return answer"
   ]
  },
  {
   "cell_type": "markdown",
   "metadata": {},
   "source": [
    "# 퀴드압축 후 개수 세기"
   ]
  },
  {
   "cell_type": "code",
   "execution_count": null,
   "metadata": {},
   "outputs": [],
   "source": [
    "def solution(arr):\n",
    "    n = len(arr)\n",
    "    answer = [0, 0]\n",
    "    \n",
    "    def DFS(a, b, m):\n",
    "        if m == 1:\n",
    "            if arr[a][b] == 1:\n",
    "                answer[1] += 1\n",
    "            else:\n",
    "                answer[0] += 1\n",
    "            return\n",
    "            \n",
    "        init = arr[a][b]\n",
    "        flag = False\n",
    "        for i in range(a, a+m):\n",
    "            for j in range(b, b+m):\n",
    "                if arr[i][j] != init:\n",
    "                    DFS(a, b, m//2)\n",
    "                    DFS(a, b+m//2, m//2)\n",
    "                    DFS(a+m//2, b, m//2)\n",
    "                    DFS(a+m//2, b+m//2, m//2)\n",
    "                    flag = True\n",
    "                    break\n",
    "            if flag:\n",
    "                break\n",
    "        else:\n",
    "            if init == 1:\n",
    "                answer[1] += 1\n",
    "            else:\n",
    "                answer[0] += 1\n",
    "            \n",
    "    DFS(0, 0, n)\n",
    "    return answer"
   ]
  },
  {
   "cell_type": "markdown",
   "metadata": {},
   "source": [
    "# 방문 길이"
   ]
  },
  {
   "cell_type": "code",
   "execution_count": null,
   "metadata": {},
   "outputs": [],
   "source": [
    "# matrix로 하다가 ㅈㄴ 오래걸려서 검색해서 방법 참고...\n",
    "def solution(dirs):\n",
    "    points = []\n",
    "    dict = {'U' : (0, 1), 'D' : (0, -1), 'R' : (1, 0), 'L' : (-1, 0)}\n",
    "    cnt = 0\n",
    "    start = (0, 0)\n",
    "    for d in dirs:\n",
    "        x, y = start[0] + dict[d][0], start[1] + dict[d][1]\n",
    "        if -5 <= x <= 5 and -5 <= y <= 5:\n",
    "            if (start[0], start[1], x, y) not in points:\n",
    "                points.append((start[0], start[1], x, y))\n",
    "                points.append((x, y, start[0], start[1]))\n",
    "                cnt += 1\n",
    "            start = (x, y)\n",
    "        \n",
    "    return cnt"
   ]
  },
  {
   "cell_type": "markdown",
   "metadata": {},
   "source": [
    "# 가장 큰 정사각형 찾기"
   ]
  },
  {
   "cell_type": "code",
   "execution_count": null,
   "metadata": {},
   "outputs": [],
   "source": [
    "## 효율성 테스트 떨어져서 검색 후 동적계획법으로 풀어야 한다는 것 파악하고 다시 풀음.\n",
    "\n",
    "def solution(board):\n",
    "    ch = [[0]*len(board[0]) for _ in range(len(board))]\n",
    "    ch[0] = board[0]\n",
    "    for k in range(len(board)):\n",
    "        ch[k][0] = board[k][0]\n",
    "    \n",
    "    for i in range(1, len(board)):\n",
    "        for j in range(1, len(board[0])):\n",
    "            if board[i][j] == 1:\n",
    "                ch[i][j] = min(ch[i-1][j-1], ch[i-1][j], ch[i][j-1]) + 1\n",
    "                    \n",
    "    ans = 0\n",
    "    for i in range(len(board)):\n",
    "        for j in range(len(board[0])):\n",
    "            if ans < ch[i][j]:\n",
    "                ans = ch[i][j]\n",
    "                \n",
    "    return ans**2"
   ]
  },
  {
   "cell_type": "markdown",
   "metadata": {},
   "source": [
    "# 방금 그 곡"
   ]
  },
  {
   "cell_type": "code",
   "execution_count": null,
   "metadata": {},
   "outputs": [],
   "source": [
    "def change(mel):\n",
    "    if 'C#' in mel:\n",
    "        mel = mel.replace('C#', 'c')\n",
    "    if 'D#' in mel:\n",
    "        mel = mel.replace('D#', 'd')\n",
    "    if 'F#' in mel:\n",
    "        mel = mel.replace('F#', 'f')\n",
    "    if 'A#' in mel:\n",
    "        mel = mel.replace('A#', 'a')\n",
    "    if 'G#' in mel:\n",
    "        mel = mel.replace('G#', 'g')\n",
    "    return mel\n",
    "\n",
    "def solution(m, musicinfos):\n",
    "    answer = (\"(None)\",0)\n",
    "    m = change(m)\n",
    "    \n",
    "    for i in range(len(musicinfos)):\n",
    "        musicinfos[i] = change(musicinfos[i])\n",
    "            \n",
    "        music = musicinfos[i].split(',')\n",
    "        \n",
    "        start = music[0].split(':')\n",
    "        end = music[1].split(':')\n",
    "        time = (int(end[0]) - int(start[0]))*60 + int(end[1]) - int(start[1])\n",
    "        \n",
    "        if len(music[3]) >= time:\n",
    "            melody = music[3][:time]\n",
    "        else:\n",
    "            melody = (music[3]*time)[:time]\n",
    "        \n",
    "        if m in melody:\n",
    "            if time > answer[1]:\n",
    "                answer = (music[2], time)\n",
    "            \n",
    "    return answer[0]"
   ]
  },
  {
   "cell_type": "markdown",
   "metadata": {},
   "source": [
    "# 압축"
   ]
  },
  {
   "cell_type": "code",
   "execution_count": null,
   "metadata": {},
   "outputs": [],
   "source": [
    "def solution(msg):\n",
    "    answer = []\n",
    "    dict = {}\n",
    "    for i in range(1, 27):\n",
    "        dict[chr(64+i)] = i\n",
    "    num = 27\n",
    "    a, b = 0, 0\n",
    "    while True:\n",
    "        b += 1\n",
    "        if b == len(msg):\n",
    "            answer.append(dict[msg[a:b]])\n",
    "            break\n",
    "        if msg[a:b+1] not in dict:\n",
    "            dict[msg[a:b+1]] = num\n",
    "            num += 1\n",
    "            answer.append(dict[msg[a:b]])\n",
    "            a = b\n",
    "    return answer"
   ]
  },
  {
   "cell_type": "markdown",
   "metadata": {},
   "source": [
    "# 올바른 괄호"
   ]
  },
  {
   "cell_type": "code",
   "execution_count": null,
   "metadata": {},
   "outputs": [],
   "source": [
    "def solution(s):\n",
    "    stack = []\n",
    "    for x in s:\n",
    "        if len(stack) == 0:\n",
    "            stack.append(x)\n",
    "        else:\n",
    "            if x == ')':\n",
    "                if stack[-1] == '(':\n",
    "                    stack.pop()\n",
    "                else:\n",
    "                    stack.append(x)\n",
    "            else:\n",
    "                stack.append(x)\n",
    "    if len(stack) == 0:\n",
    "        return True\n",
    "    else:\n",
    "        return False"
   ]
  },
  {
   "cell_type": "markdown",
   "metadata": {},
   "source": [
    "# 파일명 정렬"
   ]
  },
  {
   "cell_type": "code",
   "execution_count": null,
   "metadata": {},
   "outputs": [],
   "source": [
    "## 답은 맞는데 런타임 에러남..\n",
    "def solution(files):\n",
    "    n = len(files)\n",
    "    all = []\n",
    "    for i in range(n):\n",
    "        file = []\n",
    "        for j in range(len(files[i])):\n",
    "            if files[i][j].isdecimal():\n",
    "                file.append(files[i][:j])\n",
    "                for k in range(j, len(files[i])):\n",
    "                    if files[i][k].isdecimal() == False:\n",
    "                        if len(files[i][j:k]) > 5:\n",
    "                            file.append(files[i][j:j+5])\n",
    "                            file.append(files[i][j+5:])\n",
    "                            break\n",
    "                        else:\n",
    "                            file.append(files[i][j:k])\n",
    "                            file.append(files[i][k:])\n",
    "                            break\n",
    "                break\n",
    "        all.append(file)\n",
    "    all.sort(key = lambda x : (x[0].lower(), int(x[1])))\n",
    "    \n",
    "    answer = []\n",
    "    for w in all:\n",
    "        answer.append(''.join(w))\n",
    "        \n",
    "    return answer\n",
    "\n",
    "## 정규표현식 ㅁㅊ...\n",
    "def solution(files):\n",
    "    import re\n",
    "    all = [re.split(r'([0-9]+)', s) for s in files]\n",
    "    all.sort(key = lambda x : (x[0].lower(), int(x[1])))\n",
    "        \n",
    "    return [''.join(w) for w in all]"
   ]
  },
  {
   "cell_type": "markdown",
   "metadata": {},
   "source": [
    "# n진수 게임"
   ]
  },
  {
   "cell_type": "code",
   "execution_count": null,
   "metadata": {},
   "outputs": [],
   "source": [
    "def solution(n, t, m, p):\n",
    "    dict = {10:'A', 11:'B', 12:'C', 13:'D', 14:'E', 15:'F'}\n",
    "    answer = ''\n",
    "    for num in range(t*m):\n",
    "        # 이거 넣으니까 틀리고 divmod하니까 정답 됨...\n",
    "        #a = num // n\n",
    "        #b = num % n\n",
    "        a, b = divmod(num, n)\n",
    "        if b >= 10:\n",
    "            ans = dict[b]\n",
    "        else:\n",
    "            ans = str(b)\n",
    "        while a > 0:\n",
    "            #a = a//n\n",
    "            #b = a%n\n",
    "            a, b = divmod(a, n)\n",
    "            if b >= 10:\n",
    "                ans = dict[b] + ans\n",
    "            else:\n",
    "                ans = str(b)+ans\n",
    "        answer += ans\n",
    "    \n",
    "    res = ''\n",
    "    for i in range(p-1, len(answer), m):\n",
    "        res += answer[i]\n",
    "    \n",
    "    return res[:t]"
   ]
  },
  {
   "cell_type": "markdown",
   "metadata": {},
   "source": [
    "# 다음 큰 숫자"
   ]
  },
  {
   "cell_type": "code",
   "execution_count": null,
   "metadata": {},
   "outputs": [],
   "source": [
    "def solution(n):\n",
    "    num = bin(n)\n",
    "    m = num.count(\"1\")\n",
    "    n += 1\n",
    "    while bin(n).count(\"1\") != m:\n",
    "        n += 1\n",
    "    return n"
   ]
  }
 ],
 "metadata": {
  "kernelspec": {
   "display_name": "Python 3",
   "language": "python",
   "name": "python3"
  },
  "language_info": {
   "codemirror_mode": {
    "name": "ipython",
    "version": 3
   },
   "file_extension": ".py",
   "mimetype": "text/x-python",
   "name": "python",
   "nbconvert_exporter": "python",
   "pygments_lexer": "ipython3",
   "version": "3.7.6"
  }
 },
 "nbformat": 4,
 "nbformat_minor": 4
}
