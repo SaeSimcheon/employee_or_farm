{
 "cells": [
  {
   "cell_type": "markdown",
   "metadata": {},
   "source": [
    "# 거리두기 확인하기"
   ]
  },
  {
   "cell_type": "code",
   "execution_count": null,
   "metadata": {},
   "outputs": [],
   "source": [
    "def solution(places):\n",
    "    answer = []\n",
    "    \n",
    "    dx1 = [-1, 0, 1, 0]\n",
    "    dy1 = [0, -1, 0, 1]\n",
    "    dx2 = [1, 1, -1, -1]\n",
    "    dy2 = [1, -1, 1, -1]\n",
    "    dx3 = [-2, 0, 2, 0]\n",
    "    dy3 = [0, -2, 0, 2]\n",
    "    for k in range(5):\n",
    "        flag = False\n",
    "        for i in range(5):\n",
    "            for j in range(5):\n",
    "                if places[k][i][j] == 'P':\n",
    "                    for w in range(4):\n",
    "                        xx = i+dx1[w]\n",
    "                        yy = j+dy1[w]\n",
    "                        if 0 <= xx < 5 and 0 <= yy < 5 and places[k][xx][yy] == 'P':\n",
    "                            answer.append(0)\n",
    "                            flag = True\n",
    "                            break\n",
    "                    if flag:\n",
    "                        break\n",
    "                        \n",
    "                    for v in range(4):\n",
    "                        xxxx = i+dx2[v]\n",
    "                        yyyy = j+dy2[v]\n",
    "                        if 0 <= xxxx < 5 and 0 <= yyyy < 5 and places[k][xxxx][yyyy] == 'P':\n",
    "                            if places[k][i][yyyy] == 'O' or places[k][xxxx][j] == 'O':\n",
    "                                answer.append(0)\n",
    "                                flag = True\n",
    "                                break\n",
    "                    if flag:\n",
    "                        break\n",
    "                    \n",
    "                    for z in range(4):\n",
    "                        xxx = i+dx3[z]\n",
    "                        yyy = j+dy3[z]\n",
    "                        if 0 <= xxx < 5 and 0 <= yyy < 5 and places[k][xxx][yyy] == 'P':\n",
    "                            if places[k][i+dx1[z]][j+dy1[z]] == 'O':\n",
    "                                answer.append(0)\n",
    "                                flag = True\n",
    "                                break\n",
    "                    if flag:\n",
    "                        break\n",
    "                if flag:\n",
    "                    break\n",
    "            if flag:\n",
    "                break\n",
    "        else:\n",
    "            answer.append(1)\n",
    "\n",
    "    return answer"
   ]
  },
  {
   "cell_type": "markdown",
   "metadata": {},
   "source": [
    "# 퀴드압축 후 개수 세기"
   ]
  },
  {
   "cell_type": "code",
   "execution_count": null,
   "metadata": {},
   "outputs": [],
   "source": []
  },
  {
   "cell_type": "markdown",
   "metadata": {},
   "source": [
    "# 방문 길이"
   ]
  },
  {
   "cell_type": "code",
   "execution_count": null,
   "metadata": {},
   "outputs": [],
   "source": []
  },
  {
   "cell_type": "markdown",
   "metadata": {},
   "source": [
    "# 가장 큰 정사각형 찾기"
   ]
  },
  {
   "cell_type": "code",
   "execution_count": null,
   "metadata": {},
   "outputs": [],
   "source": []
  },
  {
   "cell_type": "markdown",
   "metadata": {},
   "source": [
    "# 방금 그 곡"
   ]
  },
  {
   "cell_type": "code",
   "execution_count": null,
   "metadata": {},
   "outputs": [],
   "source": []
  },
  {
   "cell_type": "markdown",
   "metadata": {},
   "source": [
    "# 압축"
   ]
  },
  {
   "cell_type": "code",
   "execution_count": null,
   "metadata": {},
   "outputs": [],
   "source": []
  },
  {
   "cell_type": "markdown",
   "metadata": {},
   "source": [
    "# 올바른 괄호"
   ]
  },
  {
   "cell_type": "code",
   "execution_count": null,
   "metadata": {},
   "outputs": [],
   "source": []
  },
  {
   "cell_type": "markdown",
   "metadata": {},
   "source": [
    "# 파일명 정렬"
   ]
  },
  {
   "cell_type": "code",
   "execution_count": null,
   "metadata": {},
   "outputs": [],
   "source": []
  },
  {
   "cell_type": "markdown",
   "metadata": {},
   "source": [
    "# n진수 게임"
   ]
  },
  {
   "cell_type": "code",
   "execution_count": null,
   "metadata": {},
   "outputs": [],
   "source": []
  },
  {
   "cell_type": "markdown",
   "metadata": {},
   "source": [
    "# 다음 큰 숫자"
   ]
  },
  {
   "cell_type": "code",
   "execution_count": null,
   "metadata": {},
   "outputs": [],
   "source": []
  }
 ],
 "metadata": {
  "kernelspec": {
   "display_name": "Python 3",
   "language": "python",
   "name": "python3"
  },
  "language_info": {
   "codemirror_mode": {
    "name": "ipython",
    "version": 3
   },
   "file_extension": ".py",
   "mimetype": "text/x-python",
   "name": "python",
   "nbconvert_exporter": "python",
   "pygments_lexer": "ipython3",
   "version": "3.7.6"
  }
 },
 "nbformat": 4,
 "nbformat_minor": 4
}
