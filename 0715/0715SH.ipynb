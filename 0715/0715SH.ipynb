{
 "cells": [
  {
   "cell_type": "markdown",
   "metadata": {},
   "source": [
    "## 거리두기 확인"
   ]
  },
  {
   "cell_type": "code",
   "execution_count": null,
   "metadata": {},
   "outputs": [],
   "source": [
    "def solution(places):\n",
    "    answer= []\n",
    "    def mann(element1,element2):\n",
    "        return abs(element1[0]-element2[0]) + abs(element1[1]-element2[1])\n",
    "    \n",
    "    def ftn1(element):\n",
    "        this = 1\n",
    "        ex = list(map(list,element))\n",
    "        atendee = [(idx1,idx2) for idx1,i in enumerate(ex) for idx2, j in enumerate(i) if j == \"P\"]\n",
    "        table = [(idx1,idx2) for idx1,i in enumerate(ex) for idx2, j in enumerate(i) if j == \"O\"]\n",
    "        \n",
    "        candidate = []\n",
    "        ob = 1\n",
    "        for idx,i in enumerate(atendee[:-1]):\n",
    "            for j in atendee[(idx+1):]:\n",
    "                D=mann(i,j)\n",
    "                if D == 1:\n",
    "                    ob = 0\n",
    "                    break\n",
    "                elif D ==2:\n",
    "                    candidate.append((i,j))\n",
    "            if ob == 0:\n",
    "                candidate = [0]\n",
    "                break\n",
    "        print(candidate)\n",
    "        \n",
    "        for couple in candidate:\n",
    "            if couple == 0:\n",
    "                this = 0\n",
    "                break\n",
    "            if couple[0][0] == couple[1][0] : \n",
    "                if ((couple[0][0],couple[0][1]+1) in table):\n",
    "                        this = 0\n",
    "                        break\n",
    "            elif couple[0][1] == couple[1][1] : \n",
    "                if ((couple[0][0]+1,couple[0][1]) in table):\n",
    "                        this = 0\n",
    "                        break\n",
    "            else :\n",
    "                if couple[0][1] > couple[1][1] :\n",
    "                    if ((couple[0][0],couple[0][1]-1) in table)|((couple[1][0],couple[1][1]+1) in table):\n",
    "                        this = 0\n",
    "                        break\n",
    "                else:\n",
    "                    if ((couple[0][0],couple[0][1]+1) in table)|((couple[1][0],couple[1][1]-1) in table):\n",
    "                        this = 0     \n",
    "                        break\n",
    "        return this\n",
    "    \n",
    "    answer =list(map(ftn1,places))\n",
    "    return answer"
   ]
  },
  {
   "cell_type": "markdown",
   "metadata": {},
   "source": [
    "## 쿼드압축 후 개수 세기"
   ]
  },
  {
   "cell_type": "code",
   "execution_count": null,
   "metadata": {},
   "outputs": [],
   "source": [
    "def split(element):\n",
    "    return element[:int(len(element)/2)],element[int(len(element)/2):]\n",
    "\n",
    "def transpose(element):\n",
    "    return [list(i) for i in zip(*element)]\n",
    "\n",
    "def solution(arr):\n",
    "    answer = [0,0]\n",
    "    ch=sum(map(sum,arr))/(len(arr)**2) \n",
    "    Q = [arr]\n",
    "    if ch == 1:\n",
    "        answer[1]=1\n",
    "    elif ch == 0:\n",
    "        answer[0]=1\n",
    "    else:\n",
    "        while Q:\n",
    "            popped = Q.pop(0)\n",
    "            splitted=split(popped)\n",
    "            transposed_0 = transpose(splitted[0])\n",
    "            transposed_1 = transpose(splitted[1])\n",
    "            s0,s1=split(transposed_0)\n",
    "            s2,s3 = split(transposed_1)\n",
    "            out = [s0,s1,s2,s3]\n",
    "\n",
    "            for i in out :\n",
    "                ch=sum(map(sum,i))/(len(i)**2)\n",
    "                if (ch == 0)&(len(i)!=1):\n",
    "                    answer[0] +=1\n",
    "                elif (ch == 1)&(len(i)!=1):\n",
    "                    answer[1] +=1    \n",
    "                else:\n",
    "                    if len(i)==1:\n",
    "                        if i[0][0] ==0:\n",
    "                            answer[0] +=1\n",
    "                        else:\n",
    "                            answer[1] +=1\n",
    "                    else:\n",
    "                        Q.append(i)\n",
    "    \n",
    "    return answer"
   ]
  },
  {
   "cell_type": "markdown",
   "metadata": {},
   "source": [
    "## 방문길이"
   ]
  },
  {
   "cell_type": "code",
   "execution_count": null,
   "metadata": {},
   "outputs": [],
   "source": [
    "def mover(element,p):\n",
    "    if element == \"U\":\n",
    "        if p[1] == 5:\n",
    "            return (p[0],p[1]) ,(p[0],p[1])\n",
    "        return (p[0],p[1]+1) ,(p[0],p[1])\n",
    "    elif element == \"D\":\n",
    "        if p[1] == -5:\n",
    "            return (p[0],p[1]) ,(p[0],p[1])\n",
    "        return (p[0],p[1]-1),(p[0],p[1])\n",
    "    elif element == \"R\":\n",
    "        if p[0] == 5:\n",
    "            return (p[0],p[1]) ,(p[0],p[1])\n",
    "        return (p[0]+1,p[1]),(p[0],p[1])\n",
    "    else:\n",
    "        if p[0] == -5:\n",
    "            return (p[0],p[1]) ,(p[0],p[1])\n",
    "        return (p[0]-1,p[1]),(p[0],p[1])\n",
    "\n",
    "def solution(dirs):\n",
    "    previous = (0,0)\n",
    "    position = (0,0)\n",
    "    \n",
    "    pot =list()\n",
    "    for i in dirs:\n",
    "        position,previous=mover(i,position)\n",
    "        print(position,previous)\n",
    "        if (previous != position)&((previous,position) not in pot)&((position,previous) not in pot):\n",
    "            pot.append((position,previous))\n",
    "    answer = len(pot)\n",
    "    return answer"
   ]
  },
  {
   "cell_type": "markdown",
   "metadata": {},
   "source": [
    "## 방금그곡"
   ]
  },
  {
   "cell_type": "code",
   "execution_count": null,
   "metadata": {},
   "outputs": [],
   "source": [
    "def ftn1(element):\n",
    "    import re\n",
    "    st=element[0].split(\":\")\n",
    "    en=element[1].split(\":\")\n",
    "    \n",
    "    if int(st[0]) > int(en[0]):\n",
    "        start=0*60 + int(st[1]) \n",
    "        end=1*60 + int(en[1]) \n",
    "    else:\n",
    "        start=int(st[0])*60 + int(st[1]) \n",
    "        end=int(en[0])*60 + int(en[1]) \n",
    "        \n",
    "    \n",
    "    seq_len = len(element[3])-element[3].count(\"#\")\n",
    "    s1 = (end-start)//seq_len\n",
    "    s2 = (end-start)%seq_len\n",
    "    \n",
    "    print(element[3])\n",
    "    obj=[i.group(1) for i in re.finditer(\"([A-Z]#*)\",element[3])]\n",
    "    obj = \"\".join(obj[:s2])\n",
    "    # finditer -> #* -> condition에서 일단 뒤에 매칭 가능하면 우선 값으로 제공함\n",
    "    this = element[3]*s1+ obj\n",
    "\n",
    "    \n",
    "    \n",
    "    return this ,end-start\n",
    "    \n",
    "    \n",
    "def solution(m, musicinfos):\n",
    "    import re\n",
    "    musicinfos=[i.split(\",\") for i in musicinfos]\n",
    "    musicinfos=[(i[2],ftn1(i)) for i in musicinfos ]\n",
    "    musicinfos=[[i[0],i[1][1],re.search(m+\"(?!#)\",i[1][0]) is not None] for i in musicinfos ]\n",
    "    print(musicinfos)\n",
    "    musicinfos = [ i for i in musicinfos if i[2] ==True]\n",
    "    if len(musicinfos) == 0 :\n",
    "        answer=\"(None)\"\n",
    "    else:\n",
    "        if len(musicinfos) >1:\n",
    "            musicinfos.sort(key = lambda x : (-x[1]))\n",
    "            answer = musicinfos[0][0]\n",
    "        else:\n",
    "            answer = musicinfos[0][0]\n",
    "        \n",
    "    \n",
    "    return answer"
   ]
  },
  {
   "cell_type": "markdown",
   "metadata": {},
   "source": [
    "# 가장 큰 정사각형 찾기"
   ]
  },
  {
   "cell_type": "code",
   "execution_count": null,
   "metadata": {},
   "outputs": [],
   "source": [
    "def solution(board):\n",
    "    answer = 0\n",
    "    if (len(board) == 1)&(len(board[0]) == 1):\n",
    "        if board[0][0] == 0:\n",
    "            return 0\n",
    "        elif board[0][0] == 1:\n",
    "            return 1\n",
    "    for i in range(1, len(board)):\n",
    "        for j in range(1, len(board[0])):\n",
    "            if board[i][j] != 0:\n",
    "                board[i][j] = min(board[i-1][j], board[i][j-1], board[i-1][j-1]) + 1\n",
    "            answer = max(answer, board[i][j])\n",
    "    return answer ** 2"
   ]
  },
  {
   "cell_type": "markdown",
   "metadata": {},
   "source": [
    "## 압축"
   ]
  },
  {
   "cell_type": "code",
   "execution_count": null,
   "metadata": {},
   "outputs": [],
   "source": [
    "def solution(msg):\n",
    "    import re\n",
    "    index = {chr(i+64) : i  for i in range(1,27)}\n",
    "    answer= []\n",
    "    while True :\n",
    "        candidates = dict()\n",
    "        for s in index.keys():\n",
    "            rr=re.match(\"^\"+ s +\"\", msg)\n",
    "            subb=re.sub(\"^\"+ s +\"\",\"\",msg)\n",
    "            if rr is not None :\n",
    "                candidates[rr.group(0)] = subb\n",
    "        keys=list(candidates.keys())\n",
    "        msg=candidates[keys[-1]]\n",
    "        if len(msg)!=0:\n",
    "            index[keys[-1] + msg[0]] = max(index.values())+1\n",
    "            answer.append(index[keys[-1]])\n",
    "        else :\n",
    "            answer.append(index[keys[-1]])\n",
    "            break\n",
    "    return answer"
   ]
  },
  {
   "cell_type": "markdown",
   "metadata": {},
   "source": [
    "## 파일명 찾기"
   ]
  },
  {
   "cell_type": "code",
   "execution_count": null,
   "metadata": {},
   "outputs": [],
   "source": [
    "def solution(files):\n",
    "    import re\n",
    "    rr=[[(i.group(0),i.group(1),i.group(2),i.group(3)) for i in re.finditer(\"([\\sa-zA-z-.]+\\s*)([0-9]{1,5}\\s*)([\\sa-zA-Z0-9-.]*)\",j)][0] for j in files]\n",
    "    rr=[[i,[i[1].lower(),int(i[2])]] for i in rr]\n",
    "    rr.sort(key = lambda x : (x[1][0],x[1][1]))\n",
    "    \n",
    "    answer= [i[0][0] for i in rr]\n",
    "    #print(answer)\n",
    "    #answer = []\n",
    "    return answer"
   ]
  },
  {
   "cell_type": "markdown",
   "metadata": {},
   "source": [
    "## 올바른 괄호"
   ]
  },
  {
   "cell_type": "code",
   "execution_count": null,
   "metadata": {},
   "outputs": [],
   "source": [
    "def solution(s):\n",
    "    from collections import deque\n",
    "    stack = deque([])\n",
    "    s = deque(list(s))\n",
    "    answer = True\n",
    "    while s:\n",
    "        popped=s.popleft()\n",
    "        if len(stack) == 0 :\n",
    "            if popped == \")\":\n",
    "                answer = False\n",
    "                break\n",
    "            else:\n",
    "                stack.append(popped)\n",
    "            continue\n",
    "        if (popped == \")\")&(stack[-1] == \"(\"):\n",
    "            stack.pop()\n",
    "        else :\n",
    "            stack.append(popped)\n",
    "    if len(stack) !=0:\n",
    "        answer = False\n",
    "    return answer"
   ]
  },
  {
   "cell_type": "markdown",
   "metadata": {},
   "source": [
    "## 다음 큰 숫자"
   ]
  },
  {
   "cell_type": "code",
   "execution_count": null,
   "metadata": {},
   "outputs": [],
   "source": [
    "def solution(n):\n",
    "    from collections import Counter\n",
    "    binary=format(n,\"b\")\n",
    "    rr=list(binary)\n",
    "    c = Counter(binary)\n",
    "    \n",
    "    for i in range(n+1,2**(len(binary)+1)):\n",
    "        binary1=format(i,\"b\")\n",
    "        c1 = Counter(binary1)\n",
    "        if c[\"1\"] == c1[\"1\"]:\n",
    "            break\n",
    "    answer= int(binary1,2)\n",
    "    return answer"
   ]
  },
  {
   "cell_type": "markdown",
   "metadata": {},
   "source": [
    "## N진수 게임"
   ]
  },
  {
   "cell_type": "code",
   "execution_count": null,
   "metadata": {},
   "outputs": [],
   "source": [
    "def solution(n, t, m, p):\n",
    "    global element\n",
    "    from collections import deque\n",
    "    \n",
    "    dicted = {10:\"A\",11:\"B\",12:\"C\",13:\"D\",14:\"E\",15:\"F\"}\n",
    "    \n",
    "    def ftn1(element,given):\n",
    "        this = deque([])\n",
    "        while True:\n",
    "            s1,s2=divmod(element,given)\n",
    "            if given > 10:\n",
    "                if s2 in dicted.keys():\n",
    "                    s2 = dicted[s2]\n",
    "            if element >= given:\n",
    "                this.appendleft(str(s2))\n",
    "                element = s1\n",
    "            else : \n",
    "                this.appendleft(str(s2))\n",
    "                break\n",
    "\n",
    "        return \"\".join(this)\n",
    "    \n",
    "    \n",
    "    \n",
    "    total = t*m\n",
    "    \n",
    "    i = 0\n",
    "    String = \"\"\n",
    "    while True:\n",
    "        V =ftn1(i,n)\n",
    "        if len(String) >= total:\n",
    "            break\n",
    "        else:\n",
    "            String = String+ V\n",
    "            i+=1\n",
    "    String = String[:(total)]\n",
    "    \n",
    "    if m == p :\n",
    "        answer = [i for idx,i in enumerate(String) if (idx+1) % m ==0 ]\n",
    "    else : \n",
    "        answer = [i for idx,i in enumerate(String) if (idx+1) % m ==p ]\n",
    "\n",
    "    answer= \"\".join(answer)\n",
    "        \n",
    "    \n",
    "    return answer"
   ]
  }
 ],
 "metadata": {
  "kernelspec": {
   "display_name": "Python 3",
   "language": "python",
   "name": "python3"
  },
  "language_info": {
   "codemirror_mode": {
    "name": "ipython",
    "version": 3
   },
   "file_extension": ".py",
   "mimetype": "text/x-python",
   "name": "python",
   "nbconvert_exporter": "python",
   "pygments_lexer": "ipython3",
   "version": "3.8.5"
  }
 },
 "nbformat": 4,
 "nbformat_minor": 4
}
