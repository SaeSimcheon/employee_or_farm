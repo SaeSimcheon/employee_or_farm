{
 "cells": [
  {
   "cell_type": "markdown",
   "metadata": {},
   "source": [
    "최대값이 주어지고, 그에 따라 조합들을 추천해주는 형식으로..?\n",
    "이렇게 되면 가능한 c값도 줄 수 있을 듯!"
   ]
  },
  {
   "cell_type": "markdown",
   "metadata": {},
   "source": [
    "이거 조합 측면에서 꼬엿는데\n",
    "near function의 반환값이랑 c값간에 의미하는 바가 다름 "
   ]
  },
  {
   "cell_type": "code",
   "execution_count": 135,
   "metadata": {},
   "outputs": [],
   "source": [
    "import sys\n",
    "sys.stdin=open(\"in1.txt\",\"r\")\n",
    "n,c=map(int,sys.stdin.readline().split())\n",
    "base=[int(sys.stdin.readline()) for _ in range(n)]\n",
    "\n",
    "\n",
    "## 주어진 distance에 대해 c이상의 말을 넣을 수 있다 => 그니까 neardistance(mid)>=c 여야 한다\n"
   ]
  },
  {
   "cell_type": "code",
   "execution_count": 134,
   "metadata": {},
   "outputs": [
    {
     "name": "stdout",
     "output_type": "stream",
     "text": [
      "4\n"
     ]
    }
   ],
   "source": [
    "\n",
    "start=min(base)\n",
    "end=max(base)-min(base)\n",
    "res=-100\n",
    "while start<=end:\n",
    "    mid=(start+end)//2\n",
    "    if near(mid)>=c:\n",
    "        start=mid+1\n",
    "        res=mid\n",
    "    else:\n",
    "        end=mid-1\n",
    "        \n",
    "print(res)"
   ]
  },
  {
   "cell_type": "code",
   "execution_count": null,
   "metadata": {},
   "outputs": [],
   "source": [
    "start=min(base)\n",
    "end=max(base)\n",
    "res=0\n",
    "while start<=end:\n",
    "    mid=(start+end)//2\n",
    "    "
   ]
  },
  {
   "cell_type": "code",
   "execution_count": 106,
   "metadata": {},
   "outputs": [
    {
     "name": "stdout",
     "output_type": "stream",
     "text": [
      "4\n"
     ]
    }
   ],
   "source": [
    "a=max(base)\n",
    "for x in itertools.combinations(base,c):\n",
    "    for y in itertools.combinations(x,2):\n",
    "        if abs(y[0]-y[1])<a:\n",
    "            a=abs(y[0]-y[1])\n",
    "print(a)"
   ]
  },
  {
   "cell_type": "code",
   "execution_count": 112,
   "metadata": {},
   "outputs": [],
   "source": [
    "def near2(base):\n",
    "    a=max(base)\n",
    "    for x in itertools.combinations(base,c):\n",
    "        for y in itertools.combinations(x,2):\n",
    "            if abs(y[0]-y[1])<a:\n",
    "                a=abs(y[0]-y[1])\n",
    "    return a\n",
    "\n",
    "### 이건 그냥 데이터랑 c주어지면 가장 가까운 거리 구해주는 함수잔슴"
   ]
  },
  {
   "cell_type": "code",
   "execution_count": 76,
   "metadata": {},
   "outputs": [
    {
     "data": {
      "text/plain": [
       "[(1, 5), (1, 9), (5, 9)]"
      ]
     },
     "execution_count": 76,
     "metadata": {},
     "output_type": "execute_result"
    }
   ],
   "source": [
    "list(itertools.combinations(list(itertools.combinations(base,3))[0],2))"
   ]
  },
  {
   "cell_type": "code",
   "execution_count": 69,
   "metadata": {},
   "outputs": [
    {
     "data": {
      "text/plain": [
       "[1, 5, 9]"
      ]
     },
     "execution_count": 69,
     "metadata": {},
     "output_type": "execute_result"
    }
   ],
   "source": [
    "base"
   ]
  },
  {
   "cell_type": "code",
   "execution_count": 81,
   "metadata": {},
   "outputs": [
    {
     "data": {
      "text/plain": [
       "9"
      ]
     },
     "execution_count": 81,
     "metadata": {},
     "output_type": "execute_result"
    }
   ],
   "source": [
    "min(base)\n",
    "max(base)"
   ]
  },
  {
   "cell_type": "code",
   "execution_count": 82,
   "metadata": {},
   "outputs": [
    {
     "data": {
      "text/plain": [
       "(3, 2)"
      ]
     },
     "execution_count": 82,
     "metadata": {},
     "output_type": "execute_result"
    }
   ],
   "source": [
    "n,c"
   ]
  },
  {
   "cell_type": "code",
   "execution_count": 95,
   "metadata": {},
   "outputs": [
    {
     "name": "stdout",
     "output_type": "stream",
     "text": [
      "4\n"
     ]
    }
   ],
   "source": [
    "start=min(base) # 1\n",
    "end=max(base)-min(base) # 8\n",
    "res=-100\n",
    "while start<=end:\n",
    "    mid=(start+end)//2 ## 초기값 4/6/6\n",
    "    if near(mid)>=c:\n",
    "        start=mid+1 # 5/5/5\n",
    "        if mid>res:\n",
    "            res=mid # 4\n",
    "    else:\n",
    "        end=mid-1 #8/7/6/5/4\n",
    "        \n",
    "print(res)"
   ]
  },
  {
   "cell_type": "code",
   "execution_count": null,
   "metadata": {},
   "outputs": [],
   "source": [
    "start=min(base)\n",
    "end=max(base)-min(base)\n",
    "res=-100\n",
    "while start<=end:\n",
    "    mid=(start+end)//2\n",
    "    if near(mid)>=c:\n",
    "        start=mid+1\n",
    "        if mid>res:\n",
    "            res=mid\n",
    "    else:\n",
    "        end=mid-1\n",
    "        \n",
    "print(res)"
   ]
  },
  {
   "cell_type": "code",
   "execution_count": 117,
   "metadata": {},
   "outputs": [],
   "source": [
    "def Count(len):\n",
    "    cnt=1\n",
    "    ep=Line[0]\n",
    "    for i in range(1, n):\n",
    "        if Line[i]-ep>=len:\n",
    "            cnt+=1\n",
    "            ep=Line[i]\n",
    "    return cnt"
   ]
  },
  {
   "cell_type": "code",
   "execution_count": null,
   "metadata": {},
   "outputs": [],
   "source": [
    "import sys\n",
    "sys.stdin=open(\"input.txt\", \"r\")\n",
    "def Count(len):\n",
    "    cnt=1\n",
    "    ep=Line[0]\n",
    "    for i in range(1, n):\n",
    "        if Line[i]-ep>=len:\n",
    "            cnt+=1\n",
    "            ep=Line[i]\n",
    "    return cnt\n",
    "\n",
    "n, c=map(int, input().split())\n",
    "Line=[]\n",
    "for _ in range(n):\n",
    "    tmp=int(input())\n",
    "    Line.append(tmp)\n",
    "Line.sort()\n",
    "lt=1\n",
    "rt=Line[n-1]\n",
    "while lt<=rt:\n",
    "    mid=(lt+rt)//2\n",
    "    if Count(mid)>=c:\n",
    "        res=mid\n",
    "        lt=mid+1\n",
    "    else:\n",
    "        rt=mid-1\n",
    "\n",
    "print(res)\n",
    "\n"
   ]
  }
 ],
 "metadata": {
  "kernelspec": {
   "display_name": "Python 3",
   "language": "python",
   "name": "python3"
  },
  "language_info": {
   "codemirror_mode": {
    "name": "ipython",
    "version": 3
   },
   "file_extension": ".py",
   "mimetype": "text/x-python",
   "name": "python",
   "nbconvert_exporter": "python",
   "pygments_lexer": "ipython3",
   "version": "3.6.10"
  }
 },
 "nbformat": 4,
 "nbformat_minor": 4
}
