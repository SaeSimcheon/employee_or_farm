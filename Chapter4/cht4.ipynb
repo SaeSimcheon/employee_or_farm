{
 "cells": [
  {
   "cell_type": "markdown",
   "metadata": {},
   "source": [
    "# 4-4 마구간"
   ]
  },
  {
   "cell_type": "markdown",
   "metadata": {},
   "source": [
    "## 접근1"
   ]
  },
  {
   "cell_type": "markdown",
   "metadata": {},
   "source": [
    "    - 처음에 문제를 이해하기로 말이 있을 수 있는 '위치의 모든 조합'으로부터 '각 조합의 최소 값 중 최대'\n",
    "    - 따라서 '모든 부분 집합을 구하려 했고, 그들의 최소 거리를 구해 비교하려함.'\n",
    "    \n",
    "    - 하지만, 모집합의 크기와 부분집합의 원소 개수에 따라서 시간이 굉장히 오래걸릴 수 밖에 없었음.\n",
    "    - 또한, itertools를 사용하지 않고는 손쉽게 짜여지지 않았음.\n",
    "    \n",
    "    - 그리고 이분 탐색 문제라는 큰 취지에서 벗어남."
   ]
  },
  {
   "cell_type": "markdown",
   "metadata": {},
   "source": [
    "## 접근2"
   ]
  },
  {
   "cell_type": "markdown",
   "metadata": {},
   "source": [
    "    - 이분 탐색의 개념에 집중하여, 어느 말 A와 B가 각각 서로다른 마구간에 위치했을때 가질 수 있는 차이의 경우의 수에 대해 접근하려 했음.\n",
    "    - 아래와 같이 dev라는 list 안에서 이분 탐색을 진행하려했음.\n",
    "    - 이 접근에서는 정확히 후보값을 달성해야 해가 될 수 있었음. \n",
    "    \n",
    "    접근 2 -1\n",
    "    - 또한 이때까지도 '모든 부분 집합을 구해야한다'라는 것은 변함이 없었기 때문에 접근1에서 생겼던 문제는 해결이 안 되었음(라고 생각)\n",
    "    \n",
    "    접근 2 -2 (아래 코드 참조 / 그림)\n",
    "    - 대안이 하나 있긴한데, 마구간 거리를 정렬하여 모든 차이의 조합을 나타내면 upper right triangle(non diagonal)로 나타낼 수 있음.\n",
    "    - 이를 이용하여 탐색하는 방법\n",
    "    - 모집합이 커지면 연산이 단위 시간 내에 종료되지 않음.\n",
    "    \n",
    "    \n",
    "    \n",
    "    단위 시간 내의 연산을 보장하면서 이분 탐색 사용"
   ]
  },
  {
   "cell_type": "code",
   "execution_count": 1,
   "metadata": {},
   "outputs": [],
   "source": [
    "N,C=(5,3)\n",
    "seq = [1 , 2 ,8 ,4,9]"
   ]
  },
  {
   "cell_type": "code",
   "execution_count": 6,
   "metadata": {},
   "outputs": [],
   "source": [
    "dev=list(set([abs(i - j ) for i in seq for j in seq]))[1:]"
   ]
  },
  {
   "cell_type": "code",
   "execution_count": 16,
   "metadata": {},
   "outputs": [],
   "source": [
    "seq.sort()"
   ]
  },
  {
   "cell_type": "code",
   "execution_count": 24,
   "metadata": {},
   "outputs": [],
   "source": [
    "upper_triangle=list([[abs(i - j )for i in seq if i > j ]for j in seq])"
   ]
  },
  {
   "cell_type": "code",
   "execution_count": 36,
   "metadata": {},
   "outputs": [
    {
     "data": {
      "text/plain": [
       "[[1, 3, 7, 8], [2, 6, 7], [4, 5], [1]]"
      ]
     },
     "execution_count": 36,
     "metadata": {},
     "output_type": "execute_result"
    }
   ],
   "source": [
    "upper_triangle"
   ]
  },
  {
   "cell_type": "code",
   "execution_count": 25,
   "metadata": {},
   "outputs": [],
   "source": [
    "del upper_triangle[-1]"
   ]
  },
  {
   "cell_type": "code",
   "execution_count": 35,
   "metadata": {},
   "outputs": [
    {
     "name": "stdout",
     "output_type": "stream",
     "text": [
      "2 4 2\n"
     ]
    }
   ],
   "source": [
    "for idx, j in enumerate(upper_triangle):\n",
    "    for idx1, k in enumerate(j):\n",
    "        if k == 2 :\n",
    "            print(seq[idx],seq[idx+idx1+1],k)\n",
    "    "
   ]
  },
  {
   "cell_type": "markdown",
   "metadata": {},
   "source": [
    "## 답"
   ]
  },
  {
   "cell_type": "markdown",
   "metadata": {},
   "source": [
    "    - 총 2개의 문제점이 있다고 생각"
   ]
  },
  {
   "cell_type": "markdown",
   "metadata": {},
   "source": [
    "#### 1. 문제 설명에서 모호한 부분"
   ]
  },
  {
   "cell_type": "markdown",
   "metadata": {},
   "source": [
    "![image](https://user-images.githubusercontent.com/49121293/114493707-f74b6a00-9c55-11eb-9bf9-0fd3101f0c4a.png)"
   ]
  },
  {
   "cell_type": "markdown",
   "metadata": {},
   "source": [
    "    - 애초에 최대가 되는 그 최댓값이라는 말도 이해가 안 감.\n",
    "    - 가장 가까운 두 말의 거리 중 최댓값(고정 ; 정확히 일치)이라고 일단 생각하고 진행하였음.\n",
    "    - 심지어 사이시옷 표기도 틀림 (최대값 X -> 최댓값)"
   ]
  },
  {
   "cell_type": "markdown",
   "metadata": {},
   "source": [
    "즉 정확히 어떤 값 x를 최솟값으로 만족하는 경우가 존재해야 답이 될 수 있다고 생각하고 풀었음."
   ]
  },
  {
   "cell_type": "markdown",
   "metadata": {},
   "source": [
    "문제에서 파악할 수 있는 것과 달리 모든 거리가 만족해야할 '하한 개념으로 사용하고 있음'"
   ]
  },
  {
   "cell_type": "markdown",
   "metadata": {},
   "source": [
    "![image](https://user-images.githubusercontent.com/49121293/114494359-3332ff00-9c57-11eb-9d27-f6640df1f7a9.png)"
   ]
  },
  {
   "cell_type": "markdown",
   "metadata": {},
   "source": [
    "![image](https://user-images.githubusercontent.com/49121293/114497423-126da800-9c5d-11eb-9a94-2882089d20c5.png)"
   ]
  },
  {
   "cell_type": "markdown",
   "metadata": {},
   "source": [
    "해당 예제는 len 2 인 경우 설명인데, 1 4 8에 말을 위치시켜서 4-1 = 3 인 경우 최소일때, 2가 하한 조건을 만족시키는 것을 보이고 있음. 조건 자체가 정확히 최솟값이 아니라 '하한'임을 전제로 문제를 진행하고 있음."
   ]
  },
  {
   "cell_type": "markdown",
   "metadata": {},
   "source": [
    "#### 2. 첫 값 고정"
   ]
  },
  {
   "cell_type": "markdown",
   "metadata": {},
   "source": [
    "    - 강의 중 해설의 정확한 표현을 빌리면\n",
    "    \"\n",
    "    첫번째 말은 무조건 여기에 놔둬야하겠죠? 왜냐하면, 제일 왼쪽의 마구간 좌표에 놓는게 맞는거죠? 그걸 뭐 굳이 거기를 빈공간을 놔두고 여기서부터 출발할 필요는 없잖아요? 여기가 아깝잖아요.(좌표에서 1과 4 사이를 번갈아 가며 가리키며) 최적의 조건은 ...\n",
    "    \"\n",
    "    - 듣는 입장에서 '굳이 빈공간을 둘 필요가 없다.' , 명확한 이유 없이 '첫 번째가 최적이다.'라는 설명을 바탕으로 답안으로 나온 코드를 수긍하기 힘들다."
   ]
  },
  {
   "cell_type": "markdown",
   "metadata": {},
   "source": [
    "![image](https://user-images.githubusercontent.com/49121293/114495361-e5b79180-9c58-11eb-8270-0696444772b8.png)"
   ]
  },
  {
   "cell_type": "markdown",
   "metadata": {},
   "source": [
    "강의를 듣고, 코드를 본 것을 바탕으로 생각. \n",
    "\n",
    "- 모집합을 정렬한 후에 맨 처음 원소를 기준으로 하나씩 따졌을때 주어진 하한, 즉 len보다 크거나 같은 개수가 c보다 크거나 같지 못하면 이후 맨 처음 이후 원소는 모두 조건을 충족하지 못할 것이기 때문이라고 생각됨."
   ]
  },
  {
   "cell_type": "markdown",
   "metadata": {},
   "source": [
    "# 4-6 씨름 선수"
   ]
  },
  {
   "cell_type": "markdown",
   "metadata": {},
   "source": [
    "    - 몸무게나 키를 기준으로 정렬한 후에 수행하면 됨.\n",
    "    - 나는 몸무게를 기준으로 정렬한 후에 진행.\n",
    "    - 남는 선수들을 remain에 저장했고\n",
    "    - pop을 반복적으로 사용하되, 개수가 0이 되면 탐색을 종료하였음.\n",
    "    - pop을 수행한 후에 list를 몸무게가 가벼운 순에서 무거운 순으로 키를 비교\n",
    "    - (지금 pop 된 것 이후에는 모두 몸무게가 pop된 것보다 무거우므로 동시에\n",
    "    - 동시에 키까지 큰 것이 발견되면 탈락 시킴)"
   ]
  },
  {
   "cell_type": "markdown",
   "metadata": {},
   "source": [
    "![Notes_210413_193133](https://user-images.githubusercontent.com/49121293/114538999-f4b93680-9c8e-11eb-9643-91ee51c9a983.jpg)"
   ]
  },
  {
   "cell_type": "code",
   "execution_count": null,
   "metadata": {},
   "outputs": [],
   "source": [
    "import sys\n",
    "\n",
    "sys.stdin = open(\"input.txt\",\"rt\")\n",
    "\n",
    "N= int(input())\n",
    "seq = [list(map(int,input().split())) for _ in range(N)]\n",
    "\n",
    "seq.sort(reverse=True,key = lambda x :(x[1],x[0]))\n",
    "\n",
    "remain = list()\n",
    "\n",
    "while len(seq) >=1:\n",
    "    pop=seq.pop()\n",
    "    \n",
    "    for sub in seq[::-1]:\n",
    "    \n",
    "        if sub[0] >= pop[0]:\n",
    "            break\n",
    "        else:\n",
    "            continue\n",
    "    else : \n",
    "        remain.append(pop)\n",
    "\n",
    "\n",
    "\n",
    "\n",
    "print(len(remain))\n"
   ]
  },
  {
   "cell_type": "markdown",
   "metadata": {},
   "source": [
    "# 4-7 창고 정리"
   ]
  },
  {
   "cell_type": "code",
   "execution_count": null,
   "metadata": {},
   "outputs": [],
   "source": [
    "import sys\n",
    "\n",
    "sys.stdin = open(\"input.txt\",\"rt\")\n",
    "\n",
    "L= int(input())\n",
    "seq = list(map(int,input().split()))\n",
    "M = int(input())\n",
    "\n",
    "\n",
    "seq.sort()\n",
    "\n",
    "#size k subset -> 모든 차이의 경우의 수 중에서 최솟값\n",
    "\n",
    "\n",
    "for i in range(M):\n",
    "    \n",
    "    max_point=seq.pop()\n",
    "    min_point=seq.pop(0)\n",
    "    \n",
    "    max_point = max_point-1\n",
    "    min_point = min_point+1\n",
    "    \n",
    "    \n",
    "    \n",
    "    seq.insert(0,min_point)\n",
    "    seq.append(max_point)\n",
    "    seq.sort()\n",
    "\n",
    "print(max(seq) - min(seq))"
   ]
  },
  {
   "cell_type": "markdown",
   "metadata": {},
   "source": [
    "![Notes_210413_200316_2](https://user-images.githubusercontent.com/49121293/114543161-c9851600-9c93-11eb-9f39-83370d2e3b9d.jpg)"
   ]
  },
  {
   "cell_type": "markdown",
   "metadata": {},
   "source": [
    "# 4-8 침몰하는 타이타닉"
   ]
  },
  {
   "cell_type": "markdown",
   "metadata": {},
   "source": [
    " - 가장 먼저 데이터 오름차순으로 정렬\n",
    " - 보트 안에 들어올 수 있는 사람만 dev에 여유 무게를 가지고 남김\n",
    " - 여유가 가장 없는 (보트를 꽉차게 쓸 수 있는) 사람을 선정함\n",
    " - "
   ]
  },
  {
   "cell_type": "markdown",
   "metadata": {},
   "source": [
    "![Notes_210413_200316_3](https://user-images.githubusercontent.com/49121293/114543165-ca1dac80-9c93-11eb-8b96-ea3b153ce599.jpg)"
   ]
  },
  {
   "cell_type": "markdown",
   "metadata": {},
   "source": [
    "![Notes_210413_200316_4](https://user-images.githubusercontent.com/49121293/114543168-ca1dac80-9c93-11eb-93a0-3539f0c602b2.jpg)"
   ]
  },
  {
   "cell_type": "code",
   "execution_count": null,
   "metadata": {},
   "outputs": [],
   "source": [
    "1import sys\n",
    "\n",
    "sys.stdin = open(\"input.txt\",\"rt\")\n",
    "\n",
    "N , M= list(map(int,input().split()))\n",
    "seq = list(map(int,input().split()))\n",
    "\n",
    "#print(N,M,seq)\n",
    "\n",
    "\n",
    "seq.sort()\n",
    "#print(seq)\n",
    "cnt = 0\n",
    "while len(seq) >= 1:\n",
    "    pop=seq.pop(0)\n",
    "    #print(cnt,pop)\n",
    "    dev=[[idx,(M - pop) - j] for idx,j in enumerate(seq) if (M - pop)- j >=0]\n",
    "    #print(dev)\n",
    "    # 보트 안에 들어올 수 있는 사람만 dev에 여유 무게를 가지고 남김\n",
    "    if len(dev) ==0:\n",
    "        cnt +=1\n",
    "        continue\n",
    "    dev_value=[ o[1] for o in dev]\n",
    "    #print(seq[dev[dev_value.index(min(dev_value))][0]])\n",
    "    # 값의 index를 추출하기 위하여\n",
    "    del seq[dev[dev_value.index(min(dev_value))][0]]\n",
    "    # 여유가 가장 없는 (보트를 꽉차게 쓸 수 있는) 사람을 선정함\n",
    "    cnt +=1\n",
    "    \n",
    "\n",
    "\n",
    "print(cnt)\n",
    "    #if  >\n",
    "    #min_locate=dev.index(min(dev))\n",
    "    #print(min_locate)\n"
   ]
  },
  {
   "cell_type": "code",
   "execution_count": null,
   "metadata": {},
   "outputs": [],
   "source": []
  },
  {
   "cell_type": "markdown",
   "metadata": {},
   "source": [
    "# 4-9 증가수열 만들기"
   ]
  },
  {
   "cell_type": "markdown",
   "metadata": {},
   "source": [
    "![Notes_210413_200316_5](https://user-images.githubusercontent.com/49121293/114543171-cab64300-9c93-11eb-961e-a01ab64002c5.jpg)"
   ]
  },
  {
   "cell_type": "markdown",
   "metadata": {},
   "source": [
    "![Notes_210413_200316_6](https://user-images.githubusercontent.com/49121293/114543174-cab64300-9c93-11eb-8e16-b2fdec8d4c8e.jpg)"
   ]
  },
  {
   "cell_type": "code",
   "execution_count": null,
   "metadata": {},
   "outputs": [],
   "source": [
    "import sys\n",
    "\n",
    "sys.stdin = open(\"input.txt\",\"rt\")\n",
    "\n",
    "N= int(input())\n",
    "seq = list(map(int,input().split()))\n",
    "\n",
    "\n",
    "\n",
    "out_string = list()\n",
    "previous = 0\n",
    "cnt = 0\n",
    "\n",
    "while True:\n",
    "    condition1 = (previous < seq[0])  \n",
    "    condition2 = (previous < seq[len(seq)-1])\n",
    "    if (condition1)|(condition2):\n",
    "        if condition1*condition2 ==1 :\n",
    "            if seq[0] > seq[len(seq)-1]:\n",
    "                cnt +=1\n",
    "                out_string.append(\"R\")\n",
    "                previous = seq.pop()\n",
    "            \n",
    "            else:\n",
    "                cnt +=1\n",
    "                out_string.append(\"L\")\n",
    "                previous = seq.pop(0)\n",
    "        else:\n",
    "            if condition1 :\n",
    "                cnt +=1\n",
    "                out_string.append(\"L\")\n",
    "                previous = seq.pop(0)\n",
    "            if condition2 :\n",
    "                \n",
    "                cnt +=1\n",
    "                out_string.append(\"R\")\n",
    "                previous = seq.pop()\n",
    "                \n",
    "    else :\n",
    "        break\n",
    "    \n",
    "print(cnt)\n",
    "print(\"\".join(out_string))"
   ]
  },
  {
   "cell_type": "markdown",
   "metadata": {},
   "source": [
    "# 4-10 역수열"
   ]
  },
  {
   "cell_type": "code",
   "execution_count": null,
   "metadata": {},
   "outputs": [],
   "source": [
    "import sys\n",
    "\n",
    "sys.stdin = open(\"input.txt\",\"rt\")\n",
    "\n",
    "N= int(input())\n",
    "seq = list(map(int,input().split()))\n",
    "\n",
    "#print(seq)\n",
    "\n",
    "out = [0]*N\n",
    "check=[True]*N\n",
    "\n",
    "for idx,i in enumerate(seq):\n",
    "    box = 0\n",
    "    #print(idx,i)\n",
    "    for j in range(N):\n",
    "        if sum(check[:(j+1)]) == i:\n",
    "            box = j+1\n",
    "            break\n",
    "    for k in range(box,len(seq)):\n",
    "        if check[box] ==False:\n",
    "            box +=1\n",
    "            continue\n",
    "        else:\n",
    "            out[box] = idx+1\n",
    "            check[box] = False\n",
    "            break\n",
    "            \n",
    "print(*out)"
   ]
  },
  {
   "cell_type": "markdown",
   "metadata": {},
   "source": [
    "![Notes_210413_200316_7](https://user-images.githubusercontent.com/49121293/114543175-cb4ed980-9c93-11eb-9ab4-f1117ae9e5e8.jpg)"
   ]
  },
  {
   "cell_type": "markdown",
   "metadata": {},
   "source": [
    "![Notes_210413_200316_8](https://user-images.githubusercontent.com/49121293/114543176-cb4ed980-9c93-11eb-8fb8-0d94b30a5b33.jpg)"
   ]
  }
 ],
 "metadata": {
  "kernelspec": {
   "display_name": "Python 3",
   "language": "python",
   "name": "python3"
  },
  "language_info": {
   "codemirror_mode": {
    "name": "ipython",
    "version": 3
   },
   "file_extension": ".py",
   "mimetype": "text/x-python",
   "name": "python",
   "nbconvert_exporter": "python",
   "pygments_lexer": "ipython3",
   "version": "3.8.5"
  }
 },
 "nbformat": 4,
 "nbformat_minor": 4
}
