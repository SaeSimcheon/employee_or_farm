{
 "cells": [
  {
   "cell_type": "markdown",
   "id": "happy-teach",
   "metadata": {},
   "source": [
    "## 가운데글자"
   ]
  },
  {
   "cell_type": "code",
   "execution_count": null,
   "id": "regional-sydney",
   "metadata": {},
   "outputs": [],
   "source": [
    "def solution(s):\n",
    "    if len(s)%2==0:\n",
    "        answer=s[len(s)//2-1:len(s)//2+1]\n",
    "    else:\n",
    "        answer=s[len(s)//2]\n",
    "    return answer"
   ]
  },
  {
   "cell_type": "markdown",
   "id": "southwest-silly",
   "metadata": {},
   "source": [
    "## 두개더하기"
   ]
  },
  {
   "cell_type": "code",
   "execution_count": null,
   "id": "hundred-three",
   "metadata": {},
   "outputs": [],
   "source": [
    "from itertools import combinations\n",
    "def solution(numbers):\n",
    "    xx=combinations(numbers,2)\n",
    "    answer = []\n",
    "    for x in xx:\n",
    "        if sum(x) not in answer:\n",
    "            answer.append(sum(x))\n",
    "    answer.sort()\n",
    "    return answer"
   ]
  },
  {
   "cell_type": "markdown",
   "id": "administrative-location",
   "metadata": {},
   "source": [
    "## 실패율"
   ]
  },
  {
   "cell_type": "code",
   "execution_count": null,
   "id": "republican-camera",
   "metadata": {},
   "outputs": [],
   "source": [
    "from collections import Counter,deque\n",
    "\n",
    "def solution(N, stages):\n",
    "    stages.sort()\n",
    "    c=dict(Counter(stages))\n",
    "    answer=dict()\n",
    "    for i in range(1,N+1):\n",
    "        answer[i]=0\n",
    "    init_n=len(stages)\n",
    "    \n",
    "    for key in c.keys():\n",
    "        print(key,c[key],init_n)\n",
    "        answer[key]=c[key]/init_n\n",
    "        init_n-=c[key]\n",
    "        \n",
    "    del answer[N+1]\n",
    "    aa=[[value,key] for key,value in answer.items()]\n",
    "    aa.sort(reverse=True)\n",
    "    answer=[key for key,value in aa]\n",
    "    return answer"
   ]
  },
  {
   "cell_type": "markdown",
   "id": "strange-assembly",
   "metadata": {},
   "source": [
    "## 3진법"
   ]
  },
  {
   "cell_type": "code",
   "execution_count": null,
   "id": "developed-challenge",
   "metadata": {},
   "outputs": [],
   "source": [
    "def solution(n):\n",
    "    a=[]\n",
    "    def DFS(x):\n",
    "        global a\n",
    "        if x==0:\n",
    "            return\n",
    "        else:\n",
    "            DFS(x//3)\n",
    "            a.append(x%3)\n",
    "            \n",
    "    DFS(n)\n",
    "    a=a[::-1]\n",
    "    for i in range(len(a)):\n",
    "        answer+=10**(len(a)-1-i)*a[i]\n",
    "    return answer"
   ]
  },
  {
   "cell_type": "markdown",
   "id": "processed-kennedy",
   "metadata": {},
   "source": [
    "## 약수의 개수와 덧셈"
   ]
  },
  {
   "cell_type": "code",
   "execution_count": null,
   "id": "modified-spokesman",
   "metadata": {},
   "outputs": [],
   "source": [
    "## 짝수면 더하고 홀수면 뺌\n",
    "def solution(left, right):\n",
    "    answer = 0\n",
    "    for x in range(left,right+1):\n",
    "        a=1\n",
    "        for y in range(1,x//2+1): \n",
    "            if x%y==0:\n",
    "                a+=1\n",
    "        \n",
    "        if a%2:\n",
    "            answer-=x\n",
    "        else:\n",
    "            answer+=x\n",
    "    return answer"
   ]
  },
  {
   "cell_type": "markdown",
   "id": "packed-graham",
   "metadata": {},
   "source": [
    "## 예산"
   ]
  },
  {
   "cell_type": "code",
   "execution_count": null,
   "id": "constitutional-death",
   "metadata": {},
   "outputs": [],
   "source": [
    "def solution(d, budget):\n",
    "    d.sort()\n",
    "    s=[]\n",
    "    for i in range(len(d)):\n",
    "        if sum(s)+d[i]<=budget:\n",
    "            s.append(d[i])\n",
    "        else:\n",
    "            break\n",
    "    return len(s)"
   ]
  },
  {
   "cell_type": "markdown",
   "id": "athletic-induction",
   "metadata": {},
   "source": [
    "## 모의고사"
   ]
  },
  {
   "cell_type": "code",
   "execution_count": null,
   "id": "nutritional-consensus",
   "metadata": {},
   "outputs": [],
   "source": [
    "def solution(answers):\n",
    "    n1=[i for i in range(1,6)]\n",
    "    n2=[2,1,2,3,2,4,2,5]\n",
    "    n3=[3,3,1,1,2,2,4,4,5,5]\n",
    "\n",
    "    def score(n): # n : 각 수포자들의 pattern list\n",
    "        s=0\n",
    "        for i,x in enumerate(answers):\n",
    "            if i>len(n)-1:\n",
    "                while True:\n",
    "                    if i<=len(n)-1:\n",
    "                        break\n",
    "                    i-=len(n)\n",
    "            if x==n[i]:\n",
    "                s+=1\n",
    "        return s\n",
    "\n",
    "    a=[score(n1),score(n2),score(n3)]\n",
    "    answer=[]\n",
    "    for i in range(3):\n",
    "        if a[i]==max(a):\n",
    "            answer.append(i+1)\n",
    "\n",
    "\n",
    "    return answer"
   ]
  },
  {
   "cell_type": "markdown",
   "id": "consecutive-vulnerability",
   "metadata": {},
   "source": [
    "## 로또"
   ]
  },
  {
   "cell_type": "code",
   "execution_count": null,
   "id": "junior-mailing",
   "metadata": {},
   "outputs": [],
   "source": [
    "## 테스트14만 틀림\n",
    "from collections import Counter\n",
    "def solution(lottos, win_nums):\n",
    "    c=Counter(lottos)[0]\n",
    "    cnt=0\n",
    "    for x in lottos:\n",
    "        if x in win_nums:\n",
    "            cnt+=1\n",
    "    if cnt>=2:  ## 이거 cnt랑 c 케이스 좀만 나눠주면 될 듯!\n",
    "        answer=[7-(cnt+c),7-cnt]\n",
    "    else: \n",
    "        if cnt+c>=2:  \n",
    "            answer=[7-(cnt+c),6]\n",
    "        else:\n",
    "            answer=[6,6]\n",
    "    return answer"
   ]
  },
  {
   "cell_type": "markdown",
   "id": "presidential-castle",
   "metadata": {},
   "source": [
    "## 신규아이디"
   ]
  },
  {
   "cell_type": "code",
   "execution_count": null,
   "id": "thirty-headquarters",
   "metadata": {},
   "outputs": [],
   "source": [
    "import string\n",
    "def solution(new_id):\n",
    "    new_id=new_id.lower() # 1\n",
    "    new_id=deque(new_id)\n",
    " #   print(1,new_id)\n",
    "    num=[str(x) for x in range(10)] #2\n",
    "    a=['-','_','.']\n",
    "    id=''\n",
    "    for x in new_id:\n",
    "        if x in num+a+list(string.ascii_lowercase):\n",
    "            id+=x \n",
    "    new_id=deque(id)        \n",
    "#    print(2,new_id)\n",
    "    while True: #3\n",
    "        if '..' in new_id:\n",
    "            new_id=new_id[:new_id.index('..')]+'.'+new_id[new_id.index('..')+2:]\n",
    "        else:\n",
    "            break\n",
    "#    print(3,new_id)\n",
    "    if len(new_id)>0 and new_id[-1]=='.':\n",
    "        new_id.pop() #4\n",
    " #   print(new_id)\n",
    "    if len(new_id)>0 and new_id[0]=='.':\n",
    "        new_id.popleft()\n",
    "  #  print(4,new_id)\n",
    "    if len(new_id)==0:\n",
    "        new_id='a'  #5\n",
    "   # print(5,new_id)\n",
    "    if len(new_id)>=16:\n",
    "        new_id=new_id[:15] #6\n",
    "    \n",
    "    if len(new_id)>0 and new_id[-1]=='.':\n",
    "        new_id.pop()\n",
    "    #print(6,new_id)\n",
    "    if len(new_id)<=2: #7\n",
    "        while True:\n",
    "            if len(new_id)==3:\n",
    "                break\n",
    "            new_id=new_id+new_id[-1]\n",
    "    s=''\n",
    "    for x in new_id:\n",
    "        s+=x\n",
    "    return s"
   ]
  },
  {
   "cell_type": "markdown",
   "id": "obvious-velvet",
   "metadata": {},
   "source": [
    "## 소수"
   ]
  },
  {
   "cell_type": "code",
   "execution_count": null,
   "id": "african-corrections",
   "metadata": {},
   "outputs": [],
   "source": [
    "from itertools import combinations\n",
    "def solution(nums):\n",
    "    comb=list(combinations(nums,3))\n",
    "    cnt = len(comb)\n",
    "    for c in comb:\n",
    "        d=sum(c)\n",
    "        for i in range(2,d):\n",
    "            if d%i==0:\n",
    "                cnt-=1\n",
    "                break\n",
    "    return cnt"
   ]
  },
  {
   "cell_type": "markdown",
   "id": "cordless-mustang",
   "metadata": {},
   "source": [
    "## 음양더하기"
   ]
  },
  {
   "cell_type": "code",
   "execution_count": null,
   "id": "completed-homework",
   "metadata": {},
   "outputs": [],
   "source": [
    "from itertools import combinations\n",
    "def solution(nums):\n",
    "    comb=list(combinations(nums,3))\n",
    "    cnt = len(comb)\n",
    "    for c in comb:\n",
    "        d=sum(c)\n",
    "        for i in range(2,d):\n",
    "            if d%i==0:\n",
    "                cnt-=1\n",
    "                break\n",
    "    return cnt"
   ]
  }
 ],
 "metadata": {
  "kernelspec": {
   "display_name": "Python 3",
   "language": "python",
   "name": "python3"
  },
  "language_info": {
   "codemirror_mode": {
    "name": "ipython",
    "version": 3
   },
   "file_extension": ".py",
   "mimetype": "text/x-python",
   "name": "python",
   "nbconvert_exporter": "python",
   "pygments_lexer": "ipython3",
   "version": "3.7.10"
  }
 },
 "nbformat": 4,
 "nbformat_minor": 5
}
