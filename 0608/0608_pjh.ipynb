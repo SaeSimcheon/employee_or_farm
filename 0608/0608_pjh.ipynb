{
 "cells": [
  {
   "cell_type": "markdown",
   "metadata": {},
   "source": [
    "# K번째 수"
   ]
  },
  {
   "cell_type": "code",
   "execution_count": 1,
   "metadata": {},
   "outputs": [],
   "source": [
    "def solution(array, commands):\n",
    "    answer = []\n",
    "    for i in range(0,len(commands)):\n",
    "        tmp = array[commands[i][0]-1 : commands[i][1]]\n",
    "        tmp.sort()\n",
    "        answer.append(tmp[commands[i][2]-1])\n",
    "    return answer"
   ]
  },
  {
   "cell_type": "markdown",
   "metadata": {},
   "source": [
    "# 로또 최고순위 최저순위"
   ]
  },
  {
   "cell_type": "code",
   "execution_count": 2,
   "metadata": {},
   "outputs": [],
   "source": [
    "def solution(lottos, win_nums):\n",
    "    answer = []\n",
    "    correct = [x for x in lottos if x in win_nums]\n",
    "    index = [i for i,e in enumerate(lottos) if e == 0]\n",
    "    p = len(index)\n",
    "    a = 7-(len(correct)+p)\n",
    "    b = 7-len(correct)\n",
    "    if p == 6:\n",
    "        a = 1\n",
    "        b = 6\n",
    "    if len(correct) ==0 and p ==0:\n",
    "        a = 6\n",
    "        b = 6\n",
    "    answer = [ a,b ]\n",
    "    return answer"
   ]
  },
  {
   "cell_type": "markdown",
   "metadata": {},
   "source": [
    "# 음양 더하기"
   ]
  },
  {
   "cell_type": "code",
   "execution_count": 3,
   "metadata": {},
   "outputs": [],
   "source": [
    "def solution(absolutes, signs):\n",
    "    for i in range(0,len(signs)):\n",
    "        if signs[i]:\n",
    "            signs[i] = 1\n",
    "        else:\n",
    "            signs[i] = -1\n",
    "    answer = sum([a*b for a,b in zip(absolutes,signs)])\n",
    "    return answer"
   ]
  },
  {
   "cell_type": "markdown",
   "metadata": {},
   "source": [
    "# 소수 만들기"
   ]
  },
  {
   "cell_type": "code",
   "execution_count": 4,
   "metadata": {},
   "outputs": [],
   "source": [
    "def solution(nums):\n",
    "    answer = 0\n",
    "    for i in range(0,len(nums)-2):\n",
    "        for j in range(i+1,len(nums)-1):\n",
    "            for k in range(j+1, len(nums)):\n",
    "                s = nums[i] +nums[j] +nums[k]\n",
    "                tmp = 0\n",
    "                for l in range(2,s//2+1):\n",
    "                    if s%l == 0:\n",
    "                        tmp+=1\n",
    "                if tmp==0:\n",
    "                    answer+=1\n",
    "    return answer"
   ]
  },
  {
   "cell_type": "markdown",
   "metadata": {},
   "source": [
    "# 키패드 누르기"
   ]
  },
  {
   "cell_type": "code",
   "execution_count": 5,
   "metadata": {},
   "outputs": [],
   "source": [
    "def solution(numbers, hand):\n",
    "    answer = ''\n",
    "    left_pos = [-1,4,1]\n",
    "    right_pos = [-1,4,3]\n",
    "    left_dis = 0\n",
    "    right_dis = 0\n",
    "    for i in range(0,len(numbers)):\n",
    "        if numbers[i] in [1,4,7]:\n",
    "            answer = answer + 'L'\n",
    "            left_pos = [answer[i], numbers[i]//3 + 1, 1]\n",
    "        elif numbers[i] in [3,6,9]:\n",
    "            answer = answer + 'R'\n",
    "            right_pos = [answer[i], numbers[i]//3, 3]\n",
    "        elif numbers[i] in [2,5,8]:\n",
    "            left_dis = sum([abs(numbers[i]//3 + 1- left_pos[1]) ,abs(2 - left_pos[2])])\n",
    "            right_dis = sum([abs(numbers[i]//3 + 1- right_pos[1]) ,abs(2 -  right_pos[2])])\n",
    "            if left_dis > right_dis:\n",
    "                answer = answer + 'R'\n",
    "                right_pos = [numbers[i], numbers[i]//3+1, 2]\n",
    "            elif left_dis < right_dis:\n",
    "                answer = answer + 'L'\n",
    "                left_pos = [numbers[i], numbers[i]//3+1, 2]\n",
    "            elif left_dis == right_dis:\n",
    "                if hand == 'right':\n",
    "                    answer = answer + 'R'\n",
    "                    right_pos = [numbers[i], numbers[i]//3+1, 2]\n",
    "                else:\n",
    "                    answer = answer + 'L'\n",
    "                    left_pos = [numbers[i], numbers[i]//3+1, 2]\n",
    "        elif numbers[i] in [0]:\n",
    "            left_dis = sum([abs(4 - left_pos[1]) , abs(2- left_pos[2])])\n",
    "            right_dis = sum([abs(4 - right_pos[1]), abs(2 - right_pos[2])])\n",
    "            if left_dis > right_dis:\n",
    "                answer = answer + 'R'\n",
    "                right_pos = [answer[i], 4, 2]\n",
    "            elif left_dis < right_dis:\n",
    "                answer = answer + 'L'\n",
    "                left_pos = [answer[i], 4, 2]\n",
    "            elif left_dis == right_dis:\n",
    "                if hand == 'right':\n",
    "                    answer = answer + 'R'\n",
    "                    right_pos = [answer[i], 4, 2]\n",
    "                elif hand == 'left':\n",
    "                    answer = answer + 'L'\n",
    "                    left_pos = [answer[i], 4, 2]\n",
    "    return answer"
   ]
  },
  {
   "cell_type": "markdown",
   "metadata": {},
   "source": [
    "# 약수 개수 덧셈"
   ]
  },
  {
   "cell_type": "code",
   "execution_count": 6,
   "metadata": {},
   "outputs": [],
   "source": [
    "def solution(left, right):\n",
    "    answer = 0\n",
    "    tmp = 0\n",
    "    for numb in range(left,right+1):\n",
    "        for n in range(1,numb+1):\n",
    "            if numb%n ==0:\n",
    "                tmp+=1\n",
    "        if tmp%2 == 0:\n",
    "            answer += numb\n",
    "        else:\n",
    "            answer -= numb\n",
    "        tmp=0\n",
    "    return answer"
   ]
  },
  {
   "cell_type": "markdown",
   "metadata": {},
   "source": [
    "# 삼진법 뒤집기"
   ]
  },
  {
   "cell_type": "code",
   "execution_count": 7,
   "metadata": {},
   "outputs": [],
   "source": [
    "def solution(n):\n",
    "    answer = 0\n",
    "    tmp=''\n",
    "    x = n\n",
    "    while x > 0:\n",
    "        tmp = tmp + str(x%3)\n",
    "        x //= 3\n",
    "    tmp = int(tmp)\n",
    "    tmp = str(tmp)\n",
    "    for i in range(0,len(tmp)):\n",
    "        answer += 3**(len(tmp)-i-1)*int(tmp[i])\n",
    "    return answer"
   ]
  },
  {
   "cell_type": "markdown",
   "metadata": {},
   "source": [
    "# 두 개 뽑아서 더하기"
   ]
  },
  {
   "cell_type": "code",
   "execution_count": 8,
   "metadata": {},
   "outputs": [],
   "source": [
    "def solution(numbers):\n",
    "    answer = []\n",
    "    #numbers = set(numbers)\n",
    "    for i in range(len(numbers)-1):\n",
    "        for j in  range(i+1,len(numbers)):\n",
    "            answer.append(numbers[i]+numbers[j])\n",
    "    #print(answer)\n",
    "    answer = set(answer)\n",
    "    answer = list(answer)\n",
    "    return sorted(answer)"
   ]
  },
  {
   "cell_type": "markdown",
   "metadata": {},
   "source": [
    "# 2016년"
   ]
  },
  {
   "cell_type": "code",
   "execution_count": 9,
   "metadata": {},
   "outputs": [],
   "source": [
    "def solution(a, b):\n",
    "    answer = ''\n",
    "    import datetime\n",
    "    import time\n",
    "    daylist = ['MON','TUE','WED','THU','FRI','SAT','SUN']\n",
    "    return daylist[datetime.date(2016,a,b).weekday()]"
   ]
  },
  {
   "cell_type": "markdown",
   "metadata": {},
   "source": [
    "# 비밀지도"
   ]
  },
  {
   "cell_type": "code",
   "execution_count": 10,
   "metadata": {},
   "outputs": [],
   "source": [
    "def solution(n, arr1, arr2):\n",
    "    answer = []\n",
    "    arr1_ = []\n",
    "    arr2_ = []\n",
    "    tmp = ''\n",
    "    for i in range(0,len(arr1)):\n",
    "        while arr1[i] >0:\n",
    "            if arr1[i]%2 == 1:\n",
    "                tmp= tmp + '1'\n",
    "                arr1[i]//=2\n",
    "            elif arr1[i]%2 == 0:\n",
    "                tmp = tmp + '0'\n",
    "                arr1[i]//=2\n",
    "        tmp = tmp[::-1]\n",
    "        n_ = int(n-len(tmp))\n",
    "        if n_ !=0 :\n",
    "            for _ in range(0,n_):\n",
    "                tmp = '0' + tmp\n",
    "        arr1_.append(tmp)\n",
    "        tmp=''\n",
    "    for i in range(0,len(arr2)):\n",
    "        while arr2[i] >0:\n",
    "            if arr2[i]%2 == 1:\n",
    "                tmp= tmp + '1'\n",
    "                arr2[i]//=2\n",
    "            elif arr2[i]%2 == 0:\n",
    "                tmp = tmp + '0'\n",
    "                arr2[i]//=2\n",
    "        tmp = tmp[::-1]\n",
    "        n_ = int(n-len(tmp))\n",
    "        if n_ !=0:\n",
    "            for _ in range(0,n_):\n",
    "                tmp = '0' + tmp\n",
    "        arr2_.append(tmp)\n",
    "        tmp=''\n",
    "    tmp=''\n",
    "    #print(arr1[0][0] == '#' or arr2[0][0] == '#')\n",
    "    print(arr1_)\n",
    "    print(arr2_)\n",
    "    for i in range(0,n):\n",
    "        for j in range(0,n):\n",
    "            if arr1_[i][j] == '1' and arr2_[i][j] =='1':\n",
    "                tmp = tmp+'#'\n",
    "            elif arr1_[i][j] == '1' or arr2_[i][j] =='1':\n",
    "                tmp = tmp+'#'\n",
    "            else:\n",
    "                tmp = tmp+' '\n",
    "        answer.append(tmp)\n",
    "        tmp = ''\n",
    "    return answer"
   ]
  },
  {
   "cell_type": "markdown",
   "metadata": {},
   "source": [
    "# 가운데 글자"
   ]
  },
  {
   "cell_type": "code",
   "execution_count": 11,
   "metadata": {},
   "outputs": [],
   "source": [
    "def solution(s):\n",
    "    answer = ''\n",
    "    if len(s)%2 == 0:\n",
    "        answer = answer+ s[len(s)//2-1:len(s)//2+1]\n",
    "    elif len(s)%2 == 1:\n",
    "        answer = answer+ s[len(s)//2:len(s)//2+1]\n",
    "    answer = str(answer)\n",
    "    print(s[len(s)//2:len(s)//2+1])\n",
    "    #answer = answer + lambda k : s[len(s)//2-1:len(s)//2+1] if len(s)%2 == 0 else s[len(s)//2:len(s)/2+1]\n",
    "    return answer"
   ]
  },
  {
   "cell_type": "code",
   "execution_count": null,
   "metadata": {},
   "outputs": [],
   "source": []
  },
  {
   "cell_type": "code",
   "execution_count": null,
   "metadata": {},
   "outputs": [],
   "source": []
  },
  {
   "cell_type": "code",
   "execution_count": null,
   "metadata": {},
   "outputs": [],
   "source": []
  }
 ],
 "metadata": {
  "kernelspec": {
   "display_name": "Python 3",
   "language": "python",
   "name": "python3"
  },
  "language_info": {
   "codemirror_mode": {
    "name": "ipython",
    "version": 3
   },
   "file_extension": ".py",
   "mimetype": "text/x-python",
   "name": "python",
   "nbconvert_exporter": "python",
   "pygments_lexer": "ipython3",
   "version": "3.7.6"
  }
 },
 "nbformat": 4,
 "nbformat_minor": 4
}
