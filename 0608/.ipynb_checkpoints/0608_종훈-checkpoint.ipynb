{
 "cells": [
  {
   "cell_type": "markdown",
   "metadata": {},
   "source": [
    "# 소수 만들기"
   ]
  },
  {
   "cell_type": "code",
   "execution_count": 1,
   "metadata": {},
   "outputs": [],
   "source": [
    "import itertools\n",
    "\n",
    "def solution(nums):\n",
    "    l = list(itertools.combinations(nums, 3))\n",
    "    \n",
    "    answer = 0\n",
    "    for i in range(len(l)):\n",
    "        check = 0\n",
    "        num = sum(l[i])\n",
    "        for j in range(2, num//2 + 1):\n",
    "            if num%j == 0:\n",
    "                check += 1\n",
    "        if check == 0:\n",
    "            answer += 1\n",
    "                \n",
    "    return answer"
   ]
  },
  {
   "cell_type": "markdown",
   "metadata": {},
   "source": [
    "# 로또의 최고 순위와 최저 순위"
   ]
  },
  {
   "cell_type": "code",
   "execution_count": 2,
   "metadata": {},
   "outputs": [],
   "source": [
    "def solution(lottos, win_nums):\n",
    "    lottos.sort()\n",
    "    win_nums.sort()\n",
    "    \n",
    "    zeros = 0\n",
    "    lucky = 7\n",
    "    for i in range(len(lottos)):\n",
    "        if lottos[i] == 0:\n",
    "            zeros += 1\n",
    "        elif lottos[i] in win_nums:\n",
    "            lucky -= 1\n",
    "    \n",
    "    if lucky == 7:\n",
    "        lucky = 6\n",
    "    \n",
    "    answer = [lucky - zeros, lucky]\n",
    "    \n",
    "    if zeros == 6:\n",
    "        answer = [1, 6]\n",
    "    \n",
    "    return answer"
   ]
  },
  {
   "cell_type": "markdown",
   "metadata": {},
   "source": [
    "# 음양 더하기"
   ]
  },
  {
   "cell_type": "code",
   "execution_count": 3,
   "metadata": {},
   "outputs": [],
   "source": [
    "def solution(absolutes, signs):\n",
    "    answer = 0\n",
    "    for i in range(len(absolutes)):\n",
    "        if signs[i]:\n",
    "            answer += absolutes[i]\n",
    "        else:\n",
    "            answer -= absolutes[i]\n",
    "    return answer"
   ]
  },
  {
   "cell_type": "markdown",
   "metadata": {},
   "source": [
    "# 신규 아이디 추천 (못 품)"
   ]
  },
  {
   "cell_type": "code",
   "execution_count": 4,
   "metadata": {},
   "outputs": [],
   "source": [
    "def solution(new_id):\n",
    "    #1\n",
    "    new_id = new_id.lower()\n",
    "    #2\n",
    "    answer = ''\n",
    "    for a in new_id:\n",
    "        if a.isalnum() == True or a in '-_.':\n",
    "            answer += a\n",
    "    #3\n",
    "    while '..' in answer:\n",
    "        answer = answer.replace('..', '.')\n",
    "    #4\n",
    "    if answer[0] == '.' and len(answer) > 1: \n",
    "        answer = answer[1:]\n",
    "    if answer[-1] == '.': \n",
    "        answer = answer[:-1]\n",
    "    #5\n",
    "    if len(answer) == 0:\n",
    "        answer = \"a\"\n",
    "    #6\n",
    "    if len(answer) > 15:\n",
    "        answer = answer[:15]\n",
    "        if answer[-1] == '.': \n",
    "            answer = answer[:-1]\n",
    "    #6\n",
    "    if len(answer) < 3:\n",
    "        while len(answer) < 3:\n",
    "            answer += answer[-1]\n",
    "    \n",
    "    return answer"
   ]
  },
  {
   "cell_type": "markdown",
   "metadata": {},
   "source": [
    "# 키패드 누르기"
   ]
  },
  {
   "cell_type": "code",
   "execution_count": 5,
   "metadata": {},
   "outputs": [],
   "source": [
    "def solution(numbers, hand):\n",
    "    answer = ''\n",
    "    hand_L = 10\n",
    "    hand_R = 12\n",
    "    for i in numbers:\n",
    "        if i in [1, 4, 7]:\n",
    "            answer += \"L\"\n",
    "            hand_L = i\n",
    "        elif i in [3, 6, 9]:\n",
    "            answer += \"R\"\n",
    "            hand_R = i\n",
    "        else:\n",
    "            if i == 0:\n",
    "                i = 11\n",
    "            len_L = sum(divmod(abs(i - hand_L), 3))\n",
    "            len_R = sum(divmod(abs(i - hand_R), 3))\n",
    "            if len_L < len_R:\n",
    "                answer += \"L\"\n",
    "                hand_L = i\n",
    "            elif len_L > len_R:\n",
    "                answer += \"R\"\n",
    "                hand_R = i\n",
    "            else:\n",
    "                if hand == \"right\":\n",
    "                    answer += \"R\"\n",
    "                    hand_R = i\n",
    "                else: \n",
    "                    answer += \"L\"\n",
    "                    hand_L = i\n",
    "            \n",
    "    return answer"
   ]
  },
  {
   "cell_type": "markdown",
   "metadata": {},
   "source": [
    "# K번째 수"
   ]
  },
  {
   "cell_type": "code",
   "execution_count": 6,
   "metadata": {},
   "outputs": [],
   "source": [
    "def solution(array, commands):\n",
    "    answer = []\n",
    "    for i in range(len(commands)):\n",
    "        a = commands[i][0]\n",
    "        b = commands[i][1]\n",
    "        k = commands[i][2]\n",
    "        \n",
    "        new_array = array[a-1:b]\n",
    "        new_array.sort()\n",
    "        answer.append(new_array[k-1])\n",
    "        \n",
    "    return answer"
   ]
  },
  {
   "cell_type": "markdown",
   "metadata": {},
   "source": [
    "# 실패율"
   ]
  },
  {
   "cell_type": "code",
   "execution_count": 7,
   "metadata": {},
   "outputs": [],
   "source": [
    "# 내 풀이\n",
    "# 이거 왜 틀렸는지 아시는 분...\n",
    "\n",
    "def solution(N, stages):\n",
    "    rate = []\n",
    "    m = len(stages)\n",
    "    for i in range(1, N+1):\n",
    "        if m == 0:\n",
    "            rate.append((i, 0))\n",
    "        else:\n",
    "            n = stages.count(i)\n",
    "            rate.append((i, 1 - n/m))\n",
    "            m -= n\n",
    "        \n",
    "    rate.sort(key = lambda x : (x[1], x[0]))\n",
    "    answer = []\n",
    "    for i in range(len(rate)):\n",
    "        answer.append(rate[i][0])\n",
    "    \n",
    "    return answer\n",
    "\n",
    "\n",
    "# 다른 사람 풀이\n",
    "def solution(N, stages):\n",
    "    rate = {}\n",
    "    m = len(stages)\n",
    "    for i in range(1, N+1):\n",
    "        if m == 0:\n",
    "            rate[i] = 0\n",
    "        else:\n",
    "            n = stages.count(i)\n",
    "            rate[i] = n/m\n",
    "            m -= n \n",
    "    \n",
    "    return sorted(rate, key = lambda x : rate[x], reverse = True)"
   ]
  },
  {
   "cell_type": "markdown",
   "metadata": {},
   "source": [
    "# 약수의 개수와 덧셈"
   ]
  },
  {
   "cell_type": "code",
   "execution_count": 8,
   "metadata": {},
   "outputs": [],
   "source": [
    "def solution(left, right):\n",
    "    answer = 0\n",
    "    sq = [k**2 for k in range(1, 32)]\n",
    "    for i in range(left, right+1):\n",
    "        if i in sq:\n",
    "            answer -= i\n",
    "        else:\n",
    "            answer += i\n",
    "    return answer"
   ]
  },
  {
   "cell_type": "markdown",
   "metadata": {},
   "source": [
    "# 예산"
   ]
  },
  {
   "cell_type": "code",
   "execution_count": 9,
   "metadata": {},
   "outputs": [],
   "source": [
    "def solution(d, budget):\n",
    "    d.sort()\n",
    "    money = 0\n",
    "    answer = 0\n",
    "    for i in range(len(d)):\n",
    "        money += d[i]\n",
    "        if money > budget:\n",
    "            answer = i\n",
    "            break\n",
    "        if money == budget:\n",
    "            answer = i + 1\n",
    "            break\n",
    "    else:\n",
    "        answer = len(d)\n",
    "    return answer\n",
    "\n",
    "\n",
    "# 다른사람 풀이 best\n",
    "\n",
    "def solution(d, budget):\n",
    "    d.sort()\n",
    "    while budget < sum(d):\n",
    "        d.pop()\n",
    "    return len(d)"
   ]
  },
  {
   "cell_type": "markdown",
   "metadata": {},
   "source": [
    "# 3진법 뒤집기"
   ]
  },
  {
   "cell_type": "code",
   "execution_count": 10,
   "metadata": {},
   "outputs": [],
   "source": [
    "# 내 풀이\n",
    "def solution(n):\n",
    "    k = 0\n",
    "    while 3**(k+1) <= n:\n",
    "        k += 1\n",
    "    \n",
    "    three = ''\n",
    "    for i in range(k, -1, -1):\n",
    "        three = three + str(n//(3**i))\n",
    "        n = n%(3**i)\n",
    "        if n == 0:\n",
    "            break\n",
    "    \n",
    "    three = three[::-1]\n",
    "    answer = 0\n",
    "    for j in range(len(three)):\n",
    "        answer += int(three[-1-j])*(3**j)\n",
    "    \n",
    "    return answer\n",
    "\n",
    "# 다른사람 풀이\n",
    "def solution(n):\n",
    "    tmp = ''\n",
    "    while n:\n",
    "        tmp += str(n % 3)\n",
    "        n = n // 3\n",
    "\n",
    "    answer = int(tmp, 3)\n",
    "    return answer"
   ]
  },
  {
   "cell_type": "markdown",
   "metadata": {},
   "source": [
    "# 두 개 뽑아서 더하기"
   ]
  },
  {
   "cell_type": "code",
   "execution_count": 11,
   "metadata": {},
   "outputs": [],
   "source": [
    "import itertools\n",
    "\n",
    "def solution(numbers):\n",
    "    l = list(itertools.combinations(numbers, 2))\n",
    "    s = []\n",
    "    for i in range(len(l)):\n",
    "        s.append(l[i][0]+l[i][1])\n",
    "    answer = list(set(s))\n",
    "    answer.sort()\n",
    "    return answer"
   ]
  },
  {
   "cell_type": "markdown",
   "metadata": {},
   "source": [
    "# [1차] 비밀지도"
   ]
  },
  {
   "cell_type": "code",
   "execution_count": 12,
   "metadata": {},
   "outputs": [],
   "source": [
    "# 내 풀이\n",
    "def two(k, n):\n",
    "    tmp = ''\n",
    "    for i in range(n-1, -1, -1):\n",
    "        tmp += str(k // (2**i))\n",
    "        k -= (2**i)*(k // (2**i))\n",
    "    return tmp\n",
    "            \n",
    "answer = []\n",
    "def solution(n, arr1, arr2):\n",
    "    for i in range(n):\n",
    "        inp = ''\n",
    "        a = two(arr1[i], n)\n",
    "        b = two(arr2[i], n)\n",
    "        for j in range(n):\n",
    "            if a[j] == '1' or b[j] == '1':\n",
    "                inp += '#'\n",
    "            else:\n",
    "                inp += ' '\n",
    "        answer.append(inp)\n",
    "    \n",
    "    return answer\n",
    "\n",
    "\n",
    "\n",
    "# 다른사람 풀이\n",
    "# 비트연산자 사용\n",
    "\n",
    "def solution(n, arr1, arr2):\n",
    "    answer = []\n",
    "    for i,j in zip(arr1,arr2):\n",
    "        a12 = str(bin(i|j)[2:])\n",
    "        a12=a12.rjust(n,'0')\n",
    "        a12=a12.replace('1','#')\n",
    "        a12=a12.replace('0',' ')\n",
    "        answer.append(a12)\n",
    "    return answer\n"
   ]
  },
  {
   "cell_type": "markdown",
   "metadata": {},
   "source": [
    "# 2016년"
   ]
  },
  {
   "cell_type": "code",
   "execution_count": 13,
   "metadata": {},
   "outputs": [],
   "source": [
    "def solution(a, b):\n",
    "    month = [31, 29, 31, 30, 31, 30, 31, 31, 30, 31, 30, 31]\n",
    "    day = ['THU','FRI','SAT','SUN','MON','TUE','WED']\n",
    "    \n",
    "    date = sum(month[:a-1]) + b\n",
    "    d = date%7\n",
    "    \n",
    "    return day[d]\n"
   ]
  },
  {
   "cell_type": "markdown",
   "metadata": {},
   "source": [
    "# 가운데 글자 가져오기"
   ]
  },
  {
   "cell_type": "code",
   "execution_count": 14,
   "metadata": {},
   "outputs": [],
   "source": [
    "def solution(s):\n",
    "    n = len(s)\n",
    "    k = n//2\n",
    "    if n%2 == 0:\n",
    "        answer = s[k-1:k+1]\n",
    "    else:\n",
    "        answer = s[k]\n",
    "    return answer"
   ]
  }
 ],
 "metadata": {
  "kernelspec": {
   "display_name": "Python 3",
   "language": "python",
   "name": "python3"
  },
  "language_info": {
   "codemirror_mode": {
    "name": "ipython",
    "version": 3
   },
   "file_extension": ".py",
   "mimetype": "text/x-python",
   "name": "python",
   "nbconvert_exporter": "python",
   "pygments_lexer": "ipython3",
   "version": "3.7.6"
  }
 },
 "nbformat": 4,
 "nbformat_minor": 4
}
