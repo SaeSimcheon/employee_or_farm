{
 "cells": [
  {
   "cell_type": "markdown",
   "metadata": {},
   "source": [
    "# K번째수"
   ]
  },
  {
   "cell_type": "code",
   "execution_count": null,
   "metadata": {},
   "outputs": [],
   "source": [
    "def solution(array, commands):\n",
    "    answer = list()\n",
    "    for i in range(len(commands)):\n",
    "        element = commands[i]\n",
    "        sliced=array[(element[0]-1):element[1]]\n",
    "        sliced.sort()\n",
    "        answer.append(sliced[element[2]-1])\n",
    "    return answer"
   ]
  },
  {
   "cell_type": "markdown",
   "metadata": {},
   "source": [
    "# 가운데 글자 가져오기"
   ]
  },
  {
   "cell_type": "code",
   "execution_count": null,
   "metadata": {},
   "outputs": [],
   "source": [
    "def solution(s):\n",
    "    if len(s)%2 == 0 :\n",
    "        answer=s[(len(s)//2-1):(len(s)//2+1)]\n",
    "    else:\n",
    "        answer=s[(len(s)//2)]\n",
    "    return answer"
   ]
  },
  {
   "cell_type": "markdown",
   "metadata": {},
   "source": [
    "# 비밀지도"
   ]
  },
  {
   "cell_type": "code",
   "execution_count": null,
   "metadata": {},
   "outputs": [],
   "source": [
    "def base(k,given):\n",
    "    \n",
    "    Q = k\n",
    "    res = 0\n",
    "    out = list()\n",
    "    while  True:\n",
    "        if Q // 2 == 0 :\n",
    "            out.insert(0,Q % 2 )\n",
    "            break\n",
    "        res = Q  % 2\n",
    "        Q = Q //2\n",
    "        out.insert(0,res)\n",
    "    added = [0]*(given - len(out))\n",
    "    added.extend(out)\n",
    "    return added\n",
    "    \n",
    "\n",
    "def solution(n, arr1, arr2):\n",
    "    answer = []\n",
    "    for i in range(n):\n",
    "        out1 = base(arr1[i],n)\n",
    "        out2 = base(arr2[i],n)\n",
    "        A=[\"#\" if (out1[k] == 1)|(out2[k] == 1) else \" \" for k in range(n)]\n",
    "        answer.append(\"\".join(A))\n",
    "    \n",
    "    return answer"
   ]
  },
  {
   "cell_type": "markdown",
   "metadata": {},
   "source": [
    "# 2016년"
   ]
  },
  {
   "cell_type": "code",
   "execution_count": null,
   "metadata": {},
   "outputs": [],
   "source": [
    "def solution(a, b):\n",
    "    num_day = [0,31,29,31,30,31,30,31,31,30,31,30,31]\n",
    "    day =['FRI',\"SAT\",'SUN','MON','TUE','WED','THU']\n",
    "    bef=sum(num_day[:a]) + b\n",
    "    rem_1 = bef % 7 \n",
    "    answer = day[rem_1-1]\n",
    "    \n",
    "    return answer"
   ]
  },
  {
   "cell_type": "markdown",
   "metadata": {},
   "source": [
    "# 실패율"
   ]
  },
  {
   "cell_type": "code",
   "execution_count": null,
   "metadata": {},
   "outputs": [],
   "source": [
    "def solution(N, stages):\n",
    "    challenger = [0]*(N+1)\n",
    "    for i in range(0,N+1):\n",
    "        for j in stages:\n",
    "            if i+1 <= j:\n",
    "                challenger[i] +=1\n",
    "    \n",
    "    stay=[stages.count(i+1) for i in range(0,N+1)]\n",
    "    \n",
    "    \n",
    "    fail_rate = list()\n",
    "    for idx,i in enumerate(challenger):\n",
    "        if i == 0:\n",
    "            fail_rate.append([idx+1,0])\n",
    "        else:\n",
    "            fail_rate.append([idx+1,stay[idx]/i])\n",
    "    \n",
    "    fail_rate = fail_rate[0:(len(fail_rate)-1)]\n",
    "    \n",
    "    answer=sorted(fail_rate, key = lambda x: (-x[1],x[0]))\n",
    "    \n",
    "    answer=[i[0] for i in answer ]\n",
    "    \n",
    "    return answer"
   ]
  },
  {
   "cell_type": "markdown",
   "metadata": {},
   "source": [
    "# 3진법 뒤집기"
   ]
  },
  {
   "cell_type": "code",
   "execution_count": null,
   "metadata": {},
   "outputs": [],
   "source": [
    "def solution(n):\n",
    "    out_three = \"\"\n",
    "    quotient = n\n",
    "    remainder  = 0\n",
    "    while True:\n",
    "        if quotient //3 ==0:\n",
    "            out_three = out_three +str(quotient%3)\n",
    "            break\n",
    "        remainder = quotient % 3\n",
    "        quotient=quotient // 3\n",
    "        out_three = out_three +str(remainder)\n",
    "        \n",
    "    out_three=int(out_three)\n",
    "    out_three=list(map(int,str(out_three)))\n",
    "    answer = sum([(3**(len(out_three)-idx-1))*i for idx,i in enumerate(out_three)])\n",
    "    return answer"
   ]
  },
  {
   "cell_type": "markdown",
   "metadata": {},
   "source": [
    "# 약수의 개수와 덧셈"
   ]
  },
  {
   "cell_type": "code",
   "execution_count": null,
   "metadata": {},
   "outputs": [],
   "source": [
    "def den(element):\n",
    "    \n",
    "    ch = [0]*(element+1)\n",
    "    \n",
    "    for i in range(1,element+1):\n",
    "        if element % i == 0 :\n",
    "            ch[i] = 1\n",
    "    \n",
    "    return sum(ch) - 1\n",
    "    \n",
    "def solution(left, right):\n",
    "    \n",
    "    out = list()\n",
    "    \n",
    "    for i in range(left,right+1):\n",
    "        A=den(i)\n",
    "        if A % 2 != 0:\n",
    "            out.append(i)\n",
    "        else :\n",
    "            out.append(-i)\n",
    "    \n",
    "    answer=sum(out)\n",
    "    return answer"
   ]
  },
  {
   "cell_type": "markdown",
   "metadata": {},
   "source": [
    "# 신규 아이디 추천"
   ]
  },
  {
   "cell_type": "code",
   "execution_count": null,
   "metadata": {},
   "outputs": [],
   "source": [
    "def solution(new_id):\n",
    "    import re\n",
    "    new_id=new_id.lower()\n",
    "    new_id=re.sub(r\"[^a-zA-Z0-9\\.\\-\\_]\",\"\",new_id)\n",
    "    new_id=re.sub(\"\\.{2,}\",\".\",new_id)\n",
    "    new_id=re.sub(\"^\\.\",\"\",new_id)\n",
    "    new_id=re.sub(\"\\.$\",\"\",new_id)\n",
    "    if len(new_id)==0:\n",
    "        new_id = \"a\"\n",
    "    if len(new_id) >= 16:\n",
    "        new_id = new_id[0:15]\n",
    "        new_id=re.sub(\"\\.$\",\"\",new_id)\n",
    "    if len(new_id) <= 2:\n",
    "        last=re.findall(\".$\",new_id)[0]\n",
    "        new_id=re.sub(\".$\",last*(4 - len(new_id)),new_id)\n",
    "    answer = new_id\n",
    "    return answer# 신규 아이디 추천"
   ]
  },
  {
   "cell_type": "markdown",
   "metadata": {},
   "source": [
    "# 키패드 누르기"
   ]
  },
  {
   "cell_type": "code",
   "execution_count": null,
   "metadata": {},
   "outputs": [],
   "source": [
    "def floor(element):\n",
    "    if element in [1,2,3]:\n",
    "        return 0\n",
    "    elif element in [4,5,6]:\n",
    "        return 1\n",
    "    elif element in [7,8,9]:\n",
    "        return 2\n",
    "    else:\n",
    "        return 3\n",
    "\n",
    "def room(element):\n",
    "    if element in [1,4,7,\"*\"]:\n",
    "        return 0\n",
    "    elif element in [2,5,8,0]:\n",
    "        return 1\n",
    "    else :\n",
    "        return 2\n",
    "\n",
    "def solution(numbers, hand):\n",
    "    dist=[[[1,0,1],\n",
    "            [2,1,2],\n",
    "            [3,2,3],\n",
    "            [4,3,4]],\n",
    "            [[2,1,2],\n",
    "            [1,0,1],\n",
    "            [2,1,2],\n",
    "            [3,2,3]],\n",
    "            [[3,2,3],\n",
    "            [2,1,2],\n",
    "            [1,0,1],\n",
    "            [2,1,2]],\n",
    "            [[4,3,4],\n",
    "            [3,2,3],\n",
    "            [2,1,2],\n",
    "            [1,0,1]]]\n",
    "    \n",
    "    L_p = \"*\"\n",
    "    R_p = \"#\"\n",
    "    \n",
    "    L_f =floor(L_p)\n",
    "    R_f =floor(R_p)\n",
    "    \n",
    "    L_r = room(L_p)\n",
    "    R_r = room(R_p)\n",
    "    \n",
    "    out= \"\"\n",
    "    while numbers :\n",
    "        popped = numbers.pop(0)\n",
    "        if popped in [1,4,7]:\n",
    "            out = out +\"L\"\n",
    "            L_p = popped\n",
    "            L_f =floor(L_p)\n",
    "            L_r = room(L_p)\n",
    "        elif popped in [3,6,9]:\n",
    "            out = out +\"R\"\n",
    "            R_p = popped\n",
    "            R_f =floor(R_p)\n",
    "            R_r = room(R_p)\n",
    "        else:\n",
    "            \n",
    "            popped_dist=dist[floor(popped)]\n",
    "            Ldist=popped_dist[L_f][L_r]\n",
    "            Rdist=popped_dist[R_f][R_r]\n",
    "            if Ldist > Rdist:\n",
    "                out = out +\"R\"\n",
    "                R_p = popped\n",
    "                R_f =floor(R_p)\n",
    "                R_r = room(R_p)\n",
    "            elif Ldist < Rdist :                     \n",
    "                out = out +\"L\"\n",
    "                L_p = popped\n",
    "                L_f =floor(L_p)\n",
    "                L_r = room(L_p)\n",
    "            else:\n",
    "                if hand == \"right\":\n",
    "                    out = out +\"R\"\n",
    "                    R_p = popped\n",
    "                    R_f =floor(R_p)\n",
    "                    R_r = room(R_p)\n",
    "                else :\n",
    "                    out = out +\"L\"\n",
    "                    L_p = popped\n",
    "                    L_f =floor(L_p)\n",
    "                    L_r = room(L_p)\n",
    "    answer = out\n",
    "    return answer"
   ]
  },
  {
   "cell_type": "markdown",
   "metadata": {},
   "source": [
    "# 예산"
   ]
  },
  {
   "cell_type": "code",
   "execution_count": null,
   "metadata": {},
   "outputs": [],
   "source": [
    "def DFS(k,d):\n",
    "    global answer\n",
    "    global ch\n",
    "    if k < 0:\n",
    "        return \n",
    "    if sum(ch) == len(d):\n",
    "        answer = sum(ch)\n",
    "        return \n",
    "    if k < d[ch.index(0)]:\n",
    "        if answer < sum(ch):\n",
    "            answer = sum(ch)\n",
    "        return \n",
    "    else:\n",
    "        for i in range(len(d)):\n",
    "            if ch[i] ==1:\n",
    "                continue\n",
    "            ch[i]=1\n",
    "            DFS(k - ch[i]*d[i],d)\n",
    "            ch[i]=0\n",
    "            \n",
    "def solution(d, budget):\n",
    "    global ch\n",
    "    global answer\n",
    "    d.sort()\n",
    "    ch = [0]*len(d)\n",
    "    answer = 0\n",
    "    DFS(budget,d)\n",
    "    return answer"
   ]
  },
  {
   "cell_type": "markdown",
   "metadata": {},
   "source": [
    "# 두 개 뽑아서 더하기"
   ]
  },
  {
   "cell_type": "code",
   "execution_count": null,
   "metadata": {},
   "outputs": [],
   "source": [
    "def solution(numbers):\n",
    "    answer = []\n",
    "    for i in range(len(numbers)):\n",
    "        for j in range(i+1,len(numbers)):\n",
    "            answer.append(sum([numbers[i],numbers[j]]))\n",
    "    #answer.sort()\n",
    "    \n",
    "    answer = list(set(answer))\n",
    "    answer.sort()\n",
    "    return answer"
   ]
  },
  {
   "cell_type": "markdown",
   "metadata": {},
   "source": [
    "# 로또의 최고 순위와 최저 순위"
   ]
  },
  {
   "cell_type": "code",
   "execution_count": null,
   "metadata": {},
   "outputs": [],
   "source": [
    "def solution(lottos, win_nums):\n",
    "    fixed = len([i for i in lottos if i in win_nums])\n",
    "    zeros= lottos.count(0)\n",
    "    \n",
    "    \n",
    "    table = {\"6\":1,\"5\":2,\"4\":3,\"3\":4,\"2\":5,\"1\":6,\"0\":6}\n",
    "    \n",
    "    answer =[table[str(fixed+zeros)],table[str(fixed)]]\n",
    "    \n",
    "    return answer"
   ]
  },
  {
   "cell_type": "markdown",
   "metadata": {},
   "source": [
    "# 소수 만들기"
   ]
  },
  {
   "cell_type": "code",
   "execution_count": null,
   "metadata": {},
   "outputs": [],
   "source": [
    "def prime(element):\n",
    "    for i in range(2,element):\n",
    "        if element %i ==0:\n",
    "            return False\n",
    "    else :\n",
    "        return True\n",
    "\n",
    "def solution(nums):\n",
    "    answer = -1\n",
    "    \n",
    "    candidate = list()\n",
    "    for i in range(len(nums)-2):\n",
    "        for j in range(i+1,len(nums)-1):\n",
    "            for k in range(j+1,len(nums)):\n",
    "                summ= sum([nums[i],nums[j],nums[k]])\n",
    "                candidate.append(summ)\n",
    "    \n",
    "    result = list(map(prime,candidate))\n",
    "    result = [ i for i in result if i ==True]\n",
    "    \n",
    "    answer = len(result)\n",
    "    return answer"
   ]
  },
  {
   "cell_type": "markdown",
   "metadata": {},
   "source": [
    "# 음양 더하기"
   ]
  },
  {
   "cell_type": "code",
   "execution_count": null,
   "metadata": {},
   "outputs": [],
   "source": [
    "def solution(absolutes, signs):\n",
    "    org = [ absolutes[idx] if i == 1  else  -absolutes[idx]  for idx, i in enumerate(signs) ]\n",
    "    answer = sum(org)\n",
    "    return answer"
   ]
  },
  {
   "cell_type": "code",
   "execution_count": null,
   "metadata": {},
   "outputs": [],
   "source": []
  }
 ],
 "metadata": {
  "kernelspec": {
   "display_name": "Python 3",
   "language": "python",
   "name": "python3"
  },
  "language_info": {
   "codemirror_mode": {
    "name": "ipython",
    "version": 3
   },
   "file_extension": ".py",
   "mimetype": "text/x-python",
   "name": "python",
   "nbconvert_exporter": "python",
   "pygments_lexer": "ipython3",
   "version": "3.7.4"
  }
 },
 "nbformat": 4,
 "nbformat_minor": 2
}
