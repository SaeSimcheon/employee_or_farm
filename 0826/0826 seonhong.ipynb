{
 "cells": [
  {
   "cell_type": "markdown",
   "id": "sought-prerequisite",
   "metadata": {},
   "source": [
    "## 매칭점수"
   ]
  },
  {
   "cell_type": "code",
   "execution_count": null,
   "id": "important-bargain",
   "metadata": {},
   "outputs": [],
   "source": [
    "## html을 모르겠다...... 정규표현식 모르면 죽어야지\n",
    "\n",
    "from collections import defaultdict,Counter\n",
    "\n",
    "def solution(word, pages):\n",
    "    dic=defaultdict(list)\n",
    "    dic_basic_score=defaultdict(int)\n",
    "    l=[]\n",
    "    word=word.lower()\n",
    "    #1\n",
    "    for i,page in enumerate(pages):\n",
    "        pp=page[page.index('<head>')+6:page.index('</head>')]\n",
    "        name=pp[pp.index('https://')+8:pp.index('.com')] # 이게 그 페이지 이름\n",
    "        dic[name] \n",
    "        dic_basic_score[name]\n",
    "        l.append(name)\n",
    "\n",
    "        p=page[page.index('<body>')+6:page.index('</body>')]\n",
    "        p=p.replace('\\n',' ').lower()\n",
    "        count=Counter(p.split(' '))\n",
    "        dic_basic_score[name]+=count[word] ## 기본점수 \n",
    "\n",
    "        if 'link to' in p:\n",
    "            p2=p.split('link to ')\n",
    "            for j in range(1,len(p2)):\n",
    "                dic[name].append(p2[j].split(' ')[0]) ## key가 value에 연결\n",
    "                \n",
    "    final_score=dic_basic_score.copy()\n",
    "    for under,up in dic.items():\n",
    "        if up:\n",
    "            for x in up:\n",
    "                final_score[x]+=dic_basic_score[under]/len(up)\n",
    "                \n",
    "    m=-1\n",
    "    for key,score in final_score.items():\n",
    "        if score>m:\n",
    "            m=score\n",
    "            ans=key    \n",
    "    return l.index(ans)#,dic,dic_basic_score,final_score"
   ]
  },
  {
   "cell_type": "markdown",
   "id": "atlantic-peoples",
   "metadata": {},
   "source": [
    "## 110"
   ]
  },
  {
   "cell_type": "code",
   "execution_count": null,
   "id": "precise-sheet",
   "metadata": {},
   "outputs": [],
   "source": [
    "# 이렇게 완전탐색으로 하면 안되는듯 시간초과..\n",
    "def find_110(s):\n",
    "    idx=[]\n",
    "    cnt=0\n",
    "    while True:\n",
    "        if '110' not in s or s=='':\n",
    "            break\n",
    "        else:\n",
    "            i=s.index('110')\n",
    "            idx.append(cnt+3*len(idx)+i)\n",
    "            cnt+=i\n",
    "            s=s[i+3:]\n",
    "    return idx\n",
    "\n",
    "def DFS(s): # s는 string! not list\n",
    "    global aa\n",
    "    idx_110=find_110(s)\n",
    "    if idx_110: # 110 있으면\n",
    "        for idx in idx_110: # ll\n",
    "            body=s[:idx]+s[idx+3:]\n",
    "            body_list=list(body)\n",
    "            for i in range(len(body)+1):\n",
    "                b=body_list.copy()\n",
    "                b.insert(i,'110')\n",
    "                string=''\n",
    "                for x in b:\n",
    "                    string+=x                \n",
    "                if string!=s and sorted([s,string])[0]==string: # 새로 뽑은 게 원래 것이랑 다르고, 순서도 앞선다면=>?\n",
    "                    if sorted([aa,string])[0]==string:\n",
    "                        aa=string\n",
    "                        DFS(string)\n",
    "def solution(s):\n",
    "    global aa\n",
    "    answer=[]\n",
    "    for x in s:\n",
    "        aa=x\n",
    "        DFS(x)\n",
    "        answer.append(aa)\n",
    "    return answer"
   ]
  },
  {
   "cell_type": "markdown",
   "id": "hispanic-pontiac",
   "metadata": {},
   "source": [
    "## 단속카메라"
   ]
  },
  {
   "cell_type": "code",
   "execution_count": null,
   "id": "weekly-korean",
   "metadata": {},
   "outputs": [],
   "source": [
    "## greedy algorithm의 목적이 뭔지 이제야 감잡음\n",
    "from collections import deque\n",
    "def solution(routes):\n",
    "    cnt=0\n",
    "    while routes:\n",
    "        routes.sort(key=lambda x: x[1])\n",
    "        routes=deque(routes)\n",
    "        flag=routes[0][1]\n",
    "        i=0\n",
    "        lenght=len(routes)\n",
    "        while True:\n",
    "            if i==lenght:\n",
    "                break\n",
    "            else:                \n",
    "                start,end=routes.popleft()\n",
    "                if start<=flag<=end:\n",
    "                    pass\n",
    "                else:\n",
    "                    routes.append([start,end])\n",
    "                i+=1\n",
    "        cnt+=1\n",
    "        routes=list(routes)\n",
    "    return cnt"
   ]
  },
  {
   "cell_type": "markdown",
   "id": "frequent-posting",
   "metadata": {},
   "source": [
    "## 풍선"
   ]
  },
  {
   "cell_type": "code",
   "execution_count": 1,
   "id": "remarkable-cambodia",
   "metadata": {},
   "outputs": [],
   "source": [
    "### 아니 시발 이건 머리좋은애들만 풀라는거아님\n",
    "## 질문하기에 언놈이 자랑해놓은 코든데 이게 왜 되는 거지? 모르겟네\n",
    "def solution(a):\n",
    "    def input_min(k):\n",
    "        q = []\n",
    "        t = k[0]\n",
    "        for x in k:\n",
    "            if t > x:\n",
    "                t = x\n",
    "            q.append(t)\n",
    "        return q\n",
    "    k = set(input_min(a) + input_min(a[::-1]))\n",
    "\n",
    "    return len(k)"
   ]
  },
  {
   "cell_type": "code",
   "execution_count": null,
   "id": "composite-service",
   "metadata": {},
   "outputs": [],
   "source": [
    "from collections import deque\n",
    "cnt=0\n",
    "ans=[]\n",
    "dq=deque(aa)\n",
    "dq.append(aa[-1])\n",
    "dq_left=deque([aa[0]])\n",
    "while True:\n",
    "    if cnt==len(aa):\n",
    "        break\n",
    "    else:\n",
    "        d=dq.popleft()\n",
    "        if d<min(dq) or d<min(dq_left):\n",
    "            ans.append(d)\n",
    "        cnt+=1\n",
    "        dq_left.append(d)\n",
    "return len(ans)"
   ]
  },
  {
   "cell_type": "markdown",
   "id": "functioning-compression",
   "metadata": {},
   "source": [
    "## 외벽"
   ]
  },
  {
   "cell_type": "code",
   "execution_count": null,
   "id": "handled-wings",
   "metadata": {},
   "outputs": [],
   "source": [
    "## BFS같은데\n",
    "from collections import deque,defaultdict\n",
    "\n",
    "def solution(n, weak, dist):\n",
    "    weak=deque(weak)\n",
    "    length=len(weak)\n",
    "    cnt=0\n",
    "    dist.sort(key=lambda x: -x)\n",
    "    while True:\n",
    "        if cnt==length:\n",
    "            break\n",
    "        else:\n",
    "            \n",
    "            \n",
    "            \n",
    "    answer = 0\n",
    "    return answer"
   ]
  },
  {
   "cell_type": "code",
   "execution_count": null,
   "id": "fallen-scale",
   "metadata": {},
   "outputs": [],
   "source": []
  },
  {
   "cell_type": "code",
   "execution_count": null,
   "id": "special-norfolk",
   "metadata": {},
   "outputs": [],
   "source": []
  }
 ],
 "metadata": {
  "kernelspec": {
   "display_name": "Python 3",
   "language": "python",
   "name": "python3"
  },
  "language_info": {
   "codemirror_mode": {
    "name": "ipython",
    "version": 3
   },
   "file_extension": ".py",
   "mimetype": "text/x-python",
   "name": "python",
   "nbconvert_exporter": "python",
   "pygments_lexer": "ipython3",
   "version": "3.7.10"
  }
 },
 "nbformat": 4,
 "nbformat_minor": 5
}
