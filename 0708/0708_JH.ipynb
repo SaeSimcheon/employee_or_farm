{
 "cells": [
  {
   "cell_type": "markdown",
   "metadata": {},
   "source": [
    "# 행렬 테두리 회전하기"
   ]
  },
  {
   "cell_type": "code",
   "execution_count": null,
   "metadata": {},
   "outputs": [],
   "source": []
  },
  {
   "cell_type": "markdown",
   "metadata": {},
   "source": [
    "# 괄호 회전하기"
   ]
  },
  {
   "cell_type": "code",
   "execution_count": null,
   "metadata": {},
   "outputs": [],
   "source": [
    "from collections import deque\n",
    "def solution(s):\n",
    "    Q = deque()\n",
    "    for x in s:\n",
    "        Q.append(x)\n",
    "    \n",
    "    cnt = 0\n",
    "    \n",
    "    for _ in range(len(Q)):\n",
    "        Q.append(Q.popleft())\n",
    "        stack = []\n",
    "        for z in Q:\n",
    "            if len(stack) == 0:\n",
    "                stack.append(z)\n",
    "            else:\n",
    "                if stack[-1] == '[' and z == ']':\n",
    "                    stack.pop()\n",
    "                elif stack[-1] == '{' and z == '}':\n",
    "                    stack.pop()\n",
    "                elif stack[-1] == '(' and z == ')':\n",
    "                    stack.pop()\n",
    "                else:\n",
    "                    stack.append(z)\n",
    "        if len(stack) == 0:\n",
    "            cnt += 1\n",
    "    return cnt"
   ]
  },
  {
   "cell_type": "markdown",
   "metadata": {},
   "source": [
    "# 다리를 지나는 트럭"
   ]
  },
  {
   "cell_type": "code",
   "execution_count": null,
   "metadata": {},
   "outputs": [],
   "source": [
    "from collections import deque\n",
    "def solution(bridge_length, weight, truck_weights):\n",
    "    bridge = deque([0]*bridge_length)\n",
    "    truck_weights = deque(truck_weights)\n",
    "    bridge_weight = 0\n",
    "    cnt = 0\n",
    "    while True:\n",
    "        bridge_weight -= bridge.popleft()\n",
    "        if truck_weights and bridge_weight+truck_weights[0] <= weight:\n",
    "            cnt += 1\n",
    "            bridge_weight += truck_weights[0]\n",
    "            bridge.append(truck_weights.popleft())\n",
    "        elif truck_weights and bridge_weight+truck_weights[0] > weight:\n",
    "            cnt += 1\n",
    "            bridge.append(0)\n",
    "        elif len(truck_weights) == 0:\n",
    "            cnt += 1\n",
    "            bridge.append(0)\n",
    "        \n",
    "        if bridge_weight == 0 and len(truck_weights) == 0:\n",
    "            break\n",
    "    return cnt"
   ]
  },
  {
   "cell_type": "markdown",
   "metadata": {},
   "source": [
    "# 카펫"
   ]
  },
  {
   "cell_type": "code",
   "execution_count": null,
   "metadata": {},
   "outputs": [],
   "source": [
    "def solution(brown, yellow):\n",
    "    blocks = brown + yellow\n",
    "    lst = []\n",
    "    for i in range(2, blocks//2+1):\n",
    "        if blocks % i == 0:\n",
    "            lst.append((blocks//i, i))\n",
    "    \n",
    "    for l in lst:\n",
    "        if l[0]*2 + (l[1]-2)*2 == brown:\n",
    "            return [l[0], l[1]]"
   ]
  },
  {
   "cell_type": "markdown",
   "metadata": {},
   "source": [
    "# 순위 검색"
   ]
  },
  {
   "cell_type": "code",
   "execution_count": null,
   "metadata": {},
   "outputs": [],
   "source": []
  },
  {
   "cell_type": "markdown",
   "metadata": {},
   "source": [
    "# H-Index"
   ]
  },
  {
   "cell_type": "code",
   "execution_count": null,
   "metadata": {},
   "outputs": [],
   "source": [
    "def solution(citations):\n",
    "    citations.sort()\n",
    "    for i in range(len(citations)):\n",
    "        if citations[i] >=  len(citations)-i:\n",
    "            return len(citations)-i\n",
    "    else:\n",
    "        return 0"
   ]
  },
  {
   "cell_type": "markdown",
   "metadata": {},
   "source": [
    "# 배달"
   ]
  },
  {
   "cell_type": "code",
   "execution_count": null,
   "metadata": {},
   "outputs": [],
   "source": [
    "def solution(N, road, K):\n",
    "    board = [[500000]*N for _ in range(N)]\n",
    "    for r in road:\n",
    "        a, b, c = r\n",
    "        if board[a-1][b-1] > c: # 똑같은 길에 두가지 시간이 주어질 경우가 있음\n",
    "            board[a-1][b-1] = c\n",
    "            board[b-1][a-1] = c\n",
    "    \n",
    "    for i in range(N):\n",
    "        board[i][i] = 0\n",
    "    \n",
    "    # 플로이드 와샬 알고리즘\n",
    "    for k in range(N):\n",
    "        for i in range(N):\n",
    "            for j in range(N):\n",
    "                board[i][j] = min(board[i][j], board[i][k] + board[k][j])\n",
    "    \n",
    "    cnt = 0\n",
    "    for x in board[0]:\n",
    "        if x <= K:\n",
    "            cnt += 1\n",
    "\n",
    "    return cnt"
   ]
  },
  {
   "cell_type": "markdown",
   "metadata": {},
   "source": [
    "# 위장"
   ]
  },
  {
   "cell_type": "code",
   "execution_count": null,
   "metadata": {},
   "outputs": [],
   "source": [
    "def solution(clothes):\n",
    "    dict = {}\n",
    "    for c in clothes:\n",
    "        dict[c[1]] = dict.get(c[1], 0) + 1\n",
    "    if len(dict) == 1:\n",
    "        return sum(dict.values())\n",
    "    else:\n",
    "        ans = 1\n",
    "        for x in dict.values():\n",
    "            ans *= (x+1) # 안 입었을 경우까지 포함해서 +1\n",
    "        return ans - 1 # 전부 안 입었을 경우 제거 -1"
   ]
  },
  {
   "cell_type": "markdown",
   "metadata": {},
   "source": [
    "# 큰 수 만들기"
   ]
  },
  {
   "cell_type": "code",
   "execution_count": null,
   "metadata": {},
   "outputs": [],
   "source": [
    "# 시간초과\n",
    "from itertools import combinations\n",
    "def solution(number, k):\n",
    "    n = len(number) - k\n",
    "    lst = list(combinations(number, n))\n",
    "    ans = 0\n",
    "    for num in lst:\n",
    "        if int(''.join(num)) > ans:\n",
    "            ans = int(''.join(num))\n",
    "    return str(ans)\n",
    "\n",
    "# 내 풀이\n",
    "def solution(number, k):\n",
    "    ans = []\n",
    "    for idx, num in enumerate(number):\n",
    "        if k == 0:\n",
    "            ans.append(number[idx:])\n",
    "            break\n",
    "            \n",
    "        if len(ans) == 0:\n",
    "            ans.append(num)\n",
    "        else:\n",
    "            while ans and ans[-1] < num and k > 0:\n",
    "                ans.pop()\n",
    "                k -= 1\n",
    "            ans.append(num)\n",
    "    \n",
    "    if k != 0:\n",
    "        while k > 0:\n",
    "            ans.pop()\n",
    "            k -= 1\n",
    "    \n",
    "    return ''.join(ans)\n",
    "    \n",
    "# 비슷한 풀이인데 더 정리가 잘 되어 있음\n",
    "def solution(number, k):\n",
    "    stack = [number[0]]\n",
    "    for num in number[1:]:\n",
    "        while len(stack) > 0 and stack[-1] < num and k > 0:\n",
    "            k -= 1\n",
    "            stack.pop()\n",
    "        stack.append(num)\n",
    "    if k != 0:\n",
    "        stack = stack[:-k]\n",
    "    return ''.join(stack)"
   ]
  },
  {
   "cell_type": "markdown",
   "metadata": {},
   "source": [
    "# 후보키"
   ]
  },
  {
   "cell_type": "code",
   "execution_count": null,
   "metadata": {},
   "outputs": [],
   "source": []
  },
  {
   "cell_type": "markdown",
   "metadata": {},
   "source": [
    "# 구명 보트"
   ]
  },
  {
   "cell_type": "code",
   "execution_count": null,
   "metadata": {},
   "outputs": [],
   "source": [
    "def solution(people, limit):\n",
    "    people.sort(reverse = True)\n",
    "    cnt = 0\n",
    "    i = 0\n",
    "    j = len(people)-1\n",
    "    while i <= j:\n",
    "        if i == j:\n",
    "            cnt += 1\n",
    "            break\n",
    "        if people[i] + people[j] <= limit:\n",
    "            cnt += 1\n",
    "            i += 1\n",
    "            j -= 1\n",
    "        else:\n",
    "            cnt += 1\n",
    "            i += 1\n",
    "            \n",
    "    return cnt"
   ]
  },
  {
   "cell_type": "markdown",
   "metadata": {},
   "source": [
    "# 2개 이하로 다른 비트"
   ]
  },
  {
   "cell_type": "code",
   "execution_count": null,
   "metadata": {},
   "outputs": [],
   "source": []
  },
  {
   "cell_type": "markdown",
   "metadata": {},
   "source": [
    "# 주식가격"
   ]
  },
  {
   "cell_type": "code",
   "execution_count": null,
   "metadata": {},
   "outputs": [],
   "source": [
    "def solution(prices):\n",
    "    answer = [0]*len(prices)\n",
    "    stack = []\n",
    "    for idx, prc in enumerate(prices):\n",
    "        if len(stack) == 0:\n",
    "            stack.append((idx, prc))\n",
    "        else:\n",
    "            if stack[-1][1] <= prc:\n",
    "                stack.append((idx, prc))\n",
    "            else:\n",
    "                jj = stack.pop()\n",
    "                answer[jj[0]] = (idx - jj[0])\n",
    "                while stack and stack[-1][1] > prc:\n",
    "                    j = stack.pop()\n",
    "                    answer[j[0]] = idx - j[0]\n",
    "                stack.append((idx, prc))\n",
    "    for i in range(len(stack)):\n",
    "        k = stack.pop()\n",
    "        answer[k[0]] = len(prices)-1-k[0]\n",
    "    return answer"
   ]
  },
  {
   "cell_type": "markdown",
   "metadata": {},
   "source": [
    "# 영어 끝말잇기"
   ]
  },
  {
   "cell_type": "code",
   "execution_count": null,
   "metadata": {},
   "outputs": [],
   "source": [
    "def solution(n, words):\n",
    "    for i in range(1, len(words)):\n",
    "        if words[i-1][-1] != words[i][0]:\n",
    "            return [i%n+1, i//n+1]\n",
    "        else:\n",
    "            for j in range(i):\n",
    "                if words[i] == words[j]:\n",
    "                    return [i%n+1, i//n+1]\n",
    "    else:\n",
    "        return [0, 0]\n",
    "\n",
    "# 같은 풀이지만 이게 더 간단하군\n",
    "def solution(n, words):\n",
    "    for p in range(1, len(words)):\n",
    "        if words[p][0] != words[p-1][-1] or words[p] in words[:p]: return [(p%n)+1, (p//n)+1]\n",
    "    else:\n",
    "        return [0,0]"
   ]
  },
  {
   "cell_type": "markdown",
   "metadata": {},
   "source": [
    "# [1차] 프렌즈4블록"
   ]
  },
  {
   "cell_type": "code",
   "execution_count": null,
   "metadata": {},
   "outputs": [],
   "source": []
  },
  {
   "cell_type": "markdown",
   "metadata": {},
   "source": [
    "# 삼각 달팽이"
   ]
  },
  {
   "cell_type": "code",
   "execution_count": null,
   "metadata": {},
   "outputs": [],
   "source": [
    "def solution(n):\n",
    "    triangle = [[0]*(i+1) for i in range(n)]\n",
    "    num = 1\n",
    "    x, y = -1, 0\n",
    "    for i in range(n):\n",
    "        for j in range(i, n):\n",
    "            if i%3 == 0:\n",
    "                x += 1\n",
    "            elif i%3 == 1:\n",
    "                y += 1\n",
    "            else:\n",
    "                x -= 1\n",
    "                y -= 1\n",
    "            triangle[x][y] = num\n",
    "            num += 1\n",
    "    \n",
    "    answer = []\n",
    "    for i in range(n):\n",
    "        answer.extend(triangle[i])\n",
    "                \n",
    "    return answer"
   ]
  },
  {
   "cell_type": "markdown",
   "metadata": {},
   "source": [
    "# 점프와 순간 이동"
   ]
  },
  {
   "cell_type": "code",
   "execution_count": null,
   "metadata": {},
   "outputs": [],
   "source": [
    "## 냅색 알고리즘으로 풀려 했는데 안되는듯...\n",
    "def solution(n):\n",
    "    dis = [0]*(n+1)\n",
    "    for i in range(1, n+1):\n",
    "        if dis[i] == 0:\n",
    "            dis[i] = dis[i-1] + 1\n",
    "            while True:\n",
    "                k = i*2\n",
    "                if k > n:\n",
    "                    break\n",
    "                elif k == n:\n",
    "                    dis[k] = dis[i]\n",
    "                    break\n",
    "                else:\n",
    "                    dis[k] = dis[i]\n",
    "    return dis[n]\n",
    "\n",
    "## 규칙 찾아서 풀기\n",
    "def solution(n):\n",
    "    cnt = 0\n",
    "    while n > 0:\n",
    "        n, b = divmod(n, 2)\n",
    "        cnt += b\n",
    "    return cnt"
   ]
  },
  {
   "cell_type": "markdown",
   "metadata": {},
   "source": [
    "# [1차] 캐시"
   ]
  },
  {
   "cell_type": "code",
   "execution_count": null,
   "metadata": {},
   "outputs": [],
   "source": []
  },
  {
   "cell_type": "markdown",
   "metadata": {},
   "source": [
    "# 이진 변환 반복하기"
   ]
  },
  {
   "cell_type": "code",
   "execution_count": null,
   "metadata": {},
   "outputs": [],
   "source": []
  },
  {
   "cell_type": "markdown",
   "metadata": {},
   "source": [
    "# 스킬트리"
   ]
  },
  {
   "cell_type": "code",
   "execution_count": null,
   "metadata": {},
   "outputs": [],
   "source": [
    "from collections import deque\n",
    "def solution(skill, skill_trees):\n",
    "    \n",
    "    cnt = 0\n",
    "    for s in skill_trees:\n",
    "        dq = deque(skill)\n",
    "        for x in s:\n",
    "            if x in dq:\n",
    "                if x != dq.popleft():\n",
    "                    break\n",
    "        else:\n",
    "            cnt += 1\n",
    "    \n",
    "    return cnt"
   ]
  }
 ],
 "metadata": {
  "kernelspec": {
   "display_name": "Python 3",
   "language": "python",
   "name": "python3"
  },
  "language_info": {
   "codemirror_mode": {
    "name": "ipython",
    "version": 3
   },
   "file_extension": ".py",
   "mimetype": "text/x-python",
   "name": "python",
   "nbconvert_exporter": "python",
   "pygments_lexer": "ipython3",
   "version": "3.7.6"
  }
 },
 "nbformat": 4,
 "nbformat_minor": 4
}
