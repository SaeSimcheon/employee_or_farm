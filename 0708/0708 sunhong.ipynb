{
 "cells": [
  {
   "cell_type": "markdown",
   "id": "passing-grenada",
   "metadata": {},
   "source": [
    "## 행렬 테두리 회전"
   ]
  },
  {
   "cell_type": "code",
   "execution_count": null,
   "id": "arranged-velvet",
   "metadata": {},
   "outputs": [],
   "source": []
  },
  {
   "cell_type": "markdown",
   "id": "approved-actor",
   "metadata": {},
   "source": [
    "## 괄호 회전"
   ]
  },
  {
   "cell_type": "code",
   "execution_count": null,
   "id": "detailed-metadata",
   "metadata": {},
   "outputs": [],
   "source": [
    "def gh(s):\n",
    "    stack=[]\n",
    "    for x in s:\n",
    "        if x in ['(','{','[']:\n",
    "            stack.append(x)\n",
    "        else:\n",
    "            if not stack:\n",
    "                return 0\n",
    "            else:\n",
    "                if x==')' and stack[-1]=='(':\n",
    "                    stack.pop()\n",
    "                elif x=='}' and stack[-1]=='{':\n",
    "                    stack.pop()\n",
    "                elif x==']' and stack[-1]=='[':\n",
    "                    stack.pop()\n",
    "    if stack:\n",
    "        return 0\n",
    "    else:\n",
    "        return 1\n",
    "    \n",
    "    \n",
    "def solution(s):\n",
    "    cnt=0\n",
    "    for i in range(len(s)):\n",
    "        ss=s[i:]+s[:i]\n",
    "        cnt+=gh(ss)    \n",
    "    return cnt"
   ]
  },
  {
   "cell_type": "markdown",
   "id": "christian-religious",
   "metadata": {},
   "source": [
    "## 다리트럭"
   ]
  },
  {
   "cell_type": "code",
   "execution_count": null,
   "id": "tight-might",
   "metadata": {},
   "outputs": [],
   "source": []
  },
  {
   "cell_type": "markdown",
   "id": "ethical-smoke",
   "metadata": {},
   "source": [
    "## 카펫"
   ]
  },
  {
   "cell_type": "code",
   "execution_count": 1,
   "id": "partial-bernard",
   "metadata": {},
   "outputs": [],
   "source": [
    "## 안돌아감 아예틀림\n",
    "import math\n",
    "def solution(brown, yellow):\n",
    "    x=y=10\n",
    "    while True:        \n",
    "        for a in range(3,x):\n",
    "            for b in range(3,y):\n",
    "                if a+b==(brown+4)/2:\n",
    "                    if (a-2)*(b-2)==yellow:\n",
    "                        answer=[a,b]\n",
    "                        break\n",
    "        x+=10\n",
    "        y+=10\n",
    "    return answer"
   ]
  },
  {
   "cell_type": "markdown",
   "id": "published-timeline",
   "metadata": {},
   "source": [
    "## 순위 검색"
   ]
  },
  {
   "cell_type": "code",
   "execution_count": null,
   "id": "administrative-egypt",
   "metadata": {},
   "outputs": [],
   "source": []
  },
  {
   "cell_type": "markdown",
   "id": "scenic-column",
   "metadata": {},
   "source": [
    "## H-index"
   ]
  },
  {
   "cell_type": "code",
   "execution_count": null,
   "id": "suitable-issue",
   "metadata": {},
   "outputs": [],
   "source": [
    "##  ㅇㄷ가 틀렸지 시발\n",
    "def solution(citations):\n",
    "    citations.sort(reverse=True)\n",
    "    i=0\n",
    "    h_idx=-1\n",
    "    for idx,h in enumerate(citations):\n",
    "        i+=1 ## h 이상의 값이 i개라는 뜻\n",
    "        if i>=h:\n",
    "            h_idx=max(h,h_idx)\n",
    "    return h_idx\n",
    "\n",
    "## 질문하기에서 위키백과보고 하라길래 따라했더니 정답, 근데 내코드는 왜틀림?\n",
    "## h-index는 citation의 원소가 아닐 수도 있다는데, 내 코드는 그 안의 원소만 h-index로 나옴\n",
    "## 인용횟수가 아니라 조건을 만족하는 갯수에 초점 맞춰야 하는듯..?\n",
    "def solution(citations):\n",
    "    citations.sort(reverse=True)\n",
    "    return max([min(x,idx+1) for idx,x in enumerate(citations)])\n",
    "    \n"
   ]
  },
  {
   "cell_type": "markdown",
   "id": "structural-memphis",
   "metadata": {},
   "source": [
    "## 배달"
   ]
  },
  {
   "cell_type": "code",
   "execution_count": 66,
   "id": "super-tomato",
   "metadata": {},
   "outputs": [],
   "source": [
    "## ㅅㅂ왜안되지 break하는 조건이 문제인가 \n",
    "def solution(N, road, K):\n",
    "    base=[[0]*N for _ in range(N)]\n",
    "    for a,b,c in road:\n",
    "        base[a-1][b-1]=c\n",
    "        base[b-1][a-1]=c\n",
    "    for i in range(N):\n",
    "        base[i][i]=0\n",
    "    s=base.copy()\n",
    "    base_t=list(map(list,zip(*base)))\n",
    "    \n",
    "    cnt=[0]\n",
    "    round=0\n",
    "    while True:        \n",
    "        round+=1\n",
    "        c=cnt\n",
    "        for i in range(1,N): # 1번 마을은 무조건 들어가니 2번마을부터\n",
    "            if 0<s[0][i]<=K and i not in cnt:\n",
    "                cnt.append(i)\n",
    "        \n",
    "        base2=[] # 새로운 s 행렬\n",
    "        for x in s: # s[i]\n",
    "            b=[]\n",
    "            for t in base_t: # base_t[j]\n",
    "                value=0\n",
    "                for i in range(N):\n",
    "                    value+=x[i]*t[i]\n",
    "                b.append(value)\n",
    "            base2.append(b)\n",
    "        s=base2\n",
    "        \n",
    "        if cnt==c:\n",
    "            break\n",
    "\n",
    "    return len(cnt)"
   ]
  },
  {
   "cell_type": "markdown",
   "id": "ignored-trout",
   "metadata": {},
   "source": [
    "### 위장"
   ]
  },
  {
   "cell_type": "code",
   "execution_count": null,
   "id": "french-jason",
   "metadata": {},
   "outputs": [],
   "source": [
    "#96.4 /테스트1 시간초과\n",
    "from itertools import combinations\n",
    "def solution(clothes):\n",
    "    dic={}\n",
    "    for value,key in clothes:\n",
    "        if key in dic.keys():\n",
    "            dic[key]=dic[key]+[value]\n",
    "        else:\n",
    "            dic[key]=[value]\n",
    "    answer=0\n",
    "    for i in range(1,len(dic.keys())+1):\n",
    "        if i==1:\n",
    "            answer+=sum([len(x) for x in dic.values()])\n",
    "        else:            \n",
    "            key_comb=list(combinations(dic.keys(),i))\n",
    "            for j in key_comb:\n",
    "                a=1\n",
    "                for key in j:\n",
    "                    a*=len(dic[key])\n",
    "                answer+=a    \n",
    "    return answer\n",
    "\n",
    "## 질문하기 보고 고친 코드\n",
    "def solution(clothes):\n",
    "    dic={}\n",
    "    for value,key in clothes:\n",
    "        if key in dic.keys():\n",
    "            dic[key]=dic[key]+[value]\n",
    "        else:\n",
    "            dic[key]=[value]\n",
    "    answer=1\n",
    "    for value in dic.values():\n",
    "        answer*=len(value)+1\n",
    "    \n",
    "    return answer-1\n",
    "\n",
    "좋아요 많은 풀이들은\n",
    "functools.reduce 함수 많이 사용함\n",
    "내 코드에 적용=>\n",
    "answer=1\n",
    "for value in dic.values():\n",
    "    answer*=len(value)+1\n",
    "=>\n",
    "answer=reduce(lambda x,y: x*(y+1),[len(value) for value in dic.values()],1)\n"
   ]
  },
  {
   "cell_type": "markdown",
   "id": "complicated-capacity",
   "metadata": {},
   "source": [
    "## 큰 수 만들기"
   ]
  },
  {
   "cell_type": "code",
   "execution_count": null,
   "id": "yellow-launch",
   "metadata": {},
   "outputs": [],
   "source": [
    "def solution(number, k):\n",
    "    number=[int(x) for x in number]\n",
    "    stack=[]\n",
    "    stack.append(number[0])\n",
    "    cnt=0\n",
    "    for i in range(1,len(number)):\n",
    "        x=number[i]\n",
    "        if cnt==k:\n",
    "            stack+=number[i:]\n",
    "            break\n",
    "        if stack[-1]<x:\n",
    "            while stack:\n",
    "#                print(j)\n",
    "                if cnt==k:\n",
    "                    break\n",
    "                if stack[-1]<x:\n",
    "                    stack.pop()\n",
    "                    cnt+=1\n",
    "                else:\n",
    "                    break\n",
    "            stack.append(x)\n",
    "        else:\n",
    "            stack.append(x)    \n",
    "    answer=''\n",
    "    if cnt==k:\n",
    "        for x in stack:\n",
    "            answer+=str(x)\n",
    "    elif cnt<k:\n",
    "        for x in stack[:cnt-k]:\n",
    "            answer+=str(x)\n",
    "    return answer"
   ]
  },
  {
   "cell_type": "markdown",
   "id": "dated-representation",
   "metadata": {},
   "source": [
    "## 후보키"
   ]
  },
  {
   "cell_type": "code",
   "execution_count": null,
   "id": "frank-worcester",
   "metadata": {},
   "outputs": [],
   "source": []
  },
  {
   "cell_type": "markdown",
   "id": "victorian-gasoline",
   "metadata": {},
   "source": [
    "## 구명 보트"
   ]
  },
  {
   "cell_type": "code",
   "execution_count": null,
   "id": "bronze-preview",
   "metadata": {},
   "outputs": [],
   "source": [
    "from collections import deque\n",
    "def solution(people, limit):\n",
    "    people.sort(reverse=True)\n",
    "    people=deque(people)\n",
    "    cnt=0\n",
    "    while people:\n",
    "        if len(people)==1:\n",
    "            people.pop()\n",
    "            cnt+=1\n",
    "        else:\n",
    "            if people[0]+people[-1]<=limit:\n",
    "                people.popleft()\n",
    "                people.pop()\n",
    "                cnt+=1\n",
    "            else:\n",
    "                people.popleft()\n",
    "                cnt+=1\n",
    "    return cnt"
   ]
  },
  {
   "cell_type": "markdown",
   "id": "necessary-pickup",
   "metadata": {},
   "source": [
    "## 2개 비트"
   ]
  },
  {
   "cell_type": "code",
   "execution_count": 101,
   "id": "southeast-newspaper",
   "metadata": {},
   "outputs": [],
   "source": [
    "# 테스트 10,11 시간초과\n",
    "def check(n):\n",
    "    original=bin(n)[2:]\n",
    "    while True:\n",
    "        n+=1\n",
    "        bin_new=bin(n)[2:]\n",
    "        bin_n='0'*(len(bin_new)-len(original))+original\n",
    "        cnt=0\n",
    "        for i in range(len(bin_n)):\n",
    "            if bin_n[i]!=bin_new[i]:\n",
    "                cnt+=1\n",
    "        print(n,bin_n,bin_new)\n",
    "        if 0<cnt<=2:\n",
    "            print(n,bin_n,bin_new)\n",
    "            break\n",
    "    return n\n",
    "    \n",
    "def solution(numbers):\n",
    "    return [check(x) for x in numbers]"
   ]
  },
  {
   "cell_type": "markdown",
   "id": "varying-tongue",
   "metadata": {},
   "source": [
    "## 주식 가격"
   ]
  },
  {
   "cell_type": "code",
   "execution_count": null,
   "id": "technological-portugal",
   "metadata": {},
   "outputs": [],
   "source": [
    "def solution(prices):\n",
    "    answer=[]\n",
    "    a=0\n",
    "    while True:\n",
    "        if a==len(prices)-1:\n",
    "            break\n",
    "        cnt=0\n",
    "        for i in range(a+1,len(prices)):\n",
    "            if prices[a]>prices[i]:\n",
    "                cnt=i-a\n",
    "                break\n",
    "            else:\n",
    "                cnt+=1\n",
    "        answer.append(cnt)\n",
    "        a+=1\n",
    "    answer.append(0)\n",
    "    return answer"
   ]
  },
  {
   "cell_type": "markdown",
   "id": "intended-think",
   "metadata": {},
   "source": [
    "## 영어 끝말익기"
   ]
  },
  {
   "cell_type": "code",
   "execution_count": null,
   "id": "occupational-toner",
   "metadata": {},
   "outputs": [],
   "source": [
    "from collections import deque\n",
    "def solution(n, words):\n",
    "    dq=deque()\n",
    "    dq.append(words[0])\n",
    "    for i in range(1,len(words)):\n",
    "        if words[i][0]==dq[-1][-1] and words[i] not in dq:\n",
    "            dq.append(words[i])\n",
    "        else:\n",
    "            break  \n",
    "    if len(dq)==len(words):\n",
    "        return [0,0]\n",
    "    else:\n",
    "        return [divmod(i,n)[1]+1,divmod(i,n)[0]+1]"
   ]
  },
  {
   "cell_type": "markdown",
   "id": "unknown-luther",
   "metadata": {},
   "source": [
    "## 프렌즈4블록"
   ]
  },
  {
   "cell_type": "code",
   "execution_count": null,
   "id": "incomplete-exploration",
   "metadata": {},
   "outputs": [],
   "source": []
  },
  {
   "cell_type": "markdown",
   "id": "quality-chorus",
   "metadata": {},
   "source": [
    "## 삼각 달팽기"
   ]
  },
  {
   "cell_type": "code",
   "execution_count": null,
   "id": "numerous-thumbnail",
   "metadata": {},
   "outputs": [],
   "source": []
  },
  {
   "cell_type": "markdown",
   "id": "suspended-converter",
   "metadata": {},
   "source": [
    "## 점프"
   ]
  },
  {
   "cell_type": "code",
   "execution_count": null,
   "id": "polished-mentor",
   "metadata": {},
   "outputs": [],
   "source": [
    "## 이거 찾아보고품 내가푼거아님\n",
    "\n",
    "def solution(n):\n",
    "    answer=0\n",
    "    while n: \n",
    "        n,jump=divmod(n,2)\n",
    "        answer+=jump\n",
    "    return answer"
   ]
  },
  {
   "cell_type": "markdown",
   "id": "descending-civilian",
   "metadata": {},
   "source": [
    "## 캐시"
   ]
  },
  {
   "cell_type": "code",
   "execution_count": null,
   "id": "current-vintage",
   "metadata": {},
   "outputs": [],
   "source": []
  },
  {
   "cell_type": "markdown",
   "id": "another-paper",
   "metadata": {},
   "source": [
    "## 이진 변환"
   ]
  },
  {
   "cell_type": "code",
   "execution_count": null,
   "id": "cosmetic-gospel",
   "metadata": {},
   "outputs": [],
   "source": [
    "cnt=num_change=0\n",
    "def f(s):\n",
    "    def DFS(x):\n",
    "        nonlocal stack\n",
    "        if x==0:\n",
    "            return # 그냥 return은 함수를 종료\n",
    "        else:\n",
    "            DFS(x//2)\n",
    "            stack+='{}'.format(x%2)\n",
    "    a=''\n",
    "    global cnt\n",
    "    global num_change\n",
    "    for x in s:\n",
    "        if x=='1':\n",
    "            a+=x\n",
    "        else:\n",
    "            cnt+=1\n",
    "    stack=''\n",
    "    DFS(len(a)) ## 이걸 한 게 결과값으로 반환되어야함\n",
    "    num_change+=1\n",
    "    return stack\n",
    "\n",
    "def solution(s):\n",
    "    while True:\n",
    "        if s=='1':\n",
    "            break\n",
    "#        print(cnt,num_change)\n",
    "        s=f(s) # 문자열\n",
    "    return [num_change,cnt]\n",
    "\n",
    "\n",
    "#### \n",
    "숫자 n을 이진수로 표현하고 싶으면=>bin(n) 쓰면 됨 내가한것처럼 노가다하면 ㅄ인듯\n",
    "ex) bin(4)=>'0b100'"
   ]
  },
  {
   "cell_type": "markdown",
   "id": "million-bolivia",
   "metadata": {},
   "source": [
    "## 스킬트리"
   ]
  },
  {
   "cell_type": "code",
   "execution_count": null,
   "id": "female-helena",
   "metadata": {},
   "outputs": [],
   "source": [
    "def solution(skill,skill_trees):\n",
    "    cnt=0\n",
    "    for x in skill_trees:\n",
    "        stack2=[i  for i in x if i in skill ]\n",
    "        s=stack2[::-1]\n",
    "        if s and s[-1]!=skill[0]:\n",
    "            continue\n",
    "        for i in range(len(s)-1):\n",
    "            if s[i+1]!=skill[skill.index(s[i])-1]: \n",
    "                cnt-=1\n",
    "                break\n",
    "        cnt+=1\n",
    "    return cnt"
   ]
  }
 ],
 "metadata": {
  "kernelspec": {
   "display_name": "Python 3",
   "language": "python",
   "name": "python3"
  },
  "language_info": {
   "codemirror_mode": {
    "name": "ipython",
    "version": 3
   },
   "file_extension": ".py",
   "mimetype": "text/x-python",
   "name": "python",
   "nbconvert_exporter": "python",
   "pygments_lexer": "ipython3",
   "version": "3.7.10"
  }
 },
 "nbformat": 4,
 "nbformat_minor": 5
}
