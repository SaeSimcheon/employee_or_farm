{
 "cells": [
  {
   "cell_type": "markdown",
   "id": "conventional-objective",
   "metadata": {},
   "source": [
    "## 곶감"
   ]
  },
  {
   "cell_type": "code",
   "execution_count": 3,
   "id": "daily-defeat",
   "metadata": {},
   "outputs": [
    {
     "name": "stdout",
     "output_type": "stream",
     "text": [
      "1304            1304\n",
      "2539            2539\n",
      "4956            4956\n",
      "6722            6722\n",
      "8119            8119\n"
     ]
    }
   ],
   "source": [
    "import sys\n",
    "\n",
    "for num in range(1,6):\n",
    "    sys.stdin = open(\"in{}.txt\".format(num), 'r')\n",
    "    ans_ = open(\"out{}.txt\".format(num),\"r\")\n",
    "\n",
    "    N = int(sys.stdin.readline())\n",
    "\n",
    "    Ma = [list(map(int,sys.stdin.readline().split())) for i in range(N)]\n",
    "\n",
    "    M = int(sys.stdin.readline())\n",
    "\n",
    "    for i in range(M):\n",
    "        s,d,c = map(int,sys.stdin.readline().split())\n",
    "        if c>N:\n",
    "            c = c%N\n",
    "        if d == 1:\n",
    "\n",
    "            Ma[s-1] = Ma[s-1][N-c:]+Ma[s-1][:N-c]\n",
    "        else:\n",
    "\n",
    "            Ma[s-1] = Ma[s-1][c:]+Ma[s-1][:c]\n",
    "\n",
    "    i = 1\n",
    "    ans = sum(Ma[0]+Ma[N-1])\n",
    "\n",
    "\n",
    "    while 1:\n",
    "        if i == N//2:\n",
    "            ans +=sum(Ma[N//2][N//2:-1*N//2+1])\n",
    "            break\n",
    "        else:\n",
    "            ans +=sum(Ma[i][i:-1*i])\n",
    "            ans +=sum(Ma[N-1-i][i:-1*i])\n",
    "        i+=1\n",
    "    print(ans,ans_.read(),sep = \"            \")\n",
    "\n"
   ]
  },
  {
   "cell_type": "code",
   "execution_count": 4,
   "id": "universal-oriental",
   "metadata": {},
   "outputs": [
    {
     "name": "stdout",
     "output_type": "stream",
     "text": [
      "980 µs ± 9.07 µs per loop (mean ± std. dev. of 7 runs, 1000 loops each)\n"
     ]
    }
   ],
   "source": [
    "%%timeit\n",
    "import sys\n",
    "for num in range(1,6):\n",
    "    sys.stdin = open(\"in{}.txt\".format(num), 'r')\n",
    "    ans_ = open(\"out{}.txt\".format(num),\"r\")\n",
    "\n",
    "    N = int(sys.stdin.readline())\n",
    "\n",
    "    Ma = [list(map(int,sys.stdin.readline().split())) for i in range(N)]\n",
    "\n",
    "    M = int(sys.stdin.readline())\n",
    "\n",
    "    for i in range(M):\n",
    "        s,d,c = map(int,sys.stdin.readline().split())\n",
    "        if c>N:\n",
    "            c = c%N\n",
    "        if d == 1:\n",
    "\n",
    "            Ma[s-1] = Ma[s-1][N-c:]+Ma[s-1][:N-c]\n",
    "        else:\n",
    "\n",
    "            Ma[s-1] = Ma[s-1][c:]+Ma[s-1][:c]\n",
    "\n",
    "    i = 1\n",
    "    ans = sum(Ma[0]+Ma[N-1])\n",
    "\n",
    "\n",
    "    while 1:\n",
    "        if i == N//2:\n",
    "            ans +=sum(Ma[N//2][N//2:-1*N//2+1])\n",
    "            break\n",
    "        else:\n",
    "            ans +=sum(Ma[i][i:-1*i])\n",
    "            ans +=sum(Ma[N-1-i][i:-1*i])\n",
    "        i+=1\n",
    "#    print(ans,ans_.read(),sep = \"            \")"
   ]
  },
  {
   "cell_type": "markdown",
   "id": "suffering-pavilion",
   "metadata": {},
   "source": [
    "정답\n",
    "\n",
    "insert append"
   ]
  },
  {
   "cell_type": "code",
   "execution_count": 9,
   "id": "isolated-mailing",
   "metadata": {},
   "outputs": [
    {
     "name": "stdout",
     "output_type": "stream",
     "text": [
      "305\n"
     ]
    }
   ],
   "source": [
    "sys.stdin = open(\"in1.txt\", 'r')\n",
    "\n",
    "n = int(sys.stdin.readline())\n",
    "a = [list(map(int,sys.stdin.readline().split())) for i in range(n)]\n",
    "m = int(sys.stdin.readline())\n",
    "\n",
    "for i in range(m):\n",
    "    h,t,k = map(int,sys.stdin.readline().split())\n",
    "    \n",
    "    if t == 0 :\n",
    "        for _ in range(k):\n",
    "            a[h-1].append(a[h-1].pop(0))\n",
    "        else:\n",
    "            for _ in range(k):\n",
    "                a[h-1].insert(0,a[h-1].pop())\n",
    "                \n",
    "res = 0\n",
    "s = 0\n",
    "e = n-1\n",
    "\n",
    "for i in range(n):\n",
    "    for j in range(s,e+1):\n",
    "        res += a[i][j]\n",
    "        \n",
    "        if i < n//2:\n",
    "            s += 1\n",
    "            e -= 1\n",
    "        else:\n",
    "            s -= 1\n",
    "            e += 1\n",
    "print(res)\n",
    "            "
   ]
  }
 ],
 "metadata": {
  "kernelspec": {
   "display_name": "Python 3",
   "language": "python",
   "name": "python3"
  },
  "language_info": {
   "codemirror_mode": {
    "name": "ipython",
    "version": 3
   },
   "file_extension": ".py",
   "mimetype": "text/x-python",
   "name": "python",
   "nbconvert_exporter": "python",
   "pygments_lexer": "ipython3",
   "version": "3.8.5"
  }
 },
 "nbformat": 4,
 "nbformat_minor": 5
}
