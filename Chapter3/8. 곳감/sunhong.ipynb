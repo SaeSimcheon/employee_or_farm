{
 "cells": [
  {
   "cell_type": "code",
   "execution_count": null,
   "id": "accepting-bleeding",
   "metadata": {},
   "outputs": [],
   "source": [
    "%%timeit\n",
    "\n",
    "import sys\n",
    "sys.stdin=open(\"in1.txt\",\"r\")\n",
    "n=int(sys.stdin.readline())\n",
    "base=[list(map(int,sys.stdin.readline().split()))for _ in range(n)]\n",
    "m=int(sys.stdin.readline())\n",
    "sett=[list(map(int,sys.stdin.readline().split()))for _ in range(m)]\n",
    "\n",
    "def gotgam(base,a,b,c):\n",
    "    x=base[a-1]\n",
    "    if b==0:\n",
    "        for i in range(c):\n",
    "            x0=x[0]\n",
    "            x.pop(0)\n",
    "            x.append(x0)\n",
    "        base[a-1]=x\n",
    "        return base\n",
    "    else:\n",
    "        for i in range(c):\n",
    "            x0=[x[-1]]\n",
    "            x.pop()\n",
    "            x=x0+x\n",
    "        base[a-1]=x\n",
    "        return base\n",
    "\n",
    "for a,b,c in sett:\n",
    "    base=gotgam(base,a,b,c)\n",
    "\n",
    "gotgam_sum=0\n",
    "\n",
    "med=int((n-1)/2)\n",
    "\n",
    "for i,x in enumerate(base):\n",
    "    if i<=med:\n",
    "        gotgam_sum+=sum(x[med-n//2+i:med+n//2-i+1])\n",
    "    else:\n",
    "        gotgam_sum+=sum(x[med-n//2+(n-1-i):med+n//2-(n-1-i)+1])\n",
    "\n",
    "print(gotgam_sum)\n"
   ]
  },
  {
   "cell_type": "markdown",
   "id": "fifth-spiritual",
   "metadata": {},
   "source": [
    "295 µs ± 14.4 µs per loop (mean ± std. dev. of 7 runs, 1000 loops each)"
   ]
  },
  {
   "cell_type": "markdown",
   "id": "strategic-subdivision",
   "metadata": {},
   "source": [
    "### 답지"
   ]
  },
  {
   "cell_type": "code",
   "execution_count": null,
   "id": "departmental-brisbane",
   "metadata": {},
   "outputs": [],
   "source": [
    "%%timeit\n",
    "import sys\n",
    "sys.stdin=open(\"in1.txt\",\"r\")\n",
    "n=int(sys.stdin.readline())\n",
    "a=[list(map(int,sys.stdin.readline().split()))for _ in range(n)]\n",
    "m=int(sys.stdin.readline())\n",
    "# sett=[list(map(int,sys.stdin.readline().split()))for _ in range(m)]\n",
    "\n",
    "for i in range(m):\n",
    "    h, t, k=map(int, sys.stdin.readline().split())\n",
    "    if(t==0):\n",
    "        for _ in range(k):\n",
    "            a[h-1].append(a[h-1].pop(0))\n",
    "    else:\n",
    "        for _ in range(k):\n",
    "            a[h-1].insert(0, a[h-1].pop())\n",
    "\n",
    "res=0\n",
    "s=0\n",
    "e=n-1\n",
    "for i in range(n):\n",
    "    for j in range(s, e+1):\n",
    "        res+=a[i][j]\n",
    "    if i<n//2:\n",
    "        s+=1\n",
    "        e-=1\n",
    "    else:\n",
    "        s-=1\n",
    "        e+=1\n",
    "print(res)"
   ]
  },
  {
   "cell_type": "markdown",
   "id": "dimensional-suspect",
   "metadata": {},
   "source": [
    "285 µs ± 14.8 µs per loop (mean ± std. dev. of 7 runs, 1000 loops each)"
   ]
  }
 ],
 "metadata": {
  "kernelspec": {
   "display_name": "Python 3",
   "language": "python",
   "name": "python3"
  },
  "language_info": {
   "codemirror_mode": {
    "name": "ipython",
    "version": 3
   },
   "file_extension": ".py",
   "mimetype": "text/x-python",
   "name": "python",
   "nbconvert_exporter": "python",
   "pygments_lexer": "ipython3",
   "version": "3.7.10"
  }
 },
 "nbformat": 4,
 "nbformat_minor": 5
}
