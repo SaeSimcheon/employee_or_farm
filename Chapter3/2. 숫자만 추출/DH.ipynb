{
 "cells": [
  {
   "cell_type": "markdown",
   "id": "nearby-spirituality",
   "metadata": {},
   "source": [
    "## 숫자만 추출"
   ]
  },
  {
   "cell_type": "code",
   "execution_count": 6,
   "id": "brazilian-crystal",
   "metadata": {},
   "outputs": [
    {
     "name": "stdout",
     "output_type": "stream",
     "text": [
      "1000\n",
      "16\n",
      "1000\n",
      "16\n",
      "102\n",
      "8\n",
      "102\n",
      "8\n",
      "12\n",
      "6\n",
      "12\n",
      "6\n",
      "120\n",
      "16\n",
      "120\n",
      "16\n",
      "134520\n",
      "64\n",
      "134520\n",
      "64\n"
     ]
    }
   ],
   "source": [
    "import sys\n",
    "for num in range(1,6):\n",
    "    sys.stdin = open(\"in{}.txt\".format(num),\"r\")\n",
    "    ans = open(\"out{}.txt\".format(num),\"r\")\n",
    "\n",
    "    def find(x):\n",
    "        A = \"\"\n",
    "        while x:\n",
    "            s = x.pop(0)\n",
    "            if s.isdigit():\n",
    "                A += s\n",
    "        return int(A) \n",
    "\n",
    "    def n_(x):\n",
    "        ANS = 2\n",
    "        for i in range(2,x):\n",
    "            if x % i == 0:\n",
    "                ANS +=1\n",
    "        return ANS\n",
    "\n",
    "    L = list(sys.stdin.readline())\n",
    "\n",
    "    A = find(L)\n",
    "    B = n_(A)\n",
    "\n",
    "    print(A,B,sep = \"\\n\")\n",
    "    print(ans.read())\n"
   ]
  },
  {
   "cell_type": "markdown",
   "id": "confirmed-engineer",
   "metadata": {},
   "source": [
    "1. isdigit"
   ]
  },
  {
   "cell_type": "code",
   "execution_count": 7,
   "id": "vocal-activity",
   "metadata": {},
   "outputs": [
    {
     "name": "stdout",
     "output_type": "stream",
     "text": [
      "8.07 ms ± 89.6 µs per loop (mean ± std. dev. of 7 runs, 100 loops each)\n"
     ]
    }
   ],
   "source": [
    "%%timeit\n",
    "import sys\n",
    "for num in range(1,6):\n",
    "    sys.stdin = open(\"in{}.txt\".format(num),\"r\")\n",
    "    ans = open(\"out{}.txt\".format(num),\"r\")\n",
    "\n",
    "    def find(x):\n",
    "        A = \"\"\n",
    "        while x:\n",
    "            s = x.pop(0)\n",
    "            if s.isdigit():\n",
    "                A += s\n",
    "        return int(A) \n",
    "\n",
    "    def n_(x):\n",
    "        ANS = 2\n",
    "        for i in range(2,x):\n",
    "            if x % i == 0:\n",
    "                ANS +=1\n",
    "        return ANS\n",
    "\n",
    "    L = list(sys.stdin.readline())\n",
    "\n",
    "    A = find(L)\n",
    "    B = n_(A)\n",
    "\n",
    "#    print(A,B,sep = \"\\n\")\n",
    "#    print(ans.read())"
   ]
  },
  {
   "cell_type": "markdown",
   "id": "earned-excellence",
   "metadata": {},
   "source": [
    "정답\n",
    "\n",
    "1. isdecimal  0~9만 찾기\n"
   ]
  },
  {
   "cell_type": "code",
   "execution_count": 10,
   "id": "recorded-berlin",
   "metadata": {},
   "outputs": [
    {
     "name": "stdout",
     "output_type": "stream",
     "text": [
      "1000\n",
      "16\n"
     ]
    }
   ],
   "source": [
    "import sys\n",
    "\n",
    "sys.stdin = open(\"in1.txt\",\"r\")\n",
    "\n",
    "s = sys.stdin.readline()\n",
    "res = 0\n",
    "for x in s:\n",
    "    if x.isdecimal():\n",
    "        res = res*10 + int(x)\n",
    "print(res)\n",
    "cnt = 0\n",
    "for i in range(1, res+1):\n",
    "    if res%i ==0 :\n",
    "        cnt += 1\n",
    "print(cnt)"
   ]
  }
 ],
 "metadata": {
  "kernelspec": {
   "display_name": "Python 3",
   "language": "python",
   "name": "python3"
  },
  "language_info": {
   "codemirror_mode": {
    "name": "ipython",
    "version": 3
   },
   "file_extension": ".py",
   "mimetype": "text/x-python",
   "name": "python",
   "nbconvert_exporter": "python",
   "pygments_lexer": "ipython3",
   "version": "3.8.5"
  }
 },
 "nbformat": 4,
 "nbformat_minor": 5
}
