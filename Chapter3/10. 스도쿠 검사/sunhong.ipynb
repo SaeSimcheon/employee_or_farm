{
 "cells": [
  {
   "cell_type": "code",
   "execution_count": null,
   "id": "sized-professor",
   "metadata": {},
   "outputs": [],
   "source": [
    "%%timeit\n",
    "\n",
    "import sys\n",
    "sys.stdin=open(\"in1.txt\",\"rt\")\n",
    "base=[list(map(int,sys.stdin.readline().split())) for _ in range(9)]\n",
    "base_t=list(map(list, zip(*base)))\n",
    "a1=[]\n",
    "a2=[]\n",
    "a3=[]\n",
    "a4=[]\n",
    "a5=[]\n",
    "a6=[]\n",
    "a7=[]\n",
    "a8=[]\n",
    "a9=[]\n",
    "for i,x in enumerate(base):\n",
    "    if i<3:\n",
    "        a1.extend(x[slice(0,3)])\n",
    "        a2.extend(x[slice(3,6)])\n",
    "        a3.extend(x[slice(6,9)])\n",
    "    elif i<6:\n",
    "        a4.extend(x[slice(0,3)])\n",
    "        a5.extend(x[slice(3,6)])\n",
    "        a6.extend(x[slice(6,9)])\n",
    "    else:\n",
    "        a7.extend(x[slice(0,3)])\n",
    "        a8.extend(x[slice(3,6)])\n",
    "        a9.extend(x[slice(6,9)])\n",
    "\n",
    "a=[a1,a2,a3,a4,a5,a6,a7,a8,a9]\n",
    "\n",
    "\n",
    "def sudoku(d):\n",
    "    s=0\n",
    "    sbal=list(range(1,10))\n",
    "    for x in d:\n",
    "    \tif list(set(x))==sbal:\n",
    "    \t\ts+=1\n",
    "    return s\n",
    "\n",
    "if sudoku(a)+sudoku(base)+sudoku(base_t)==27:\n",
    "    print(\"YES\")\n",
    "else:\n",
    "    print(\"NO\")"
   ]
  },
  {
   "cell_type": "markdown",
   "id": "southwest-anger",
   "metadata": {},
   "source": [
    "338 µs ± 18.2 µs per loop (mean ± std. dev. of 7 runs, 1000 loops each)"
   ]
  },
  {
   "cell_type": "markdown",
   "id": "patient-framing",
   "metadata": {},
   "source": [
    "### 답지"
   ]
  },
  {
   "cell_type": "code",
   "execution_count": null,
   "id": "enhanced-florist",
   "metadata": {},
   "outputs": [],
   "source": [
    "%%timeit\n",
    "import sys\n",
    "sys.stdin=open(\"in1.txt\", \"r\")\n",
    "def check(a):\n",
    "    for i in range(9):\n",
    "        ch1=[0]*10\n",
    "        ch2=[0]*10\n",
    "        for j in range(9):\n",
    "            ch1[a[i][j]]=1\n",
    "            ch2[a[j][i]]=1\n",
    "        if sum(ch1)!=9 or sum(ch2)!=9:\n",
    "            return False\n",
    "    for i in range(3):\n",
    "        for j in range(3):\n",
    "            ch3=[0]*10\n",
    "            for k in range(3):\n",
    "                for s in range(3):\n",
    "                    ch3[a[i*3+k][j*3+s]]=1\n",
    "            if sum(ch3)!=9:\n",
    "                return False\n",
    "    return True\n",
    "\n",
    "a=[list(map(int, sys.stdin.readline().split())) for _ in range(9)]\n",
    "if check(a):\n",
    "    print(\"YES\")\n",
    "else:\n",
    "    print(\"NO\")"
   ]
  },
  {
   "cell_type": "markdown",
   "id": "smart-ebony",
   "metadata": {},
   "source": [
    "334 µs ± 18.3 µs per loop (mean ± std. dev. of 7 runs, 1000 loops each)"
   ]
  }
 ],
 "metadata": {
  "kernelspec": {
   "display_name": "Python 3",
   "language": "python",
   "name": "python3"
  },
  "language_info": {
   "codemirror_mode": {
    "name": "ipython",
    "version": 3
   },
   "file_extension": ".py",
   "mimetype": "text/x-python",
   "name": "python",
   "nbconvert_exporter": "python",
   "pygments_lexer": "ipython3",
   "version": "3.7.10"
  }
 },
 "nbformat": 4,
 "nbformat_minor": 5
}
