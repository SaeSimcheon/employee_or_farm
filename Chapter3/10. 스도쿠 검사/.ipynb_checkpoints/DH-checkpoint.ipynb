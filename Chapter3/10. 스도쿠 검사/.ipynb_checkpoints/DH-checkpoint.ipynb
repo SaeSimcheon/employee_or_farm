{
 "cells": [
  {
   "cell_type": "markdown",
   "id": "established-patch",
   "metadata": {},
   "source": [
    "## 스도쿠"
   ]
  },
  {
   "cell_type": "code",
   "execution_count": 3,
   "id": "recognized-rolling",
   "metadata": {},
   "outputs": [
    {
     "name": "stdout",
     "output_type": "stream",
     "text": [
      "NO       NO\n",
      "NO       NO\n",
      "\n",
      "YES       YES\n",
      "\n",
      "YES       YES\n",
      "\n",
      "NO       NO\n",
      "\n",
      "\n"
     ]
    }
   ],
   "source": [
    "import sys\n",
    "\n",
    "for num in range(1,6):\n",
    "    sys.stdin = open(\"in{}.txt\".format(num), 'r')\n",
    "    ans_ = open(\"out{}.txt\".format(num), 'r')\n",
    "\n",
    "    arr = [list(map(int,sys.stdin.readline().split())) for i in range(9)]\n",
    "\n",
    "\n",
    "    def check(arr):\n",
    "\n",
    "        for i in arr:\n",
    "            if len(set(i)) != 9:\n",
    "                return False\n",
    "\n",
    "        else:\n",
    "            return True\n",
    "\n",
    "    def check_s(arr):\n",
    "\n",
    "        for r in range(0,3):\n",
    "            A = []\n",
    "            for c in range(0,3):\n",
    "                A += arr[r*3][c*3:c*3+3]\n",
    "                A += arr[r*3+1][c*3:c*3+3]\n",
    "                A += arr[r*3+2][c*3:c*3+3]\n",
    "\n",
    "                if len(set(A)) != 9:\n",
    "                    return False\n",
    "            else :\n",
    "                return True\n",
    "\n",
    "    arr1 = list(map(list,zip(*arr)))\n",
    "\n",
    "    if all([check(arr),check(arr1),check_s(arr)]):\n",
    "        print(\"YES\",ans_.read(),sep = \"       \")\n",
    "    else:\n",
    "        print(\"NO\",ans_.read(),sep = \"       \")\n",
    "\n"
   ]
  },
  {
   "cell_type": "markdown",
   "id": "framed-pioneer",
   "metadata": {},
   "source": [
    "1. 격자 체크하는 함수 [3x3]\n",
    "2. 열 체크 함수"
   ]
  },
  {
   "cell_type": "code",
   "execution_count": 5,
   "id": "checked-vocabulary",
   "metadata": {},
   "outputs": [
    {
     "name": "stdout",
     "output_type": "stream",
     "text": [
      "885 µs ± 12.4 µs per loop (mean ± std. dev. of 7 runs, 1000 loops each)\n"
     ]
    }
   ],
   "source": [
    "%%timeit\n",
    "import sys\n",
    "\n",
    "for num in range(1,6):\n",
    "    sys.stdin = open(\"in{}.txt\".format(num), 'r')\n",
    "    ans_ = open(\"out{}.txt\".format(num), 'r')\n",
    "\n",
    "    arr = [list(map(int,sys.stdin.readline().split())) for i in range(9)]\n",
    "\n",
    "\n",
    "    def check(arr):\n",
    "\n",
    "        for i in arr:\n",
    "            if len(set(i)) != 9:\n",
    "                return False\n",
    "\n",
    "        else:\n",
    "            return True\n",
    "\n",
    "    def check_s(arr):\n",
    "\n",
    "        for r in range(0,3):\n",
    "            A = []\n",
    "            for c in range(0,3):\n",
    "                A += arr[r*3][c*3:c*3+3]\n",
    "                A += arr[r*3+1][c*3:c*3+3]\n",
    "                A += arr[r*3+2][c*3:c*3+3]\n",
    "\n",
    "                if len(set(A)) != 9:\n",
    "                    return False\n",
    "            else :\n",
    "                return True\n",
    "\n",
    "    arr1 = list(map(list,zip(*arr)))\n",
    "\n",
    "    if all([check(arr),check(arr1),check_s(arr)]):\n",
    "        llll = 0\n",
    "#        print(\"YES\",ans_.read(),sep = \"       \")\n",
    "    else:\n",
    "        llll = 0\n",
    "#        print(\"NO\",ans_.read(),sep = \"       \")\n",
    "\n"
   ]
  },
  {
   "cell_type": "markdown",
   "id": "agricultural-costume",
   "metadata": {},
   "source": [
    "정답"
   ]
  },
  {
   "cell_type": "code",
   "execution_count": 7,
   "id": "wrong-compound",
   "metadata": {},
   "outputs": [
    {
     "name": "stdout",
     "output_type": "stream",
     "text": [
      "NO\n"
     ]
    }
   ],
   "source": [
    "import sys\n",
    "\n",
    "sys.stdin = open(\"in1.txt\".format(num), 'r')\n",
    "\n",
    "def check(a):\n",
    "    for i in range(9):\n",
    "        ch1 = [0] * 10\n",
    "        ch2 = [0] * 10\n",
    "        \n",
    "        for j in range(9):\n",
    "            ch1[a[i][j]] = 1\n",
    "            ch1[a[j][i]] = 1\n",
    "        \n",
    "        if sum(ch1) != 9 or sum(ch2) != 9:\n",
    "            return False\n",
    "        \n",
    "    for i in range(3):\n",
    "        for j in range(3):\n",
    "            ch3 = [0] * 10\n",
    "            \n",
    "            for k in range(3):\n",
    "                for s in range(3):\n",
    "                    ch3[a[i*3+k][j*3+s]] = 1\n",
    "                if sum(ch3) != 9:\n",
    "                    return False\n",
    "                \n",
    "    return True\n",
    "\n",
    "arr = [list(map(int,sys.stdin.readline().split())) for i in range(9)]\n",
    "\n",
    "if check(arr):\n",
    "    print(\"YES\")\n",
    "else: \n",
    "    print(\"NO\")\n",
    "\n",
    "\n"
   ]
  }
 ],
 "metadata": {
  "kernelspec": {
   "display_name": "Python 3",
   "language": "python",
   "name": "python3"
  },
  "language_info": {
   "codemirror_mode": {
    "name": "ipython",
    "version": 3
   },
   "file_extension": ".py",
   "mimetype": "text/x-python",
   "name": "python",
   "nbconvert_exporter": "python",
   "pygments_lexer": "ipython3",
   "version": "3.8.5"
  }
 },
 "nbformat": 4,
 "nbformat_minor": 5
}
