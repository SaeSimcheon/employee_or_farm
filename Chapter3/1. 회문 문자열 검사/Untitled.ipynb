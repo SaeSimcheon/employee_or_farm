{
 "cells": [
  {
   "cell_type": "markdown",
   "metadata": {},
   "source": [
    "# cht3_1"
   ]
  },
  {
   "cell_type": "code",
   "execution_count": 59,
   "metadata": {},
   "outputs": [],
   "source": [
    "import sys\n",
    "sys.stdin = open(\"cht3_1_input.txt\",\"rt\")\n",
    "n = int(sys.stdin.readline())"
   ]
  },
  {
   "cell_type": "code",
   "execution_count": 60,
   "metadata": {},
   "outputs": [
    {
     "name": "stdout",
     "output_type": "stream",
     "text": [
      "#1 YES\n",
      "#2 NO\n",
      "#3 YES\n",
      "#4 NO\n",
      "#5 YES\n",
      "Wall time: 0 ns\n"
     ]
    }
   ],
   "source": [
    "%%time\n",
    "for i in range(n):\n",
    "    one_man=list(sys.stdin.readline().rstrip('\\n').lower())\n",
    "    if one_man == one_man[::-1] :\n",
    "        print(\"#{0} YES\".format(i+1))\n",
    "    else : \n",
    "        print(\"#{0} NO\".format(i+1))\n"
   ]
  },
  {
   "cell_type": "markdown",
   "metadata": {},
   "source": [
    "- list를 string에 그냥 적용하는 것만으로 character로 쪼갤 수 있음\n",
    "- 모두 소문자로 전환\n",
    "- list 간의 비교는 == 만으로 가능하다\n",
    "- format 사용\n",
    "- cht2때 배운 ::-1사용해봄"
   ]
  },
  {
   "cell_type": "markdown",
   "metadata": {},
   "source": [
    "# Cht3_2"
   ]
  },
  {
   "cell_type": "markdown",
   "metadata": {},
   "source": [
    "![img1](https://user-images.githubusercontent.com/49121293/113656222-606f3280-96d6-11eb-9d6c-e19132c12b3c.png)"
   ]
  },
  {
   "cell_type": "code",
   "execution_count": 136,
   "metadata": {},
   "outputs": [],
   "source": [
    "import sys\n",
    "sys.stdin = open(\"cht3_2_input.txt\",\"rt\")\n",
    "obj = sys.stdin.readline()"
   ]
  },
  {
   "cell_type": "code",
   "execution_count": 137,
   "metadata": {},
   "outputs": [
    {
     "name": "stdout",
     "output_type": "stream",
     "text": [
      "Wall time: 0 ns\n"
     ]
    }
   ],
   "source": [
    "%%time\n",
    "obj_=list(map(ord,obj))\n",
    "obj_ = [obj[idx] for idx ,val in enumerate(obj_) if val <=57]"
   ]
  },
  {
   "cell_type": "code",
   "execution_count": 138,
   "metadata": {},
   "outputs": [
    {
     "name": "stdout",
     "output_type": "stream",
     "text": [
      "28\n",
      "Wall time: 0 ns\n"
     ]
    }
   ],
   "source": [
    "%%time\n",
    "obj_=\"\".join(obj_)\n",
    "print(int(obj_))"
   ]
  },
  {
   "cell_type": "code",
   "execution_count": 139,
   "metadata": {},
   "outputs": [
    {
     "name": "stdout",
     "output_type": "stream",
     "text": [
      "6\n",
      "Wall time: 0 ns\n"
     ]
    }
   ],
   "source": [
    "%%time\n",
    "check=[int(obj_) % i==0 for i in range(1,int(obj_)+1) ]\n",
    "#print(check)\n",
    "print(sum(check))"
   ]
  },
  {
   "cell_type": "markdown",
   "metadata": {},
   "source": [
    "- 아스키 코드를 활용하여 정수만 선택\n",
    "- 이때, list comprehension과 enumerate사용\n",
    "- int함수를 통한 int to string 에서 / 앞에 0이 오는 경우 무시하고 0이 아닌 수부터 시작\n",
    "- 약수의 개수를 구하는 가장 좋은 방법은 무엇일까?"
   ]
  },
  {
   "cell_type": "markdown",
   "metadata": {},
   "source": [
    "# Cht3_3"
   ]
  },
  {
   "cell_type": "code",
   "execution_count": 190,
   "metadata": {},
   "outputs": [],
   "source": [
    "import sys\n",
    "sys.stdin = open(\"cht3_3_input.txt\",\"rt\")"
   ]
  },
  {
   "cell_type": "code",
   "execution_count": 191,
   "metadata": {},
   "outputs": [
    {
     "name": "stdout",
     "output_type": "stream",
     "text": [
      "1 2 3 4 10 9 8 7 13 12 11 5 6 14 15 16 17 18 19 20\n",
      "Wall time: 0 ns\n"
     ]
    }
   ],
   "source": [
    "%%time\n",
    "sorted_cards  = list(range(1,21))\n",
    "\n",
    "for i in range(10):\n",
    "    interval = list(map(int,sys.stdin.readline().rstrip('\\n').split()))\n",
    "    sliced=sorted_cards[(interval[0]-1):interval[1]][::-1]\n",
    "    sorted_cards[(interval[0]-1):interval[1]] = sliced\n",
    "\n",
    "    \n",
    "print(*sorted_cards)"
   ]
  },
  {
   "cell_type": "markdown",
   "metadata": {},
   "source": [
    "# Cht3_4"
   ]
  },
  {
   "cell_type": "code",
   "execution_count": 206,
   "metadata": {},
   "outputs": [],
   "source": [
    "import sys\n",
    "sys.stdin = open(\"cht3_4_input.txt\",\"rt\")"
   ]
  },
  {
   "cell_type": "code",
   "execution_count": 207,
   "metadata": {},
   "outputs": [],
   "source": [
    "\n",
    "n1 = int(sys.stdin.readline())\n",
    "list1 = list(map(int,sys.stdin.readline().rstrip('\\n').split()))\n",
    "n2 = int(sys.stdin.readline())\n",
    "list2 = list(map(int,sys.stdin.readline().rstrip('\\n').split()))\n"
   ]
  },
  {
   "cell_type": "code",
   "execution_count": 208,
   "metadata": {},
   "outputs": [
    {
     "name": "stdout",
     "output_type": "stream",
     "text": [
      "[1, 2, 3, 3, 5, 6, 7, 9]\n",
      "Wall time: 0 ns\n"
     ]
    }
   ],
   "source": [
    "%%time\n",
    "list1.extend(list2)\n",
    "list1.sort()\n",
    "print(list1)"
   ]
  },
  {
   "cell_type": "markdown",
   "metadata": {},
   "source": [
    "- 중복을 없앨 필요도 없고 그냥 두 개 리스트 합칠 방법만 생각하면 됐었음.\n",
    "- 1개 list를 확장하는 방법으로, 구체적으로 extend를 통하여 두 개 리스트를 하나로 만들어 주었고,\n",
    "- sort로 정렬"
   ]
  },
  {
   "cell_type": "markdown",
   "metadata": {},
   "source": [
    "# Cht3_5"
   ]
  },
  {
   "cell_type": "code",
   "execution_count": 216,
   "metadata": {},
   "outputs": [],
   "source": [
    "import sys\n",
    "sys.stdin = open(\"cht3_5_input.txt\",\"rt\")"
   ]
  },
  {
   "cell_type": "code",
   "execution_count": 217,
   "metadata": {},
   "outputs": [],
   "source": [
    "indicator = list(map(int,sys.stdin.readline().rstrip('\\n').split()))\n",
    "seq = list(map(int,sys.stdin.readline().rstrip('\\n').split()))"
   ]
  },
  {
   "cell_type": "code",
   "execution_count": 218,
   "metadata": {},
   "outputs": [
    {
     "name": "stdout",
     "output_type": "stream",
     "text": [
      "5\n",
      "Wall time: 0 ns\n"
     ]
    }
   ],
   "source": [
    "%%time\n",
    "sum_seq = list()\n",
    "#double list comprhension을 통하여 sub sequence의 길이에\n",
    "#따른 모든 경우의 수에 대해서 합을 구함.\n",
    "#indicator에 첫째줄 input을 list형태로 할당\n",
    "\n",
    "sum_seq=[sum(seq[x:(x+i)]) for i in range(1,indicator[0]) for x in range(indicator[0]-i+1)]\n",
    "\n",
    "\n",
    "# 이후 checker라는 함수를 만들어서 M과 동일한지에 따라 boolean을 반환\n",
    "# list 와 map을 활용\n",
    "\n",
    "def checker(element):\n",
    "    return element == indicator[1]\n",
    "\n",
    "out=list(map(checker,sum_seq))\n",
    "print(sum(out))"
   ]
  },
  {
   "cell_type": "markdown",
   "metadata": {},
   "source": [
    "### list 길이가 길어지니까 time over가 떠버림"
   ]
  },
  {
   "cell_type": "markdown",
   "metadata": {},
   "source": [
    "![image](https://user-images.githubusercontent.com/49121293/113663371-df6b6780-96e4-11eb-9802-b76000113734.png)"
   ]
  },
  {
   "cell_type": "markdown",
   "metadata": {},
   "source": [
    "![image](https://user-images.githubusercontent.com/49121293/113664713-36723c00-96e7-11eb-9e2e-15fb760b2bfb.png)\n",
    "\n",
    "\n",
    "### case 4의 경우를 직접 돌려봄 (길이 10000)"
   ]
  },
  {
   "cell_type": "code",
   "execution_count": null,
   "metadata": {},
   "outputs": [],
   "source": []
  },
  {
   "cell_type": "code",
   "execution_count": null,
   "metadata": {},
   "outputs": [],
   "source": []
  },
  {
   "cell_type": "markdown",
   "metadata": {},
   "source": [
    "# Cht3_6"
   ]
  },
  {
   "cell_type": "code",
   "execution_count": 240,
   "metadata": {},
   "outputs": [],
   "source": [
    "import sys\n",
    "sys.stdin = open(\"cht3_6_input.txt\",\"rt\")"
   ]
  },
  {
   "cell_type": "code",
   "execution_count": 241,
   "metadata": {},
   "outputs": [],
   "source": [
    "indicator = int(sys.stdin.readline().rstrip('\\n'))"
   ]
  },
  {
   "cell_type": "code",
   "execution_count": 242,
   "metadata": {},
   "outputs": [],
   "source": [
    "matrix = list()\n",
    "for i in range(indicator):\n",
    "    matrix.append(list(map(int,sys.stdin.readline().rstrip('\\n').split())))\n"
   ]
  },
  {
   "cell_type": "code",
   "execution_count": 245,
   "metadata": {},
   "outputs": [
    {
     "name": "stdout",
     "output_type": "stream",
     "text": [
      "Wall time: 0 ns\n"
     ]
    }
   ],
   "source": [
    "%%time\n",
    "row_sum=list(map(sum, matrix))\n",
    "col_sum=list(map(sum,zip(*matrix)))"
   ]
  },
  {
   "cell_type": "code",
   "execution_count": 246,
   "metadata": {},
   "outputs": [
    {
     "name": "stdout",
     "output_type": "stream",
     "text": [
      "Wall time: 0 ns\n"
     ]
    }
   ],
   "source": [
    "%%time\n",
    "diag_sum = 0\n",
    "inv_diag_sum = 0\n",
    "for idx, part in enumerate(matrix):\n",
    "    diag_sum+=part[idx]\n",
    "    inv_diag_sum +=part[indicator-idx-1]\n"
   ]
  }
 ],
 "metadata": {
  "kernelspec": {
   "display_name": "Python 3",
   "language": "python",
   "name": "python3"
  },
  "language_info": {
   "codemirror_mode": {
    "name": "ipython",
    "version": 3
   },
   "file_extension": ".py",
   "mimetype": "text/x-python",
   "name": "python",
   "nbconvert_exporter": "python",
   "pygments_lexer": "ipython3",
   "version": "3.8.5"
  }
 },
 "nbformat": 4,
 "nbformat_minor": 4
}
