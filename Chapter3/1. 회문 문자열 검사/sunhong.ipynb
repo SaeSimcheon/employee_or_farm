{
 "cells": [
  {
   "cell_type": "code",
   "execution_count": null,
   "metadata": {},
   "outputs": [],
   "source": [
    "%%timeit\n",
    "\n",
    "import sys\n",
    "sys.stdin=open(\"in1.txt\",\"r\")\n",
    "n=int(sys.stdin.readline())\n",
    "for i in range(n):\n",
    "    x=sys.stdin.readline()\n",
    "    if x.upper()==x[::-1].upper():\n",
    "        print(\"#%d YES\" %(i+1))\n",
    "    else:\n",
    "        print(\"#%d NO\" %(i+1))"
   ]
  },
  {
   "cell_type": "markdown",
   "metadata": {},
   "source": [
    "618 µs ± 26.6 µs per loop (mean ± std. dev. of 7 runs, 1000 loops each)"
   ]
  },
  {
   "cell_type": "markdown",
   "metadata": {},
   "source": [
    "### 답지"
   ]
  },
  {
   "cell_type": "code",
   "execution_count": null,
   "metadata": {},
   "outputs": [],
   "source": [
    "%%timeit\n",
    "import sys\n",
    "sys.stdin=open(\"in1.txt\", \"r\")\n",
    "n=int(sys.stdin.readline())\n",
    "for i in range(1, n+1):\n",
    "    str=sys.stdin.readline()\n",
    "    str=str.upper()\n",
    "    for j in range(len(str)//2):\n",
    "        if str[j]!=str[-1-j]:\n",
    "            print(\"#%d NO\" %i)\n",
    "            break\n",
    "    else:\n",
    "        print(\"#%d YES\" %i)"
   ]
  },
  {
   "cell_type": "markdown",
   "metadata": {},
   "source": [
    "630 µs ± 29.9 µs per loop (mean ± std. dev. of 7 runs, 1000 loops each)"
   ]
  },
  {
   "cell_type": "code",
   "execution_count": null,
   "metadata": {},
   "outputs": [],
   "source": [
    "%%timeit\n",
    "import sys\n",
    "sys.stdin=open(\"in1.txt\", \"r\")\n",
    "n=int(sys.stdin.readline())\n",
    "for i in range(n):\n",
    "    str=sys.stdin.readline()\n",
    "    str=str.upper()\n",
    "    if str==str[::-1]:\n",
    "        print(\"#%d YES\" %i)\n",
    "    else:\n",
    "        print(\"#%d NO\" %i)"
   ]
  },
  {
   "cell_type": "markdown",
   "metadata": {},
   "source": [
    "589 µs ± 14.6 µs per loop (mean ± std. dev. of 7 runs, 1000 loops each)"
   ]
  }
 ],
 "metadata": {
  "kernelspec": {
   "display_name": "Python 3",
   "language": "python",
   "name": "python3"
  },
  "language_info": {
   "codemirror_mode": {
    "name": "ipython",
    "version": 3
   },
   "file_extension": ".py",
   "mimetype": "text/x-python",
   "name": "python",
   "nbconvert_exporter": "python",
   "pygments_lexer": "ipython3",
   "version": "3.6.10"
  }
 },
 "nbformat": 4,
 "nbformat_minor": 4
}
