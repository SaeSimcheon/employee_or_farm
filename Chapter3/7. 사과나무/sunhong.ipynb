{
 "cells": [
  {
   "cell_type": "code",
   "execution_count": null,
   "id": "harmful-wings",
   "metadata": {},
   "outputs": [],
   "source": [
    "%%timeit\n",
    "\n",
    "import sys\n",
    "sys.stdin=open(\"in1.txt\",\"r\")\n",
    "n=int(sys.stdin.readline())\n",
    "base=[list(map(int,sys.stdin.readline().split()))for _ in range(n)]\n",
    "base_t=list(map(list, zip(*base)))\n",
    "med=int((n-1)/2)\n",
    "diamond_sum=0\n",
    "for i,x in enumerate(base):\n",
    "    if i<=med:\n",
    "        diamond_sum+=sum(x[med-i:med+i+1])\n",
    "    else:\n",
    "        diamond_sum+=sum(x[med-(n-1-i):med-(n-1-i)+1])\n",
    "\n",
    "print(diamond_sum)\n"
   ]
  },
  {
   "cell_type": "markdown",
   "id": "global-pound",
   "metadata": {},
   "source": [
    "277 µs ± 5.73 µs per loop (mean ± std. dev. of 7 runs, 1000 loops each)"
   ]
  },
  {
   "cell_type": "markdown",
   "id": "massive-booking",
   "metadata": {},
   "source": [
    "### 답지"
   ]
  },
  {
   "cell_type": "code",
   "execution_count": null,
   "id": "static-mortgage",
   "metadata": {},
   "outputs": [],
   "source": [
    "%%timeit\n",
    "import sys\n",
    "sys.stdin=open(\"in1.txt\",\"r\")\n",
    "n=int(sys.stdin.readline())\n",
    "a=[list(map(int,sys.stdin.readline().split()))for _ in range(n)]\n",
    "\n",
    "res=0\n",
    "s=e=n//2\n",
    "for i in range(n):\n",
    "    for j in range(s, e+1):\n",
    "        res+=a[i][j]\n",
    "    if i<n//2:\n",
    "        s-=1\n",
    "        e+=1\n",
    "    else:\n",
    "        s+=1\n",
    "        e-=1\n",
    "print(res)"
   ]
  },
  {
   "cell_type": "markdown",
   "id": "ongoing-highway",
   "metadata": {},
   "source": [
    "294 µs ± 18.8 µs per loop (mean ± std. dev. of 7 runs, 1000 loops each)"
   ]
  }
 ],
 "metadata": {
  "kernelspec": {
   "display_name": "Python 3",
   "language": "python",
   "name": "python3"
  },
  "language_info": {
   "codemirror_mode": {
    "name": "ipython",
    "version": 3
   },
   "file_extension": ".py",
   "mimetype": "text/x-python",
   "name": "python",
   "nbconvert_exporter": "python",
   "pygments_lexer": "ipython3",
   "version": "3.7.10"
  }
 },
 "nbformat": 4,
 "nbformat_minor": 5
}
