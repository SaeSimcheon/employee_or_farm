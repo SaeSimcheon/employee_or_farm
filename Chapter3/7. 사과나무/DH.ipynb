{
 "cells": [
  {
   "cell_type": "markdown",
   "id": "abandoned-jerusalem",
   "metadata": {},
   "source": [
    "## 사과나무"
   ]
  },
  {
   "cell_type": "code",
   "execution_count": 5,
   "id": "dedicated-advice",
   "metadata": {},
   "outputs": [
    {
     "name": "stdout",
     "output_type": "stream",
     "text": [
      "1049           1049\n",
      "1991           1991\n",
      "4111           4111\n",
      "5226           5226\n",
      "6932           6932\n"
     ]
    }
   ],
   "source": [
    "import sys\n",
    "\n",
    "for num in range(1,6):\n",
    "    sys.stdin = open(\"in{}.txt\".format(num), 'r')\n",
    "    ans = open(\"out{}.txt\".format(num),\"r\")\n",
    "\n",
    "    N = int(sys.stdin.readline())\n",
    "    M = [list(map(int,sys.stdin.readline().split())) for i in range(N)]\n",
    "\n",
    "\n",
    "    Mid = N//2\n",
    "\n",
    "    i = 0\n",
    "    ANS = M[Mid]\n",
    "    while Mid > i:\n",
    "        ANS += M[i][Mid - i : Mid +i +1]\n",
    "        ANS += M[N-1-i][Mid - i : Mid +i +1]\n",
    "        i += 1\n",
    "\n",
    "    print(sum(ANS),ans.read(),sep = \"           \")"
   ]
  },
  {
   "cell_type": "code",
   "execution_count": 6,
   "id": "rotary-sustainability",
   "metadata": {},
   "outputs": [
    {
     "name": "stdout",
     "output_type": "stream",
     "text": [
      "940 µs ± 10.4 µs per loop (mean ± std. dev. of 7 runs, 1000 loops each)\n"
     ]
    }
   ],
   "source": [
    "%%timeit\n",
    "import sys\n",
    "\n",
    "for num in range(1,6):\n",
    "    sys.stdin = open(\"in{}.txt\".format(num), 'r')\n",
    "    ans = open(\"out{}.txt\".format(num),\"r\")\n",
    "\n",
    "    N = int(sys.stdin.readline())\n",
    "    M = [list(map(int,sys.stdin.readline().split())) for i in range(N)]\n",
    "\n",
    "\n",
    "    Mid = N//2\n",
    "\n",
    "    i = 0\n",
    "    ANS = M[Mid]\n",
    "    while Mid > i:\n",
    "        ANS += M[i][Mid - i : Mid +i +1]\n",
    "        ANS += M[N-1-i][Mid - i : Mid +i +1]\n",
    "        i += 1\n",
    "\n",
    "#    print(sum(ANS),ans.read(),sep = \"           \")"
   ]
  },
  {
   "cell_type": "markdown",
   "id": "muslim-miniature",
   "metadata": {},
   "source": [
    "정답"
   ]
  },
  {
   "cell_type": "code",
   "execution_count": 8,
   "id": "extensive-values",
   "metadata": {},
   "outputs": [
    {
     "name": "stdout",
     "output_type": "stream",
     "text": [
      "1049\n"
     ]
    }
   ],
   "source": [
    "import sys\n",
    "\n",
    "sys.stdin = open(\"in1.txt\".format(num), 'r')\n",
    "\n",
    "n = int(sys.stdin.readline())\n",
    "a = [list(map(int,sys.stdin.readline().split())) for i in range(N)]\n",
    "res = 0\n",
    "\n",
    "\n",
    "s = e = n//2\n",
    "\n",
    "for i in range(n):\n",
    "    for j in range(s, e+1):\n",
    "        res += a[i][j]\n",
    "    if i < n//2:\n",
    "        s -= 1\n",
    "        e += 1\n",
    "    else:\n",
    "        s += 1\n",
    "        e -= 1\n",
    "print(res)"
   ]
  }
 ],
 "metadata": {
  "kernelspec": {
   "display_name": "Python 3",
   "language": "python",
   "name": "python3"
  },
  "language_info": {
   "codemirror_mode": {
    "name": "ipython",
    "version": 3
   },
   "file_extension": ".py",
   "mimetype": "text/x-python",
   "name": "python",
   "nbconvert_exporter": "python",
   "pygments_lexer": "ipython3",
   "version": "3.8.5"
  }
 },
 "nbformat": 4,
 "nbformat_minor": 5
}
