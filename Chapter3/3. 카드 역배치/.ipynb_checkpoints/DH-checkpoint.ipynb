{
 "cells": [
  {
   "cell_type": "markdown",
   "id": "mounted-stable",
   "metadata": {},
   "source": [
    "## 카드 역배치"
   ]
  },
  {
   "cell_type": "code",
   "execution_count": 4,
   "id": "rough-designation",
   "metadata": {},
   "outputs": [
    {
     "name": "stdout",
     "output_type": "stream",
     "text": [
      "1 2 3 4 10 9 8 7 13 12 11 5 6 14 15 16 17 18 19 20 \n",
      " 1 2 3 4 10 9 8 7 13 12 11 5 6 14 15 16 17 18 19 20\n",
      "\n",
      "9 10 4 7 5 8 2 3 6 1 11 12 13 14 15 16 17 18 19 20 \n",
      " 9 10 4 7 5 8 2 3 6 1 11 12 13 14 15 16 17 18 19 20\n",
      "\n",
      "2 7 6 4 5 9 3 8 1 10 11 12 13 14 15 16 17 18 19 20 \n",
      " 2 7 6 4 5 9 3 8 1 10 11 12 13 14 15 16 17 18 19 20\n",
      "\n",
      "8 7 16 18 17 19 9 2 1 10 11 12 15 14 13 6 5 4 3 20 \n",
      " 8 7 16 18 17 19 9 2 1 10 11 12 15 14 13 6 5 4 3 20\n",
      "\n",
      "19 1 2 4 3 5 8 7 6 9 15 16 17 12 11 10 14 13 18 20 \n",
      " 19 1 2 4 3 5 8 7 6 9 15 16 17 12 11 10 14 13 18 20\n",
      "\n"
     ]
    }
   ],
   "source": [
    "import sys\n",
    "\n",
    "for num in range(1,6):\n",
    "    sys.stdin = open(\"in{}.txt\".format(num),\"r\")\n",
    "    ans = open(\"out{}.txt\".format(num),\"r\")\n",
    "    L = list(range(1,21))\n",
    "\n",
    "    for i in range(10):\n",
    "        s , e = map(int,sys.stdin.readline().split())\n",
    "    #    s,e = i\n",
    "        a,b,c = L[:s-1],L[s-1:e],L[e:]\n",
    "        L = a + b[::-1]+ c\n",
    "    #    print(L)\n",
    "\n",
    "    for i in L:\n",
    "        print(i, end = \" \")\n",
    "    print(\"\\n\",ans.read())\n",
    "    print()"
   ]
  },
  {
   "cell_type": "markdown",
   "id": "dangerous-simon",
   "metadata": {},
   "source": [
    "1. list + 가능"
   ]
  },
  {
   "cell_type": "code",
   "execution_count": 6,
   "id": "invalid-subdivision",
   "metadata": {},
   "outputs": [
    {
     "name": "stdout",
     "output_type": "stream",
     "text": [
      "788 µs ± 8.07 µs per loop (mean ± std. dev. of 7 runs, 1000 loops each)\n"
     ]
    }
   ],
   "source": [
    "%%timeit\n",
    "import sys\n",
    "\n",
    "for num in range(1,6):\n",
    "    sys.stdin = open(\"in{}.txt\".format(num),\"r\")\n",
    "    ans = open(\"out{}.txt\".format(num),\"r\")\n",
    "    L = list(range(1,21))\n",
    "\n",
    "    for i in range(10):\n",
    "        s , e = map(int,sys.stdin.readline().split())\n",
    "    #    s,e = i\n",
    "        a,b,c = L[:s-1],L[s-1:e],L[e:]\n",
    "        L = a + b[::-1]+ c\n",
    "    #    print(L)\n",
    "\n",
    "#    for i in L:\n",
    "#        print(i, end = \" \")\n",
    "#    print(\"\\n\",ans.read())\n",
    "#    print()"
   ]
  },
  {
   "cell_type": "markdown",
   "id": "excess-madrid",
   "metadata": {},
   "source": [
    "정답"
   ]
  },
  {
   "cell_type": "code",
   "execution_count": 11,
   "id": "sublime-appearance",
   "metadata": {},
   "outputs": [
    {
     "name": "stdout",
     "output_type": "stream",
     "text": [
      "1 2 3 4 10 9 8 7 13 12 11 5 6 14 15 16 17 18 19 20 "
     ]
    }
   ],
   "source": [
    "import sys\n",
    "\n",
    "sys.stdin = open(\"in1.txt\",\"r\")\n",
    "\n",
    "a = list(range(21))\n",
    "\n",
    "for _ in range(10):\n",
    "    s,e = map(int,sys.stdin.readline().split())\n",
    "    \n",
    "    for i in range((e-s+1)//2) :\n",
    "        a[s+i], a[e-i] = a[e-i], a[s+i]\n",
    "\n",
    "a.pop(0)\n",
    "for x in a:\n",
    "    print(x, end = \" \")"
   ]
  }
 ],
 "metadata": {
  "kernelspec": {
   "display_name": "Python 3",
   "language": "python",
   "name": "python3"
  },
  "language_info": {
   "codemirror_mode": {
    "name": "ipython",
    "version": 3
   },
   "file_extension": ".py",
   "mimetype": "text/x-python",
   "name": "python",
   "nbconvert_exporter": "python",
   "pygments_lexer": "ipython3",
   "version": "3.8.5"
  }
 },
 "nbformat": 4,
 "nbformat_minor": 5
}
