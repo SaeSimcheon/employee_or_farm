{
 "cells": [
  {
   "cell_type": "markdown",
   "id": "wrong-stable",
   "metadata": {},
   "source": [
    "## 격자판 회문수"
   ]
  },
  {
   "cell_type": "code",
   "execution_count": 7,
   "id": "retired-junior",
   "metadata": {},
   "outputs": [
    {
     "name": "stdout",
     "output_type": "stream",
     "text": [
      "3            3\n",
      "1            1\n",
      "\n",
      "5            5\n",
      "\n",
      "1            1\n",
      "\n",
      "5            5\n",
      "\n",
      "\n"
     ]
    }
   ],
   "source": [
    "import sys\n",
    "\n",
    "for num in range(1,6):\n",
    "    sys.stdin = open(\"in{}.txt\".format(num), 'r')\n",
    "    ans_ = open(\"out{}.txt\".format(num), 'r')\n",
    "    \n",
    "    arr = [list(map(int,sys.stdin.readline().split())) for i in range(7)]\n",
    "\n",
    "    def check(arr):\n",
    "        ans = 0\n",
    "        for i in range(7):\n",
    "            ans += arr[i][:2] == arr[i][3:5][::-1]\n",
    "            ans += arr[i][1:3] == arr[i][4:6][::-1]\n",
    "            ans += arr[i][2:4] == arr[i][5:7][::-1]\n",
    "        return ans\n",
    "    arr1 = list(map(list,zip(*arr)))\n",
    "    \n",
    "    ans = check(arr) + check(arr1)\n",
    "    print(ans,ans_.read(),sep = \"            \")"
   ]
  },
  {
   "cell_type": "markdown",
   "id": "unlikely-business",
   "metadata": {},
   "source": [
    "1. True는 더하면 1\n",
    "2. 행별로 구하기"
   ]
  },
  {
   "cell_type": "code",
   "execution_count": 8,
   "id": "amino-practitioner",
   "metadata": {},
   "outputs": [
    {
     "name": "stdout",
     "output_type": "stream",
     "text": [
      "885 µs ± 8.97 µs per loop (mean ± std. dev. of 7 runs, 1000 loops each)\n"
     ]
    }
   ],
   "source": [
    "%%timeit\n",
    "\n",
    "import sys\n",
    "for num in range(1,6):\n",
    "    sys.stdin = open(\"in{}.txt\".format(num), 'r')\n",
    "    ans_ = open(\"out{}.txt\".format(num), 'r')\n",
    "    \n",
    "    arr = [list(map(int,sys.stdin.readline().split())) for i in range(7)]\n",
    "\n",
    "    def check(arr):\n",
    "        ans = 0\n",
    "        for i in range(7):\n",
    "            ans += arr[i][:2] == arr[i][3:5][::-1]\n",
    "            ans += arr[i][1:3] == arr[i][4:6][::-1]\n",
    "            ans += arr[i][2:4] == arr[i][5:7][::-1]\n",
    "        return ans\n",
    "    arr1 = list(map(list,zip(*arr)))\n",
    "    \n",
    "    ans = check(arr) + check(arr1)\n",
    "#    print(ans,ans_.read(),sep = \"            \")"
   ]
  },
  {
   "cell_type": "markdown",
   "id": "assured-harmony",
   "metadata": {},
   "source": [
    "정답"
   ]
  },
  {
   "cell_type": "code",
   "execution_count": 10,
   "id": "disabled-interval",
   "metadata": {},
   "outputs": [
    {
     "name": "stdout",
     "output_type": "stream",
     "text": [
      "3\n"
     ]
    }
   ],
   "source": [
    "import sys\n",
    "sys.stdin = open(\"in1.txt\".format(num), 'r')\n",
    "\n",
    "board = [list(map(int,sys.stdin.readline().split())) for i in range(7)]\n",
    "cnt = 0\n",
    "\n",
    "for i in range(3):\n",
    "    for j in range(7):\n",
    "        tmp = board[j][i:i+5]\n",
    "        \n",
    "        if tmp == tmp[::-1]:\n",
    "            cnt += 1\n",
    "        \n",
    "        for k in range(2):\n",
    "            if board[i+k][j] != board[i+5-k-1][j]:\n",
    "                break\n",
    "        else:\n",
    "            cnt += 1\n",
    "print(cnt)"
   ]
  }
 ],
 "metadata": {
  "kernelspec": {
   "display_name": "Python 3",
   "language": "python",
   "name": "python3"
  },
  "language_info": {
   "codemirror_mode": {
    "name": "ipython",
    "version": 3
   },
   "file_extension": ".py",
   "mimetype": "text/x-python",
   "name": "python",
   "nbconvert_exporter": "python",
   "pygments_lexer": "ipython3",
   "version": "3.8.5"
  }
 },
 "nbformat": 4,
 "nbformat_minor": 5
}
