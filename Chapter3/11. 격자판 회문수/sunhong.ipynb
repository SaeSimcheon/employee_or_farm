{
 "cells": [
  {
   "cell_type": "code",
   "execution_count": null,
   "id": "breathing-marketing",
   "metadata": {},
   "outputs": [],
   "source": [
    "%%timeit\n",
    "import sys\n",
    "sys.stdin=open(\"in1.txt\",\"rt\")\n",
    "base=[list(map(str,sys.stdin.readline().split())) for _ in range(7)]\n",
    "base_t=list(map(list, zip(*base)))\n",
    "def circul(l):\n",
    "    c=''\n",
    "    cc=''\n",
    "    for x in l[::-1]:\n",
    "        c+=x\n",
    "    for x in l:\n",
    "        cc+=x\n",
    "    if cc==c:\n",
    "        return 1\n",
    "    else:\n",
    "        return 0\n",
    "c_num=0\n",
    "for x in base:\n",
    "    for j in range(3):\n",
    "        c_num+=circul(x[slice(j,j+5)])\n",
    "for x in base_t:\n",
    "    for j in range(3):\n",
    "        c_num+=circul(x[slice(j,j+5)])\n",
    "print(c_num)\n"
   ]
  },
  {
   "cell_type": "markdown",
   "id": "fewer-developer",
   "metadata": {},
   "source": [
    "329 µs ± 21 µs per loop (mean ± std. dev. of 7 runs, 1000 loops each)"
   ]
  },
  {
   "cell_type": "markdown",
   "id": "incomplete-duplicate",
   "metadata": {},
   "source": [
    "### 답지"
   ]
  },
  {
   "cell_type": "code",
   "execution_count": null,
   "id": "exterior-husband",
   "metadata": {},
   "outputs": [],
   "source": [
    "%%timeit\n",
    "import sys\n",
    "sys.stdin=open(\"in1.txt\", \"r\")\n",
    "board=[list(map(int, sys.stdin.readline().split())) for _ in range(7)]\n",
    "cnt=0\n",
    "for i in range(3):\n",
    "    for j in range(7):\n",
    "        tmp=board[j][i:i+5]\n",
    "        if tmp==tmp[::-1]:\n",
    "            cnt+=1\n",
    "        for k in range(2):\n",
    "            if board[i+k][j]!=board[i+5-k-1][j]:\n",
    "                break;\n",
    "        else:\n",
    "            cnt+=1\n",
    "        \n",
    "print(cnt)"
   ]
  },
  {
   "cell_type": "markdown",
   "id": "together-characteristic",
   "metadata": {},
   "source": [
    "291 µs ± 13.8 µs per loop (mean ± std. dev. of 7 runs, 1000 loops each)"
   ]
  }
 ],
 "metadata": {
  "kernelspec": {
   "display_name": "Python 3",
   "language": "python",
   "name": "python3"
  },
  "language_info": {
   "codemirror_mode": {
    "name": "ipython",
    "version": 3
   },
   "file_extension": ".py",
   "mimetype": "text/x-python",
   "name": "python",
   "nbconvert_exporter": "python",
   "pygments_lexer": "ipython3",
   "version": "3.7.10"
  }
 },
 "nbformat": 4,
 "nbformat_minor": 5
}
