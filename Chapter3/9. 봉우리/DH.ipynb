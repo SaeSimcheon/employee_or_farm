{
 "cells": [
  {
   "cell_type": "markdown",
   "id": "subject-dairy",
   "metadata": {},
   "source": [
    "\n",
    "## 봉우리\n",
    "\n"
   ]
  },
  {
   "cell_type": "code",
   "execution_count": 3,
   "id": "colonial-socket",
   "metadata": {},
   "outputs": [
    {
     "name": "stdout",
     "output_type": "stream",
     "text": [
      "11        11\n",
      "91        91\n",
      "181        181\n",
      "331        331\n",
      "482        482\n"
     ]
    }
   ],
   "source": [
    "import sys\n",
    "\n",
    "for num in range(1,6):\n",
    "    sys.stdin = open(\"in{}.txt\".format(num), 'r')\n",
    "    ans_ = open(\"out{}.txt\".format(num),\"r\")\n",
    "    \n",
    "    \n",
    "    def find(arr,r,c):\n",
    "\n",
    "        if arr[r][c] > max(arr[r][c+1],arr[r][c-1],arr[r-1][c],arr[r+1][c]):\n",
    "            return 1\n",
    "        else :\n",
    "            return 0\n",
    "\n",
    "\n",
    "    N = int(sys.stdin.readline())\n",
    "\n",
    "    M = [[0]*(N+2)]\n",
    "\n",
    "    for i in range(N):\n",
    "        M.append([0]+list(map(int,sys.stdin.readline().split()))+[0])\n",
    "    M.append([0]*(N+2))\n",
    "\n",
    "\n",
    "    ans = 0\n",
    "    for i in range(1,N+1):\n",
    "        for j in range(1,N+1):\n",
    "            ans += find(M,i,j)\n",
    "\n",
    "    print(ans,ans_.read(),sep = \"        \")\n",
    "\n",
    "    "
   ]
  },
  {
   "cell_type": "markdown",
   "id": "about-republic",
   "metadata": {},
   "source": [
    "1. 상하좌우 중 가장 큰 값인지 판단하는 function 정의\n",
    "\n",
    "2. 0으로 가장자리 padding"
   ]
  },
  {
   "cell_type": "code",
   "execution_count": 4,
   "id": "abandoned-paradise",
   "metadata": {},
   "outputs": [
    {
     "name": "stdout",
     "output_type": "stream",
     "text": [
      "4.12 ms ± 69.7 µs per loop (mean ± std. dev. of 7 runs, 100 loops each)\n"
     ]
    }
   ],
   "source": [
    "%%timeit\n",
    "import sys\n",
    "\n",
    "for num in range(1,6):\n",
    "    sys.stdin = open(\"in{}.txt\".format(num), 'r')\n",
    "    ans_ = open(\"out{}.txt\".format(num),\"r\")\n",
    "    \n",
    "    \n",
    "    def find(arr,r,c):\n",
    "\n",
    "        if arr[r][c] > max(arr[r][c+1],arr[r][c-1],arr[r-1][c],arr[r+1][c]):\n",
    "            return 1\n",
    "        else :\n",
    "            return 0\n",
    "\n",
    "\n",
    "    N = int(sys.stdin.readline())\n",
    "\n",
    "    M = [[0]*(N+2)]\n",
    "\n",
    "    for i in range(N):\n",
    "        M.append([0]+list(map(int,sys.stdin.readline().split()))+[0])\n",
    "    M.append([0]*(N+2))\n",
    "\n",
    "\n",
    "    ans = 0\n",
    "    for i in range(1,N+1):\n",
    "        for j in range(1,N+1):\n",
    "            ans += find(M,i,j)\n",
    "\n",
    "#    print(ans,ans_.read(),sep = \"        \")"
   ]
  },
  {
   "cell_type": "markdown",
   "id": "finite-mozambique",
   "metadata": {},
   "source": [
    "정답\n",
    "\n",
    "1. \n",
    "\n",
    "\n",
    "dx = [-1,0,1,0]\n",
    "\n",
    "\n",
    "dy = [0,1,0,-1]\n",
    "\n",
    "2. all(a[i][j] > a[i + dx[k]][j + dy[k]] for k in range(4))"
   ]
  },
  {
   "cell_type": "code",
   "execution_count": 11,
   "id": "skilled-roberts",
   "metadata": {},
   "outputs": [
    {
     "name": "stdout",
     "output_type": "stream",
     "text": [
      "11\n"
     ]
    }
   ],
   "source": [
    "import sys\n",
    "\n",
    "sys.stdin = open(\"in1.txt\", 'r')\n",
    "n = int(sys.stdin.readline())\n",
    "\n",
    "a = [list(map(int,sys.stdin.readline().split())) for _ in range(n)]\n",
    "\n",
    "a.insert(0, [0]*n)\n",
    "a.append( [0]*n)\n",
    "\n",
    "for x in a:\n",
    "    x.insert(0,0)\n",
    "    x.append(0)\n",
    "    \n",
    "\n",
    "cnt = 0\n",
    "\n",
    "dx = [-1,0,1,0]\n",
    "dy = [0,1,0,-1]\n",
    "for i in range(1,n+1):\n",
    "    for j in range(1,n+1):\n",
    "        if all(a[i][j] > a[i + dx[k]][j + dy[k]] for k in range(4)) :\n",
    "            cnt +=1\n",
    "print(cnt)\n",
    "        "
   ]
  },
  {
   "cell_type": "code",
   "execution_count": 15,
   "id": "tender-catering",
   "metadata": {},
   "outputs": [
    {
     "name": "stdout",
     "output_type": "stream",
     "text": [
      "5.69 ms ± 45.5 µs per loop (mean ± std. dev. of 7 runs, 100 loops each)\n"
     ]
    }
   ],
   "source": [
    "%%timeit\n",
    "import sys\n",
    "\n",
    "for num in range(1,6):\n",
    "    sys.stdin = open(\"in{}.txt\".format(num), 'r')\n",
    "    n = int(sys.stdin.readline())\n",
    "\n",
    "    a = [list(map(int,sys.stdin.readline().split())) for _ in range(n)]\n",
    "\n",
    "    a.insert(0, [0]*n)\n",
    "    a.append( [0]*n)\n",
    "\n",
    "    for x in a:\n",
    "        x.insert(0,0)\n",
    "        x.append(0)\n",
    "\n",
    "\n",
    "    cnt = 0\n",
    "\n",
    "    dx = [-1,0,1,0]\n",
    "    dy = [0,1,0,-1]\n",
    "    for i in range(1,n+1):\n",
    "        for j in range(1,n+1):\n",
    "            if all(a[i][j] > a[i + dx[k]][j + dy[k]] for k in range(4)) :\n",
    "                cnt +=1\n",
    "#print(cnt)\n",
    "        "
   ]
  }
 ],
 "metadata": {
  "kernelspec": {
   "display_name": "Python 3",
   "language": "python",
   "name": "python3"
  },
  "language_info": {
   "codemirror_mode": {
    "name": "ipython",
    "version": 3
   },
   "file_extension": ".py",
   "mimetype": "text/x-python",
   "name": "python",
   "nbconvert_exporter": "python",
   "pygments_lexer": "ipython3",
   "version": "3.8.5"
  }
 },
 "nbformat": 4,
 "nbformat_minor": 5
}
