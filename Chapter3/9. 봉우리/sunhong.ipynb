{
 "cells": [
  {
   "cell_type": "code",
   "execution_count": null,
   "id": "increased-scoop",
   "metadata": {},
   "outputs": [],
   "source": [
    "%%timeit\n",
    "\n",
    "import sys\n",
    "sys.stdin=open(\"in1.txt\",\"r\")\n",
    "n=int(sys.stdin.readline())\n",
    "base=[[0]*(n+2)]+[[0]+list(map(int,sys.stdin.readline().split()))+[0] for _ in range(n)]+[[0]*(n+2)]\n",
    "bong_num=0\n",
    "for i in range(1,n+1):\n",
    "    for j in range(1,n+1):\n",
    "        if base[i][j]>max(base[i-1][j],base[i+1][j],base[i][j-1],base[i][j+1]):\n",
    "            bong_num+=1\n",
    "\n",
    "print(bong_num)"
   ]
  },
  {
   "cell_type": "markdown",
   "id": "smoking-juice",
   "metadata": {},
   "source": [
    "302 µs ± 3.04 µs per loop (mean ± std. dev. of 7 runs, 1000 loops each)"
   ]
  },
  {
   "cell_type": "markdown",
   "id": "surprising-tribute",
   "metadata": {},
   "source": [
    "### 답지"
   ]
  },
  {
   "cell_type": "code",
   "execution_count": null,
   "id": "hired-equity",
   "metadata": {},
   "outputs": [],
   "source": [
    "%%timeit\n",
    "import sys\n",
    "sys.stdin=open(\"in1.txt\",\"r\")\n",
    "dx=[-1, 0, 1, 0]\n",
    "dy=[0, 1, 0, -1]\n",
    "n=int(sys.stdin.readline())\n",
    "a=[list(map(int,sys.stdin.readline().split())) for _ in range(n)]\n",
    "a.insert(0, [0]*n)\n",
    "a.append([0]*n)\n",
    "for x in a:\n",
    "    x.insert(0, 0)\n",
    "    x.append(0)\n",
    "\n",
    "cnt=0\n",
    "for i in range(1, n+1):\n",
    "    for j in range(1, n+1):\n",
    "        if all(a[i][j]>a[i+dx[k]][j+dy[k]] for k in range(4)):\n",
    "            cnt+=1\n",
    "print(cnt)"
   ]
  },
  {
   "cell_type": "markdown",
   "id": "limited-parliament",
   "metadata": {},
   "source": [
    "368 µs ± 18.9 µs per loop (mean ± std. dev. of 7 runs, 1000 loops each)"
   ]
  }
 ],
 "metadata": {
  "kernelspec": {
   "display_name": "Python 3",
   "language": "python",
   "name": "python3"
  },
  "language_info": {
   "codemirror_mode": {
    "name": "ipython",
    "version": 3
   },
   "file_extension": ".py",
   "mimetype": "text/x-python",
   "name": "python",
   "nbconvert_exporter": "python",
   "pygments_lexer": "ipython3",
   "version": "3.7.10"
  }
 },
 "nbformat": 4,
 "nbformat_minor": 5
}
