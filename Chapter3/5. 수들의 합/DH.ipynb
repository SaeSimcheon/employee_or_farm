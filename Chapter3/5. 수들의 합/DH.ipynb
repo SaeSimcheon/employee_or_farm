{
 "cells": [
  {
   "cell_type": "markdown",
   "id": "available-veteran",
   "metadata": {},
   "source": [
    "## 수들의 합"
   ]
  },
  {
   "cell_type": "code",
   "execution_count": 3,
   "id": "absolute-construction",
   "metadata": {},
   "outputs": [
    {
     "name": "stdout",
     "output_type": "stream",
     "text": [
      "5\n",
      "5\n",
      "\n",
      "23\n",
      "23\n",
      "\n",
      "312\n",
      "312\n",
      "\n",
      "1772\n",
      "1772\n",
      "\n",
      "1\n",
      "1\n",
      "\n"
     ]
    }
   ],
   "source": [
    "import sys\n",
    "\n",
    "for num in range(1,6):\n",
    "    sys.stdin = open(\"in{}.txt\".format(num), 'r')\n",
    "    ans_ = open(\"out{}.txt\".format(num),\"r\")\n",
    "    n,m = map(int,sys.stdin.readline().split())\n",
    "    arr = list(map(int,sys.stdin.readline().split()))\n",
    "\n",
    "    ans = 0\n",
    "\n",
    "    r = 1\n",
    "    l = 0\n",
    "    S = arr[l]\n",
    "\n",
    "    while 1:\n",
    "        if S < m:\n",
    "            if r < n:\n",
    "                S += arr[r]\n",
    "                r += 1\n",
    "            else :\n",
    "                break\n",
    "\n",
    "        elif S == m:\n",
    "            ans +=1\n",
    "\n",
    "            S -= arr[l]\n",
    "            l += 1\n",
    "        else:\n",
    "            S -= arr[l]\n",
    "            l += 1\n",
    "    print(ans)\n",
    "    print(ans_.read())\n",
    "        \n"
   ]
  },
  {
   "cell_type": "markdown",
   "id": "lightweight-sewing",
   "metadata": {},
   "source": [
    "1. 계속 처음부터 더할 경우 시간 초과 >> 넘어가거나 같으면 맨 앞값 제거"
   ]
  },
  {
   "cell_type": "code",
   "execution_count": 4,
   "id": "nutritional-florist",
   "metadata": {},
   "outputs": [
    {
     "name": "stdout",
     "output_type": "stream",
     "text": [
      "7.25 ms ± 15.8 µs per loop (mean ± std. dev. of 7 runs, 100 loops each)\n"
     ]
    }
   ],
   "source": [
    "%%timeit\n",
    "import sys\n",
    "\n",
    "for num in range(1,6):\n",
    "    sys.stdin = open(\"in{}.txt\".format(num), 'r')\n",
    "    ans_ = open(\"out{}.txt\".format(num),\"r\")\n",
    "    n,m = map(int,sys.stdin.readline().split())\n",
    "    arr = list(map(int,sys.stdin.readline().split()))\n",
    "\n",
    "    ans = 0\n",
    "\n",
    "    r = 1\n",
    "    l = 0\n",
    "    S = arr[l]\n",
    "\n",
    "    while 1:\n",
    "        if S < m:\n",
    "            if r < n:\n",
    "                S += arr[r]\n",
    "                r += 1\n",
    "            else :\n",
    "                break\n",
    "\n",
    "        elif S == m:\n",
    "            ans +=1\n",
    "\n",
    "            S -= arr[l]\n",
    "            l += 1\n",
    "        else:\n",
    "            S -= arr[l]\n",
    "            l += 1\n"
   ]
  },
  {
   "cell_type": "markdown",
   "id": "attached-framing",
   "metadata": {},
   "source": [
    "정답"
   ]
  },
  {
   "cell_type": "code",
   "execution_count": 7,
   "id": "crucial-lunch",
   "metadata": {},
   "outputs": [
    {
     "name": "stdout",
     "output_type": "stream",
     "text": [
      "5\n"
     ]
    }
   ],
   "source": [
    "import sys\n",
    "\n",
    "sys.stdin = open(\"in1.txt\", 'r')\n",
    "\n",
    "n,m = map(int,sys.stdin.readline().split())\n",
    "arr = list(map(int,sys.stdin.readline().split()))\n",
    "\n",
    "lt = 0\n",
    "rt = 1\n",
    "\n",
    "tot = arr[0]\n",
    "cnt = 0\n",
    "\n",
    "while True :\n",
    "    if tot < m :\n",
    "        if rt <n :\n",
    "            tot += arr[rt]\n",
    "            rt +=1\n",
    "        else : \n",
    "            break\n",
    "    elif tot == m :\n",
    "        cnt += 1\n",
    "        tot -= arr[lt]\n",
    "        lt += 1\n",
    "    else :\n",
    "        tot -= arr[lt]\n",
    "        lt += 1\n",
    "print(cnt)"
   ]
  }
 ],
 "metadata": {
  "kernelspec": {
   "display_name": "Python 3",
   "language": "python",
   "name": "python3"
  },
  "language_info": {
   "codemirror_mode": {
    "name": "ipython",
    "version": 3
   },
   "file_extension": ".py",
   "mimetype": "text/x-python",
   "name": "python",
   "nbconvert_exporter": "python",
   "pygments_lexer": "ipython3",
   "version": "3.8.5"
  }
 },
 "nbformat": 4,
 "nbformat_minor": 5
}
