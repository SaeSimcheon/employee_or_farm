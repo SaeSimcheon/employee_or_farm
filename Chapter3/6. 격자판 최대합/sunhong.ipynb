{
 "cells": [
  {
   "cell_type": "code",
   "execution_count": null,
   "id": "aging-frequency",
   "metadata": {},
   "outputs": [],
   "source": [
    "%%timeit\n",
    "\n",
    "import sys\n",
    "sys.stdin=open(\"in1.txt\",\"r\")\n",
    "n=int(sys.stdin.readline())\n",
    "base=[list(map(int,sys.stdin.readline().split()))for _ in range(n)]\n",
    "base_t=list(map(list, zip(*base)))\n",
    "\n",
    "row_max=0\n",
    "col_max=0\n",
    "diag1=0\n",
    "diag2=0\n",
    "for x in base:\n",
    "    if sum(x)>row_max:\n",
    "        row_max=sum(x)\n",
    "\n",
    "for x in base_t:\n",
    "    if sum(x)>col_max:\n",
    "        col_max=sum(x)\n",
    "\n",
    "for i in range(n):\n",
    "    diag1+=base[i][i]\n",
    "    diag2+=base[i][n-1-i]\n",
    "\n",
    "print(max(row_max,col_max,diag1,diag2))\n"
   ]
  },
  {
   "cell_type": "markdown",
   "id": "polish-retailer",
   "metadata": {},
   "source": [
    "312 µs ± 17 µs per loop (mean ± std. dev. of 7 runs, 1000 loops each)"
   ]
  },
  {
   "cell_type": "markdown",
   "id": "charitable-count",
   "metadata": {},
   "source": [
    "### 답지"
   ]
  },
  {
   "cell_type": "code",
   "execution_count": null,
   "id": "whole-joseph",
   "metadata": {},
   "outputs": [],
   "source": [
    "%%timeit\n",
    "\n",
    "import sys\n",
    "\n",
    "sys.stdin=open(\"in1.txt\",\"r\")\n",
    "n=int(sys.stdin.readline())\n",
    "a=[list(map(int,sys.stdin.readline().split()))for _ in range(n)]\n",
    "\n",
    "largest=-2147000000\n",
    "for i in range(n):\n",
    "    sum1=sum2=0\n",
    "    for j in range(n):\n",
    "        sum1+=a[i][j]\n",
    "        sum2+=a[j][i]\n",
    "    if sum1>largest:\n",
    "        largest=sum1\n",
    "    if sum2>largest:\n",
    "        largest=sum2\n",
    "sum1=sum2=0\n",
    "for i in range(n):\n",
    "    sum1+=a[i][i]\n",
    "    sum2+=a[i][n-i-1]\n",
    "if sum1>largest:\n",
    "    largest=sum1\n",
    "if sum2>largest:\n",
    "    largest=sum2\n",
    "print(largest)\n",
    "\n"
   ]
  },
  {
   "cell_type": "markdown",
   "id": "precious-librarian",
   "metadata": {},
   "source": [
    "317 µs ± 17.7 µs per loop (mean ± std. dev. of 7 runs, 1000 loops each)"
   ]
  }
 ],
 "metadata": {
  "kernelspec": {
   "display_name": "Python 3",
   "language": "python",
   "name": "python3"
  },
  "language_info": {
   "codemirror_mode": {
    "name": "ipython",
    "version": 3
   },
   "file_extension": ".py",
   "mimetype": "text/x-python",
   "name": "python",
   "nbconvert_exporter": "python",
   "pygments_lexer": "ipython3",
   "version": "3.7.10"
  }
 },
 "nbformat": 4,
 "nbformat_minor": 5
}
