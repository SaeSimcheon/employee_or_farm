{
 "cells": [
  {
   "cell_type": "markdown",
   "id": "challenging-impression",
   "metadata": {},
   "source": [
    "## 격자판 격자판 최대합"
   ]
  },
  {
   "cell_type": "code",
   "execution_count": 5,
   "id": "green-white",
   "metadata": {},
   "outputs": [
    {
     "name": "stdout",
     "output_type": "stream",
     "text": [
      "614           614\n",
      "1234           1234\n",
      "1820           1820\n",
      "2226           2226\n",
      "3094           3094\n"
     ]
    }
   ],
   "source": [
    "import sys\n",
    "\n",
    "for num in range(1,6):\n",
    "    sys.stdin = open(\"in{}.txt\".format(num), 'r')\n",
    "    ans = open(\"out{}.txt\".format(num),\"r\")\n",
    "    N = int(sys.stdin.readline())\n",
    "    \n",
    "    arr = [list(map(int,sys.stdin.readline().split())) for i in range(N)]\n",
    "    arr1 = list(map(list,zip(*arr)))    \n",
    "\n",
    "    T = [sum(x) for x in arr] + [sum(x) for x in arr1]+ [sum([arr[i][i] for i in range(N)]),sum([arr[i][N-1-i] for i in range(N)])]\n",
    "\n",
    "    print(max(T),ans.read(),sep = \"           \")\n",
    "    "
   ]
  },
  {
   "cell_type": "markdown",
   "id": "noble-piece",
   "metadata": {},
   "source": [
    "1. np.transpose와 같은 효과 list(map(list,zip(*arr)))"
   ]
  },
  {
   "cell_type": "code",
   "execution_count": 6,
   "id": "timely-establishment",
   "metadata": {},
   "outputs": [
    {
     "name": "stdout",
     "output_type": "stream",
     "text": [
      "1.63 ms ± 4.21 µs per loop (mean ± std. dev. of 7 runs, 1000 loops each)\n"
     ]
    }
   ],
   "source": [
    "%%timeit\n",
    "import sys\n",
    "\n",
    "for num in range(1,6):\n",
    "    sys.stdin = open(\"in{}.txt\".format(num), 'r')\n",
    "    ans = open(\"out{}.txt\".format(num),\"r\")\n",
    "    N = int(sys.stdin.readline())\n",
    "    arr = [list(map(int,sys.stdin.readline().split())) for i in range(N)]\n",
    "    arr1 = list(map(list,zip(*arr)))    \n",
    "\n",
    "    T = [sum(x) for x in arr] + [sum(x) for x in arr1]+ [sum([arr[i][i] for i in range(N)]),sum([arr[i][N-1-i] for i in range(N)])]\n",
    "\n",
    "#    print(max(T),ans.read(),sep = \"           \")\n",
    "\n"
   ]
  },
  {
   "cell_type": "markdown",
   "id": "civil-contract",
   "metadata": {},
   "source": [
    "정답"
   ]
  },
  {
   "cell_type": "code",
   "execution_count": 9,
   "id": "synthetic-treasury",
   "metadata": {},
   "outputs": [],
   "source": [
    "import sys\n",
    "sys.stdin = open(\"in1.txt\", 'r')\n",
    "\n",
    "N = int(sys.stdin.readline())\n",
    "arr = [list(map(int,sys.stdin.readline().split())) for i in range(N)]\n",
    "\n",
    "largest = -2147000000\n",
    "\n",
    "for i in range(N):\n",
    "    sum1 = sum2 = 0\n",
    "    \n",
    "    for j in range(N):\n",
    "        sum1 += arr[i][j]\n",
    "        sum2 += arr[j][i]\n",
    "        \n",
    "    if sum1 > largest:\n",
    "        largest = sum1\n",
    "\n",
    "    if sum2 > largest:\n",
    "        largest = sum2\n",
    "sum1 = sum2 = 0\n",
    "\n",
    "for i in range(N):\n",
    "    sum1 += arr[i][i]\n",
    "    sum2 += arr[i][N-i-1]\n",
    "    \n",
    "    if sum1 > largest:\n",
    "        largest = sum1\n",
    "\n",
    "    if sum2 > largest:\n",
    "        largest = sum2    "
   ]
  }
 ],
 "metadata": {
  "kernelspec": {
   "display_name": "Python 3",
   "language": "python",
   "name": "python3"
  },
  "language_info": {
   "codemirror_mode": {
    "name": "ipython",
    "version": 3
   },
   "file_extension": ".py",
   "mimetype": "text/x-python",
   "name": "python",
   "nbconvert_exporter": "python",
   "pygments_lexer": "ipython3",
   "version": "3.8.5"
  }
 },
 "nbformat": 4,
 "nbformat_minor": 5
}
