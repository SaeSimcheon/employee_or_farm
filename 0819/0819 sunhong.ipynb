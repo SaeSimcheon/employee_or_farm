{
 "cells": [
  {
   "cell_type": "markdown",
   "id": "assured-gamma",
   "metadata": {},
   "source": [
    "## 앨범"
   ]
  },
  {
   "cell_type": "code",
   "execution_count": null,
   "id": "grateful-intensity",
   "metadata": {},
   "outputs": [],
   "source": [
    "from collections import defaultdict\n",
    "def solution(genres, plays):\n",
    "    dic=defaultdict(list)\n",
    "    for i in range(len(genres)):\n",
    "        dic[genres[i]]=dic[genres[i]]+[(plays[i],i)]\n",
    "    \n",
    "    a=[]\n",
    "    for key,value in dic.items():\n",
    "        v=sum([x[0] for x in value])\n",
    "        a.append((v,key))\n",
    "        value.sort(key=lambda x: (-x[0],x[1]))\n",
    "        dic[key]=value\n",
    "        \n",
    "    a.sort(reverse=True)\n",
    "    \n",
    "    result=[]\n",
    "    for p,g in a:\n",
    "        if len(dic[g])<2:\n",
    "            result.append(dic[g][0][-1])\n",
    "        else:\n",
    "            for i in range(2):\n",
    "                result.append(dic[g][i][-1])\n",
    "    return result"
   ]
  },
  {
   "cell_type": "markdown",
   "id": "unsigned-mixture",
   "metadata": {},
   "source": [
    "## 징검다리"
   ]
  },
  {
   "cell_type": "code",
   "execution_count": null,
   "id": "centered-research",
   "metadata": {},
   "outputs": [],
   "source": [
    "## 효율성 존망\n",
    "def solution(stones, k):\n",
    "    cnt=0\n",
    "    a=False\n",
    "    while True:\n",
    "        if a==True:\n",
    "            cnt-=1\n",
    "            break\n",
    "        if min(stones)>=1:\n",
    "            cnt+=1\n",
    "            stones=[x-1 for x in stones]\n",
    "        else: \n",
    "            for i in range(len(stones)):\n",
    "                if stones[i]==0:                    \n",
    "                    c=1\n",
    "                    while True: \n",
    "                        i+=1\n",
    "                        if i>=len(stones):\n",
    "                            break\n",
    "                        if stones[i]==0:\n",
    "                            c+=1\n",
    "                        else:\n",
    "                            break\n",
    "                    if c>=k: \n",
    "                        a=True\n",
    "                        break\n",
    "            stones=[x-1 if x!=0 else x for x in stones]\n",
    "            cnt+=1\n",
    "    return cnt"
   ]
  }
 ],
 "metadata": {
  "kernelspec": {
   "display_name": "Python 3",
   "language": "python",
   "name": "python3"
  },
  "language_info": {
   "codemirror_mode": {
    "name": "ipython",
    "version": 3
   },
   "file_extension": ".py",
   "mimetype": "text/x-python",
   "name": "python",
   "nbconvert_exporter": "python",
   "pygments_lexer": "ipython3",
   "version": "3.8.8"
  }
 },
 "nbformat": 4,
 "nbformat_minor": 5
}
