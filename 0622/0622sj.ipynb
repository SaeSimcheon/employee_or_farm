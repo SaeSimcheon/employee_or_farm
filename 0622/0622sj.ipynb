{
 "cells": [
  {
   "cell_type": "markdown",
   "metadata": {},
   "source": [
    "# 다트 게임"
   ]
  },
  {
   "cell_type": "code",
   "execution_count": null,
   "metadata": {},
   "outputs": [],
   "source": [
    "def solution(dartResult):\n",
    "    answer = 0\n",
    "    stack = []\n",
    "    for i in dartResult:\n",
    "        if i.isdecimal():\n",
    "            if int(i) == 0 and stack and stack[-1]==1:\n",
    "                a = stack.pop()\n",
    "                a = 10\n",
    "                stack.append(a)\n",
    "            else:\n",
    "                stack.append(int(i))\n",
    "        else:\n",
    "            if i == \"D\":\n",
    "                a = stack.pop()**2\n",
    "                stack.append(a)\n",
    "            elif i == \"T\":\n",
    "                a = stack.pop()**3\n",
    "                stack.append(a)\n",
    "            elif i == \"S\":\n",
    "                continue\n",
    "            elif i == \"*\":\n",
    "                if len(stack) > 1:\n",
    "                    a = stack.pop()*2\n",
    "                    b = stack.pop()*2\n",
    "                    stack.append(b)\n",
    "                    stack.append(a)\n",
    "                else:\n",
    "                    a = stack.pop()*2\n",
    "                    stack.append(a)\n",
    "            elif i == \"#\":\n",
    "                a = stack.pop()*-1\n",
    "                stack.append(a)\n",
    "    answer = sum(stack)\n",
    "    return answer\n",
    "\n",
    "# 문제가 좀 복잡해서 당황했지만 침착하게 stack으로 풀었음\n",
    "# 예전에 후위식 계산한거처럼 하나하나 접근\n",
    "\n",
    "# 좋아요 가장 많은 풀이\n",
    "\n",
    "import re\n",
    "def solution(dartResult):\n",
    "    bonus = {'S' : 1, 'D' : 2, 'T' : 3}\n",
    "    option = {'' : 1, '*' : 2, '#' : -1}\n",
    "    p = re.compile('(\\d+)([SDT])([*#]?)')\n",
    "    dart = p.findall(dartResult)\n",
    "    for i in range(len(dart)):\n",
    "        if dart[i][2] == '*' and i > 0:\n",
    "            dart[i-1] *= 2\n",
    "        dart[i] = int(dart[i][0]) ** bonus[dart[i][1]] * option[dart[i][2]]\n",
    "    answer = sum(dart)\n",
    "    return answer\n",
    "\n",
    "# 딕셔너리와 정규표현식으로 풀이\n",
    "# 이건 너무 어렵다"
   ]
  },
  {
   "cell_type": "markdown",
   "metadata": {},
   "source": [
    "# 같은 숫자는 싫어"
   ]
  },
  {
   "cell_type": "code",
   "execution_count": null,
   "metadata": {},
   "outputs": [],
   "source": [
    "def solution(arr):\n",
    "    answer = [arr[0]]\n",
    "    for i in arr[1:] :\n",
    "        if i != answer[-1] :\n",
    "            answer.append(i)\n",
    "    return answer\n",
    "\n",
    "# 좋아요 가장 많은 풀이\n",
    "def no_continuous(s):\n",
    "    a = []\n",
    "    for i in s:\n",
    "        if a[-1:] == [i]: continue\n",
    "        a.append(i)\n",
    "    return a\n",
    "\n",
    "# 배운점\n",
    "# 1. a[-1:]는 빈 배열에서도 된다.."
   ]
  },
  {
   "cell_type": "markdown",
   "metadata": {},
   "source": [
    "# 나누어 떨어지는 숫자 배열"
   ]
  },
  {
   "cell_type": "code",
   "execution_count": null,
   "metadata": {},
   "outputs": [],
   "source": [
    "def solution(arr, divisor):\n",
    "    ar = [i for i in arr if i%divisor==0]\n",
    "    if ar:\n",
    "        ar.sort()\n",
    "    else:\n",
    "        ar=[-1]\n",
    "    return ar\n",
    "\n",
    "# 좋아요 가장 많은 풀이\n",
    "def solution(arr, divisor): return sorted([n for n in arr if n%divisor == 0]) or [-1]\n",
    "\n",
    "# wow\n",
    "# 배운점\n",
    "# 1. or 조건은 앞의 값이 있으면 True, 없으면 False"
   ]
  },
  {
   "cell_type": "markdown",
   "metadata": {},
   "source": [
    "# 두 정수 사이의 합"
   ]
  },
  {
   "cell_type": "code",
   "execution_count": null,
   "metadata": {},
   "outputs": [],
   "source": [
    "def solution(a, b):\n",
    "    answer = sum([i for i in range(min(a,b),max(a,b)+1)])\n",
    "    return answer\n",
    "\n",
    "# 생각해보니 for문은 굳이 안들어가도 되는데;\n",
    "\n",
    "# 좋아요 가장 많은 풀이\n",
    "def adder(a, b):\n",
    "    if a > b: a, b = b, a\n",
    "    return sum(range(a,b+1))"
   ]
  },
  {
   "cell_type": "markdown",
   "metadata": {},
   "source": [
    "# 문자열 내 마음대로 정렬하기"
   ]
  },
  {
   "cell_type": "code",
   "execution_count": null,
   "metadata": {},
   "outputs": [],
   "source": [
    "def solution(strings, n):\n",
    "    answer = sorted(strings, key = lambda e: (e[n], e))\n",
    "    return answer\n",
    "\n",
    "# 정렬을 두번하는 문제, 나는 key에 n번쨰 인덱스랑 전체를 넣어서 해결\n",
    "\n",
    "# 좋아요 가장 많은 풀이\n",
    "def strange_sort(strings, n):\n",
    "    return sorted(strings, key=lambda x: x[n])\n",
    "\n",
    "# 이사람은 정렬 한번만 했는데; 뭐지\n",
    "# 알고보니 이전 문제라 조건이 부족한게 있다는듯"
   ]
  },
  {
   "cell_type": "markdown",
   "metadata": {},
   "source": [
    "# 문자열 내 p와 y의 개수"
   ]
  },
  {
   "cell_type": "code",
   "execution_count": null,
   "metadata": {},
   "outputs": [],
   "source": [
    "from collections import Counter\n",
    "\n",
    "def solution(s):\n",
    "    s = s.lower()\n",
    "    s_count = Counter(s)\n",
    "    return True if s_count['p'] == s_count['y'] else False\n",
    "\n",
    "# counter 함수 써서 쉽게 풀이\n",
    "\n",
    "def numPY(s):\n",
    "    # 함수를 완성하세요\n",
    "    return s.lower().count('p') == s.lower().count('y')\n",
    "\n",
    "# 비슷하지만 .count로 했구만 근데 return에는 그냥 조건으로 풀이(간단하네)"
   ]
  },
  {
   "cell_type": "markdown",
   "metadata": {},
   "source": [
    "# 문자열 내림차순으로 배치하기"
   ]
  },
  {
   "cell_type": "code",
   "execution_count": null,
   "metadata": {},
   "outputs": [],
   "source": [
    "def solution(s):\n",
    "    return ''.join(sorted(s, reverse=True))\n",
    "\n",
    "# sorted를 쓰면 소문자 -> 대문자 순으로 배열이 되는군\n",
    "# return 할때 ''.join 하면 리스트 -> 문자열로 바꿀수 있음\n",
    "\n",
    "# 좋아요 가장 많은 풀이\n",
    "def solution(s):\n",
    "    return ''.join(sorted(s, reverse=True))\n",
    "\n",
    "# 나랑 같군 히히"
   ]
  },
  {
   "cell_type": "markdown",
   "metadata": {},
   "source": [
    "# 문자열 다루기 기본"
   ]
  },
  {
   "cell_type": "code",
   "execution_count": null,
   "metadata": {},
   "outputs": [],
   "source": [
    "def solution(s):\n",
    "    return True if s.isdigit() and len(s)==4 or len(s)==6 else False\n",
    "\n",
    "# 한줄로 푸는거에 맛들렸다\n",
    "\n",
    "# 좋아요 가장 많은 풀이\n",
    "def alpha_string46(s):\n",
    "    return s.isdigit() and len(s) in (4, 6)\n",
    "\n",
    "# 맞다 in이 있었지;"
   ]
  },
  {
   "cell_type": "markdown",
   "metadata": {},
   "source": [
    "# 서울에서 김서방 찾기"
   ]
  },
  {
   "cell_type": "code",
   "execution_count": null,
   "metadata": {},
   "outputs": [],
   "source": [
    "def solution(seoul) :\n",
    "    for idx, name in enumerate(seoul) :\n",
    "        if name == \"Kim\" :\n",
    "            num = idx\n",
    "    answer = '김서방은 ' + str(num) + '에 있다'\n",
    "    return answer\n",
    "\n",
    "# 인덱스 찾으려고 enumerate를 썼다\n",
    "\n",
    "# 좋아요 가장 많은 풀이\n",
    "def findKim(seoul):\n",
    "    return \"김서방은 {}에 있다\".format(seoul.index('Kim'))\n",
    "\n",
    "# 배운점\n",
    "# 1. {}과 .format을 적절히 사용하면 출력 가능\n",
    "# 2. .index()를 쓰면 해당 인덱스가 나온다"
   ]
  },
  {
   "cell_type": "markdown",
   "metadata": {},
   "source": [
    "# 소수 찾기"
   ]
  },
  {
   "cell_type": "code",
   "execution_count": null,
   "metadata": {},
   "outputs": [],
   "source": [
    "def solution(n):\n",
    "    cnt = 0\n",
    "    ch=[0]*(n+1)\n",
    "    for i in range (2,n+1):\n",
    "        if ch[i]==0:\n",
    "            cnt+=1\n",
    "        for j in range(i, n+1, i):\n",
    "            ch[j]=1\n",
    "    return cnt\n",
    "\n",
    "# 소수 만들기인데 효율성 있는거보고 에라토스테네스의 체임을 직감했다\n",
    "\n",
    "# 좋아요 가장 많은 풀이\n",
    "\n",
    "def solution(n):\n",
    "    num=set(range(2,n+1))\n",
    "    for i in range(2,n+1):\n",
    "        if i in num:\n",
    "            num-=set(range(2*i,n+1,i))\n",
    "    return len(num)\n",
    "\n",
    "# set은 왜 쓰는걸까"
   ]
  },
  {
   "cell_type": "markdown",
   "metadata": {},
   "source": [
    "# 수박수박수박수박수박수"
   ]
  },
  {
   "cell_type": "code",
   "execution_count": null,
   "metadata": {},
   "outputs": [],
   "source": [
    "def solution(n):\n",
    "    answer = '수박' * (n//2) if n % 2 == 0 else '수박' * (n//2) + '수'\n",
    "    return answer\n",
    "\n",
    "# 좋아요 가장 많은 풀이\n",
    "def water_melon(n):\n",
    "    s = \"수박\" * n\n",
    "    return s[:n]\n",
    "# 길게 만들고 자르는 방법도 있군\n",
    "\n",
    "def water_melon(n):\n",
    "    return \"수박\"*(n//2) + \"수\"*(n%2)\n",
    "\n",
    "# 뭔가 좀더 간단해진 풀이"
   ]
  },
  {
   "cell_type": "markdown",
   "metadata": {},
   "source": [
    "# 문자열을 정수로 바꾸기"
   ]
  },
  {
   "cell_type": "code",
   "execution_count": null,
   "metadata": {},
   "outputs": [],
   "source": [
    "def solution(s):\n",
    "    if s[0] == '+':\n",
    "        answer = int(s[1:])\n",
    "    else:\n",
    "        answer = int(s)\n",
    "    return answer\n",
    "\n",
    "# 스읍 그냥 int 로 했어도 될거 같기도 하고?\n",
    "\n",
    "# 좋아요 가장 많은 풀이\n",
    "def strToInt(str):\n",
    "    result = 0\n",
    "\n",
    "    for idx, number in enumerate(str[::-1]):\n",
    "        if number == '-':\n",
    "            result *= -1\n",
    "        else:\n",
    "            result += int(number) * (10 ** idx)\n",
    "\n",
    "    return result\n",
    "\n",
    "# 이렇게 풀어야 알고리즘이 아닐까... 싶긴하다"
   ]
  },
  {
   "cell_type": "markdown",
   "metadata": {},
   "source": [
    "# 시저 암호"
   ]
  },
  {
   "cell_type": "code",
   "execution_count": null,
   "metadata": {},
   "outputs": [],
   "source": [
    "def solution(s, n):\n",
    "    answer = ''\n",
    "    for i in s:\n",
    "        if i.islower() and ord(i)+n > 122:\n",
    "            answer += chr(ord(i)+n-26)\n",
    "        elif i.isupper() and ord(i)+n > 90:\n",
    "            answer += chr(ord(i)+n-26)\n",
    "        elif i.isalpha():\n",
    "            answer += chr(ord(i)+n)\n",
    "        else:\n",
    "            answer += i\n",
    "    return answer\n",
    "\n",
    "# 좋아요 가장 많은 풀이\n",
    "\n",
    "def caesar(s, n):\n",
    "    s = list(s)\n",
    "    for i in range(len(s)):\n",
    "        if s[i].isupper():\n",
    "            s[i]=chr((ord(s[i])-ord('A')+ n)%26+ord('A'))\n",
    "        elif s[i].islower():\n",
    "            s[i]=chr((ord(s[i])-ord('a')+ n)%26+ord('a'))\n",
    "\n",
    "    return \"\".join(s)\n",
    "\n",
    "# 반성점\n",
    "# % 활용!!!"
   ]
  },
  {
   "cell_type": "markdown",
   "metadata": {},
   "source": [
    "# 약수의 합"
   ]
  },
  {
   "cell_type": "code",
   "execution_count": null,
   "metadata": {},
   "outputs": [],
   "source": [
    "def solution(n):\n",
    "    sum = 0\n",
    "    for i in range(1,n+1):\n",
    "        if n % i == 0:\n",
    "            sum += i\n",
    "    return sum\n",
    "\n",
    "# 좋아요 가장 많은 풀이\n",
    "\n",
    "def sumDivisor(num):\n",
    "    # num / 2 의 수들만 검사하면 성능 약 2배 향상잼\n",
    "    return num + sum([i for i in range(1, (num // 2) + 1) if num % i == 0])\n",
    "\n",
    "# 반성점\n",
    "# 1. 생각안하고 풀다가 약수는 //2 만해도 된다는걸 까먹음"
   ]
  },
  {
   "cell_type": "markdown",
   "metadata": {},
   "source": [
    "# 이상한 문자 만들기"
   ]
  },
  {
   "cell_type": "code",
   "execution_count": null,
   "metadata": {},
   "outputs": [],
   "source": [
    "def solution(s):\n",
    "    answer = ''\n",
    "    cnt = 0\n",
    "    for i in s:\n",
    "        if cnt % 2 == 0 and i.islower():\n",
    "            answer += i.upper()\n",
    "            cnt += 1\n",
    "        elif cnt % 2 == 1 and i.isupper():\n",
    "            answer += i.lower()\n",
    "            cnt += 1\n",
    "        elif i.isalpha():\n",
    "            answer += i\n",
    "            cnt += 1\n",
    "        else:\n",
    "            answer += i\n",
    "            cnt = 0\n",
    "    return answer\n",
    "\n",
    "# 뭔가 조잡한 풀이\n",
    "\n",
    "# 좋아요 가장 많은 풀이\n",
    "\n",
    "def toWeirdCase(s):\n",
    "    return \" \".join(map(lambda x: \"\".join([a.lower() if i % 2 else a.upper() for i, a in enumerate(x)]), s.split(\" \")))"
   ]
  },
  {
   "cell_type": "markdown",
   "metadata": {},
   "source": [
    "# 자릿수 더하기"
   ]
  },
  {
   "cell_type": "code",
   "execution_count": null,
   "metadata": {},
   "outputs": [],
   "source": [
    "def solution(n):\n",
    "    nSum=0\n",
    "    while n >0:\n",
    "        nSum+=n%10\n",
    "        n=n//10\n",
    "    return nSum\n",
    "\n",
    "# 좋아요 가장 많은 풀이\n",
    "\n",
    "def sum_digit(number):\n",
    "    if number < 10:\n",
    "        return number;\n",
    "    return (number % 10) + sum_digit(number // 10)\n",
    "\n",
    "# 재귀함수!"
   ]
  },
  {
   "cell_type": "markdown",
   "metadata": {},
   "source": [
    "# 자연수 뒤집어 배열로 만들기"
   ]
  },
  {
   "cell_type": "code",
   "execution_count": null,
   "metadata": {},
   "outputs": [],
   "source": [
    "def solution(n):\n",
    "    answer = [int(i) for i in str(n)[::-1]]\n",
    "    return answer\n",
    "\n",
    "# 좋아요 가장 많은 풀이\n",
    "\n",
    "def digit_reverse(n):\n",
    "    return list(map(int, reversed(str(n))))\n",
    "\n",
    "# 배운점\n",
    "# 1. reversed()"
   ]
  },
  {
   "cell_type": "markdown",
   "metadata": {},
   "source": [
    "# 정수 내림차순으로 배치하기"
   ]
  },
  {
   "cell_type": "code",
   "execution_count": null,
   "metadata": {},
   "outputs": [],
   "source": [
    "def solution(n):\n",
    "    answer=sorted([i for i in str(n)],reverse=True)\n",
    "    return int(\"\".join(answer))"
   ]
  },
  {
   "cell_type": "markdown",
   "metadata": {},
   "source": [
    "# 정수 제곱근 판별"
   ]
  },
  {
   "cell_type": "code",
   "execution_count": null,
   "metadata": {},
   "outputs": [],
   "source": [
    "def solution(n):\n",
    "    return ((n**0.5)+1)**2 if n%(n**0.5)==0 else -1\n",
    "\n",
    "# 좋아요 가장 많은 풀이\n",
    "\n",
    "def nextSqure(n):\n",
    "    sqrt = n ** (1/2)\n",
    "\n",
    "    if sqrt % 1 == 0:\n",
    "        return (sqrt + 1) ** 2\n",
    "    return 'no'"
   ]
  },
  {
   "cell_type": "markdown",
   "metadata": {},
   "source": [
    "# 제일 작은 수 제거하기"
   ]
  },
  {
   "cell_type": "code",
   "execution_count": null,
   "metadata": {},
   "outputs": [],
   "source": [
    "def solution(arr):\n",
    "    if len(arr) > 1:\n",
    "        x = min(arr)\n",
    "        arr.remove(x)\n",
    "    else:\n",
    "        arr = [-1]\n",
    "    return arr\n",
    "\n",
    "# 좋아요 가장 많은 풀이\n",
    "\n",
    "def rm_small(mylist):\n",
    "    return [i for i in mylist if i > min(mylist)]\n",
    "\n",
    "# 반성점\n",
    "# 1. sort/pop으로 해결되는줄 알고 그냥 했다가 배열이 달라지면 안된다는걸 꺠달음\n",
    "# -> 생각을 안하고 풀면 이렇게 되더라"
   ]
  }
 ],
 "metadata": {
  "kernelspec": {
   "display_name": "Python 3",
   "language": "python",
   "name": "python3"
  },
  "language_info": {
   "codemirror_mode": {
    "name": "ipython",
    "version": 3
   },
   "file_extension": ".py",
   "mimetype": "text/x-python",
   "name": "python",
   "nbconvert_exporter": "python",
   "pygments_lexer": "ipython3",
   "version": "3.7.4"
  }
 },
 "nbformat": 4,
 "nbformat_minor": 2
}
