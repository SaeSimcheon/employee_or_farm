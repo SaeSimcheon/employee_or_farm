{
 "cells": [
  {
   "cell_type": "markdown",
   "metadata": {},
   "source": [
    "## [1차] 다트 게임"
   ]
  },
  {
   "cell_type": "code",
   "execution_count": null,
   "metadata": {},
   "outputs": [],
   "source": [
    "def over(element):\n",
    "    if element == \"S\":\n",
    "        return 1\n",
    "    elif element == \"D\":\n",
    "        return 2\n",
    "    elif element == \"T\":\n",
    "        return 3\n",
    "    else:\n",
    "        if element.isdecimal():\n",
    "            return int(element)\n",
    "        else: \n",
    "            return element\n",
    "        \n",
    "\n",
    "def solution(dartResult):\n",
    "    import re\n",
    "    arr=list(map(str,dartResult))\n",
    "    s= \"\".join(arr)\n",
    "    s_list= [m.group(0) for  m in re.finditer(r\"(\\D)|(\\d*)|(|W)\", s)]\n",
    "    s_list = list(map(lambda x : over(x),s_list))\n",
    "    \n",
    "    s_list.pop()\n",
    "    \n",
    "    previous = 0\n",
    "    this = 0\n",
    "    answer= 0\n",
    "    print(s_list)\n",
    "    while s_list:\n",
    "        print(s_list,answer)\n",
    "        \n",
    "        p1 = s_list.pop(0)\n",
    "        p2 = s_list.pop(0)\n",
    "        this = p1**p2\n",
    "        if len(s_list) !=0:\n",
    "            p3 = s_list.pop(0)\n",
    "            if p3 not in [\"*\",\"#\"]:\n",
    "                answer += this\n",
    "                s_list.insert(0,p3)\n",
    "            if p3 == \"*\":\n",
    "                answer -=previous\n",
    "                previous = 2*previous\n",
    "                this = 2*this\n",
    "                answer += this + previous\n",
    "            elif p3 == \"#\" :\n",
    "                this = (-1)*this\n",
    "                answer += this \n",
    "        else:\n",
    "            answer += this\n",
    "        previous = this\n",
    "    return answer"
   ]
  },
  {
   "cell_type": "markdown",
   "metadata": {},
   "source": [
    "## 같은 숫자는 싫어"
   ]
  },
  {
   "cell_type": "code",
   "execution_count": 1,
   "metadata": {},
   "outputs": [],
   "source": [
    "def solution(arr):\n",
    "    import re\n",
    "    arr=list(map(str,arr))\n",
    "    s= \"\".join(arr)\n",
    "    #s_list=[m.group(0)[0] for m in re.finditer(r\"(\\d)\\1*\", s)]\n",
    "    s_list=[m.group(0)[0] for m in re.finditer(r\"(\\d)\\1*\", s)]\n",
    "    \n",
    "    answer = list(map(int,s_list))\n",
    "    return answer"
   ]
  },
  {
   "cell_type": "markdown",
   "metadata": {},
   "source": [
    "## 나누어 떨어지는 숫자 배열"
   ]
  },
  {
   "cell_type": "code",
   "execution_count": null,
   "metadata": {},
   "outputs": [],
   "source": [
    "def solution(arr, divisor):\n",
    "    answer = [i for i in arr if i %divisor ==0]\n",
    "    answer.sort()\n",
    "    if len(answer) == 0 :\n",
    "        answer = [-1]\n",
    "        \n",
    "    return answer"
   ]
  },
  {
   "cell_type": "markdown",
   "metadata": {},
   "source": [
    "## 두 정수 사이의 합"
   ]
  },
  {
   "cell_type": "code",
   "execution_count": null,
   "metadata": {},
   "outputs": [],
   "source": [
    "def solution(a, b):\n",
    "    if a < b :\n",
    "        answer=sum(range(a,b+1))\n",
    "    else:\n",
    "        answer=sum(range(b,a+1))\n",
    "    return answer"
   ]
  },
  {
   "cell_type": "markdown",
   "metadata": {},
   "source": [
    "## 문자열 내 마음대로 정렬하기"
   ]
  },
  {
   "cell_type": "code",
   "execution_count": null,
   "metadata": {},
   "outputs": [],
   "source": [
    "def solution(strings, n):\n",
    "    \n",
    "    answer=  sorted(strings,key = lambda x : (x[n],x))\n",
    "    \n",
    "    \n",
    "    return answer"
   ]
  },
  {
   "cell_type": "markdown",
   "metadata": {},
   "source": [
    "## 문자열 내 p와 y의 개수"
   ]
  },
  {
   "cell_type": "code",
   "execution_count": null,
   "metadata": {},
   "outputs": [],
   "source": [
    "def solution(s):\n",
    "    s=s.lower()\n",
    "    ind_1=s.count(\"p\")\n",
    "    ind_2=s.count(\"y\")\n",
    "    \n",
    "    if (ind_1 ==0) and (ind_2 == 0) :\n",
    "        answer= True\n",
    "    else:\n",
    "        answer = ind_1 == ind_2\n",
    "    \n",
    "    return answer"
   ]
  },
  {
   "cell_type": "markdown",
   "metadata": {},
   "source": [
    "## 문자열 내림차순으로 배치하기"
   ]
  },
  {
   "cell_type": "code",
   "execution_count": null,
   "metadata": {},
   "outputs": [],
   "source": [
    "def solution(s):\n",
    "    s = list(s)\n",
    "    s.sort(reverse = True)\n",
    "    \n",
    "    answer =\"\".join(s)\n",
    "    return answer"
   ]
  },
  {
   "cell_type": "markdown",
   "metadata": {},
   "source": [
    "## 문자열 다루기 기본"
   ]
  },
  {
   "cell_type": "code",
   "execution_count": null,
   "metadata": {},
   "outputs": [],
   "source": [
    "def solution(s):\n",
    "    answer=(s.isdecimal())&((len(s)) in [4,6])\n",
    "    return answer"
   ]
  },
  {
   "cell_type": "markdown",
   "metadata": {},
   "source": [
    "## 서울에서 김서방 찾기"
   ]
  },
  {
   "cell_type": "code",
   "execution_count": null,
   "metadata": {},
   "outputs": [],
   "source": [
    "def solution(seoul):\n",
    "    spot=seoul.index(\"Kim\")\n",
    "    answer = \"김서방은 \"+str(spot)+\"에 있다\"\n",
    "    return answer"
   ]
  },
  {
   "cell_type": "markdown",
   "metadata": {},
   "source": [
    "## 소수 찾기"
   ]
  },
  {
   "cell_type": "code",
   "execution_count": null,
   "metadata": {},
   "outputs": [],
   "source": [
    "def solution(n):\n",
    "    ch = [0]*(n+1)\n",
    "    answer = 0\n",
    "    \n",
    "    \n",
    "\n",
    "    for i in range(2,n+1):\n",
    "        if ch[i] == 0:\n",
    "            answer +=1\n",
    "            for k in range(i,n+1,i):\n",
    "                ch[k] = 1\n",
    "                    \n",
    "                \n",
    "        \n",
    "    return answer"
   ]
  },
  {
   "cell_type": "markdown",
   "metadata": {},
   "source": [
    "## 수박수박수박수박수박수?"
   ]
  },
  {
   "cell_type": "code",
   "execution_count": null,
   "metadata": {},
   "outputs": [],
   "source": [
    "def solution(n):\n",
    "    answer = \"수박\"*5000\n",
    "    answer = answer[0:n]\n",
    "    return answer"
   ]
  },
  {
   "cell_type": "markdown",
   "metadata": {},
   "source": [
    "## 문자열을 정수로 바꾸기"
   ]
  },
  {
   "cell_type": "code",
   "execution_count": null,
   "metadata": {},
   "outputs": [],
   "source": [
    "def solution(s):\n",
    "    answer = int(s)\n",
    "    return answer"
   ]
  },
  {
   "cell_type": "markdown",
   "metadata": {},
   "source": [
    "## 시저 암호"
   ]
  },
  {
   "cell_type": "code",
   "execution_count": null,
   "metadata": {},
   "outputs": [],
   "source": [
    "def push(element,n):\n",
    "    if element == \" \":\n",
    "        return \" \"\n",
    "    if (ord(element)+n > ord(\"Z\"))&(element.isupper()==True):   \n",
    "        this = ord(element) + n - ord(\"Z\") + ord(\"A\") -1\n",
    "        return chr(this)\n",
    "    elif (ord(element)+n <= ord(\"Z\"))&(element.isupper()==True):\n",
    "        this = ord(element) + n\n",
    "        return chr(this)\n",
    "    elif (ord(element)+n <= ord(\"z\"))&(element.isupper()==False):\n",
    "        this = ord(element) + n\n",
    "        return chr(this)\n",
    "    elif (ord(element)+n > ord(\"z\"))&(element.isupper()==False):\n",
    "        this = ord(element) + n - ord(\"z\") + ord(\"a\") -1\n",
    "        return chr(this)\n",
    "    \n",
    "def solution(s, n):\n",
    "    out=[push(i,n) for i in s]\n",
    "    print(\"\".join(out))\n",
    "    answer = \"\".join(out)\n",
    "    return answer"
   ]
  },
  {
   "cell_type": "markdown",
   "metadata": {},
   "source": [
    "## 약수의 합"
   ]
  },
  {
   "cell_type": "code",
   "execution_count": null,
   "metadata": {},
   "outputs": [],
   "source": [
    "def solution(n):\n",
    "    answer = 0\n",
    "    for i in range(1,n+1):\n",
    "        if n % i == 0:\n",
    "            answer+= i\n",
    "    return answer"
   ]
  },
  {
   "cell_type": "markdown",
   "metadata": {},
   "source": [
    "## 이상한 문자 만들기"
   ]
  },
  {
   "cell_type": "code",
   "execution_count": null,
   "metadata": {},
   "outputs": [],
   "source": [
    "def solution(s):\n",
    "    splited=s.split(\" \")\n",
    "    transform = [[j.upper() if idx %2 ==0 else j.lower() for idx,j in enumerate(i)] for i in splited]\n",
    "    out = [\"\".join(i) for i in transform]\n",
    "    answer = \" \".join(out)\n",
    "    return answer"
   ]
  },
  {
   "cell_type": "markdown",
   "metadata": {},
   "source": [
    "## 자릿수 더하기"
   ]
  },
  {
   "cell_type": "code",
   "execution_count": 2,
   "metadata": {},
   "outputs": [],
   "source": [
    "def solution(n):\n",
    "    answer = sum(map(int,list(str(n))))\n",
    "    \n",
    "    return answer"
   ]
  },
  {
   "cell_type": "markdown",
   "metadata": {},
   "source": [
    "## 자연수 뒤집어 배열로 만들기"
   ]
  },
  {
   "cell_type": "code",
   "execution_count": null,
   "metadata": {},
   "outputs": [],
   "source": [
    "def solution(n):\n",
    "    n=list(str(n))\n",
    "    n = n[::-1]\n",
    "    answer = list(map(int,n))\n",
    "    return answer"
   ]
  },
  {
   "cell_type": "markdown",
   "metadata": {},
   "source": [
    "## 정수 내림차순으로 배치하기"
   ]
  },
  {
   "cell_type": "code",
   "execution_count": null,
   "metadata": {},
   "outputs": [],
   "source": [
    "def solution(n):\n",
    "    list_n=list(str(n))\n",
    "    list_n=list(map(int,list_n))\n",
    "    list_n.sort(reverse= True)\n",
    "    answer=list(map(str,list_n))\n",
    "    answer = int(\"\".join(answer))\n",
    "    return answer"
   ]
  },
  {
   "cell_type": "markdown",
   "metadata": {},
   "source": [
    "## 정수 제곱근 판별"
   ]
  },
  {
   "cell_type": "code",
   "execution_count": null,
   "metadata": {},
   "outputs": [],
   "source": [
    "def solution(n):\n",
    "    answer= -1\n",
    "    for i in range(1,n//2+2): \n",
    "        if i**2 == n:\n",
    "            answer = (i+1)**2\n",
    "            break\n",
    "    return answer"
   ]
  },
  {
   "cell_type": "markdown",
   "metadata": {},
   "source": [
    "## 제일 작은 수 제거하기"
   ]
  },
  {
   "cell_type": "code",
   "execution_count": null,
   "metadata": {},
   "outputs": [],
   "source": [
    "def solution(arr):\n",
    "    answer = []\n",
    "    if len(arr) ==1:\n",
    "        answer = [-1]\n",
    "    else:\n",
    "        arr.pop(arr.index(min(arr)))\n",
    "        answer =arr\n",
    "    return answer"
   ]
  }
 ],
 "metadata": {
  "kernelspec": {
   "display_name": "Python 3",
   "language": "python",
   "name": "python3"
  },
  "language_info": {
   "codemirror_mode": {
    "name": "ipython",
    "version": 3
   },
   "file_extension": ".py",
   "mimetype": "text/x-python",
   "name": "python",
   "nbconvert_exporter": "python",
   "pygments_lexer": "ipython3",
   "version": "3.8.5"
  }
 },
 "nbformat": 4,
 "nbformat_minor": 4
}
