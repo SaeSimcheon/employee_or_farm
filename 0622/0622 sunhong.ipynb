{
 "cells": [
  {
   "cell_type": "markdown",
   "id": "liked-particular",
   "metadata": {},
   "source": [
    "## [1차] 다트\n",
    " 정확도 93.8나오는데 어디가 틀렸는지 못 찾겠음\n",
    "\n",
    "phase1에서는 점수,보너스만 계산하고 옵션은 걍 안 건듬\n",
    "1S2D*3T => [1,4,*,27 ] \n",
    "phase2에서는 옵션 operator에 따라 케이스 나눠서 계산"
   ]
  },
  {
   "cell_type": "code",
   "execution_count": null,
   "id": "trained-blake",
   "metadata": {},
   "outputs": [],
   "source": [
    "# phase1\n",
    "stack=[]\n",
    "for i,x in enumerate(result):\n",
    "    #\n",
    "    if x.isdigit() and x !='0':\n",
    "        if result[i+1].isdigit():\n",
    "            \n",
    "            if result[i+2]=='S':\n",
    "                stack.append(10)\n",
    "            elif result[i+2]=='D':\n",
    "                stack.append(100)\n",
    "            else:\n",
    "                stack.append(1000)\n",
    "        else:\n",
    "            x=int(x)\n",
    "            if result[i+1]=='S':\n",
    "                stack.append(x)\n",
    "            elif result[i+1]=='D':\n",
    "                stack.append(x**2)\n",
    "            else:\n",
    "                stack.append(x**3)\n",
    "    elif x=='0':\n",
    "        pass\n",
    "    elif x in ['*','#']:\n",
    "        stack.append(x)\n",
    "#phase 2        \n",
    "stack2=[]\n",
    "for x in stack:\n",
    "    if x=='*':\n",
    "        if len(stack2)<2:\n",
    "            v=stack2.pop()\n",
    "            stack2.append(v*2)\n",
    "        else:\n",
    "            v1=stack2.pop()\n",
    "            v2=stack2.pop()\n",
    "            stack2.append(v2*2)\n",
    "            stack2.append(v1*2)\n",
    "    elif x=='#':\n",
    "        v=stack2.pop()\n",
    "        stack2.append(v*(-1))\n",
    "    else:\n",
    "        stack2.append(x)\n",
    "sum(stack2)"
   ]
  },
  {
   "cell_type": "markdown",
   "id": "ancient-handling",
   "metadata": {},
   "source": [
    "같은숫자싫어"
   ]
  },
  {
   "cell_type": "code",
   "execution_count": null,
   "id": "unknown-helping",
   "metadata": {},
   "outputs": [],
   "source": [
    "def solution(arr):\n",
    "    answer=[]\n",
    "    arr.append(-1)\n",
    "    for i in range(len(arr)-1):\n",
    "        if arr[i]==arr[i+1]:\n",
    "            pass\n",
    "        else:\n",
    "            answer.append(arr[i])    \n",
    "    return answer"
   ]
  },
  {
   "cell_type": "markdown",
   "id": "binary-operations",
   "metadata": {},
   "source": [
    "나누어 떨어지는 숫자 배열"
   ]
  },
  {
   "cell_type": "code",
   "execution_count": null,
   "id": "ready-carpet",
   "metadata": {},
   "outputs": [],
   "source": [
    "def solution(arr, divisor):\n",
    "    answer = [x for x in arr if x%divisor==0]\n",
    "    answer.sort()\n",
    "    if len(answer)==0:\n",
    "        answer.append(-1)\n",
    "    return answer"
   ]
  },
  {
   "cell_type": "markdown",
   "id": "trying-generic",
   "metadata": {},
   "source": [
    "두 정수 사이의 합"
   ]
  },
  {
   "cell_type": "code",
   "execution_count": null,
   "id": "prospective-triangle",
   "metadata": {},
   "outputs": [],
   "source": [
    "def solution(a, b):\n",
    "    \n",
    "    return sum(range(min(a,b),max(a,b)+1))"
   ]
  },
  {
   "cell_type": "markdown",
   "id": "tough-wages",
   "metadata": {},
   "source": [
    "문자열 내맘대로"
   ]
  },
  {
   "cell_type": "code",
   "execution_count": null,
   "id": "satellite-picnic",
   "metadata": {},
   "outputs": [],
   "source": [
    "def solution(strings,n):\n",
    "    z=[(ord(x[n]),x) for x in strings]\n",
    "    z.sort()\n",
    "    a={}\n",
    "    for idx,x in z:\n",
    "        if idx in list(a.keys()):\n",
    "            a[idx]=a[idx]+[x]\n",
    "        else:\n",
    "            a[idx]=[x]\n",
    "    answer=[]\n",
    "    for x in a.values():\n",
    "        x.sort()\n",
    "        answer=answer+x\n",
    "    return answer"
   ]
  },
  {
   "cell_type": "markdown",
   "id": "metric-cheese",
   "metadata": {},
   "source": [
    "p,y 개수"
   ]
  },
  {
   "cell_type": "code",
   "execution_count": null,
   "id": "invalid-seven",
   "metadata": {},
   "outputs": [],
   "source": [
    "def solution(s):\n",
    "    answer = True\n",
    "    s=s.lower()\n",
    "    p=s.count('p')\n",
    "    y=s.count('y')\n",
    "    if p!=y:\n",
    "        answer=False\n",
    "\n",
    "    return answer"
   ]
  },
  {
   "cell_type": "markdown",
   "id": "played-humanitarian",
   "metadata": {},
   "source": [
    "문자열 내림차순 배치"
   ]
  },
  {
   "cell_type": "code",
   "execution_count": null,
   "id": "protecting-investigator",
   "metadata": {},
   "outputs": [],
   "source": [
    "def solution(s):\n",
    "    a=[ord(x) for x in s]\n",
    "    a.sort(reverse=True)\n",
    "    answer = ''\n",
    "    for x in a:\n",
    "        answer+=chr(x)\n",
    "    return answer"
   ]
  },
  {
   "cell_type": "markdown",
   "id": "excited-state",
   "metadata": {},
   "source": [
    "문자열 다루기 기본"
   ]
  },
  {
   "cell_type": "code",
   "execution_count": null,
   "id": "incorporate-reach",
   "metadata": {},
   "outputs": [],
   "source": [
    "def solution(s):\n",
    "    answer = True\n",
    "    if len(s) not in [4,6]:\n",
    "        answer=False\n",
    "    num=''\n",
    "    for x in range(10):\n",
    "        num+=str(x)\n",
    "        \n",
    "    for x in s:\n",
    "        if x not in num:\n",
    "            answer=False\n",
    "    return answer"
   ]
  },
  {
   "cell_type": "markdown",
   "id": "flexible-affairs",
   "metadata": {},
   "source": [
    "김서방"
   ]
  },
  {
   "cell_type": "code",
   "execution_count": null,
   "id": "union-emission",
   "metadata": {},
   "outputs": [],
   "source": [
    "def solution(seoul):\n",
    "    return '김서방은 '+str(seoul.index('Kim'))+'에 있다'"
   ]
  },
  {
   "cell_type": "markdown",
   "id": "skilled-leone",
   "metadata": {},
   "source": [
    "소수 "
   ]
  },
  {
   "cell_type": "code",
   "execution_count": null,
   "id": "controversial-harassment",
   "metadata": {},
   "outputs": [],
   "source": [
    "def solution(n):\n",
    "    check=[0]*(n+1)\n",
    "    cnt=0\n",
    "    for i in range(2,n+1):\n",
    "        if check[i]==0:\n",
    "            cnt+=1\n",
    "            for j in range(i,n+1,i):\n",
    "                check[j]=1\n",
    "    return cnt"
   ]
  },
  {
   "cell_type": "markdown",
   "id": "constant-reality",
   "metadata": {},
   "source": [
    "수박"
   ]
  },
  {
   "cell_type": "code",
   "execution_count": null,
   "id": "surgical-purple",
   "metadata": {},
   "outputs": [],
   "source": [
    "def solution(n):\n",
    "    answer = ''\n",
    "    for i in range(n):\n",
    "        if i%2==0:\n",
    "            answer+='수'\n",
    "        else:\n",
    "            answer+='박'\n",
    "    return answer"
   ]
  },
  {
   "cell_type": "markdown",
   "id": "awful-nature",
   "metadata": {},
   "source": [
    "문자열 정수로"
   ]
  },
  {
   "cell_type": "code",
   "execution_count": null,
   "id": "enhanced-carnival",
   "metadata": {},
   "outputs": [],
   "source": [
    "def solution(s):\n",
    "    return int(s)"
   ]
  },
  {
   "cell_type": "markdown",
   "id": "narrative-minneapolis",
   "metadata": {},
   "source": [
    "시저"
   ]
  },
  {
   "cell_type": "code",
   "execution_count": null,
   "id": "arabic-liabilities",
   "metadata": {},
   "outputs": [],
   "source": [
    "import string\n",
    "def solution(s, n):\n",
    "    lower='1'+string.ascii_lowercase\n",
    "    upper='1'+string.ascii_uppercase\n",
    "    sol=''\n",
    "    for x in s:\n",
    "        if x==' ':\n",
    "            sol+=x\n",
    "        else:\n",
    "            if x.islower():\n",
    "                idx=lower.index(x)+n\n",
    "                if idx>26:\n",
    "                    while True:\n",
    "                        if idx<=26:\n",
    "                            break\n",
    "                        idx-=26\n",
    "                sol+=lower[idx]\n",
    "            else:\n",
    "                idx=upper.index(x)+n\n",
    "                if idx>26:\n",
    "                    while True:\n",
    "                        if idx<=26:\n",
    "                            break\n",
    "                        idx-=26\n",
    "                sol+=upper[idx]\n",
    "    return sol"
   ]
  },
  {
   "cell_type": "markdown",
   "id": "indie-separate",
   "metadata": {},
   "source": [
    "약수합"
   ]
  },
  {
   "cell_type": "code",
   "execution_count": null,
   "id": "imperial-yahoo",
   "metadata": {},
   "outputs": [],
   "source": [
    "def solution(n):\n",
    "    answer = 0\n",
    "    for x in range(1,n+1):\n",
    "        if n%x==0:\n",
    "            answer+=x\n",
    "    return answer"
   ]
  },
  {
   "cell_type": "markdown",
   "id": "sitting-animal",
   "metadata": {},
   "source": [
    "이상한 문자 만들기"
   ]
  },
  {
   "cell_type": "code",
   "execution_count": null,
   "id": "distant-strength",
   "metadata": {},
   "outputs": [],
   "source": [
    "def solution(s):\n",
    "    a=s.split(' ')\n",
    "    answer =''\n",
    "    for x in a:\n",
    "        aa=''\n",
    "        for i,x in enumerate(x): ## 여기선 idx 가 0부터니까 짝수면 소문자로\n",
    "            if i%2!=0:\n",
    "                aa+=x.lower()\n",
    "            else:\n",
    "                aa+=x.upper()\n",
    "        answer+=aa+' '\n",
    "    return answer[:len(answer)-1]"
   ]
  },
  {
   "cell_type": "markdown",
   "id": "excellent-design",
   "metadata": {},
   "source": [
    "자릿수 더하기"
   ]
  },
  {
   "cell_type": "code",
   "execution_count": null,
   "id": "mighty-imperial",
   "metadata": {},
   "outputs": [],
   "source": [
    "def solution(n):\n",
    "    n=str(n)\n",
    "    answer = 0\n",
    "    for x in n:\n",
    "        answer+=int(x)\n",
    "\n",
    "    return answer"
   ]
  },
  {
   "cell_type": "markdown",
   "id": "third-crossing",
   "metadata": {},
   "source": [
    "자연수 뒤집기"
   ]
  },
  {
   "cell_type": "code",
   "execution_count": null,
   "id": "developed-trace",
   "metadata": {},
   "outputs": [],
   "source": [
    "def solution(n):\n",
    "    return [int(x) for x in str(n)[::-1]]"
   ]
  },
  {
   "cell_type": "markdown",
   "id": "mobile-cookbook",
   "metadata": {},
   "source": [
    "정수 내림차순"
   ]
  },
  {
   "cell_type": "code",
   "execution_count": null,
   "id": "going-being",
   "metadata": {},
   "outputs": [],
   "source": [
    "def solution(n):\n",
    "    a=[int(x) for x in str(n)]\n",
    "    a.sort(reverse=True)\n",
    "    answer=''\n",
    "    for x in a:\n",
    "        answer+=str(x)\n",
    "    return int(answer)"
   ]
  },
  {
   "cell_type": "markdown",
   "id": "processed-soldier",
   "metadata": {},
   "source": [
    "정수 제곱근 판별"
   ]
  },
  {
   "cell_type": "code",
   "execution_count": null,
   "id": "neither-market",
   "metadata": {},
   "outputs": [],
   "source": [
    "from math import sqrt\n",
    "def solution(n):\n",
    "    if sqrt(n)==int(sqrt(n)):\n",
    "        answer=(sqrt(n)+1)**2\n",
    "    else:\n",
    "        answer=-1\n",
    "    return answer"
   ]
  },
  {
   "cell_type": "markdown",
   "id": "occupational-charlotte",
   "metadata": {},
   "source": [
    "제일 작은 수 제거"
   ]
  },
  {
   "cell_type": "code",
   "execution_count": null,
   "id": "orange-breath",
   "metadata": {},
   "outputs": [],
   "source": [
    "def solution(arr):\n",
    "    arr.pop(arr.index(min(arr)))\n",
    "    if len(arr)==0:\n",
    "        arr.append(-1)\n",
    "    return arr"
   ]
  }
 ],
 "metadata": {
  "kernelspec": {
   "display_name": "Python 3",
   "language": "python",
   "name": "python3"
  },
  "language_info": {
   "codemirror_mode": {
    "name": "ipython",
    "version": 3
   },
   "file_extension": ".py",
   "mimetype": "text/x-python",
   "name": "python",
   "nbconvert_exporter": "python",
   "pygments_lexer": "ipython3",
   "version": "3.7.10"
  }
 },
 "nbformat": 4,
 "nbformat_minor": 5
}
