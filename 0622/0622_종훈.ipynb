{
 "cells": [
  {
   "cell_type": "markdown",
   "metadata": {},
   "source": [
    "## [1차] 다트 게임"
   ]
  },
  {
   "cell_type": "code",
   "execution_count": null,
   "metadata": {},
   "outputs": [],
   "source": [
    "# 내 풀이\n",
    "def solution(dartResult):\n",
    "    a = []\n",
    "    num = 0\n",
    "    for i in range(len(dartResult)):\n",
    "        if dartResult[i] == '0' and dartResult[i-1] in list(map(str, range(1, 10))): \n",
    "            continue\n",
    "        if dartResult[i] in list(map(str, range(10))):\n",
    "            a.append(num)\n",
    "            num = 0\n",
    "            if dartResult[i+1] == '0':\n",
    "                num = int(dartResult[i:i+2])\n",
    "            else:\n",
    "                num = int(dartResult[i])\n",
    "                \n",
    "        if dartResult[i] == \"D\":\n",
    "            num = num**2\n",
    "        elif dartResult[i] == \"T\":\n",
    "            num = num**3\n",
    "              \n",
    "        if dartResult[i] == '*':\n",
    "            num = num*2\n",
    "            if len(a) != 0:\n",
    "                a[-1] = a[-1]*2\n",
    "        elif dartResult[i] == '#':\n",
    "            num = num*(-1)\n",
    "    else:\n",
    "        a.append(num)\n",
    "    \n",
    "    answer = sum(a)      \n",
    "                \n",
    "    return answer\n",
    "\n",
    "## 다른사람 풀이\n",
    "# 미쳤다 이건 공부해보자\n",
    "\n",
    "import re\n",
    "\n",
    "def solution(dartResult):\n",
    "    bonus = {'S' : 1, 'D' : 2, 'T' : 3}\n",
    "    option = {'' : 1, '*' : 2, '#' : -1}\n",
    "    p = re.compile('(\\d+)([SDT])([*#]?)') # () 는 그루핑 해줌. / ? : 있어도 되고 없어도 된다\n",
    "    dart = p.findall(dartResult) # ex) dartResult = '1D2S#10S' / dart = [('1', 'D', ''), ('2', 'S', '#'), ('10', 'S', '')]\n",
    "    for i in range(len(dart)):\n",
    "        if dart[i][2] == '*' and i > 0:\n",
    "            dart[i-1] *= 2\n",
    "        dart[i] = int(dart[i][0]) ** bonus[dart[i][1]] * option[dart[i][2]]\n",
    "\n",
    "    answer = sum(dart)\n",
    "    return answer\n",
    "\n",
    "dartResult = '1D2S#10S'\n",
    "bonus = {'S' : 1, 'D' : 2, 'T' : 3}\n",
    "option = {'' : 1, '*' : 2, '#' : -1}\n",
    "p = re.compile('(\\d+)([SDT])([*#]?)')\n",
    "dart = p.findall(dartResult)\n",
    "print(dart)"
   ]
  },
  {
   "cell_type": "markdown",
   "metadata": {},
   "source": [
    "## 같은 숫자는 싫어"
   ]
  },
  {
   "cell_type": "code",
   "execution_count": 1,
   "metadata": {},
   "outputs": [],
   "source": [
    "# 내 풀이\n",
    "def solution(arr):\n",
    "    num = arr[0]\n",
    "    answer = [num]\n",
    "    for i in range(len(arr)):\n",
    "        if arr[i] != num:\n",
    "            num = arr[i]\n",
    "            answer.append(num)\n",
    "    return answer\n",
    "\n",
    "# 다른사람 풀이\n",
    "def no_continuous(s):\n",
    "    a = []\n",
    "    for i in s:\n",
    "        if a[-1:] == [i]: continue # a 리스트에 마지막 수가 i와 같으면 밑에 코드 생략하고 건너뜀.\n",
    "        a.append(i)\n",
    "    return a"
   ]
  },
  {
   "cell_type": "markdown",
   "metadata": {},
   "source": [
    "## 나누어 떨어지는 숫자 배열"
   ]
  },
  {
   "cell_type": "code",
   "execution_count": null,
   "metadata": {},
   "outputs": [],
   "source": [
    "## 내 풀이\n",
    "def solution(arr, divisor):\n",
    "    answer = []\n",
    "    for num in arr:\n",
    "        if num%divisor == 0:\n",
    "            answer.append(num)\n",
    "    if len(answer) == 0:\n",
    "        answer.append(-1)\n",
    "    answer.sort()\n",
    "    return answer\n",
    "\n",
    "\n",
    "## 다른사람 풀이\n",
    "# 한줄충들...\n",
    "def solution(arr, divisor): return sorted([n for n in arr if n%divisor == 0]) or [-1]"
   ]
  },
  {
   "cell_type": "markdown",
   "metadata": {},
   "source": [
    "## 두 정수 사이의 합"
   ]
  },
  {
   "cell_type": "code",
   "execution_count": null,
   "metadata": {},
   "outputs": [],
   "source": [
    "def solution(a, b):\n",
    "    answer = 0\n",
    "    if a > b:\n",
    "        a, b = b, a\n",
    "    answer = sum(range(a, b+1))    \n",
    "    return answer"
   ]
  },
  {
   "cell_type": "markdown",
   "metadata": {},
   "source": [
    "## 문자열 내 마음대로 정렬하기"
   ]
  },
  {
   "cell_type": "code",
   "execution_count": null,
   "metadata": {},
   "outputs": [],
   "source": [
    "def solution(strings, n):\n",
    "    strings.sort()\n",
    "    answer = sorted(strings, key = lambda x : x[n])\n",
    "    return answer"
   ]
  },
  {
   "cell_type": "markdown",
   "metadata": {},
   "source": [
    "## 문자열 내 p와 y의 개수"
   ]
  },
  {
   "cell_type": "code",
   "execution_count": null,
   "metadata": {},
   "outputs": [],
   "source": [
    "def solution(s):\n",
    "    s = s.lower()\n",
    "    if s.count(\"p\") == s.count(\"y\"):\n",
    "        return True\n",
    "    else:\n",
    "        return False"
   ]
  },
  {
   "cell_type": "markdown",
   "metadata": {},
   "source": [
    "## 문자열 내림차순으로 배치하기"
   ]
  },
  {
   "cell_type": "code",
   "execution_count": null,
   "metadata": {},
   "outputs": [],
   "source": [
    "## 내 풀이\n",
    "def solution(s):\n",
    "    arr = []\n",
    "    for x in s:\n",
    "        arr.append(ord(x))\n",
    "    arr.sort(reverse = True)\n",
    "    answer = ''\n",
    "    for k in arr:\n",
    "        answer += chr(k)\n",
    "    return answer\n",
    "\n",
    "## 다른사람 풀이\n",
    "# 난 sort만 해봤는데 안되길래 아스키로 했는데 sorted는 되네...\n",
    "def solution(s):\n",
    "    s = sorted(s, reverse = True)\n",
    "    #s.sort()\n",
    "    return ''.join(s)"
   ]
  },
  {
   "cell_type": "markdown",
   "metadata": {},
   "source": [
    "## 문자열 다루기 기본"
   ]
  },
  {
   "cell_type": "code",
   "execution_count": null,
   "metadata": {},
   "outputs": [],
   "source": [
    "def solution(s):\n",
    "    if s.isnumeric() and (len(s) in [4, 6]):\n",
    "        return True\n",
    "    else:\n",
    "        return False"
   ]
  },
  {
   "cell_type": "markdown",
   "metadata": {},
   "source": [
    "## 서울에서 김서방 찾기"
   ]
  },
  {
   "cell_type": "code",
   "execution_count": null,
   "metadata": {},
   "outputs": [],
   "source": [
    "# 내 풀이\n",
    "def solution(seoul):\n",
    "    idx = seoul.index(\"Kim\")\n",
    "    answer = f\"김서방은 {idx}에 있다\"\n",
    "    return answer\n",
    "\n",
    "# 다른사람 풀이\n",
    "def findKim(seoul):\n",
    "    return \"김서방은 {}에 있다\".format(seoul.index('Kim'))"
   ]
  },
  {
   "cell_type": "markdown",
   "metadata": {},
   "source": [
    "## 소수 찾기"
   ]
  },
  {
   "cell_type": "code",
   "execution_count": null,
   "metadata": {},
   "outputs": [],
   "source": [
    "\n",
    "# 에라토스테네스의 체\n",
    "def solution(n):\n",
    "    ch = [0] * (n+1)\n",
    "    cnt = 0\n",
    "    for i in range(2, n + 1):\n",
    "        if ch[i] == 0:\n",
    "            cnt += 1\n",
    "            for j in range(i, n+1, i):\n",
    "                ch[j] = 1\n",
    "    return cnt"
   ]
  },
  {
   "cell_type": "markdown",
   "metadata": {},
   "source": [
    "## 수박수박수박수박수박수?"
   ]
  },
  {
   "cell_type": "code",
   "execution_count": null,
   "metadata": {},
   "outputs": [],
   "source": [
    "def solution(n):\n",
    "    answer = ''\n",
    "    for i in range(n):\n",
    "        if i % 2 == 0:\n",
    "            answer += \"수\"\n",
    "        else:\n",
    "            answer += \"박\"\n",
    "    return answer"
   ]
  },
  {
   "cell_type": "markdown",
   "metadata": {},
   "source": [
    "## 문자열을 정수로 바꾸기"
   ]
  },
  {
   "cell_type": "code",
   "execution_count": null,
   "metadata": {},
   "outputs": [],
   "source": [
    "def solution(s):\n",
    "    return int(s)"
   ]
  },
  {
   "cell_type": "markdown",
   "metadata": {},
   "source": [
    "## 시저 암호"
   ]
  },
  {
   "cell_type": "code",
   "execution_count": null,
   "metadata": {},
   "outputs": [],
   "source": [
    "def solution(s, n):\n",
    "    u = 'ABCDEFGHIJKLMNOPQRSTUVWXYZ'\n",
    "    l = 'abcdefghijklmnopqrstuvwxyz'\n",
    "    answer = ''\n",
    "    for x in s:\n",
    "        if x == ' ':\n",
    "            answer += x\n",
    "        else:\n",
    "            if x.islower():\n",
    "                a = l.index(x)\n",
    "                b = (a+n) % 26\n",
    "                answer += l[b]\n",
    "            else: \n",
    "                a = u.index(x)\n",
    "                b = (a+n) % 26\n",
    "                answer += u[b]\n",
    "    return answer"
   ]
  },
  {
   "cell_type": "markdown",
   "metadata": {},
   "source": [
    "## 약수의 합"
   ]
  },
  {
   "cell_type": "code",
   "execution_count": null,
   "metadata": {},
   "outputs": [],
   "source": [
    "def solution(n):\n",
    "    answer = n\n",
    "    if n == 0:\n",
    "        return 0\n",
    "    for i in range(1, n//2 + 1):\n",
    "        if n % i == 0:\n",
    "            answer += i\n",
    "    return answer"
   ]
  },
  {
   "cell_type": "markdown",
   "metadata": {},
   "source": [
    "## 이상한 문자 만들기"
   ]
  },
  {
   "cell_type": "code",
   "execution_count": null,
   "metadata": {},
   "outputs": [],
   "source": [
    "def solution(s):\n",
    "    answer = ''\n",
    "    ch = -1\n",
    "    for x in s:\n",
    "        ch += 1\n",
    "        if x == ' ':\n",
    "            answer += x\n",
    "            ch = -1\n",
    "        else:\n",
    "            if ch % 2 == 0:\n",
    "                answer += x.upper()\n",
    "            else:\n",
    "                answer += x.lower()\n",
    "    return answer"
   ]
  },
  {
   "cell_type": "markdown",
   "metadata": {},
   "source": [
    "## 자릿수 더하기"
   ]
  },
  {
   "cell_type": "code",
   "execution_count": 2,
   "metadata": {},
   "outputs": [],
   "source": [
    "def solution(n):\n",
    "    answer = 0\n",
    "    while n != 0:\n",
    "        answer += n % 10\n",
    "        n = n // 10\n",
    "    return answer\n",
    "\n",
    "\n",
    "# 재귀함수로 만들기\n",
    "def sum_digit(number):\n",
    "    if number < 10:\n",
    "        return number;\n",
    "    return (number % 10) + sum_digit(number // 10) # 재귀함수 안에서 함수 호출 가능."
   ]
  },
  {
   "cell_type": "markdown",
   "metadata": {},
   "source": [
    "## 자연수 뒤집어 배열로 만들기"
   ]
  },
  {
   "cell_type": "code",
   "execution_count": null,
   "metadata": {},
   "outputs": [],
   "source": [
    "def solution(n):\n",
    "    n = str(n)\n",
    "    n = n[::-1]\n",
    "    answer = [int(x) for x in n]\n",
    "    return answer\n",
    "\n",
    "\n",
    "# 다른사람 풀이\n",
    "def digit_reverse(n):\n",
    "    return list(map(int, reversed(str(n)))) # map함수 유용하네"
   ]
  },
  {
   "cell_type": "markdown",
   "metadata": {},
   "source": [
    "## 정수 내림차순으로 배치하기"
   ]
  },
  {
   "cell_type": "code",
   "execution_count": null,
   "metadata": {},
   "outputs": [],
   "source": [
    "def solution(n):\n",
    "    return int(''.join(sorted(str(n), reverse = True)))"
   ]
  },
  {
   "cell_type": "markdown",
   "metadata": {},
   "source": [
    "## 정수 제곱근 판별"
   ]
  },
  {
   "cell_type": "code",
   "execution_count": null,
   "metadata": {},
   "outputs": [],
   "source": [
    "# math 사용\n",
    "from math import sqrt\n",
    "def solution(n):\n",
    "    if n % sqrt(n) == 0:\n",
    "        return (sqrt(n)+1)**2\n",
    "    else:\n",
    "        return -1\n",
    "\n",
    "# math 사용안함\n",
    "def solution(n):\n",
    "    sqrt = n**(1/2)\n",
    "    if sqrt % 1 == 0:\n",
    "        return (sqrt+1)**2\n",
    "    else:\n",
    "        return -1"
   ]
  },
  {
   "cell_type": "markdown",
   "metadata": {},
   "source": [
    "## 제일 작은 수 제거하기"
   ]
  },
  {
   "cell_type": "code",
   "execution_count": null,
   "metadata": {},
   "outputs": [],
   "source": [
    "def solution(arr):\n",
    "    arr.remove(min(arr))\n",
    "    if len(arr) != 0:\n",
    "        return arr\n",
    "    else:\n",
    "        return [-1]"
   ]
  },
  {
   "cell_type": "code",
   "execution_count": null,
   "metadata": {},
   "outputs": [],
   "source": []
  }
 ],
 "metadata": {
  "kernelspec": {
   "display_name": "Python 3",
   "language": "python",
   "name": "python3"
  },
  "language_info": {
   "codemirror_mode": {
    "name": "ipython",
    "version": 3
   },
   "file_extension": ".py",
   "mimetype": "text/x-python",
   "name": "python",
   "nbconvert_exporter": "python",
   "pygments_lexer": "ipython3",
   "version": "3.7.6"
  }
 },
 "nbformat": 4,
 "nbformat_minor": 4
}
