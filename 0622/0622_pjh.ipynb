{
 "cells": [
  {
   "cell_type": "markdown",
   "metadata": {},
   "source": [
    "# 다트게임"
   ]
  },
  {
   "cell_type": "code",
   "execution_count": 1,
   "metadata": {},
   "outputs": [],
   "source": [
    "def solution(dartResult):\n",
    "    answer = 0\n",
    "    score = []\n",
    "    tmp= 0\n",
    "    for i in range(0,len(dartResult)):\n",
    "        if dartResult[i] in ['0','1','2','3','4','5','6','7','8','9','10','*',\"#\"]:\n",
    "            tmp= dartResult[i]\n",
    "            if tmp == '*':\n",
    "                score.append(int(tmp))\n",
    "                score = [x*2 for x in score]\n",
    "            if str(dartResult[i]) == '#' :\n",
    "                score.append(-int(tmp))\n",
    "            score.append(int(tmp))\n",
    "        else:\n",
    "            if dartResult[i] in ['S','D','T']:\n",
    "                if dartResult[i] == 'S':\n",
    "                    tmp = int(tmp)**1\n",
    "                elif dartResult[i] == 'D':\n",
    "                    tmp = int(tmp)**2\n",
    "                elif dartResult[i] == 'T' :\n",
    "                    tmp = int(tmp)**3\n",
    "    answer = sum(score)\n",
    "    return answer"
   ]
  },
  {
   "cell_type": "markdown",
   "metadata": {},
   "source": [
    "# 같은 숫자는 싫어"
   ]
  },
  {
   "cell_type": "code",
   "execution_count": 2,
   "metadata": {},
   "outputs": [],
   "source": [
    "def solution(arr):\n",
    "    answer = []\n",
    "    answer.append(arr[0])\n",
    "    # [실행] 버튼을 누르면 출력 값을 볼 수 있습니다.\n",
    "    for i in range(1,len(arr)):\n",
    "        if answer[-1] == arr[i]:\n",
    "            continue\n",
    "        else :\n",
    "            answer.append(arr[i])\n",
    "    print('Hello Python')\n",
    "    return answer"
   ]
  },
  {
   "cell_type": "markdown",
   "metadata": {},
   "source": [
    "# 나누어 떨어지는 숫자 배열"
   ]
  },
  {
   "cell_type": "code",
   "execution_count": 3,
   "metadata": {},
   "outputs": [],
   "source": [
    "def solution(arr, divisor):\n",
    "    answer = []\n",
    "    for i in range(0,len(arr)):\n",
    "        if arr[i]%divisor == 0:\n",
    "            answer.append(arr[i])\n",
    "    if len(answer)==0:\n",
    "        answer = [-1]\n",
    "    answer.sort()\n",
    "    return answer"
   ]
  },
  {
   "cell_type": "markdown",
   "metadata": {},
   "source": [
    "# 두 정수 사이의 합"
   ]
  },
  {
   "cell_type": "code",
   "execution_count": 4,
   "metadata": {},
   "outputs": [],
   "source": [
    "def solution(a, b):\n",
    "    answer = 0\n",
    "    if a < b :\n",
    "        for x in range(a,b+1):\n",
    "            answer += x\n",
    "    else:\n",
    "        for x in range(b, a+1):\n",
    "            answer += x\n",
    "    return answer"
   ]
  },
  {
   "cell_type": "markdown",
   "metadata": {},
   "source": [
    "# 문자열 내 마음대로 정렬하기"
   ]
  },
  {
   "cell_type": "code",
   "execution_count": 5,
   "metadata": {},
   "outputs": [],
   "source": [
    "def solution(strings, n):\n",
    "    answer = []\n",
    "    tmp = {}\n",
    "    for i in range(0,len(strings)):\n",
    "        tmp[strings[i][n]] = tmp[strings[i][n]].append(strings[i])\n",
    "    for i in range(0,len(strings)):\n",
    "        if len(tmp[strings[i][n]]) >1 :\n",
    "            tmp[strings[i][n]] = tmp[strings[i][n]].sort()\n",
    "    tmp = dict(sorted(tmp.items(), key=lambda item: item[0]))\n",
    "    print(tmp.keys())\n",
    "    return answer"
   ]
  },
  {
   "cell_type": "markdown",
   "metadata": {},
   "source": [
    "# 문자열 내 p와 y의 개수"
   ]
  },
  {
   "cell_type": "code",
   "execution_count": 6,
   "metadata": {},
   "outputs": [],
   "source": [
    "def solution(s):\n",
    "    answer = True\n",
    "    s = s.lower()\n",
    "    # [실행] 버튼을 누르면 출력 값을 볼 수 있습니다.\n",
    "    count = 0\n",
    "    for i in range(0,len(s)):\n",
    "        if s[i] == 'p':\n",
    "            count += 1\n",
    "        elif s[i] == 'y':\n",
    "            count -= 1\n",
    "    if count == 0:\n",
    "        return True\n",
    "    else:\n",
    "        return False"
   ]
  },
  {
   "cell_type": "markdown",
   "metadata": {},
   "source": [
    "# 문자열 내림차순으로 배치하기"
   ]
  },
  {
   "cell_type": "code",
   "execution_count": 7,
   "metadata": {},
   "outputs": [],
   "source": [
    "def solution(s):\n",
    "    answer = ''\n",
    "    lower = list()\n",
    "    upper = list()\n",
    "    print(s[1])\n",
    "    for i in range(0,len(s)):\n",
    "        if s[i] == s[i].lower():\n",
    "            lower.append(s[i])\n",
    "        elif s[i] == s[i].upper() :\n",
    "            upper.append(s[i])\n",
    "    lower.sort(reverse = True)\n",
    "    upper.sort(reverse = True)\n",
    "    for j in range(0,len(lower)):\n",
    "        answer += lower[j]\n",
    "    for k in range(0,len(upper)):\n",
    "        answer += upper[k]\n",
    "    \n",
    "    return answer"
   ]
  },
  {
   "cell_type": "markdown",
   "metadata": {},
   "source": [
    "# 문자열 다루기 기본"
   ]
  },
  {
   "cell_type": "code",
   "execution_count": 8,
   "metadata": {},
   "outputs": [],
   "source": [
    "def solution(s):\n",
    "    answer = True\n",
    "    from collections import deque\n",
    "    s = deque(s)\n",
    "    while s:\n",
    "        tmp = s.popleft()\n",
    "        if tmp in ['0','1','2','3','4','5','6','7','8','9']:\n",
    "            pass\n",
    "        else:\n",
    "            answer = False\n",
    "            break\n",
    "    if answer == True :\n",
    "        if len(s) != 4 or len(s) != 6:\n",
    "            answer = False\n",
    "    return answer"
   ]
  },
  {
   "cell_type": "markdown",
   "metadata": {},
   "source": [
    "# 서울에서 김서방 찾기"
   ]
  },
  {
   "cell_type": "code",
   "execution_count": 9,
   "metadata": {},
   "outputs": [],
   "source": [
    "def solution(seoul):\n",
    "    answer = ''\n",
    "    for i in range(0,len(seoul)):\n",
    "        if seoul[i] == 'Kim':\n",
    "            answer = '김서방은 '+ str(i) +'에 있다'\n",
    "            break\n",
    "    return answer"
   ]
  },
  {
   "cell_type": "markdown",
   "metadata": {},
   "source": [
    "# 소수 찾기"
   ]
  },
  {
   "cell_type": "code",
   "execution_count": 10,
   "metadata": {},
   "outputs": [],
   "source": [
    "def solution(n):\n",
    "    answer = 0\n",
    "    ch=[0]*(n+1)\n",
    "    cnt=0\n",
    "    for i in range(2, n+1):\n",
    "        if ch[i]==0:\n",
    "            cnt+=1\n",
    "            for j in range(i, n+1, i):\n",
    "                ch[j]=1\n",
    "    return cnt"
   ]
  },
  {
   "cell_type": "markdown",
   "metadata": {},
   "source": [
    "# 수박?"
   ]
  },
  {
   "cell_type": "code",
   "execution_count": 11,
   "metadata": {},
   "outputs": [],
   "source": [
    "def solution(n):\n",
    "    answer = ''\n",
    "    tmp=0\n",
    "    if n%2 == 0:\n",
    "        tmp = int(n/2)\n",
    "        answer = '수박' * tmp\n",
    "    else :\n",
    "        tmp = int(int(n)//2)\n",
    "        answer = '수박' * tmp\n",
    "        answer = answer + '수'\n",
    "        print(answer)\n",
    "    return answer"
   ]
  },
  {
   "cell_type": "markdown",
   "metadata": {},
   "source": [
    "# 문자열 정수로 바꾸기"
   ]
  },
  {
   "cell_type": "code",
   "execution_count": 12,
   "metadata": {},
   "outputs": [],
   "source": [
    "def solution(s):\n",
    "    answer = int(s)\n",
    "    return answer"
   ]
  },
  {
   "cell_type": "markdown",
   "metadata": {},
   "source": [
    "# 시저 암호"
   ]
  },
  {
   "cell_type": "code",
   "execution_count": 13,
   "metadata": {},
   "outputs": [],
   "source": [
    "def solution(s, n):\n",
    "    answer = ''\n",
    "    tmp = 0\n",
    "    #print(chr(90))\n",
    "    for i in range(0,len(s)):\n",
    "        if int(ord(s[i])) > 64 and int(ord(s[i])) < 91 and int(ord(s[i])) + n > 90:\n",
    "            tmp = int(ord(s[i])) + n - 26\n",
    "            answer = answer + chr(int(tmp))\n",
    "        elif int(ord(s[i])) > 96 and int(ord(s[i])) < 123 and int(ord(s[i])) + n > 122:\n",
    "            tmp = int(ord(s[i])) + n - 26\n",
    "            answer = answer + chr(int(tmp))\n",
    "        else :\n",
    "            if s[i] == ' ':\n",
    "                answer += s[i]\n",
    "            else:\n",
    "                answer += chr(int(ord(s[i])) +n)\n",
    "    return answer"
   ]
  },
  {
   "cell_type": "markdown",
   "metadata": {},
   "source": [
    "# 약수의 합"
   ]
  },
  {
   "cell_type": "code",
   "execution_count": 14,
   "metadata": {},
   "outputs": [],
   "source": [
    "def solution(n):\n",
    "    answer = 0\n",
    "    for i in range(1,n+1):\n",
    "        if n%i==0:\n",
    "            answer += i\n",
    "    return answer"
   ]
  },
  {
   "cell_type": "markdown",
   "metadata": {},
   "source": [
    "# 이상한 문자 만들기"
   ]
  },
  {
   "cell_type": "code",
   "execution_count": 15,
   "metadata": {},
   "outputs": [],
   "source": [
    "def solution(s):\n",
    "    answer = ''\n",
    "    from collections import deque\n",
    "    q = deque(s)\n",
    "    tmp = ''\n",
    "    cnt = 0\n",
    "    while q:\n",
    "        tmp = q.popleft()\n",
    "        if tmp == ' ':\n",
    "            answer += tmp\n",
    "            cnt = 0\n",
    "        else:\n",
    "            if cnt % 2 == 0:\n",
    "                answer += tmp.upper()\n",
    "                cnt += 1\n",
    "            else:\n",
    "                answer += tmp.lower()\n",
    "                cnt += 1\n",
    "    return answer"
   ]
  },
  {
   "cell_type": "markdown",
   "metadata": {},
   "source": [
    "# 자릿수 더하기"
   ]
  },
  {
   "cell_type": "code",
   "execution_count": 16,
   "metadata": {},
   "outputs": [],
   "source": [
    "def solution(n):\n",
    "    answer = 0\n",
    "\n",
    "    # [실행] 버튼을 누르면 출력 값을 볼 수 있습니다.\n",
    "    print('Hello Python')\n",
    "    tmp = str(n)\n",
    "    for i in range(0,len(tmp)):\n",
    "        answer += int(tmp[i])\n",
    "\n",
    "    return answer"
   ]
  },
  {
   "cell_type": "markdown",
   "metadata": {},
   "source": [
    "# 자연수 뒤집어 배열로 만들기"
   ]
  },
  {
   "cell_type": "code",
   "execution_count": 17,
   "metadata": {},
   "outputs": [],
   "source": [
    "def solution(n):\n",
    "    answer = []\n",
    "    tmp = str(n)\n",
    "    tmp = tmp[::-1]\n",
    "    for i in range(0,len(tmp)):\n",
    "        answer.append(int(tmp[i]))\n",
    "    return answer"
   ]
  },
  {
   "cell_type": "markdown",
   "metadata": {},
   "source": [
    "# 정수 내림차순으로 배치하기"
   ]
  },
  {
   "cell_type": "code",
   "execution_count": 18,
   "metadata": {},
   "outputs": [],
   "source": [
    "def solution(n):\n",
    "    answer = ''\n",
    "    tmp = []\n",
    "    tmp_ = str(n)\n",
    "    for i in range(0,len(tmp_)):\n",
    "        tmp.append(tmp_[i])\n",
    "    tmp.sort(reverse = True)\n",
    "    for i in range(0,len(tmp)):\n",
    "        answer += str(tmp[i])\n",
    "    answer = int(answer)\n",
    "    return answer"
   ]
  },
  {
   "cell_type": "markdown",
   "metadata": {},
   "source": [
    "# 정수 제곱근 판별"
   ]
  },
  {
   "cell_type": "code",
   "execution_count": 19,
   "metadata": {},
   "outputs": [],
   "source": [
    "def solution(n):\n",
    "    answer = 0\n",
    "    import math\n",
    "    if math.sqrt(n) == round(math.sqrt(n), 1):\n",
    "        answer = (math.sqrt(n)+1)**2\n",
    "    else :\n",
    "        answer = -1\n",
    "    return answer"
   ]
  },
  {
   "cell_type": "markdown",
   "metadata": {},
   "source": [
    "# 제일 작은 수 제거하기"
   ]
  },
  {
   "cell_type": "code",
   "execution_count": 20,
   "metadata": {},
   "outputs": [],
   "source": [
    "def solution(arr):\n",
    "    answer = []\n",
    "    arr.sort(reverse=True)\n",
    "    check = [0] * len(answer)\n",
    "    if len(arr) == 1:\n",
    "        answer = [-1]\n",
    "    else:\n",
    "        l = 2147000000\n",
    "        for i in range(0,len(answer)):\n",
    "            if l > answer[i]:\n",
    "                l = answer[i]\n",
    "                check = [0] * len(answer)\n",
    "                check[i] = 1\n",
    "        answer = answer[:-check.index(1)]\n",
    "    return answer"
   ]
  }
 ],
 "metadata": {
  "kernelspec": {
   "display_name": "Python 3",
   "language": "python",
   "name": "python3"
  },
  "language_info": {
   "codemirror_mode": {
    "name": "ipython",
    "version": 3
   },
   "file_extension": ".py",
   "mimetype": "text/x-python",
   "name": "python",
   "nbconvert_exporter": "python",
   "pygments_lexer": "ipython3",
   "version": "3.7.6"
  }
 },
 "nbformat": 4,
 "nbformat_minor": 4
}
