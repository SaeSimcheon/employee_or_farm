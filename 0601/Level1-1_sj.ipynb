{
 "cells": [
  {
   "cell_type": "markdown",
   "metadata": {},
   "source": [
    "# 체육복"
   ]
  },
  {
   "cell_type": "code",
   "execution_count": null,
   "metadata": {},
   "outputs": [],
   "source": [
    "def solution(n, lost, reserve):\n",
    "    from collections import deque\n",
    "    answer = 0\n",
    "    arr = list(range(1,n+1))\n",
    "    for i in range(1,n+1):\n",
    "        if i in lost and i in reserve:\n",
    "            lost.remove(i)\n",
    "            reserve.remove(i)\n",
    "    lost = deque(lost)\n",
    "    while lost:\n",
    "        a = lost.popleft()\n",
    "        if a-1 in reserve:\n",
    "            reserve.remove(a-1)\n",
    "        elif a+1 in reserve:\n",
    "            reserve.remove(a+1)\n",
    "        else:\n",
    "            arr.remove(a)\n",
    "    answer = len(arr)\n",
    "    return answer"
   ]
  },
  {
   "cell_type": "markdown",
   "metadata": {},
   "source": [
    "# 완주하지 못한 선수"
   ]
  },
  {
   "cell_type": "code",
   "execution_count": null,
   "metadata": {},
   "outputs": [],
   "source": [
    "def solution(participant, completion):\n",
    "    p = dict()\n",
    "    for i in participant:\n",
    "        if i in p:\n",
    "            p[i] += 1\n",
    "        else:\n",
    "            p[i] = 1\n",
    "    for j in completion:\n",
    "        if j in p:\n",
    "            p[j]-=1\n",
    "    for k,v in p.items():\n",
    "        if v != 0:\n",
    "            answer = k\n",
    "    return answer"
   ]
  },
  {
   "cell_type": "markdown",
   "metadata": {},
   "source": [
    "# 크레인 인형뽑기"
   ]
  },
  {
   "cell_type": "code",
   "execution_count": null,
   "metadata": {},
   "outputs": [],
   "source": [
    "def solution(board, moves):\n",
    "    answer = 0\n",
    "    tmp = len(board)\n",
    "    stack = []\n",
    "    for i in moves:\n",
    "        while len(stack)>1 and stack[-1]==stack[-2]:\n",
    "            stack.pop()\n",
    "            stack.pop()\n",
    "            answer += 2\n",
    "        for j in range(tmp):\n",
    "            if board[j][i-1]!=0:\n",
    "                stack.append(board[j][i-1])\n",
    "                board[j][i-1]=0\n",
    "                break\n",
    "    return answer"
   ]
  },
  {
   "cell_type": "markdown",
   "metadata": {},
   "source": [
    "# 내적"
   ]
  },
  {
   "cell_type": "code",
   "execution_count": null,
   "metadata": {},
   "outputs": [],
   "source": [
    "def solution(a, b):\n",
    "    answer = sum([a[i]*b[i] for i in range(len(a))])\n",
    "    return answer"
   ]
  },
  {
   "cell_type": "markdown",
   "metadata": {},
   "source": [
    "# 모의고사"
   ]
  },
  {
   "cell_type": "code",
   "execution_count": null,
   "metadata": {},
   "outputs": [],
   "source": [
    "def solution(answers):\n",
    "    D = {1:[1,2,3,4,5], 2:[2,1,2,3,2,4,2,5], 3:[3,3,1,1,2,2,4,4,5,5]}\n",
    "    S = {1:0, 2:0, 3:0}\n",
    "    for i, a in enumerate(answers):\n",
    "        for k, v in D.items():\n",
    "            if a == v[i % len(v)]:\n",
    "                S[k] += 1\n",
    "    answer = [k for k, v in S.items() if v==max(S.values())]\n",
    "    return answer"
   ]
  },
  {
   "cell_type": "markdown",
   "metadata": {},
   "source": [
    "# 폰켓몬"
   ]
  },
  {
   "cell_type": "code",
   "execution_count": null,
   "metadata": {},
   "outputs": [],
   "source": [
    "def solution(nums):\n",
    "    s = set(nums)\n",
    "    n1, n2 = len(nums)//2, len(s)\n",
    "    if n1 > n2:\n",
    "        answer = n2\n",
    "    else:\n",
    "        answer = n1\n",
    "    return answer"
   ]
  }
 ],
 "metadata": {
  "kernelspec": {
   "display_name": "Python 3",
   "language": "python",
   "name": "python3"
  },
  "language_info": {
   "codemirror_mode": {
    "name": "ipython",
    "version": 3
   },
   "file_extension": ".py",
   "mimetype": "text/x-python",
   "name": "python",
   "nbconvert_exporter": "python",
   "pygments_lexer": "ipython3",
   "version": "3.7.9"
  }
 },
 "nbformat": 4,
 "nbformat_minor": 4
}
