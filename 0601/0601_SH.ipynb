{
 "cells": [
  {
   "cell_type": "markdown",
   "metadata": {},
   "source": [
    "# 체육복"
   ]
  },
  {
   "cell_type": "code",
   "execution_count": null,
   "metadata": {},
   "outputs": [],
   "source": [
    "def solution(n, lost, reserve):\n",
    "    lost.sort()\n",
    "    reserve.sort()\n",
    "    ch = [1]*(n+2)\n",
    "    for i in lost:\n",
    "        ch[i]=0\n",
    "    for i in reserve:\n",
    "        if ch[i] == 0:\n",
    "            ch[i] =1\n",
    "            continue\n",
    "        if ch[i-1]==0 and i-1 not in reserve:\n",
    "            ch[i-1]=1\n",
    "            continue\n",
    "        if ch[i+1]==0 and i+1 not in reserve :\n",
    "            ch[i+1]=1\n",
    "            continue\n",
    "    answer = sum(ch)-2\n",
    "    \n",
    "        \n",
    "        \n",
    "    return answer"
   ]
  },
  {
   "cell_type": "markdown",
   "metadata": {},
   "source": [
    "# 완주하지 못한 선수"
   ]
  },
  {
   "cell_type": "code",
   "execution_count": null,
   "metadata": {},
   "outputs": [],
   "source": [
    "def solution(participant, completion):\n",
    "    participant.sort()\n",
    "    completion.sort()\n",
    "    completion.append(\"\")\n",
    "    \n",
    "    answer = \"\"\n",
    "    \n",
    "    for i in range(len(participant)):\n",
    "        if participant[i] != completion[i]:\n",
    "            answer = participant[i]\n",
    "            break\n",
    "                \n",
    "    \n",
    "    return answer"
   ]
  },
  {
   "cell_type": "markdown",
   "metadata": {},
   "source": [
    "# 크레인 인형뽑기 게임"
   ]
  },
  {
   "cell_type": "code",
   "execution_count": null,
   "metadata": {},
   "outputs": [],
   "source": [
    "def solution(board, moves):\n",
    "    board_t = list(map(list, zip(*board)))\n",
    "    \n",
    "    result_seq = list()\n",
    "    answer = 0\n",
    "    while moves:\n",
    "        popped=moves.pop(0)\n",
    "        seq=board_t[popped-1]\n",
    "        candidate =0\n",
    "        if sum(seq) == 0:\n",
    "            continue\n",
    "        for i in range(len(seq)):\n",
    "            if seq[i] !=0:\n",
    "                candidate= seq[i]\n",
    "                seq[i] = 0\n",
    "                board_t[popped-1] = seq\n",
    "                break\n",
    "                \n",
    "        if len(result_seq) == 0:\n",
    "            result_seq.append(candidate)\n",
    "        else:\n",
    "            comp=result_seq.pop()\n",
    "            if comp == candidate:\n",
    "                answer +=2\n",
    "                continue\n",
    "            else :\n",
    "                result_seq.append(comp)\n",
    "                result_seq.append(candidate)\n",
    "                \n",
    "    return answer"
   ]
  },
  {
   "cell_type": "markdown",
   "metadata": {},
   "source": [
    "# 내적"
   ]
  },
  {
   "cell_type": "code",
   "execution_count": null,
   "metadata": {},
   "outputs": [],
   "source": [
    "def solution(a, b):\n",
    "    answer = sum([a[i]*b[i] for i in range(len(a))])\n",
    "    return answer"
   ]
  },
  {
   "cell_type": "markdown",
   "metadata": {},
   "source": [
    "# 모의고사"
   ]
  },
  {
   "cell_type": "code",
   "execution_count": null,
   "metadata": {},
   "outputs": [],
   "source": [
    "def solution(answers):\n",
    "    maximum = 10000\n",
    "    rule1= [1,2,3,4,5]\n",
    "    rule2= [2,1,2,3,2,4,2,5]\n",
    "    rule3 = [3,3,1,1,2,2,4,4,5,5]\n",
    "    \n",
    "    seq_1=rule1*(maximum // len(rule1)+1)\n",
    "    seq_2=rule2*(maximum // len(rule2)+1)\n",
    "    seq_3=rule3*(maximum // len(rule3)+1)\n",
    "    \n",
    "    score1 = sum([1 if i == seq_1[idx] else 0 for idx,i in enumerate(answers)])\n",
    "    score2 = sum([1 if i == seq_2[idx] else 0 for idx,i in enumerate(answers)])\n",
    "    score3 = sum([1 if i == seq_3[idx] else 0 for idx,i in enumerate(answers)])\n",
    "    \n",
    "    max_val=max([score1,score2,score3])\n",
    "    \n",
    "    answer = list()\n",
    "    for idx,i in enumerate([score1,score2,score3]):\n",
    "        if i == max_val :\n",
    "            answer.append(idx+1)\n",
    "    return answer"
   ]
  },
  {
   "cell_type": "markdown",
   "metadata": {},
   "source": [
    "# 폰켓몬"
   ]
  },
  {
   "cell_type": "code",
   "execution_count": null,
   "metadata": {},
   "outputs": [],
   "source": [
    "def solution(nums):\n",
    "    num_sel=len(nums)/2\n",
    "    num_setted=len(list(set(nums)))\n",
    "    if num_sel <= num_setted :\n",
    "        answer = num_sel\n",
    "    else :\n",
    "        answer = num_setted\n",
    "    return answer"
   ]
  }
 ],
 "metadata": {
  "kernelspec": {
   "display_name": "Python 3",
   "language": "python",
   "name": "python3"
  },
  "language_info": {
   "codemirror_mode": {
    "name": "ipython",
    "version": 3
   },
   "file_extension": ".py",
   "mimetype": "text/x-python",
   "name": "python",
   "nbconvert_exporter": "python",
   "pygments_lexer": "ipython3",
   "version": "3.8.5"
  }
 },
 "nbformat": 4,
 "nbformat_minor": 4
}
