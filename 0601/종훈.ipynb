{
 "cells": [
  {
   "cell_type": "markdown",
   "metadata": {},
   "source": [
    "# 체육복"
   ]
  },
  {
   "cell_type": "code",
   "execution_count": 1,
   "metadata": {},
   "outputs": [],
   "source": [
    "def solution(n, lost, reserve):\n",
    "    lost_update = list(set(lost) - set(reserve))\n",
    "    reserve_update = list(set(reserve) - set(lost))\n",
    "    \n",
    "    num_lost = len(lost_update)\n",
    "            \n",
    "    for i in lost_update:\n",
    "        if i-1 in reserve_update:\n",
    "            reserve_update.remove(i-1)\n",
    "            num_lost -= 1\n",
    "        elif i+1 in reserve_update:\n",
    "            reserve_update.remove(i+1)\n",
    "            num_lost -= 1\n",
    "    answer = n - num_lost\n",
    "    return answer"
   ]
  },
  {
   "cell_type": "markdown",
   "metadata": {},
   "source": [
    "# 완주하지 못한 선수"
   ]
  },
  {
   "cell_type": "code",
   "execution_count": 2,
   "metadata": {},
   "outputs": [],
   "source": [
    "def solution(participant, completion):\n",
    "    p = dict()\n",
    "    for i in participant:\n",
    "        p[i] = p.get(i, 0) + 1\n",
    "    \n",
    "    for j in completion:\n",
    "        p[j] -= 1\n",
    "    \n",
    "    for key, value in p.items():\n",
    "        if value != 0:\n",
    "            answer = key\n",
    "        \n",
    "    #answer = ''\n",
    "    return answer"
   ]
  },
  {
   "cell_type": "markdown",
   "metadata": {},
   "source": [
    "# 크레인 인형뽑기 게임"
   ]
  },
  {
   "cell_type": "code",
   "execution_count": 3,
   "metadata": {},
   "outputs": [],
   "source": [
    "def solution(board, moves):\n",
    "    baguni = []\n",
    "    answer = 0\n",
    "    \n",
    "    for i in moves:\n",
    "        for j in range(len(board[0])):\n",
    "            if board[j][i-1] != 0:\n",
    "                baguni.append(board[j][i-1])\n",
    "                board[j][i-1] = 0\n",
    "                break\n",
    "        if len(baguni) >= 2 and baguni[-1] == baguni[-2]:\n",
    "            baguni.pop()\n",
    "            baguni.pop()\n",
    "            answer += 2\n",
    "            \n",
    "            \n",
    "    \n",
    "    return answer"
   ]
  },
  {
   "cell_type": "markdown",
   "metadata": {},
   "source": [
    "# 내적"
   ]
  },
  {
   "cell_type": "code",
   "execution_count": 4,
   "metadata": {},
   "outputs": [],
   "source": [
    "def solution(a, b):\n",
    "    answer = 0\n",
    "    for i in range(len(a)):\n",
    "        answer += a[i] * b[i]\n",
    "    \n",
    "    return answer"
   ]
  },
  {
   "cell_type": "markdown",
   "metadata": {},
   "source": [
    "# 모의고사"
   ]
  },
  {
   "cell_type": "code",
   "execution_count": 5,
   "metadata": {},
   "outputs": [],
   "source": [
    "def solution(answers):\n",
    "    a = [1, 2, 3, 4, 5] # 5\n",
    "    b = [2, 1, 2, 3, 2, 4, 2, 5] # 8\n",
    "    c = [3, 3, 1, 1, 2, 2, 4 ,4 ,5, 5] # 10\n",
    "    supo = [a, b, c]\n",
    "    \n",
    "    score = []\n",
    "    res = 0\n",
    "    for i, j in enumerate(supo):\n",
    "        l = len(j)\n",
    "        max = 0\n",
    "        for k in range(len(answers)):\n",
    "            if answers[k] == j[k%l]:\n",
    "                max += 1\n",
    "        if max > res:\n",
    "            res = max\n",
    "        score.append((i+1, max))\n",
    "    \n",
    "    answer = []\n",
    "    for i in range(len(score)):\n",
    "        if score[i][1] == res:\n",
    "            answer.append(score[i][0])\n",
    "    \n",
    "    \n",
    "    return answer"
   ]
  },
  {
   "cell_type": "markdown",
   "metadata": {},
   "source": [
    "# 폰켓몬"
   ]
  },
  {
   "cell_type": "code",
   "execution_count": 6,
   "metadata": {},
   "outputs": [],
   "source": [
    "def solution(nums):\n",
    "    a = list(set(nums))\n",
    "    if len(a) > (len(nums)//2):\n",
    "        answer = len(nums)//2\n",
    "    else:\n",
    "        answer = len(a)\n",
    "    \n",
    "    return answer"
   ]
  },
  {
   "cell_type": "code",
   "execution_count": null,
   "metadata": {},
   "outputs": [],
   "source": []
  }
 ],
 "metadata": {
  "kernelspec": {
   "display_name": "Python 3",
   "language": "python",
   "name": "python3"
  },
  "language_info": {
   "codemirror_mode": {
    "name": "ipython",
    "version": 3
   },
   "file_extension": ".py",
   "mimetype": "text/x-python",
   "name": "python",
   "nbconvert_exporter": "python",
   "pygments_lexer": "ipython3",
   "version": "3.7.1"
  }
 },
 "nbformat": 4,
 "nbformat_minor": 2
}
