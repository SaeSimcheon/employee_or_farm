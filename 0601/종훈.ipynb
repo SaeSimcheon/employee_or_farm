{
 "cells": [
  {
   "cell_type": "markdown",
   "metadata": {},
   "source": [
    "# 체육복"
   ]
  },
  {
   "cell_type": "code",
   "execution_count": 1,
   "metadata": {},
   "outputs": [],
   "source": [
    "def solution(n, lost, reserve):\n",
    "    lost_update = list(set(lost) - set(reserve))\n",
    "    reserve_update = list(set(reserve) - set(lost))\n",
    "    \n",
    "    num_lost = len(lost_update)\n",
    "            \n",
    "    for i in lost_update:\n",
    "        if i-1 in reserve_update:\n",
    "            reserve_update.remove(i-1)\n",
    "            num_lost -= 1\n",
    "        elif i+1 in reserve_update:\n",
    "            reserve_update.remove(i+1)\n",
    "            num_lost -= 1\n",
    "    answer = n - num_lost\n",
    "    return answer"
   ]
  },
  {
   "cell_type": "markdown",
   "metadata": {},
   "source": [
    "# 완주하지 못한 선수"
   ]
  },
  {
   "cell_type": "code",
   "execution_count": 2,
   "metadata": {},
   "outputs": [],
   "source": [
    "def solution(participant, completion):\n",
    "    p = dict()\n",
    "    for i in participant:\n",
    "        p[i] = p.get(i, 0) + 1\n",
    "    \n",
    "    for j in completion:\n",
    "        p[j] -= 1\n",
    "    \n",
    "    for key, value in p.items():\n",
    "        if value != 0:\n",
    "            answer = key\n",
    "        \n",
    "    #answer = ''\n",
    "    return answer"
   ]
  },
  {
   "cell_type": "markdown",
   "metadata": {},
   "source": [
    "# 크레인 인형뽑기 게임"
   ]
  },
  {
   "cell_type": "code",
   "execution_count": 3,
   "metadata": {},
   "outputs": [],
   "source": [
    "def solution(board, moves):\n",
    "    baguni = []\n",
    "    answer = 0\n",
    "    \n",
    "    for i in moves:\n",
    "        for j in range(len(board[0])):\n",
    "            if board[j][i-1] != 0:\n",
    "                baguni.append(board[j][i-1])\n",
    "                board[j][i-1] = 0\n",
    "                break\n",
    "        if len(baguni) >= 2 and baguni[-1] == baguni[-2]:\n",
    "            baguni.pop()\n",
    "            baguni.pop()\n",
    "            answer += 2\n",
    "            \n",
    "            \n",
    "    \n",
    "    return answer"
   ]
  },
  {
   "cell_type": "code",
   "execution_count": null,
   "metadata": {},
   "outputs": [],
   "source": []
  }
 ],
 "metadata": {
  "kernelspec": {
   "display_name": "Python 3",
   "language": "python",
   "name": "python3"
  },
  "language_info": {
   "codemirror_mode": {
    "name": "ipython",
    "version": 3
   },
   "file_extension": ".py",
   "mimetype": "text/x-python",
   "name": "python",
   "nbconvert_exporter": "python",
   "pygments_lexer": "ipython3",
   "version": "3.7.1"
  }
 },
 "nbformat": 4,
 "nbformat_minor": 2
}
