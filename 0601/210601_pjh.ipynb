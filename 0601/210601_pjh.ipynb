{
 "cells": [
  {
   "cell_type": "code",
   "execution_count": 1,
   "metadata": {},
   "outputs": [],
   "source": [
    "#체육복\n",
    "def solution(n, lost, reserve):\n",
    "    answer = 0\n",
    "    answer += n-len(lost)\n",
    "    check = [1]*(n+1)\n",
    "    for i in range(0,len(lost)):\n",
    "        check[lost[i]] = 0\n",
    "    for i in range(0,len(reserve)):\n",
    "        if reserve[i]+1 or reserve[i]-1 in lost:\n",
    "            if reserve[i] not in lost:\n",
    "                if check[reserve[i]+1] == 0 or check[reserve[i]-1] == 0:\n",
    "                    check[i] = 1\n",
    "                    answer+=1\n",
    "    return answer #25점"
   ]
  },
  {
   "cell_type": "code",
   "execution_count": 2,
   "metadata": {},
   "outputs": [],
   "source": [
    "#완주하지못한선수\n",
    "def solution(participant, completion):\n",
    "    answer = ''\n",
    "    p = sorted(participant)\n",
    "    c = sorted(completion)\n",
    "    answer = p not in c\n",
    "    for name in p:\n",
    "        if name not in c:\n",
    "            answer = name\n",
    "            break\n",
    "        else :\n",
    "            c.remove(name)\n",
    "    return answer"
   ]
  },
  {
   "cell_type": "code",
   "execution_count": 3,
   "metadata": {},
   "outputs": [],
   "source": [
    "#크레인인형뽑기\n",
    "def solution(board, moves):\n",
    "    answer = 0\n",
    "    basket = []\n",
    "    basket.insert(0,0)\n",
    "    for i in range(0,len(moves)):\n",
    "        for j in range(0,len(board)):\n",
    "            if board[j][moves[i]-1] != 0:\n",
    "                if basket[-1] != board[j][moves[i]-1] :\n",
    "                    basket.append(board[j][moves[i]-1])\n",
    "                elif basket[-1] == board[j][moves[i]-1] :\n",
    "                    basket.append(board[j][moves[i]-1])\n",
    "                    basket.pop()\n",
    "                    basket.pop()\n",
    "                    answer += 1\n",
    "    return answer"
   ]
  },
  {
   "cell_type": "code",
   "execution_count": 4,
   "metadata": {},
   "outputs": [],
   "source": [
    "#내적\n",
    "def solution(a, b):\n",
    "    answer = 0\n",
    "    for i in range(0,len(a)):\n",
    "        answer += a[i]*b[i]\n",
    "    return answer"
   ]
  },
  {
   "cell_type": "code",
   "execution_count": 5,
   "metadata": {},
   "outputs": [],
   "source": [
    "#모의고사\n",
    "def solution(answers):\n",
    "    answer = []\n",
    "    an1 = [1,2,3,4,5]*(len(answers)//5)+[1,2,3,4,5][0:len(answers)%5]\n",
    "    an2 = [2,1,2,3,2,4,2,5]*(len(answers)//5)+[2,1,2,3,2,4,2,5][0:len(answers)%8]\n",
    "    an3 = [3,3,1,1,2,2,4,4,5,5]*(len(answers)//5)+[3,3,1,1,2,2,4,4,5,5][0:len(answers)%10]\n",
    "    count1 = 0\n",
    "    count2 = 0\n",
    "    count3 = 0\n",
    "    for i in range(0,len(answers)):\n",
    "        if answers[i]==an1[i]:\n",
    "            count1+=1\n",
    "        if answers[i]==an2[i]:\n",
    "            count2+=1\n",
    "        if answers[i]==an3[i]:\n",
    "            count3+=1\n",
    "    answer_ = [count1,count2,count3]\n",
    "    if len(set(answer_))==3:\n",
    "        answer = [answer_.index(max(answer))+1]\n",
    "    elif len(set(answer_))==2:\n",
    "        answer = [i for i, e in enumerate(answer_) if e == max(answer_)]\n",
    "        for i in range(len(answer)):\n",
    "            answer[i] = answer[i]+1\n",
    "    elif len(set(answer_))==1:\n",
    "        answer = [1,2,3]\n",
    "    return answer"
   ]
  },
  {
   "cell_type": "code",
   "execution_count": 6,
   "metadata": {},
   "outputs": [],
   "source": [
    "#포켓몬\n",
    "def solution(nums):\n",
    "    from collections import Counter\n",
    "    import itertools\n",
    "    max = -2147000000\n",
    "    items = list(itertools.combinations(nums,len(nums)//2))\n",
    "    counts = []\n",
    "    for i in range(0,len(items)):\n",
    "        if max < len(Counter(items[i]).keys()):\n",
    "            max = len(Counter(items[i]).keys())\n",
    "    answer = max\n",
    "    return answer"
   ]
  }
 ],
 "metadata": {
  "kernelspec": {
   "display_name": "Python 3",
   "language": "python",
   "name": "python3"
  },
  "language_info": {
   "codemirror_mode": {
    "name": "ipython",
    "version": 3
   },
   "file_extension": ".py",
   "mimetype": "text/x-python",
   "name": "python",
   "nbconvert_exporter": "python",
   "pygments_lexer": "ipython3",
   "version": "3.7.6"
  }
 },
 "nbformat": 4,
 "nbformat_minor": 4
}
