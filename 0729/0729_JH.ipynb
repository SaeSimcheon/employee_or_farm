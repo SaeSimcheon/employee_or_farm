{
 "cells": [
  {
   "cell_type": "markdown",
   "metadata": {},
   "source": [
    "# [1차] 추석 트래픽\n"
   ]
  },
  {
   "cell_type": "code",
   "execution_count": null,
   "metadata": {},
   "outputs": [],
   "source": [
    "def check(t, li):\n",
    "    start = t\n",
    "    end = t + 1000\n",
    "    cnt = 0\n",
    "    for i in li:\n",
    "        if start <= i[1] and end > i[0]:\n",
    "            cnt += 1\n",
    "    return cnt\n",
    "\n",
    "def solution(lines):\n",
    "    arr = []\n",
    "    for line in lines:\n",
    "        y, time, term = line.split()\n",
    "        time = time.split(\":\")\n",
    "        term = float(term.replace(\"s\", '')) * 1000\n",
    "        end = (3600*int(time[0]) + 60*int(time[1]) + float(time[2]))*1000\n",
    "        start = end - term + 1\n",
    "        arr.append([start, end])\n",
    "        \n",
    "    res = 0\n",
    "    for x in arr:\n",
    "        res = max(res, check(x[0], arr), check(x[1], arr))\n",
    "        \n",
    "    return res"
   ]
  },
  {
   "cell_type": "markdown",
   "metadata": {},
   "source": [
    "# 가장 먼 노드"
   ]
  },
  {
   "cell_type": "code",
   "execution_count": null,
   "metadata": {},
   "outputs": [],
   "source": [
    "def solution(n, edge):\n",
    "    board = [[0]*(n+1) for _ in range(n+1)]\n",
    "    for x in edge:\n",
    "        a, b = x[0], x[1]\n",
    "        board[a][b] = 1\n",
    "        board[b][a] = 1\n",
    "    \n",
    "    for i in range(1, n+1):\n",
    "        for j in range(1, n+1):\n",
    "            for k in range(1, n+1):\n",
    "                if k != i and k != j:\n",
    "                    board[i][j] = max(board[i][j], board[i][k]+board[k][j])\n",
    "        \n",
    "    return board[1].count(max(board[1]))\n",
    "\n",
    "\n",
    "## 큐 자료구조 이용해서 푸는거였음...\n",
    "from collections import deque\n",
    "def solution(n, edge):\n",
    "    dict = {}\n",
    "    for x in edge:\n",
    "        dict[x[0]] = dict.get(x[0], []) + [x[1]]\n",
    "        dict[x[1]] = dict.get(x[1], []) + [x[0]]\n",
    "        \n",
    "    q = deque()\n",
    "    q.append(1)\n",
    "    ch = [0] * (n+1)\n",
    "    ch[1] = 1\n",
    "    while q:\n",
    "        nodes = len(q)\n",
    "        for _ in range(nodes):\n",
    "            a = q.popleft()\n",
    "            for b in dict[a]:\n",
    "                if ch[b] == 0:\n",
    "                    ch[b] = 1\n",
    "                    q.append(b)\n",
    "                \n",
    "    return nodes"
   ]
  },
  {
   "cell_type": "markdown",
   "metadata": {},
   "source": [
    "# 입국심사"
   ]
  },
  {
   "cell_type": "code",
   "execution_count": null,
   "metadata": {},
   "outputs": [],
   "source": [
    "def solution(n, times):\n",
    "    lt, rt = 1, n*max(times)\n",
    "    \n",
    "    while lt < rt:\n",
    "        cnt = 0\n",
    "        time = (lt+rt)//2\n",
    "        for x in times:\n",
    "            cnt += time // x\n",
    "        \n",
    "        if cnt >= n:\n",
    "            rt = time \n",
    "        else:\n",
    "            lt = time + 1\n",
    "        \n",
    "    return rt\n",
    "\n",
    "## 근데 이거하면 2, 6, 7번 틀리더라\n",
    "# 왜인지 아시는 분\n",
    "def solution(n, times):\n",
    "    lt, rt = 1, n*max(times)\n",
    "    \n",
    "    while lt < rt:\n",
    "        cnt = 0\n",
    "        time = (lt+rt)//2\n",
    "        for x in times:\n",
    "            cnt += time // x\n",
    "        \n",
    "        if cnt >= n:\n",
    "            rt = time -1\n",
    "        else:\n",
    "            lt = time + 1\n",
    "        \n",
    "    return time"
   ]
  },
  {
   "cell_type": "markdown",
   "metadata": {},
   "source": [
    "# N으로 표현"
   ]
  },
  {
   "cell_type": "code",
   "execution_count": null,
   "metadata": {},
   "outputs": [],
   "source": [
    "## 와 이 방법 생각하는거 미쳤네...\n",
    "# 혼자 못 품...\n",
    "def solution(N, number):\n",
    "    memo = []\n",
    "    for i in range(1, 9):\n",
    "        case = set()\n",
    "        case.add(int(str(N)*i))\n",
    "        for j in range(i-1):\n",
    "            for a in memo[j]:\n",
    "                for b in memo[-j-1]:\n",
    "                    case.add(a + b)\n",
    "                    case.add(a - b)\n",
    "                    case.add(a * b)\n",
    "                    if b != 0:\n",
    "                        case.add(a // b)\n",
    "        if number in case:\n",
    "            return i\n",
    "        memo.append(case)\n",
    "    else:\n",
    "        return -1"
   ]
  },
  {
   "cell_type": "markdown",
   "metadata": {},
   "source": [
    "# 네트워크"
   ]
  },
  {
   "cell_type": "code",
   "execution_count": null,
   "metadata": {},
   "outputs": [],
   "source": [
    "def solution(n, computers):\n",
    "    ch = [0]*n\n",
    "    cnt = 0\n",
    "    def DFS(start):\n",
    "        nonlocal cnt\n",
    "        ch[start] = 1\n",
    "        for i in range(n):\n",
    "            if ch[i] == 0 and computers[start][i] == 1:\n",
    "                DFS(i)\n",
    "                    \n",
    "    for i in range(n):\n",
    "        if ch[i] == 0:\n",
    "            DFS(i)\n",
    "            cnt += 1\n",
    "    return cnt"
   ]
  },
  {
   "cell_type": "markdown",
   "metadata": {},
   "source": [
    "# 정수 삼각형"
   ]
  },
  {
   "cell_type": "code",
   "execution_count": null,
   "metadata": {},
   "outputs": [],
   "source": [
    "# 혼자 품 ㅎ\n",
    "def solution(triangle):\n",
    "    for i in range(1, len(triangle)):\n",
    "        for j in range(len(triangle[i])):\n",
    "            if j-1 >= 0 and j+1 <= len(triangle[i-1]):\n",
    "                triangle[i][j] += max(triangle[i-1][j-1], triangle[i-1][j])\n",
    "            elif j-1 >= 0:\n",
    "                triangle[i][j] += triangle[i-1][j-1]\n",
    "            elif j+1 <= len(triangle[i-1]):\n",
    "                triangle[i][j] += triangle[i-1][j]\n",
    "                \n",
    "    return max(triangle[-1])"
   ]
  },
  {
   "cell_type": "markdown",
   "metadata": {},
   "source": [
    "# 디스크 컨트롤러"
   ]
  },
  {
   "cell_type": "code",
   "execution_count": null,
   "metadata": {},
   "outputs": [],
   "source": [
    "# 와 이거 힙은 내 혼자 못풀겠다...\n",
    "import heapq\n",
    "def solution(jobs):\n",
    "    answer = 0\n",
    "    start = -1\n",
    "    now = 0\n",
    "    i = 0\n",
    "    hq = []\n",
    "    \n",
    "    while i < len(jobs):\n",
    "        for job in jobs:\n",
    "            if start < job[0] <= now:\n",
    "                heapq.heappush(hq, [job[1], job[0]])\n",
    "        if hq:\n",
    "            a = heapq.heappop(hq)\n",
    "            start = now\n",
    "            now += a[0]\n",
    "            answer += now - a[1]\n",
    "            i += 1\n",
    "        else:\n",
    "            now += 1\n",
    "    return answer//len(jobs)"
   ]
  }
 ],
 "metadata": {
  "kernelspec": {
   "display_name": "Python 3",
   "language": "python",
   "name": "python3"
  },
  "language_info": {
   "codemirror_mode": {
    "name": "ipython",
    "version": 3
   },
   "file_extension": ".py",
   "mimetype": "text/x-python",
   "name": "python",
   "nbconvert_exporter": "python",
   "pygments_lexer": "ipython3",
   "version": "3.7.6"
  }
 },
 "nbformat": 4,
 "nbformat_minor": 4
}
