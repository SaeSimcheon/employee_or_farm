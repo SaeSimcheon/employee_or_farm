{
 "cells": [
  {
   "cell_type": "markdown",
   "metadata": {},
   "source": [
    "## 추석 트래픽"
   ]
  },
  {
   "cell_type": "code",
   "execution_count": null,
   "metadata": {},
   "outputs": [],
   "source": [
    "def solution(lines):\n",
    "    import re\n",
    "    def ftn2(element):\n",
    "        rr=re.match(\"\\d{4}-(\\d{2})-(\\d{2}) (\\d{2}):(\\d{2}):(\\d{2}).(\\d{3}) (\\d\\.*\\d*)\",element)\n",
    "\n",
    "        Run_time = int(float(rr.group(7))*1000)\n",
    "        DtoMS=int(rr.group(2))*3600*1000*24\n",
    "        HtoMS=int(rr.group(3))*3600*1000\n",
    "        MtoMS=int(rr.group(4))*60*1000\n",
    "        StoMS=int(rr.group(5))*1000\n",
    "        MStoMS=int(rr.group(6))\n",
    "        \n",
    "        end_time=DtoMS + HtoMS + MtoMS + StoMS + MStoMS\n",
    "        start_time = end_time-Run_time +1\n",
    "        return [start_time,end_time]\n",
    "    \n",
    "    def checker(element,given):\n",
    "        if (element[0] > given+999)|(element[1] < given) :\n",
    "            return 0\n",
    "        else:\n",
    "            return 1\n",
    "    if len(lines) == 1:\n",
    "        return 1\n",
    "    \n",
    "    lines = list(map(ftn2,lines))\n",
    "    st = lines[0][0]\n",
    "    en = lines[len(lines)-1][1]\n",
    "    \n",
    "    answer = 0\n",
    "    ranged=sum(lines,[])\n",
    "    for i in ranged:\n",
    "        summ=list(map(lambda x : checker(x,i),lines))\n",
    "        summ = sum(summ)\n",
    "        if summ > answer :\n",
    "            answer = summ\n",
    "    \n",
    "    \n",
    "    \n",
    "    return answer"
   ]
  },
  {
   "cell_type": "markdown",
   "metadata": {},
   "source": [
    "## 입국심사"
   ]
  },
  {
   "cell_type": "code",
   "execution_count": null,
   "metadata": {},
   "outputs": [],
   "source": [
    "def solution(n, times):\n",
    "    #n,times=6, [4,10]\n",
    "    if len(times) == 1:\n",
    "        return n * times[0]\n",
    "    if n == 1 :\n",
    "        return 1*min(times)\n",
    "    \n",
    "    limit = max(times)\n",
    "    \n",
    "    left = 1\n",
    "    right = limit*n\n",
    "    answer = 0\n",
    "    while left <= right:\n",
    "        p = (left +right) //2\n",
    "        \n",
    "        this= [(p // i,p%i) for i in times]\n",
    "        \n",
    "        ss=sum([1 for k in this if k[1] == 0] )\n",
    "        \n",
    "        if ss !=0:\n",
    "            this_sum = sum([ i[0] for i in this]) - ss+1\n",
    "        else:\n",
    "            this_sum = sum([ i[0] for i in this]) \n",
    "        \n",
    "        if this_sum > n:\n",
    "            right = p -1\n",
    "            continue\n",
    "        elif this_sum < n:\n",
    "            left = p +1\n",
    "            continue\n",
    "        else:\n",
    "            rr=min([i[1] for i in this ])\n",
    "            p=p - rr\n",
    "            break\n",
    "    \n",
    "\n",
    "    answer = p\n",
    "    \n",
    "    return answer"
   ]
  },
  {
   "cell_type": "markdown",
   "metadata": {},
   "source": [
    "## 정수삼각형"
   ]
  },
  {
   "cell_type": "code",
   "execution_count": null,
   "metadata": {},
   "outputs": [],
   "source": [
    "def solution(triangle):\n",
    "    \n",
    "    for i in range(len(triangle)):\n",
    "        if i == 0 :\n",
    "            continue\n",
    "        previous=triangle[i-1]\n",
    "        this=triangle[i]\n",
    "        \n",
    "        for idx,j in enumerate(this):\n",
    "            if idx == 0 :\n",
    "                this[idx] = previous[idx] + j\n",
    "                continue\n",
    "            if idx == len(this)-1:\n",
    "                this[idx] = previous[idx-1] + j\n",
    "                continue\n",
    "                \n",
    "            this[idx] = max(previous[idx-1] + j ,previous[idx] + j)\n",
    "        triangle[i] = this\n",
    "                \n",
    "    answer = max(triangle[len(triangle)-1])\n",
    "    \n",
    "    return answer"
   ]
  },
  {
   "cell_type": "code",
   "execution_count": null,
   "metadata": {},
   "outputs": [],
   "source": []
  },
  {
   "cell_type": "code",
   "execution_count": null,
   "metadata": {},
   "outputs": [],
   "source": []
  },
  {
   "cell_type": "code",
   "execution_count": null,
   "metadata": {},
   "outputs": [],
   "source": []
  },
  {
   "cell_type": "markdown",
   "metadata": {},
   "source": [
    "## 가장 먼 노드"
   ]
  },
  {
   "cell_type": "code",
   "execution_count": null,
   "metadata": {},
   "outputs": [],
   "source": [
    "def solution(n, edge):\n",
    "    from collections import deque\n",
    "    edge = deque(edge)\n",
    "    \n",
    "    F = dict()\n",
    "    while edge :\n",
    "        popped = edge.popleft()\n",
    "        key=list(F.keys())\n",
    "        t0=str(popped[0])\n",
    "        t1=str(popped[1])\n",
    "        head = t0 in key\n",
    "        tail = t1 in key\n",
    "        \n",
    "        if t1 == \"1\" :\n",
    "            F[t0] = 1\n",
    "            continue\n",
    "        if t0 == \"1\" :\n",
    "            F[t1] = 1\n",
    "            continue\n",
    "            \n",
    "        if (head == False)&(tail == False):\n",
    "            edge.append(popped)\n",
    "            continue\n",
    "        if (head == True)&(tail == True):\n",
    "            if F[t0] > F[t1]:\n",
    "                F[t0] = F[t1] +1\n",
    "            elif F[t0] < F[t1]:\n",
    "                F[t1] = F[t0] +1\n",
    "            else :\n",
    "                continue\n",
    "        else :\n",
    "            if head == True:\n",
    "                F[t1] = F[t0] +1\n",
    "            else:\n",
    "                F[t0] = F[t1] +1\n",
    "                \n",
    "    answer = len([ key for key,value in F.items() if max(F.values()) == value ])\n",
    "    return answer"
   ]
  },
  {
   "cell_type": "markdown",
   "metadata": {},
   "source": [
    "## 네트워크"
   ]
  },
  {
   "cell_type": "code",
   "execution_count": null,
   "metadata": {},
   "outputs": [],
   "source": [
    "def solution(n, computers):\n",
    "    def dfs(index):\n",
    "        this = computers[index]\n",
    "        out[index] = 1\n",
    "        Next =-1\n",
    "        for idx,i in enumerate(this):    \n",
    "            if ((computers[idx][index] == 1)|(i == 1))&(out[idx]==0) :\n",
    "                Next = idx\n",
    "                break\n",
    "        if (Next == -1):\n",
    "            return\n",
    "        dfs(Next)\n",
    "        \n",
    "    indicator = 0\n",
    "    answer = 0\n",
    "    out = [0]*(n)\n",
    "    \n",
    "    while True:\n",
    "        dfs(indicator)\n",
    "        answer +=1\n",
    "        if sum(out) == n :\n",
    "            break\n",
    "        indicator=out.index(0)\n",
    "    \n",
    "    return answer"
   ]
  }
 ],
 "metadata": {
  "kernelspec": {
   "display_name": "Python 3",
   "language": "python",
   "name": "python3"
  },
  "language_info": {
   "codemirror_mode": {
    "name": "ipython",
    "version": 3
   },
   "file_extension": ".py",
   "mimetype": "text/x-python",
   "name": "python",
   "nbconvert_exporter": "python",
   "pygments_lexer": "ipython3",
   "version": "3.8.5"
  }
 },
 "nbformat": 4,
 "nbformat_minor": 4
}
