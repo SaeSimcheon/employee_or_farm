{
 "cells": [
  {
   "cell_type": "markdown",
   "id": "driving-latter",
   "metadata": {},
   "source": [
    "## 땅따먹기"
   ]
  },
  {
   "cell_type": "code",
   "execution_count": null,
   "id": "medieval-treat",
   "metadata": {},
   "outputs": [],
   "source": [
    "## 이거 ㄴㄴ\n",
    "def solution(land):\n",
    "    def DFS(L,score):\n",
    "        nonlocal answer\n",
    "        if L==len(land):\n",
    "            break\n",
    "        else:\n",
    "            for i in range(4):\n",
    "                answer=max(answer,score+land[L][i])\n",
    "                DFS(L+1,score+land[L][i])\n",
    "                answer-=land[L][i]\n",
    "    answer=0\n",
    "    DFS(0,0)\n",
    "    return answer"
   ]
  },
  {
   "cell_type": "markdown",
   "id": "julian-finish",
   "metadata": {},
   "source": [
    "## 최대최소"
   ]
  },
  {
   "cell_type": "code",
   "execution_count": null,
   "id": "saved-citizen",
   "metadata": {},
   "outputs": [],
   "source": [
    "def solution(s):\n",
    "    s=[int(x) for x in s.split(' ') ]    \n",
    "    return '{}'.format(min(s))+\" \"+'{}'.format(max(s))"
   ]
  },
  {
   "cell_type": "markdown",
   "id": "green-flash",
   "metadata": {},
   "source": [
    "## 최소값 만들기"
   ]
  },
  {
   "cell_type": "code",
   "execution_count": null,
   "id": "beneficial-zimbabwe",
   "metadata": {},
   "outputs": [],
   "source": [
    "def solution(A,B):\n",
    "    answer=0\n",
    "    A.sort(reverse=True)\n",
    "    B.sort()\n",
    "    while A:\n",
    "        a=A.pop()\n",
    "        b=B.pop()\n",
    "        answer+=a*b\n",
    "    return answer"
   ]
  },
  {
   "cell_type": "markdown",
   "id": "alpine-calculation",
   "metadata": {},
   "source": [
    "## 피보나치"
   ]
  },
  {
   "cell_type": "code",
   "execution_count": null,
   "id": "greenhouse-safety",
   "metadata": {},
   "outputs": [],
   "source": [
    "def solution(n):\n",
    "    a=[0,1]\n",
    "    cnt=0\n",
    "    while cnt<n-1:        \n",
    "        a.append(a[-1]+a[-2])\n",
    "        cnt+=1\n",
    "            \n",
    "    return divmod(a[-1],1234567)[1]\n",
    "##와 이거다\n",
    "def solution(n):\n",
    "    a=0\n",
    "    b=1\n",
    "    for _ in range(n-1):\n",
    "        a,b=b,a+b\n",
    "    return divmod(b,1234567)[1]"
   ]
  },
  {
   "cell_type": "markdown",
   "id": "hollywood-master",
   "metadata": {},
   "source": [
    "## 행렬곱"
   ]
  },
  {
   "cell_type": "code",
   "execution_count": null,
   "id": "coated-belize",
   "metadata": {},
   "outputs": [],
   "source": [
    "def solution(arr1, arr2):\n",
    "    arr2=list(map(list,zip(*arr2)))\n",
    "    answer=[]\n",
    "    for i in range(len(arr1)):\n",
    "        row=[]\n",
    "        for j in range(len(arr2)):\n",
    "            row.append(sum([x*y for x,y in zip(arr1[i],arr2[j])]))\n",
    "        answer.append(row)\n",
    "    return answer"
   ]
  },
  {
   "cell_type": "markdown",
   "id": "aging-arcade",
   "metadata": {},
   "source": [
    "## jaden"
   ]
  },
  {
   "cell_type": "code",
   "execution_count": null,
   "id": "specified-vocabulary",
   "metadata": {},
   "outputs": [],
   "source": [
    "## 코드는 맞는데 runtime error  \n",
    "#def solution(s): ## 공백이 여러개일 수 있음\n",
    "#    return ' '.join([x if x=='' else x[0].upper()+x[1:] for x in s.lower().split(' #')])\n",
    "def solution(s):\n",
    "    s=s.lower()\n",
    "    s=s.split(' ')\n",
    "    a=''\n",
    "    for x in s:\n",
    "        if x=='':\n",
    "            a+=x+' '\n",
    "        else:\n",
    "            a+=x[0].upper()+x[1:].lower()+' '\n",
    "    return a[:-1]"
   ]
  },
  {
   "cell_type": "markdown",
   "id": "radical-river",
   "metadata": {},
   "source": [
    "## N개 최소공배수"
   ]
  },
  {
   "cell_type": "code",
   "execution_count": null,
   "id": "immune-binary",
   "metadata": {},
   "outputs": [],
   "source": [
    "def solution(arr):\n",
    "    start=max(arr)\n",
    "    while True:\n",
    "        if sum([start%x for x in arr])==0:\n",
    "            break\n",
    "        else:\n",
    "            start+=1\n",
    "    return start"
   ]
  }
 ],
 "metadata": {
  "kernelspec": {
   "display_name": "Python 3",
   "language": "python",
   "name": "python3"
  },
  "language_info": {
   "codemirror_mode": {
    "name": "ipython",
    "version": 3
   },
   "file_extension": ".py",
   "mimetype": "text/x-python",
   "name": "python",
   "nbconvert_exporter": "python",
   "pygments_lexer": "ipython3",
   "version": "3.8.8"
  }
 },
 "nbformat": 4,
 "nbformat_minor": 5
}
