{
 "cells": [
  {
   "cell_type": "markdown",
   "metadata": {},
   "source": [
    "# 땅따먹기"
   ]
  },
  {
   "cell_type": "code",
   "execution_count": null,
   "metadata": {},
   "outputs": [],
   "source": [
    "def solution(land):\n",
    "    answer = 0\n",
    "    n = len(land)\n",
    "    for i in range(1,n):\n",
    "        land[i][0] += max(land[i-1][1],land[i-1][2],land[i-1][3])\n",
    "        land[i][1] += max(land[i-1][0],land[i-1][2],land[i-1][3])\n",
    "        land[i][2] += max(land[i-1][0],land[i-1][1],land[i-1][3])\n",
    "        land[i][3] += max(land[i-1][0],land[i-1][1],land[i-1][2])\n",
    "    return max(land[n-1])\n",
    "\n",
    "# DP가 가장 빠른거 같다\n",
    "\n",
    "def solution(land):\n",
    "\n",
    "    for i in range(1, len(land)):\n",
    "        for j in range(len(land[0])):\n",
    "            land[i][j] = max(land[i -1][: j] + land[i - 1][j + 1:]) + land[i][j]\n",
    "\n",
    "    return max(land[-1])\n",
    "# 오 이렇게 한줄로도 줄일수 있구만;"
   ]
  },
  {
   "cell_type": "markdown",
   "metadata": {},
   "source": [
    "# 숫자의 표현"
   ]
  },
  {
   "cell_type": "code",
   "execution_count": null,
   "metadata": {},
   "outputs": [],
   "source": [
    "def solution(n):\n",
    "    answer = 0\n",
    "    for i in range(1,n+1):\n",
    "        hap=0\n",
    "        for j in range(i,n+1):\n",
    "            hap+=j\n",
    "            if hap==n:\n",
    "                answer+=1\n",
    "                break\n",
    "            elif hap>n:\n",
    "                break\n",
    "    return answer\n",
    "\n",
    "# 규칙 찾으려다 포기하고 완전탐색\n",
    "\n",
    "def expressions(num):\n",
    "    return len([i  for i in range(1,num+1,2) if num % i is 0])\n",
    "\n",
    "# 해설\n",
    "#num = n * m이라고 가정합시다.(n은 홀수) 이때 num이 연속된 자연수의 합으로 표현되는 방식은 다음과 같이 두 가지 방법이 있습니다. i) 중간 숫자가 m이고 연속된 n개의 자연수를 더하는 경우 : 이때 자연수의 합은 m-(n-1)/2 ~ m+(n-1)/2까지이며 이것이 올바른 합이 되려면 m-(n-1)/2 > 0. 즉 n<2m+1을 만족해야 합니다. ii) 중간 두 개의 숫자가 (n-1)/2, (n+1)/2이고 연속된 2m개의 자연수를 더하는 경우 : 이때 자연수의 합은 (n-1)/2-(m-1) ~ (n+1)/2+(m-1)이며 이것이 올바른 합이 되려면 (n-1)/2-(m-1) > 0. 즉 n > 2m-1을 만족해야 합니다. n은 홀수이므로 n < 2m+1과 n > 2m-1을 동시에 만족할 수 없고 동시에 어떤 m, n에 대해서도 두 조건 중 하나는 반드시 만족하게 됩니다. 따라서 num = n*m을 만족하는 홀수 n 하나당 연속된 자연수의 합 하나가 잘 대응되게 됩니다. 반대의 경우에는 연속된 자연수의 개수가 홀수일 때는 그 개수, 짝수일 때는 처음 수와 마지막 수의 합을 대응시키는 함수를 생각하면 연속된 자연수의 합 하나당 num = n * m을 만족시키는 홀수 n 하나가 잘 대응되는 것을 쉽게 확인할 수 있습니다. 결론적으로 num = n*m을 만족하는 홀수 n과 연속된 자연수의 합은 일대일 대응을 만족하고 그 개수가 같게 됩니다.\\\\\n",
    "# 라는데 뭔소린지 우선 모르겠음"
   ]
  },
  {
   "cell_type": "markdown",
   "metadata": {},
   "source": [
    "# 최댓값과 최솟값"
   ]
  },
  {
   "cell_type": "code",
   "execution_count": null,
   "metadata": {},
   "outputs": [],
   "source": [
    "def solution(s):\n",
    "    lst = list(map(int,s.split()))\n",
    "    return ' '.join([str(min(lst)),str(max(lst))])"
   ]
  },
  {
   "cell_type": "markdown",
   "metadata": {},
   "source": [
    "# 최솟값 만들기"
   ]
  },
  {
   "cell_type": "code",
   "execution_count": null,
   "metadata": {},
   "outputs": [],
   "source": [
    "def solution(A,B):\n",
    "    answer = 0\n",
    "    A.sort()\n",
    "    B.sort(reverse=True)\n",
    "    for i in range(len(A)):\n",
    "        answer += A[i] * B[i]\n",
    "    return answer\n",
    "\n",
    "# 그냥 정렬문제인가? 혹시 해서 해봤는데 답이 되더라\n",
    "\n",
    "# 좋아요 가장 많은 풀이\n",
    "def getMinSum(A,B):\n",
    "    return sum(a*b for a, b in zip(sorted(A), sorted(B, reverse = True)))"
   ]
  },
  {
   "cell_type": "markdown",
   "metadata": {},
   "source": [
    "# 피보나치 수"
   ]
  },
  {
   "cell_type": "code",
   "execution_count": null,
   "metadata": {},
   "outputs": [],
   "source": [
    "def solution(n):\n",
    "    dy = [0]*(n+1)\n",
    "    dy[1], dy[2] = 1, 2\n",
    "    for i in range(3, n+1):\n",
    "        dy[i] = dy[i-1] + dy[i-2]\n",
    "    return dy[n-1]%1234567\n",
    "\n",
    "# 참고용\n",
    "def fibonacci(num):\n",
    "    a,b = 0,1\n",
    "    for i in range(num):\n",
    "        a,b = b,a+b\n",
    "    return a\n",
    "\n",
    "cache = [-1]*100\n",
    "def fibonacci(num):\n",
    "    if num == 0: return 0\n",
    "    if num == 1: return 1\n",
    "    if cache[num] != -1: return cache[num]\n",
    "    cache[num] = fibonacci(num-1) + fibonacci(num-2)\n",
    "    return cache[num]\n",
    "\n",
    "def fibonacci(num):\n",
    "    answer = [0,1]\n",
    "    for i in range(2,num+1):\n",
    "        answer.append(answer[i-1]+answer[i-2])\n",
    "    return answer[-1]"
   ]
  },
  {
   "cell_type": "markdown",
   "metadata": {},
   "source": [
    "# 행렬의 곱셈"
   ]
  },
  {
   "cell_type": "code",
   "execution_count": null,
   "metadata": {},
   "outputs": [],
   "source": [
    "def solution(arr1, arr2):\n",
    "    return [[sum(a*b for a, b in zip(row, col)) for col in zip(*arr2)] for row in arr1]"
   ]
  },
  {
   "cell_type": "markdown",
   "metadata": {},
   "source": [
    "# JadenCase 문자열 만들기"
   ]
  },
  {
   "cell_type": "code",
   "execution_count": null,
   "metadata": {},
   "outputs": [],
   "source": [
    "import re\n",
    "def solution(s):\n",
    "    matchObj = re.finditer('\\s',s)\n",
    "    ls = [match.start()+1 for match in matchObj]\n",
    "    s = list(s.lower())\n",
    "    s[0] = s[0].upper()\n",
    "    for i in ls:\n",
    "        if len(s) > i:\n",
    "            s[i] = s[i].upper()\n",
    "        else:\n",
    "            break\n",
    "    return ''.join(s)\n",
    "\n",
    "# 그냥 .find method를 써도 되겠지만 finditer를 사용해서 공백 위치 찾고, 그 뒤를 대문자로\n",
    "# 마지막에 공백이 있는 경우는 그냥 break\n",
    "\n",
    "# 참고용 풀이\n",
    "def solution(s):\n",
    "    return ' '.join([word.capitalize() for word in s.split(\" \")])"
   ]
  },
  {
   "cell_type": "markdown",
   "metadata": {},
   "source": [
    "# N개의 최소공배수"
   ]
  },
  {
   "cell_type": "code",
   "execution_count": null,
   "metadata": {},
   "outputs": [],
   "source": [
    "import math\n",
    "def solution(arr):\n",
    "    def lcm(a, b):\n",
    "        return a * b // math.gcd(a,b)\n",
    "    while True:\n",
    "        arr.append(lcm(arr.pop(),arr.pop()))\n",
    "        if len(arr)==1:\n",
    "            return arr[0]"
   ]
  }
 ],
 "metadata": {
  "kernelspec": {
   "display_name": "Python 3",
   "language": "python",
   "name": "python3"
  },
  "language_info": {
   "codemirror_mode": {
    "name": "ipython",
    "version": 3
   },
   "file_extension": ".py",
   "mimetype": "text/x-python",
   "name": "python",
   "nbconvert_exporter": "python",
   "pygments_lexer": "ipython3",
   "version": "3.7.9"
  }
 },
 "nbformat": 4,
 "nbformat_minor": 4
}
