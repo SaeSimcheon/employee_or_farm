{
 "cells": [
  {
   "cell_type": "markdown",
   "metadata": {},
   "source": [
    "# 땅"
   ]
  },
  {
   "cell_type": "code",
   "execution_count": 1,
   "metadata": {},
   "outputs": [],
   "source": [
    "def solution(land):\n",
    "    answer = 0\n",
    "    curr = land[0]\n",
    "    curr_max = max(land[0])\n",
    "    answer += curr_max\n",
    "    max_index = land[0].index(curr_max)\n",
    "    for i in range(1,len(land)):\n",
    "        count = land[i].count(max(land[i]))\n",
    "        for _ in range(count):\n",
    "            max_index_ = land[i].index(max(land[i]))\n",
    "            if max_index == max_index_:\n",
    "                land[i][max_index_] = 0\n",
    "                curr_max = max(land[i])\n",
    "                answer += curr_max\n",
    "        else:\n",
    "            max_index = max_index_\n",
    "            answer += land[i][max_index]\n",
    "    \n",
    "    return answer"
   ]
  },
  {
   "cell_type": "markdown",
   "metadata": {},
   "source": [
    "# 숫자표현"
   ]
  },
  {
   "cell_type": "code",
   "execution_count": null,
   "metadata": {},
   "outputs": [],
   "source": [
    "def solution(n):\n",
    "    answer = 0\n",
    "    for i in range(1,n+1):\n",
    "        tmp=0\n",
    "        for j in range(i,n+1):\n",
    "            tmp+=j\n",
    "            if tmp==n:\n",
    "                answer+=1\n",
    "                break\n",
    "            elif tmp>n:\n",
    "                break\n",
    "    return answer"
   ]
  },
  {
   "cell_type": "markdown",
   "metadata": {},
   "source": [
    "# 최대 최소"
   ]
  },
  {
   "cell_type": "code",
   "execution_count": 2,
   "metadata": {},
   "outputs": [],
   "source": [
    "def solution(s):\n",
    "    print(s.split(' '))\n",
    "    s=list(map(int,s.split(\" \")))\n",
    "    answer=str(min(s)) + \" \" + str(max(s))\n",
    "    \n",
    "    return answe"
   ]
  },
  {
   "cell_type": "code",
   "execution_count": null,
   "metadata": {},
   "outputs": [],
   "source": []
  },
  {
   "cell_type": "code",
   "execution_count": null,
   "metadata": {},
   "outputs": [],
   "source": []
  },
  {
   "cell_type": "code",
   "execution_count": null,
   "metadata": {},
   "outputs": [],
   "source": []
  },
  {
   "cell_type": "code",
   "execution_count": null,
   "metadata": {},
   "outputs": [],
   "source": []
  },
  {
   "cell_type": "code",
   "execution_count": null,
   "metadata": {},
   "outputs": [],
   "source": []
  }
 ],
 "metadata": {
  "kernelspec": {
   "display_name": "Python 3",
   "language": "python",
   "name": "python3"
  },
  "language_info": {
   "codemirror_mode": {
    "name": "ipython",
    "version": 3
   },
   "file_extension": ".py",
   "mimetype": "text/x-python",
   "name": "python",
   "nbconvert_exporter": "python",
   "pygments_lexer": "ipython3",
   "version": "3.7.6"
  }
 },
 "nbformat": 4,
 "nbformat_minor": 4
}
