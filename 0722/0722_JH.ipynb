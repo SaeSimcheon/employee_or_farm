{
 "cells": [
  {
   "cell_type": "markdown",
   "metadata": {},
   "source": [
    "# 땅따먹기"
   ]
  },
  {
   "cell_type": "code",
   "execution_count": null,
   "metadata": {},
   "outputs": [],
   "source": [
    "# DFS로 풀었는데 시간초과 + 런타임에러...\n",
    "def solution(land):\n",
    "    res = 0\n",
    "    \n",
    "    def DFS(x, y, yy, sum):\n",
    "        nonlocal res\n",
    "        if y == yy:\n",
    "            return\n",
    "        if x == len(land):\n",
    "            if sum > res:\n",
    "                res = sum\n",
    "            return\n",
    "        else:\n",
    "            DFS(x+1, 0, y, sum + land[x][y])\n",
    "            DFS(x+1, 1, y, sum + land[x][y])\n",
    "            DFS(x+1, 2, y, sum + land[x][y])\n",
    "            DFS(x+1, 3, y, sum + land[x][y])\n",
    "    \n",
    "    DFS(0, 0, 4, 0)\n",
    "    DFS(0, 1, 4, 0)\n",
    "    DFS(0, 2, 4, 0)\n",
    "    DFS(0, 3, 4, 0)\n",
    "\n",
    "    return res\n",
    "\n",
    "\n",
    "# 다이나믹 프로그래밍...\n",
    "def solution(land):\n",
    "    for i in range(1, len(land)):\n",
    "        for j in range(4):\n",
    "            land[i][j] += max(land[i-1][:j] + land[i-1][j+1:])\n",
    "            \n",
    "    return max(land[-1])"
   ]
  },
  {
   "cell_type": "markdown",
   "metadata": {},
   "source": [
    "# 숫자의 표현"
   ]
  },
  {
   "cell_type": "code",
   "execution_count": null,
   "metadata": {},
   "outputs": [],
   "source": [
    "def solution(n):\n",
    "    cnt = 0\n",
    "    for i in range(1, n//2+1):\n",
    "        sum = 0\n",
    "        for x in range(i, n):\n",
    "            sum += x\n",
    "            if sum == n:\n",
    "                cnt += 1\n",
    "                break\n",
    "            elif sum > n:\n",
    "                break\n",
    "    return cnt+1\n",
    "\n",
    "# 내 풀이를 좀 더 간단하게\n",
    "def expressions(num):\n",
    "    answer = 0\n",
    "    for i in range(1, num + 1):\n",
    "        s = 0\n",
    "        while s < num:\n",
    "            s += i\n",
    "            i += 1\n",
    "        if s == num:\n",
    "            answer += 1\n",
    "    return answer\n",
    "\n",
    "## 일정한 규칙이 있었음\n",
    "# n의 약수 중 홀수가 몇개있냐는 문제\n",
    "# 이해 안됨\n",
    "def expressions(num):\n",
    "    return len([i  for i in range(1,num+1,2) if num % i is 0])"
   ]
  },
  {
   "cell_type": "markdown",
   "metadata": {},
   "source": [
    "# 최댓값과 최솟값"
   ]
  },
  {
   "cell_type": "code",
   "execution_count": null,
   "metadata": {},
   "outputs": [],
   "source": [
    "def solution(s):\n",
    "    arr = list(map(int, s.split()))\n",
    "    answer = [str(min(arr)), str(max(arr))]\n",
    "    return ' '.join(answer)"
   ]
  },
  {
   "cell_type": "markdown",
   "metadata": {},
   "source": [
    "# 최솟값 만들기"
   ]
  },
  {
   "cell_type": "code",
   "execution_count": null,
   "metadata": {},
   "outputs": [],
   "source": [
    "def solution(A,B):\n",
    "    A.sort()\n",
    "    B.sort(reverse = True)\n",
    "    answer = 0\n",
    "    for i in range(len(A)):\n",
    "        answer += A[i]*B[i]\n",
    "    return answer\n",
    "\n",
    "# zip 함수 사용하자..\n",
    "def getMinSum(A,B):\n",
    "    return sum(a*b for a, b in zip(sorted(A), sorted(B, reverse = True)))"
   ]
  },
  {
   "cell_type": "markdown",
   "metadata": {},
   "source": [
    "# 피보나치 수"
   ]
  },
  {
   "cell_type": "code",
   "execution_count": null,
   "metadata": {},
   "outputs": [],
   "source": [
    "def solution(n):\n",
    "    arr = [0] * (n+1)\n",
    "    arr[1] = 1\n",
    "    for i in range(2, n+1):\n",
    "        arr[i] = arr[i-1] + arr[i-2]\n",
    "    return arr[n]%1234567"
   ]
  },
  {
   "cell_type": "markdown",
   "metadata": {},
   "source": [
    "# 행렬의 곱셈"
   ]
  },
  {
   "cell_type": "code",
   "execution_count": null,
   "metadata": {},
   "outputs": [],
   "source": [
    "def solution(arr1, arr2):\n",
    "    n = len(arr1)\n",
    "    m = len(arr2[0])\n",
    "    arr = [[0]*m for _ in range(n)]\n",
    "    for i in range(n):\n",
    "        for j in range(m):\n",
    "            for k in range(len(arr1[0])):\n",
    "                arr[i][j] += arr1[i][k] * arr2[k][j]\n",
    "        \n",
    "    return arr\n",
    "\n",
    "# 나도 zip으로 풀고 싶었는데...\n",
    "def productMatrix(A, B):\n",
    "    return [[sum(a*b for a, b in zip(A_row,B_col)) for B_col in zip(*B)] for A_row in A]"
   ]
  },
  {
   "cell_type": "markdown",
   "metadata": {},
   "source": [
    "# JadenCase 문자열 만들기"
   ]
  },
  {
   "cell_type": "code",
   "execution_count": null,
   "metadata": {},
   "outputs": [],
   "source": [
    "# 질문하기 보니까 공백이 여러개 나오는 경우가 있어서 split함수 안될 듯...\n",
    "def solution(s):\n",
    "    s=s.lower()\n",
    "    arr = s.split()\n",
    "    for i in range(len(arr)):\n",
    "        arr[i][0] = arr[i][0].upper()\n",
    "    \n",
    "    return ' '.join(arr)\n",
    "print(solution(\"3people unFollowed me\"))\n",
    "\n",
    "# 이제 됨\n",
    "def solution(s):\n",
    "    s=s.lower()\n",
    "    answer = s[0].upper()\n",
    "    for i in range(1, len(s)):\n",
    "        if s[i-1] == ' ':\n",
    "            answer += s[i].upper()\n",
    "        else:\n",
    "            answer += s[i]\n",
    "    return answer"
   ]
  },
  {
   "cell_type": "markdown",
   "metadata": {},
   "source": [
    "# N개의 최소공배수"
   ]
  },
  {
   "cell_type": "code",
   "execution_count": null,
   "metadata": {},
   "outputs": [],
   "source": [
    "def solution(arr):\n",
    "    arr.sort()\n",
    "    for i in range(len(arr)-1):\n",
    "        x = arr[i+1]\n",
    "        y = arr[i]\n",
    "\n",
    "        # 유클리드 호제법\n",
    "        while x % y != 0:\n",
    "            x, y = y, x%y\n",
    "        arr[i+1] = arr[i]*arr[i+1]//y\n",
    "\n",
    "    return arr[-1]"
   ]
  }
 ],
 "metadata": {
  "kernelspec": {
   "display_name": "Python 3",
   "language": "python",
   "name": "python3"
  },
  "language_info": {
   "codemirror_mode": {
    "name": "ipython",
    "version": 3
   },
   "file_extension": ".py",
   "mimetype": "text/x-python",
   "name": "python",
   "nbconvert_exporter": "python",
   "pygments_lexer": "ipython3",
   "version": "3.7.6"
  }
 },
 "nbformat": 4,
 "nbformat_minor": 4
}
