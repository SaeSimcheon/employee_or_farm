{
 "cells": [
  {
   "cell_type": "markdown",
   "metadata": {},
   "source": [
    "## 땅따먹기"
   ]
  },
  {
   "cell_type": "code",
   "execution_count": null,
   "metadata": {},
   "outputs": [],
   "source": [
    "def solution(land):\n",
    "    answer = 0\n",
    "    n = len(land)\n",
    "\n",
    "    for i in range(1, n):\n",
    "        land[i][0] += max(land[i-1][1], land[i-1][2], land[i-1][3])\n",
    "        land[i][1] += max(land[i-1][0], land[i-1][2], land[i-1][3])\n",
    "        land[i][2] += max(land[i-1][0], land[i-1][1], land[i-1][3])\n",
    "        land[i][3] += max(land[i-1][0], land[i-1][1], land[i-1][2])\n",
    "\n",
    "\n",
    "    answer = max(land[n-1])\n",
    "\n",
    "    return answer"
   ]
  },
  {
   "cell_type": "markdown",
   "metadata": {},
   "source": [
    "## 숫자의 표현"
   ]
  },
  {
   "cell_type": "code",
   "execution_count": null,
   "metadata": {},
   "outputs": [],
   "source": [
    "def solution(n):\n",
    "    global answer \n",
    "    answer= 0\n",
    "    def dfs(this,given):\n",
    "        global answer \n",
    "        if this > n :\n",
    "            return \n",
    "        if this == n:\n",
    "            answer +=1\n",
    "            return\n",
    "        else:\n",
    "            if given == 0 :\n",
    "                for i in range(1,n+1):\n",
    "                    dfs(this + i,given+i)\n",
    "            else:\n",
    "                dfs(this+given+1,given+1)\n",
    "    dfs(0,0)\n",
    "    \n",
    "    return answer"
   ]
  },
  {
   "cell_type": "markdown",
   "metadata": {},
   "source": [
    "## 최댓값과 최솟값"
   ]
  },
  {
   "cell_type": "code",
   "execution_count": null,
   "metadata": {},
   "outputs": [],
   "source": [
    "def solution(s):\n",
    "    s=list(map(int,s.split(\" \")))\n",
    "    print(s)\n",
    "    ss=[str(min(s)),str(max(s))]\n",
    "    print(ss)\n",
    "    answer=\" \".join(ss)\n",
    "    \n",
    "    return answer"
   ]
  },
  {
   "cell_type": "markdown",
   "metadata": {},
   "source": [
    "## 최솟값 만들기"
   ]
  },
  {
   "cell_type": "code",
   "execution_count": null,
   "metadata": {},
   "outputs": [],
   "source": [
    "def solution(A,B):\n",
    "    from collections import deque\n",
    "    answer = 0 \n",
    "    A.sort()\n",
    "    B.sort(reverse = True)\n",
    "    \n",
    "    answer=sum([i*j for i,j in zip(A,B)])\n",
    "        \n",
    "    return answer"
   ]
  },
  {
   "cell_type": "markdown",
   "metadata": {},
   "source": [
    "## 피보나치 수"
   ]
  },
  {
   "cell_type": "code",
   "execution_count": null,
   "metadata": {},
   "outputs": [],
   "source": [
    "def solution(n):\n",
    "    n_0 = [1]\n",
    "    n_1 = [1]\n",
    "    n_2 = [0]\n",
    "    while n!=1:        \n",
    "        if n == 1:\n",
    "            n_0 = n_0[0]\n",
    "            break\n",
    "        else:\n",
    "            n_0[0] = n_1[0] + n_2[0]\n",
    "            n_2 = n_1[:]\n",
    "            n_1 = n_0[:]\n",
    "            n-=1\n",
    "            \n",
    "    answer = n_0[0] %1234567\n",
    "    return answer"
   ]
  },
  {
   "cell_type": "markdown",
   "metadata": {},
   "source": [
    "## 행렬의 곱셈"
   ]
  },
  {
   "cell_type": "code",
   "execution_count": null,
   "metadata": {},
   "outputs": [],
   "source": [
    "def solution(arr1, arr2):\n",
    "    arr2=[list(i) for i in zip(*arr2)]\n",
    "    answer = []\n",
    "    for i in arr1:\n",
    "        vec = []\n",
    "        for j in arr2:\n",
    "            seq=[k*m for k,m in zip(i,j)]\n",
    "            vec.append(sum(seq))\n",
    "        answer.append(vec)\n",
    "    \n",
    "    return answer"
   ]
  },
  {
   "cell_type": "markdown",
   "metadata": {},
   "source": [
    "## JadenCase 문자열 만들기"
   ]
  },
  {
   "cell_type": "code",
   "execution_count": null,
   "metadata": {},
   "outputs": [],
   "source": [
    "def solution(s):\n",
    "    import re\n",
    "    \n",
    "    def subftn(element):\n",
    "        g1=element.group(1)\n",
    "        g2 = element.group(2)\n",
    "        g2=g2.lower()\n",
    "        if g1.isnumeric() == False:\n",
    "            g1 = g1.upper()\n",
    "            return g1 + g2\n",
    "        else:\n",
    "            return g1 + g2\n",
    "    answer=re.sub(\"(\\w)([A-Za-z0-9]*)\",lambda x : subftn(x),s)\n",
    "    \n",
    "    return answer"
   ]
  },
  {
   "cell_type": "markdown",
   "metadata": {},
   "source": [
    "## N개의 최소공배수"
   ]
  },
  {
   "cell_type": "code",
   "execution_count": null,
   "metadata": {},
   "outputs": [],
   "source": [
    "def solution(arr):\n",
    "    start = max(arr)\n",
    "    while True:\n",
    "        indicator = 1\n",
    "        for i in arr:\n",
    "            if start % i !=0:\n",
    "                indicator = 0\n",
    "                break\n",
    "        if indicator ==0:\n",
    "            start +=1\n",
    "        else:\n",
    "            answer= start\n",
    "            break\n",
    "    return answer"
   ]
  }
 ],
 "metadata": {
  "kernelspec": {
   "display_name": "Python 3",
   "language": "python",
   "name": "python3"
  },
  "language_info": {
   "codemirror_mode": {
    "name": "ipython",
    "version": 3
   },
   "file_extension": ".py",
   "mimetype": "text/x-python",
   "name": "python",
   "nbconvert_exporter": "python",
   "pygments_lexer": "ipython3",
   "version": "3.7.4"
  }
 },
 "nbformat": 4,
 "nbformat_minor": 2
}
