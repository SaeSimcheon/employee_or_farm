{
 "cells": [
  {
   "cell_type": "markdown",
   "metadata": {},
   "source": [
    "## 불량 사용자"
   ]
  },
  {
   "cell_type": "code",
   "execution_count": null,
   "metadata": {},
   "outputs": [],
   "source": [
    "def solution(user_id, banned_id):\n",
    "    import re\n",
    "    def dt(element,given):\n",
    "        out=re.match(re.sub(\"\\*\",\".\",given)+\"$\",element)\n",
    "        if out is None :\n",
    "            return \"\"\n",
    "        else:\n",
    "            return out.group(0)    \n",
    "    \n",
    "    ch = [0]*len(user_id)\n",
    "    answer= 0\n",
    "    score=len(banned_id)\n",
    "    \n",
    "    AA=[ list(map(lambda x : dt(x,i),user_id)) for i in banned_id ]\n",
    "    basket = []\n",
    "    \n",
    "    def dfs(given):\n",
    "        nonlocal ch ,answer ,basket\n",
    "        \n",
    "        if ch in basket:\n",
    "            return\n",
    "        if score ==sum(ch):\n",
    "            basket.append(ch[:])\n",
    "            answer +=1\n",
    "            return\n",
    "        else:\n",
    "            for idx,i in enumerate(AA[given]):\n",
    "                if i == \"\":\n",
    "                    continue\n",
    "                if ch[idx] == 1 :\n",
    "                    continue\n",
    "                ch[idx] = 1\n",
    "                dfs(given+1)\n",
    "                ch[idx] = 0     \n",
    "                \n",
    "    dfs(0)\n",
    "    \n",
    "    return answer"
   ]
  },
  {
   "cell_type": "markdown",
   "metadata": {},
   "source": [
    "## 2xn타일링"
   ]
  },
  {
   "cell_type": "code",
   "execution_count": null,
   "metadata": {},
   "outputs": [],
   "source": [
    "def solution(n):\n",
    "    #n=4\n",
    "    n_2 = 1\n",
    "    n_1 = 2\n",
    "    n_0 = 0\n",
    "    \n",
    "    for i in range(n):\n",
    "        if i < 2:\n",
    "            continue\n",
    "        n_0 = n_1 + n_2\n",
    "        n_2 = n_1\n",
    "        n_1 = n_0\n",
    "    answer = n_0\n",
    "    \n",
    "    return answer%1000000007"
   ]
  },
  {
   "cell_type": "markdown",
   "metadata": {},
   "source": [
    "## 단어변환"
   ]
  },
  {
   "cell_type": "code",
   "execution_count": null,
   "metadata": {},
   "outputs": [],
   "source": [
    "def solution(begin, target, words):\n",
    "    if target not in words:\n",
    "        return 0\n",
    "    answer= float(\"inf\")\n",
    "    begin=list(begin)\n",
    "    \n",
    "    ch = [0]*len(words)\n",
    "    this=[sum([j[0] != j[1] for j in zip(i,begin)]) for i in words]\n",
    "    \n",
    "    def dfs(given):\n",
    "        this=[sum([j[0] != j[1] for j in zip(i,given)]) for i in words]\n",
    "        nonlocal ch ,answer\n",
    "        if given == target :\n",
    "            score = sum(ch)\n",
    "            if answer > score:\n",
    "                answer = score\n",
    "            return\n",
    "        else:\n",
    "            for idx,i in enumerate(this):\n",
    "                if i != 1 :\n",
    "                    continue\n",
    "                if ch[idx] ==1:\n",
    "                    continue\n",
    "                ch[idx] = 1\n",
    "                dfs(words[idx])\n",
    "                ch[idx] = 0\n",
    "                \n",
    "            return\n",
    "    dfs(begin)\n",
    "\n",
    "    \n",
    "    return answer"
   ]
  },
  {
   "cell_type": "markdown",
   "metadata": {},
   "source": [
    "## 표편집"
   ]
  },
  {
   "cell_type": "code",
   "execution_count": null,
   "metadata": {},
   "outputs": [],
   "source": [
    "def solution(n, k, cmd):\n",
    "    from collections import deque\n",
    "    cmd= deque(cmd)\n",
    "    name=deque(list(range(n)))\n",
    "    #name=deque([(i,i) for i in range(n)])\n",
    "    #print(name)\n",
    "    trash_can = deque([])\n",
    "    #answer = \"O\"*n\n",
    "    while cmd: \n",
    "        #if (\"C\" not in cmd)&(\"Z\" not in cmd):\n",
    "            #break\n",
    "        com = cmd.popleft()\n",
    "        \n",
    "        if com == \"C\":\n",
    "            popped=name[k]\n",
    "            del name[k]\n",
    "            #name = deque([(idx,i[1]) for idx,i in enumerate(name)])\n",
    "            trash_can.append((k,popped))\n",
    "            #answer= answer[:popped] + \"X\" + answer[(popped+1):]\n",
    "            if len(name) ==k:\n",
    "                k-=1\n",
    "        elif com == \"Z\":\n",
    "            trash=trash_can.pop()\n",
    "            #print(name)\n",
    "            name.insert(trash[0],trash[1])\n",
    "            #print(name,k)\n",
    "            #name = deque([(idx,i[1]) for idx,i in enumerate(name)])\n",
    "            #answer= answer[:trash[1]] + \"O\" + answer[(trash[1]+1):]\n",
    "            if trash[0] <= k:\n",
    "                k +=1\n",
    "        else:\n",
    "            DR,S=com.split(\" \")\n",
    "            \n",
    "            if DR == \"U\":\n",
    "                k -=int(S)\n",
    "            else:\n",
    "                k +=int(S)\n",
    "    \n",
    "    answer=[\"O\"]*n\n",
    "    for i in trash_can:\n",
    "        answer[i[1]] = \"X\"\n",
    "    return \"\".join(answer)"
   ]
  },
  {
   "cell_type": "markdown",
   "metadata": {},
   "source": [
    "## 셔틀버스"
   ]
  },
  {
   "cell_type": "code",
   "execution_count": null,
   "metadata": {},
   "outputs": [],
   "source": [
    "def solution(n, t, m, timetable):\n",
    "    def time(element):\n",
    "        t1,t2=element.split(\":\")\n",
    "        return int(t1)*60 + int(t2)\n",
    "    st = 9*60\n",
    "    bus= sorted([st + t*i for i in range(n)])\n",
    "    line = sorted(list(map(time,timetable)))\n",
    "    out = {}\n",
    "    while bus:\n",
    "        space =[]\n",
    "        this = bus.pop(0)\n",
    "        while True :\n",
    "            if (len(line) == 0)|(len(space) == m) :\n",
    "                break\n",
    "            crew = line.pop(0)\n",
    "            if crew <= this :\n",
    "                space.append(crew)\n",
    "                continue\n",
    "            else:\n",
    "                line.insert(0,crew)\n",
    "                break\n",
    "        out[str(this)] = space\n",
    "    key=list(out.keys())\n",
    "    rob=out[key[-1]]\n",
    "    if len(rob) < m :\n",
    "        head = int(key[-1])//60\n",
    "        tail= int(key[-1])%60\n",
    "    elif len(rob) == m :\n",
    "        TT=rob[-1]-1\n",
    "        head = int(TT)//60\n",
    "        tail= int(TT)%60\n",
    "    if head < 10:\n",
    "        head=\"0\"+str(head)\n",
    "    if tail < 10:\n",
    "        tail=\"0\"+str(tail)\n",
    "    return str(head) + \":\" + str(tail)"
   ]
  },
  {
   "cell_type": "markdown",
   "metadata": {},
   "source": [
    "## 보석쇼핑"
   ]
  },
  {
   "cell_type": "code",
   "execution_count": null,
   "metadata": {},
   "outputs": [],
   "source": [
    "def solution(gems):\n",
    "    from collections import Counter\n",
    "    hash=Counter(set(gems))\n",
    "    ood = Counter(gems)\n",
    "    #print([(key,value)for key,value in ood.items()])\n",
    "    \n",
    "    LM=len(list(hash.keys()))\n",
    "    length=len(gems)\n",
    "    index = 0\n",
    "    \n",
    "    cnt = float(\"INF\") \n",
    "    answer = [1,cnt]\n",
    "    indicator = -1\n",
    "    while index<length - LM +1:\n",
    "        hash=Counter(set(gems))\n",
    "        S=len(list(hash.keys()))\n",
    "        \n",
    "        for j,i in enumerate(gems[index:(length)]):\n",
    "            if (ood[i] == 1)&(j == 0):\n",
    "                indicator =1\n",
    "                \n",
    "            if answer[1] - answer[0] == j :\n",
    "        #        indicator = 1\n",
    "                break\n",
    "            if hash[i] == 1:\n",
    "                hash[i] = 0\n",
    "                S -=1\n",
    "            if S == 0 :\n",
    "                if cnt > j+1:\n",
    "                    cnt = j+1\n",
    "                    answer = [index+1,index + cnt]\n",
    "                break\n",
    "        if indicator ==1:\n",
    "            break\n",
    "            \n",
    "        index +=1\n",
    "    \n",
    "    return answer"
   ]
  },
  {
   "cell_type": "markdown",
   "metadata": {},
   "source": [
    "## 순위"
   ]
  },
  {
   "cell_type": "code",
   "execution_count": null,
   "metadata": {},
   "outputs": [],
   "source": [
    "def solution(n, results):\n",
    "    D = [[float(\"inf\")]*n for i in range(n)]\n",
    "    for i in results:\n",
    "        D[i[1]-1][i[0]-1] = -1\n",
    "        D[i[0]-1][i[1]-1] = 1\n",
    "    for i in range(n):\n",
    "        D[i][i] = 0\n",
    "    \n",
    "    for k in range(n):\n",
    "        for j in range(n):\n",
    "            for i in range(n):\n",
    "                if (D[i][k] == 1)&(D[k][j] ==1):\n",
    "                    D[i][j] = 1\n",
    "                    D[j][i] = -1\n",
    "    D=list(map(sum,D))\n",
    "    return sum([type(i) == int for i in D ])"
   ]
  },
  {
   "cell_type": "markdown",
   "metadata": {},
   "source": [
    "## "
   ]
  },
  {
   "cell_type": "code",
   "execution_count": null,
   "metadata": {},
   "outputs": [],
   "source": []
  },
  {
   "cell_type": "code",
   "execution_count": null,
   "metadata": {},
   "outputs": [],
   "source": []
  },
  {
   "cell_type": "code",
   "execution_count": null,
   "metadata": {},
   "outputs": [],
   "source": []
  },
  {
   "cell_type": "code",
   "execution_count": null,
   "metadata": {},
   "outputs": [],
   "source": []
  }
 ],
 "metadata": {
  "kernelspec": {
   "display_name": "Python 3",
   "language": "python",
   "name": "python3"
  },
  "language_info": {
   "codemirror_mode": {
    "name": "ipython",
    "version": 3
   },
   "file_extension": ".py",
   "mimetype": "text/x-python",
   "name": "python",
   "nbconvert_exporter": "python",
   "pygments_lexer": "ipython3",
   "version": "3.7.4"
  }
 },
 "nbformat": 4,
 "nbformat_minor": 2
}
