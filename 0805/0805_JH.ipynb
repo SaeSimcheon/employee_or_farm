{
 "cells": [
  {
   "cell_type": "markdown",
   "metadata": {},
   "source": [
    "## 불량 사용자"
   ]
  },
  {
   "cell_type": "markdown",
   "metadata": {},
   "source": [
    "## 2xn타일링"
   ]
  },
  {
   "cell_type": "code",
   "execution_count": null,
   "metadata": {},
   "outputs": [],
   "source": [
    "# 이거 answer 인식 못하는 이유 아는사람??\n",
    "def DFS(n, m):\n",
    "    global answer\n",
    "    if n < m:\n",
    "        return\n",
    "    if n == m:\n",
    "        answer += 1\n",
    "        return\n",
    "    DFS(n, m+1)\n",
    "    DFS(n, m+2)\n",
    "    return\n",
    "    \n",
    "\n",
    "def solution(n):\n",
    "    answer = 0\n",
    "    DFS(n, 0)\n",
    "    return answer\n",
    "\n",
    "# 일단 위에거 안되길래 이렇게 했는데 테스트케이스만 맞고 채점하면 싹 다 런타임 에러..\n",
    "def solution(n):\n",
    "    answer = 0\n",
    "    def DFS(n, m):\n",
    "        nonlocal answer\n",
    "        if n < m:\n",
    "            return\n",
    "        if n == m:\n",
    "            answer += 1\n",
    "            return\n",
    "        DFS(n, m+1)\n",
    "        DFS(n, m+2)\n",
    "        return\n",
    "    DFS(n, 0)\n",
    "    return answer\n",
    "\n",
    "# 질문하기에 테스트케이스 보다가 규칙찾음 ㅋㅋㅋ \n",
    "# 근데 왜인지는 모름\n",
    "def solution(n):\n",
    "    a, b = 1, 2\n",
    "    answer = 2\n",
    "    while answer < n:\n",
    "        b, a = a+b, b\n",
    "        answer += 1\n",
    "    return b % 1000000007"
   ]
  },
  {
   "cell_type": "markdown",
   "metadata": {},
   "source": [
    "## 단어변환"
   ]
  },
  {
   "cell_type": "code",
   "execution_count": null,
   "metadata": {},
   "outputs": [],
   "source": [
    "# 아니 개어렵네 ㅁㅊ...\n",
    "\n",
    "def DFS(begin, target, words, visit):\n",
    "    answer = 0\n",
    "    stack = [begin]\n",
    "    while stack:\n",
    "        w = stack.pop()\n",
    "        if w == target:\n",
    "            return answer\n",
    "        \n",
    "        for i in range(len(words)):\n",
    "            diff = 0\n",
    "            if visit[i] == 0:\n",
    "                for a, b in zip(w, words[i]):\n",
    "                    if a != b:\n",
    "                        diff += 1\n",
    "                if diff == 1:\n",
    "                    stack.append(words[i])\n",
    "                    visit[i] = 1\n",
    "        answer += 1\n",
    "    return answer\n",
    "        \n",
    "\n",
    "def solution(begin, target, words):\n",
    "    visit = [0] * len(words)\n",
    "    if target not in words:\n",
    "        return 0\n",
    "    \n",
    "    return DFS(begin, target, words, visit)"
   ]
  },
  {
   "cell_type": "markdown",
   "metadata": {},
   "source": [
    "## 표편집"
   ]
  },
  {
   "cell_type": "markdown",
   "metadata": {},
   "source": [
    "## 셔틀버스"
   ]
  },
  {
   "cell_type": "markdown",
   "metadata": {},
   "source": [
    "## 보석쇼핑"
   ]
  },
  {
   "cell_type": "markdown",
   "metadata": {},
   "source": [
    "## 순위"
   ]
  },
  {
   "cell_type": "code",
   "execution_count": null,
   "metadata": {},
   "outputs": [],
   "source": [
    "def solution(n, results):\n",
    "    answer = 0\n",
    "    winners , losers = {}, {}\n",
    "    \n",
    "    for i in range(1, n+1):\n",
    "        winners[i] = set()\n",
    "        losers[i] = set()\n",
    "        \n",
    "    for x in results:\n",
    "        winners[x[0]].add(x[1])\n",
    "        losers[x[1]].add(x[0])\n",
    "        \n",
    "    for j in range(1, n+1):\n",
    "        for w in losers[j]:\n",
    "            winners[w].update(winners[j])\n",
    "        for l in winners[j]:\n",
    "            losers[l].update(losers[j])\n",
    "    \n",
    "    for a in range(1, n+1):\n",
    "        if len(winners[a]) + len(losers[a]) == n-1:\n",
    "            answer += 1\n",
    "        \n",
    "    return answer"
   ]
  },
  {
   "cell_type": "code",
   "execution_count": null,
   "metadata": {},
   "outputs": [],
   "source": []
  }
 ],
 "metadata": {
  "kernelspec": {
   "display_name": "Python 3",
   "language": "python",
   "name": "python3"
  },
  "language_info": {
   "codemirror_mode": {
    "name": "ipython",
    "version": 3
   },
   "file_extension": ".py",
   "mimetype": "text/x-python",
   "name": "python",
   "nbconvert_exporter": "python",
   "pygments_lexer": "ipython3",
   "version": "3.7.6"
  }
 },
 "nbformat": 4,
 "nbformat_minor": 4
}
