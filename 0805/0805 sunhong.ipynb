{
 "cells": [
  {
   "cell_type": "markdown",
   "id": "driven-things",
   "metadata": {},
   "source": [
    "## 순위"
   ]
  },
  {
   "cell_type": "code",
   "execution_count": null,
   "id": "committed-fountain",
   "metadata": {},
   "outputs": [],
   "source": [
    "## 테케 2,7,8,9 통과못함/ 뭔가 정렬을 해주면 될것같긴한데 \n",
    "def solution(n,results):\n",
    "    ch=[[0 for _ in range(n)] for __ in range(n)]\n",
    "\n",
    "    for win,lose in results:\n",
    "        ch[win-1][lose-1]=1\n",
    "        ch[lose-1][win-1]=-1\n",
    "        \n",
    "    a=[(n-x.count(0),x) for x in ch]\n",
    "    a.sort(key=lambda x: -x[0])\n",
    "    ch=[y for x,y in a]\n",
    "    \n",
    "\n",
    "    for i,x in enumerate(ch):\n",
    "        for j,y in enumerate(x):\n",
    "            if y==1: # i가 j에게 이겼다면=> j가 이긴 애들한테는 i도 이김\n",
    "                base=ch[i]\n",
    "                for k,z in enumerate(ch[j]):\n",
    "                    if z==1:\n",
    "                        base[k]=1\n",
    "                ch[i]=base\n",
    "            elif y==-1: # i가 j에게 졌다면=> j가 진 애들한테는 i도 짐\n",
    "                base=ch[i]\n",
    "                for k,z in enumerate(ch[j]):\n",
    "                    if z==-1:\n",
    "                        base[k]=-1\n",
    "                ch[i]=base\n",
    "                \n",
    "    cnt=0\n",
    "    for x in ch:\n",
    "        if x.count(0)==1:\n",
    "            cnt+=1\n",
    "    return cnt"
   ]
  },
  {
   "cell_type": "markdown",
   "id": "destroyed-warner",
   "metadata": {},
   "source": [
    "## 단어변환"
   ]
  },
  {
   "cell_type": "code",
   "execution_count": null,
   "id": "weighted-enterprise",
   "metadata": {},
   "outputs": [],
   "source": [
    "def solution(begin, target, words):\n",
    "    def DFS(input,num,words):\n",
    "        nonlocal cnt\n",
    "        if input==target:\n",
    "            cnt=min(cnt,num)\n",
    "        else:\n",
    "            for x in words:\n",
    "                if sum([1 for i in range(len(input)) if input[i]==x[i]])==len(input)-1:\n",
    "                    w=words.copy() ## 이걸 안해줬을 땐 recursion error존나났었음\n",
    "                    w.remove(x)\n",
    "                    DFS(x,num+1,w)\n",
    "            \n",
    "    if target not in words:\n",
    "        return 0\n",
    "    else:\n",
    "        cnt=len(words)+1\n",
    "        DFS(begin,0,words)\n",
    "        return cnt"
   ]
  },
  {
   "cell_type": "markdown",
   "id": "given-spiritual",
   "metadata": {},
   "source": [
    "## 보석쇼핑"
   ]
  },
  {
   "cell_type": "code",
   "execution_count": null,
   "id": "surrounded-designer",
   "metadata": {},
   "outputs": [],
   "source": [
    "## 노가다코드라 테스트 11부터 쌉 시간초과\n",
    "from collections import defaultdict\n",
    "\n",
    "def ret(idx,gems): \n",
    "    dic=defaultdict(int)\n",
    "    start=gems[idx]\n",
    "    dic[start]\n",
    "    i=idx\n",
    "    while True:\n",
    "        i+=1\n",
    "        if len(dic.keys())==len(set(gems)):\n",
    "            break\n",
    "        if i>=len(gems):\n",
    "            i=2*len(gems)\n",
    "            break\n",
    "        if gems[i] not in dic.keys():\n",
    "            dic[gems[i]]\n",
    "    return idx,i-1\n",
    "\n",
    "\n",
    "def solution(gems):\n",
    "    g=len(gems)\n",
    "    collec=len(set(gems))\n",
    "    for i in range(g):\n",
    "        if i>len(gems)-collec:\n",
    "            break\n",
    "        else:\n",
    "            s,e=ret(i,gems)\n",
    "            #print('1',s,e)\n",
    "            if e-s<g:\n",
    "            #    print('2',i,g)\n",
    "                start=s\n",
    "                end=e\n",
    "                g=e-s\n",
    "    return [start+1,end+1]"
   ]
  },
  {
   "cell_type": "markdown",
   "id": "silver-reputation",
   "metadata": {},
   "source": [
    "## 셔틀버스"
   ]
  },
  {
   "cell_type": "code",
   "execution_count": null,
   "id": "dependent-plasma",
   "metadata": {},
   "outputs": [],
   "source": [
    "# 늦으면 늦을 수록 좋음, 최대한 늦게,\n",
    "from collections import deque\n",
    "def solution(n, t, m, timetable):\n",
    "    stop=deque([0+t*i for i in range(n)])\n",
    "    \n",
    "    t=deque()\n",
    "    for x in timetable:\n",
    "        a,b=x.split(':')\n",
    "        t.append(int(a)*60+int(b))\n",
    "    t=deque(sorted(t))\n",
    "    \n",
    "    while stop:\n",
    "        if len(stop)==1: ## 요게 마지막 배차\n",
    "            x=stop.popleft()\n",
    "            ## 아 t가 길이가 존나 짧을 수도 잇음ㄷㄷ\n",
    "            if len(t)>=m:                \n",
    "                if t[m-1]>x: # 이건 정원 안 차는 경우\n",
    "                    answer= x\n",
    "                else: ## 정원 차는 경우=> m-1번째와 m번째 구해서, \n",
    "                    answer= t[m-1]-1\n",
    "            else:\n",
    "                answer=x\n",
    "    \n",
    "        else:\n",
    "            x=stop.popleft() # \n",
    "            cnt=0\n",
    "            while True:\n",
    "                if cnt>=m:\n",
    "                    break\n",
    "                if t[0]<=x:\n",
    "                    t.popleft()\n",
    "                    cnt+=1\n",
    "                else:\n",
    "                    break\n",
    "    a,b=divmod(answer,60)\n",
    "    a,b=str(a),str(b)\n",
    "    if len(a)==1:\n",
    "        a='0'+a\n",
    "    if len(b)==1:\n",
    "        b='0'+b\n",
    "    return ':'.join([a,b])"
   ]
  },
  {
   "cell_type": "markdown",
   "id": "olive-niagara",
   "metadata": {},
   "source": [
    "## 타일링"
   ]
  },
  {
   "cell_type": "code",
   "execution_count": null,
   "id": "structured-supply",
   "metadata": {},
   "outputs": [],
   "source": [
    "def DFS(L,n):\n",
    "    global cnt\n",
    "    if L>n:\n",
    "        return\n",
    "    elif L==n:\n",
    "        cnt+=divmod(1,1000000007)[1]\n",
    "    else:\n",
    "        DFS(L+1,n)\n",
    "        DFS(L+2,n)\n",
    "        \n",
    "def solution(n):\n",
    "    global cnt\n",
    "    cnt=0\n",
    "    DFS(0,n)\n",
    "    return cnt\n",
    "# dfs로 안됨\n",
    "\n",
    "\n",
    "\n",
    "def solution(n):\n",
    "    if n==1:\n",
    "        return 1\n",
    "    elif n==2:\n",
    "        return 2\n",
    "    else:\n",
    "        a=1\n",
    "        b=2\n",
    "        for _ in range(n-2):\n",
    "            a,b=b,a+b\n",
    "        return divmod(b,1000000007)[1]"
   ]
  },
  {
   "cell_type": "markdown",
   "id": "alike-gambling",
   "metadata": {},
   "source": [
    "## 불량"
   ]
  },
  {
   "cell_type": "code",
   "execution_count": null,
   "id": "postal-germany",
   "metadata": {},
   "outputs": [],
   "source": [
    "from collections import Counter\n",
    "from itertools import combinations\n",
    "\n",
    "def solution(user_id, banned_id):\n",
    "    answer=1\n",
    "    ban_counter=Counter(banned_id)\n",
    "    b=[]\n",
    "    for x in ban_counter:\n",
    "        star_idx=[i for i in range(len(x)) if x[i]=='*']\n",
    "        a=[]\n",
    "        for y in user_id: ## y가 원래 user_id\n",
    "            if len(x)==len(y): \n",
    "                new_y=y\n",
    "                for idx in star_idx:\n",
    "                    new_y='%s%s%s'%(new_y[:idx],'*',new_y[idx+1:])\n",
    "                if x==new_y:\n",
    "                    a.append(y)\n",
    "        if a:\n",
    "            answer*=len(list(combinations(a,ban_counter[x])))\n",
    "    return answer"
   ]
  },
  {
   "cell_type": "markdown",
   "id": "treated-mandate",
   "metadata": {},
   "source": [
    "## 표편집"
   ]
  },
  {
   "cell_type": "code",
   "execution_count": null,
   "id": "vocal-certificate",
   "metadata": {},
   "outputs": [],
   "source": [
    "## 행을 선택,삭제,복구/ stack으로 풀면 stack에 남아있는 index만 X,나머진O하면 됨\n",
    "## k만 바꿔가면서 해봤는데 명령어 자체는 잘 수행하는 듯함\n",
    "## 근데 마지막에 ox로 나타낼 때, k가 삭제, 복구를 거치면서 k index가 원래 자료의 index랑 달라져서 꼬인것같음\n",
    "## 예제는 정답, 근데 테스트케이스 거의다틀림\n",
    "from collections import deque\n",
    "def solution(n, k, cmd):\n",
    "    nn=n\n",
    "    stack=deque() # c일때만 사용\n",
    "    for x in cmd:\n",
    "        if x[0]=='U':\n",
    "            k-=int(x.split(' ')[-1])\n",
    "        elif x[0]=='D':\n",
    "            k+=int(x.split(' ')[-1])\n",
    "        elif x[0]=='C':\n",
    "            stack.append(k)\n",
    "            if k==n-1:\n",
    "                k-=1\n",
    "            n-=1\n",
    "        else: # z/ \n",
    "            n+=1\n",
    "            z=stack.pop()\n",
    "            if k>z:\n",
    "                k+=1                \n",
    "    answer=list('O'*nn)\n",
    "    for x in stack:\n",
    "        answer[x]='X'\n",
    "    return ''.join(answer)"
   ]
  }
 ],
 "metadata": {
  "kernelspec": {
   "display_name": "Python 3",
   "language": "python",
   "name": "python3"
  },
  "language_info": {
   "codemirror_mode": {
    "name": "ipython",
    "version": 3
   },
   "file_extension": ".py",
   "mimetype": "text/x-python",
   "name": "python",
   "nbconvert_exporter": "python",
   "pygments_lexer": "ipython3",
   "version": "3.8.8"
  }
 },
 "nbformat": 4,
 "nbformat_minor": 5
}
