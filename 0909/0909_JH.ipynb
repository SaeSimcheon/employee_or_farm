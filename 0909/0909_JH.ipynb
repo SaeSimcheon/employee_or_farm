{
 "cells": [
  {
   "cell_type": "markdown",
   "metadata": {},
   "source": [
    "# 가장 긴 팰린드롬"
   ]
  },
  {
   "cell_type": "code",
   "execution_count": null,
   "metadata": {},
   "outputs": [],
   "source": [
    "def solution(s):\n",
    "    answer = 0\n",
    "    for n in range(len(s), 0, -1):\n",
    "        for start in range(0, len(s)):\n",
    "            if n + start > len(s):\n",
    "                break\n",
    "            word = s[start:start+n]\n",
    "            \n",
    "            if word == word[::-1]:\n",
    "                answer = len(word)\n",
    "                return answer\n"
   ]
  },
  {
   "cell_type": "markdown",
   "metadata": {},
   "source": [
    "# 스타 수열"
   ]
  },
  {
   "cell_type": "code",
   "execution_count": null,
   "metadata": {},
   "outputs": [],
   "source": []
  },
  {
   "cell_type": "markdown",
   "metadata": {},
   "source": [
    "# 기지국 설치\n"
   ]
  },
  {
   "cell_type": "code",
   "execution_count": null,
   "metadata": {},
   "outputs": [],
   "source": [
    "def solution(n, stations, w):\n",
    " answer = 0\n",
    " apt = [0] * (n+1)\n",
    " for i in stations:\n",
    " apt[i-w:i+w+1] = [1]*(2*w+1)\n",
    " cnt = 0\n",
    " cnt_list = []\n",
    " for j in range(1, n+1):\n",
    " if apt[j] == 0:\n",
    " cnt += 1\n",
    " else:\n",
    " if cnt != 0:\n",
    " cnt_list.append(cnt)\n",
    " cnt = 0\n",
    " else:\n",
    " if cnt != 0:\n",
    " cnt_list.append(cnt)\n",
    " for k in cnt_list:\n",
    " a, b = divmod(k, (2*w+1))\n",
    " if b != 0:\n",
    " b = 1\n",
    " answer += (a+b)\n",
    " return answer\n",
    "\n",
    "\n",
    "\n",
    "def solution(n, stations, w):\n",
    "    answer = 0\n",
    "    dist = []\n",
    "    for i in range(1, len(stations)):\n",
    "        dist.append((stations[i]-w-1) - (stations[i-1]+w))\n",
    "    \n",
    "    dist.append(stations[0]-w-1)\n",
    "    dist.append(n-(stations[-1]+w))\n",
    "    \n",
    "    for k in dist:\n",
    "        a, b = divmod(k, (2*w+1))\n",
    "        if b != 0:\n",
    "            b = 1\n",
    "        answer += (a+b)\n",
    "    return answer"
   ]
  },
  {
   "cell_type": "markdown",
   "metadata": {},
   "source": [
    "# 숫자 게임"
   ]
  },
  {
   "cell_type": "code",
   "execution_count": null,
   "metadata": {},
   "outputs": [],
   "source": [
    "# 이거 안되네...ㅋㅋ\n",
    "def solution(A, B):\n",
    "    answer = 0\n",
    "    A.sort()\n",
    "    B.sort()\n",
    "    for a, b in zip(A, B):\n",
    "        if b > a:\n",
    "            answer += 1\n",
    "    return answer\n",
    "\n",
    "# 와 이게 되네\n",
    "def solution(A, B):\n",
    "    answer = 0\n",
    "    A.sort()\n",
    "    B.sort()\n",
    "    \n",
    "    while B and A:\n",
    "        if A[-1] < B[-1]:\n",
    "            A.pop()\n",
    "            B.pop()\n",
    "            answer += 1\n",
    "        else:\n",
    "            A.pop()\n",
    "    \n",
    "    return answer   "
   ]
  },
  {
   "cell_type": "markdown",
   "metadata": {},
   "source": [
    "# 스티커 모으기(2)"
   ]
  },
  {
   "cell_type": "code",
   "execution_count": null,
   "metadata": {},
   "outputs": [],
   "source": [
    "# 이렇게 하려고 했는데 홀수가 너무 복잡하네..\n",
    "\n",
    "def solution(sticker):\n",
    "    answer = 0\n",
    "    if len(sticker)%2 == 0:\n",
    "        a, b = 0, 0\n",
    "        for i in range(len(sticker)):\n",
    "            if i%2 == 0:\n",
    "                a += sticker[i]\n",
    "            else:\n",
    "                b += sticker[i]\n",
    "        answer = max(a, b)\n",
    "        \n",
    "\n",
    "    return answer\n",
    "\n",
    "    \n",
    "# DP 사용\n",
    "def solution(sticker):\n",
    "    if len(sticker) == 1:\n",
    "        return sticker[0]\n",
    "    answer = 0\n",
    "    table1 = [0] * len(sticker)\n",
    "    table2 = [0] * len(sticker)\n",
    "    # table1 : 맨 앞 스티커 사용 / table2 : 두번째 스티커부터 사용\n",
    "    table1[0] = sticker[0]\n",
    "    table1[1] = sticker[0]\n",
    "    for i in range(2, len(sticker)-1):\n",
    "        table1[i] = max(table1[i-1], table1[i-2]+sticker[i])\n",
    "    \n",
    "    table2[1] = sticker[1]\n",
    "    for j in range(2, len(sticker)):\n",
    "        table2[j] = max(table2[j-1], table2[j-2]+sticker[j])\n",
    "    \n",
    "    answer = max(max(table1), max(table2))\n",
    "    return answer"
   ]
  },
  {
   "cell_type": "markdown",
   "metadata": {},
   "source": [
    "# 거스름돈"
   ]
  },
  {
   "cell_type": "code",
   "execution_count": null,
   "metadata": {},
   "outputs": [],
   "source": [
    "# 메모이제이션 쓰는건 알았는데 코인별로 할 줄은 몰랐다...\n",
    "\n",
    "def solution(n, money):\n",
    "    memo = [1] + [0] * n\n",
    "    \n",
    "    for coin in money:\n",
    "        for i in range(coin, n+1):\n",
    "            if i >= coin:\n",
    "                memo[i] += memo[i-coin]\n",
    "    return memo[n]"
   ]
  }
 ],
 "metadata": {
  "kernelspec": {
   "display_name": "Python 3",
   "language": "python",
   "name": "python3"
  },
  "language_info": {
   "codemirror_mode": {
    "name": "ipython",
    "version": 3
   },
   "file_extension": ".py",
   "mimetype": "text/x-python",
   "name": "python",
   "nbconvert_exporter": "python",
   "pygments_lexer": "ipython3",
   "version": "3.7.6"
  }
 },
 "nbformat": 4,
 "nbformat_minor": 4
}
