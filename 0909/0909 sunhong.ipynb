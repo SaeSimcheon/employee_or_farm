{
 "cells": [
  {
   "cell_type": "markdown",
   "id": "antique-sector",
   "metadata": {},
   "source": [
    "## 펠린드롬"
   ]
  },
  {
   "cell_type": "code",
   "execution_count": null,
   "id": "intelligent-damages",
   "metadata": {},
   "outputs": [],
   "source": [
    "def solution(s):\n",
    "    if s==s[::-1]:\n",
    "        return len(s)\n",
    "    else:\n",
    "        max_len=0\n",
    "        for i in range(1,len(s)):\n",
    "            l=len(s)-i\n",
    "            idx=0\n",
    "            while True:\n",
    "                if idx+l>=len(s):\n",
    "                    break\n",
    "                else:\n",
    "                    ss=s[idx:idx+l]\n",
    "                    if ss==ss[::-1]:\n",
    "                        if l<max_len:\n",
    "                            return max_len\n",
    "                        else:                        \n",
    "                            max_len=max(max_len,l)\n",
    "                            break\n",
    "                    else:\n",
    "                        idx+=1\n",
    "    return max_len"
   ]
  },
  {
   "cell_type": "markdown",
   "id": "approved-closure",
   "metadata": {},
   "source": [
    "## 거스름돈"
   ]
  },
  {
   "cell_type": "code",
   "execution_count": null,
   "id": "fifth-wiring",
   "metadata": {},
   "outputs": [],
   "source": [
    "def solution(n,money):\n",
    "    def dfs(L,summ):\n",
    "        nonlocal cnt\n",
    "        if L==len(money): #\n",
    "            if summ==n:\n",
    "                cnt+=1\n",
    "        else:\n",
    "            m=money[L]\n",
    "            multi=0\n",
    "            while True:\n",
    "                if summ+m*multi<=n:                   \n",
    "                    dfs(L+1,summ+m*multi)\n",
    "                    multi+=1 \n",
    "                else:\n",
    "                    break\n",
    "                                    \n",
    "    cnt=0\n",
    "    dfs(0,0)\n",
    "    return cnt"
   ]
  },
  {
   "cell_type": "markdown",
   "id": "listed-antibody",
   "metadata": {},
   "source": [
    "## 스티커 모으기"
   ]
  },
  {
   "cell_type": "code",
   "execution_count": 1,
   "id": "characteristic-subsection",
   "metadata": {},
   "outputs": [],
   "source": [
    "def solution(sticker):\n",
    "    def dfs(ch,summ):\n",
    "        nonlocal max_v\n",
    "        if min(ch)==1:\n",
    "            max_v=max(max_v,summ)\n",
    "        else:\n",
    "            for i in range(len(ch)):\n",
    "                if ch[i]==0:\n",
    "                    if i==0:\n",
    "                        left=-1\n",
    "                        right=1\n",
    "                    elif i==len(ch)-1:\n",
    "                        left=i-1\n",
    "                        right=0\n",
    "                    else:\n",
    "                        left=i-1\n",
    "                        right=i+1\n",
    "                    #\n",
    "                    ch[i]=1\n",
    "                    ch[left]=1\n",
    "                    ch[right]=1\n",
    "                    dfs(ch,summ+sticker[i])\n",
    "                    \n",
    "    max_v=0    \n",
    "    for i in range(len(sticker)):\n",
    "        ch=[0]*len(sticker)\n",
    "        if i==0:\n",
    "            left=-1\n",
    "            right=1\n",
    "        elif i==len(ch)-1:\n",
    "            left=i-1\n",
    "            right=0\n",
    "        else:\n",
    "            left=i-1\n",
    "            right=i+1\n",
    "        #\n",
    "        ch[i]=1\n",
    "        ch[left]=1\n",
    "        ch[right]=1\n",
    "        dfs(ch,sticker[i])\n",
    "    \n",
    "    return max_v\n",
    "\n",
    "# dp인가? dfs가 아닌것같음"
   ]
  }
 ],
 "metadata": {
  "kernelspec": {
   "display_name": "Python 3",
   "language": "python",
   "name": "python3"
  },
  "language_info": {
   "codemirror_mode": {
    "name": "ipython",
    "version": 3
   },
   "file_extension": ".py",
   "mimetype": "text/x-python",
   "name": "python",
   "nbconvert_exporter": "python",
   "pygments_lexer": "ipython3",
   "version": "3.7.10"
  }
 },
 "nbformat": 4,
 "nbformat_minor": 5
}
