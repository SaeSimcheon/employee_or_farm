{
 "cells": [
  {
   "cell_type": "markdown",
   "metadata": {},
   "source": [
    "# 가장 긴 팰린드롬"
   ]
  },
  {
   "cell_type": "code",
   "execution_count": null,
   "metadata": {},
   "outputs": [],
   "source": [
    "def solution(s):\n",
    "    return max([len(s[i:j]) for i in range(len(s)-1) for j in range(i+1, len(s)+1) if s[i:j] == s[i:j][::-1]]) if len(s) != 1 else 1\n",
    "\n",
    "# 좋아요 가장 많은 풀이\n",
    "def longest_palindrom(s):\n",
    "    return len(s) if s[::-1] == s else max(longest_palindrom(s[:-1]), longest_palindrom(s[1:]))\n",
    "\n",
    "# 재귀로 했는데 효율성 통과를 못한다고 함\n",
    "\n",
    "def longest_palindrom(s):\n",
    "    for i in range(len(s),0,-1):\n",
    "        for j in range(len(s)-i+1):\n",
    "            if s[j:j+i] == s[j:j+i][::-1]:\n",
    "                return i\n",
    "# 효율성에서는 더 좋으려나"
   ]
  },
  {
   "cell_type": "markdown",
   "metadata": {},
   "source": [
    "# 스타 수열"
   ]
  },
  {
   "cell_type": "code",
   "execution_count": null,
   "metadata": {},
   "outputs": [],
   "source": [
    "def solution(a):\n",
    "    if len(a) < 2:\n",
    "        return 0\n",
    "    answer = -1\n",
    "    cnt = [0]*len(a)\n",
    "    for i in range(len(a)):\n",
    "        cnt[a[i]] += 1\n",
    "    for i in range(len(cnt)):\n",
    "        if cnt[i] == 0: continue;\n",
    "        if cnt[i] <= answer: continue;\n",
    "        res, idx = 0, 0\n",
    "        while idx < (len(a)-1):\n",
    "            if (a[idx] != i and a[idx+1] != i) or (a[idx] == a[idx+1]):\n",
    "                idx += 1\n",
    "                continue\n",
    "            res += 1\n",
    "            idx += 2\n",
    "        answer = max(answer, res)\n",
    "    return answer*2\n",
    "\n",
    "# 조건을 어떻게 넣어야할지는 생각했는데, 등장 숫자에 따라서 순회한다는 생각은 금방 못하고 힌트 얻어서 풀었음\n",
    "# 다른 풀이보니까 Counter로 하던데 더 좋은 방법인거 같다\n",
    "\n",
    "# 다른 사람 풀이\n",
    "from collections import defaultdict\n",
    "def solution(a):\n",
    "    dic = defaultdict(list)\n",
    "    for i, v in enumerate(a):\n",
    "        dic[v].append(i)\n",
    "    l = len(a)\n",
    "    answer = 0\n",
    "    for k, v in dic.items():\n",
    "        if len(v) <= answer // 2:\n",
    "            continue\n",
    "        else:\n",
    "            now = a.copy()\n",
    "            cnt = 0\n",
    "            for j in v:\n",
    "                if j > 0 and now[j-1] != k:\n",
    "                    now[j-1] = k\n",
    "                    cnt += 2\n",
    "                elif j < l-1 and now[j+1] != k:\n",
    "                    now[j+1] = k\n",
    "                    cnt += 2\n",
    "            answer = max(answer, cnt)\n",
    "    return answer\n",
    "\n",
    "# 생각은 다 비슷비슷하게 하나보다\n",
    "\n",
    "\n"
   ]
  },
  {
   "cell_type": "markdown",
   "metadata": {},
   "source": [
    "# 기지국 설치\n"
   ]
  },
  {
   "cell_type": "code",
   "execution_count": null,
   "metadata": {},
   "outputs": [],
   "source": [
    "import math\n",
    "def solution(n, stations, w):\n",
    "    non_stations = []\n",
    "    if stations[0]-w-1 >= 1:\n",
    "        non_stations.append([1, stations[0]-w-1])\n",
    "    for i in range(len(stations)-1):\n",
    "        non_stations.append([stations[i]+w+1, stations[i+1]-w-1])\n",
    "    if stations[-1]+w <= n:\n",
    "        non_stations.append([stations[-1]+w+1, n])\n",
    "    return sum(math.ceil((station[1]-station[0]+1)/(2*w+1)) for station in non_stations)\n",
    "\n",
    "# 틀린 코드\n",
    "'''import math\n",
    "def solution(n, stations, w):\n",
    "    answer, tmp = 0, 0\n",
    "    if stations[0]-w-1 >= 1:\n",
    "        answer += math.ceil((stations[0]-tmp-w-1)/(2*w+1))\n",
    "        tmp = stations[0]+w\n",
    "    for i in range(1, len(stations)):\n",
    "        answer += math.ceil((stations[i]-tmp-w-1)/(2*w+1))\n",
    "        tmp = stations[i]+w\n",
    "    if stations[-1]+w <= n:\n",
    "        answer += math.ceil((n-stations[-1]-w)/(2*w+1))\n",
    "    return answer'''\n",
    "\n",
    "# 처음엔 직접 필요한 기지국을 구했는데 케이스 몇개가 계속 틀리게 나옴\n",
    "# 구간을 구하는 걸로 하니깐 맞는데, 왜 첫 풀이는 틀린걸까"
   ]
  },
  {
   "cell_type": "markdown",
   "metadata": {},
   "source": [
    "# 숫자 게임"
   ]
  },
  {
   "cell_type": "code",
   "execution_count": null,
   "metadata": {},
   "outputs": [],
   "source": [
    "def solution(A, B):\n",
    "    A.sort()\n",
    "    B.sort()\n",
    "    answer = 0\n",
    "    while B:\n",
    "        if A[0] < B[0]:\n",
    "            A.pop(0)\n",
    "            answer += 1\n",
    "        B.pop(0)\n",
    "    return answer\n",
    "\n",
    "# 정렬문제인가 / 하나하나 비교하는게 답인듯\n",
    "\n",
    "# 좋아요 가장 많은 풀이\n",
    "def solution(A, B):\n",
    "    answer = 0\n",
    "    A.sort()\n",
    "    B.sort()\n",
    "    j = 0\n",
    "    for i in range(len(A)):\n",
    "        if A[j] < B[i]:\n",
    "            answer = answer + 1\n",
    "            j = j+1\n",
    "    return answer"
   ]
  },
  {
   "cell_type": "markdown",
   "metadata": {},
   "source": [
    "# 스티커 모으기(2)"
   ]
  },
  {
   "cell_type": "code",
   "execution_count": null,
   "metadata": {},
   "outputs": [],
   "source": [
    "def solution(sticker):\n",
    "    if len(sticker) == 1:\n",
    "        return sticker[0]\n",
    "    dy = [0 for _ in range(len(sticker))]\n",
    "    dy[0], dy[1] = sticker[0], sticker[0]\n",
    "    for i in range(2, len(sticker)-1): # 첫 스티커면 마지막은 포함 X\n",
    "        dy[i] = max(dy[i-1], dy[i-2] + sticker[i])\n",
    "    answer = max(dy)\n",
    "\n",
    "    dy = [0 for _ in range(len(sticker))]\n",
    "    dy[0], dy[1] = 0, sticker[1]\n",
    "    for i in range(2, len(sticker)):\n",
    "        dy[i] = max(dy[i-1], dy[i-2] + sticker[i])\n",
    "    return max(answer, max(dy))\n",
    "\n",
    "# 이게 DP일지는 몰랐음...\n",
    "# 첫 스티커면 마지막은 포함 X / 두번째는 마지막 포함"
   ]
  },
  {
   "cell_type": "markdown",
   "metadata": {},
   "source": [
    "# 거스름돈"
   ]
  },
  {
   "cell_type": "code",
   "execution_count": null,
   "metadata": {},
   "outputs": [],
   "source": [
    "def solution(n, money):\n",
    "    dy = [1] + [0]*n\n",
    "    for i in money:\n",
    "        for j in range(i, n+1):\n",
    "            dy[j] = dy[j] + dy[j-i]\n",
    "    return dy[n]\n",
    "\n",
    "# DFS는 무조건 효율성 X / 답은 맞을지언정..\n",
    "# for문 두개로 dp 구현하는게 최선인듯"
   ]
  },
  {
   "cell_type": "markdown",
   "metadata": {},
   "source": [
    "# 3주차_퍼즐 조각 채우기"
   ]
  },
  {
   "cell_type": "code",
   "execution_count": null,
   "metadata": {},
   "outputs": [],
   "source": [
    "from collections import deque\n",
    "\n",
    "def bfs(board, n):\n",
    "    save = []\n",
    "    N = len(board)\n",
    "    dx, dy = [0, 1, 0, -1], [1, 0, -1, 0]\n",
    "    check = [[False for _ in range(N)] for _ in range(N)]\n",
    "    for i in range(N):\n",
    "        for j in range(N):\n",
    "            if check[i][j] == False and board[i][j] == n:\n",
    "                check[i][j] = True\n",
    "                Q, stk = deque([(i, j)]), [(i, j)]\n",
    "                while Q:\n",
    "                    x, y = Q.popleft()\n",
    "                    for k in range(4):\n",
    "                        xx, yy = x + dx[k], y + dy[k]\n",
    "                        if 0 <= xx < N and 0 <= yy < N and check[xx][yy] == False and board[xx][yy] == n:\n",
    "                            check[xx][yy] = True\n",
    "                            Q.append((xx, yy))\n",
    "                            stk.append((xx, yy))\n",
    "                save.append(sorted(stk))\n",
    "    return save\n",
    "\n",
    "def change_idx(b):\n",
    "    tmp = []\n",
    "    x_idx = b[0][0]\n",
    "    y_idx = b[0][1]\n",
    "    for x, y in b:\n",
    "        tmp.append((x-x_idx, y-y_idx))\n",
    "    return sorted(tmp)\n",
    "\n",
    "def rotate(puzzle, N):\n",
    "    new = [(y, N-1-x) for x, y in puzzle]\n",
    "    return change_idx(new)\n",
    "\n",
    "def check(N, board, save, puzzle, ans):\n",
    "    for i in range(N):\n",
    "        for j in range(N):\n",
    "            tmp = []\n",
    "            for x, y in puzzle:\n",
    "                xx, yy = x + i, y + j\n",
    "                if 0 <= xx < N and 0 <= yy < N and board[xx][yy] == 0:\n",
    "                    tmp.append((xx,yy))\n",
    "                else:\n",
    "                    break\n",
    "            if len(tmp) == len(puzzle) and tmp in save:\n",
    "                save.remove(tmp)\n",
    "                ans.extend(tmp)\n",
    "                return True\n",
    "    else:\n",
    "        return False\n",
    "\n",
    "\n",
    "\n",
    "def solution(game_board, table):\n",
    "    N = len(game_board)\n",
    "    answer = []\n",
    "    save_board = bfs(game_board, 0)\n",
    "    save_puzzle = list(map(change_idx, bfs(table, 1)))\n",
    "    for puzzle in save_puzzle:\n",
    "        for _ in range(4):\n",
    "            if check(N, game_board, save_board, puzzle, answer) == False:\n",
    "                puzzle = rotate(puzzle, N)\n",
    "            else:\n",
    "                break\n",
    "    return len(answer)\n",
    "\n",
    "# 조각 찾기 -> (0,0) 기준 초기화 -> 퍼즐마다 블록에 맞춰보기 & 회전 식으로 푸는건데\n",
    "# 조각을 찾는 과정까진 생각했는데 그 이후는 도저히 모르겠어서\n",
    "# https://ye333.tistory.com/163 -> 여기 풀이법 참고해서 풀었음\n",
    "# 진짜 어려운 문제인거 같다\n"
   ]
  }
 ],
 "metadata": {
  "kernelspec": {
   "display_name": "Python 3",
   "language": "python",
   "name": "python3"
  },
  "language_info": {
   "codemirror_mode": {
    "name": "ipython",
    "version": 3
   },
   "file_extension": ".py",
   "mimetype": "text/x-python",
   "name": "python",
   "nbconvert_exporter": "python",
   "pygments_lexer": "ipython3",
   "version": "3.7.9"
  }
 },
 "nbformat": 4,
 "nbformat_minor": 4
}
