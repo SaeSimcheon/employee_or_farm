{
 "cells": [
  {
   "cell_type": "markdown",
   "metadata": {},
   "source": [
    "# 멀리뛰기 "
   ]
  },
  {
   "cell_type": "code",
   "execution_count": null,
   "metadata": {},
   "outputs": [],
   "source": [
    "def solution(n):\n",
    "    a,b = 1,1\n",
    "    for i in range(n):\n",
    "        a,b = b,a+b\n",
    "    return a%1234567"
   ]
  },
  {
   "cell_type": "markdown",
   "metadata": {},
   "source": [
    "\n",
    "# 야근지수"
   ]
  },
  {
   "cell_type": "code",
   "execution_count": null,
   "metadata": {},
   "outputs": [],
   "source": [
    "import heapq\n",
    "def solution(n, works):\n",
    "    if sum(works) < n: \n",
    "        return 0\n",
    "    else:\n",
    "        work = [[-i, i] for i in works]\n",
    "        heapq.heapify(work)\n",
    "        while n:\n",
    "            tmp = heapq.heappop(work)\n",
    "            tmp[0] += 1; tmp[1] -= 1; n -= 1\n",
    "            heapq.heappush(work,tmp)\n",
    "    return sum(abs(j)**2 for i, j in work)\n",
    "\n",
    "# 최대힙 구조 이용\n",
    "# 큰거 pop -> 1 빼고 -> 다시 넣고\n",
    "# sort나 max 쓰면 효율성 탈락"
   ]
  },
  {
   "cell_type": "markdown",
   "metadata": {},
   "source": [
    "\n",
    "# 줄서는 방법"
   ]
  },
  {
   "cell_type": "code",
   "execution_count": null,
   "metadata": {},
   "outputs": [],
   "source": [
    "def fact(num):\n",
    "    return num*fact(num-1) if num > 1 else 1\n",
    "def solution(n, k):\n",
    "    answer = []\n",
    "    res = [i for i in range(1,n+1)]\n",
    "    while n:\n",
    "        a, k = divmod(k, fact(n-1))\n",
    "        if k == 0:\n",
    "            answer.append(res.pop(a-1))\n",
    "        else:\n",
    "            answer.append(res.pop(a))\n",
    "        n -= 1\n",
    "    return answer\n",
    "\n",
    "# 단순히 몇번쨰 순열을 묻는 문제긴 한데 n = 20이라 효율성이 걸린 문제\n",
    "# 한자리를 고정시키면 (n-1...)! 만 고려하면 된다는점만 체크한다면 ok"
   ]
  },
  {
   "cell_type": "markdown",
   "metadata": {},
   "source": [
    "\n",
    "# 최고의집합"
   ]
  },
  {
   "cell_type": "code",
   "execution_count": null,
   "metadata": {},
   "outputs": [],
   "source": [
    "def solution(n, s):\n",
    "    answer = []\n",
    "    if s//n == 0:\n",
    "        return [-1]\n",
    "    else:\n",
    "        a, b = divmod(s, n)\n",
    "        for i in range(n - b):\n",
    "            answer.append(a)\n",
    "        for i in range(b):\n",
    "            answer.append(a+1)\n",
    "    return answer\n",
    "\n"
   ]
  },
  {
   "cell_type": "markdown",
   "metadata": {},
   "source": [
    "\n",
    "# 하노이의 탑"
   ]
  },
  {
   "cell_type": "code",
   "execution_count": null,
   "metadata": {},
   "outputs": [],
   "source": [
    "def solution(n):\n",
    "    answer = []\n",
    "    def dfs(n, start, end, mid):\n",
    "        if n == 1:\n",
    "            answer.append([start,end])\n",
    "            return\n",
    "        dfs(n-1, start, mid, end)\n",
    "        answer.append([start,end])\n",
    "        dfs(n-1, mid, end, start)\n",
    "    dfs(n, 1, 3, 2)\n",
    "    return answer\n",
    "\n",
    "# 유명한 문제"
   ]
  },
  {
   "cell_type": "markdown",
   "metadata": {},
   "source": [
    "\n",
    "# N-Queen"
   ]
  },
  {
   "cell_type": "code",
   "execution_count": null,
   "metadata": {},
   "outputs": [],
   "source": [
    "def dfs(n, queen, row):\n",
    "    cnt = 0\n",
    "    if n == row:\n",
    "        return 1\n",
    "    for col in range(n):\n",
    "        queen[row] = col\n",
    "        for x in range(row):\n",
    "            if queen[row] == queen[x]:\n",
    "                break\n",
    "            if abs(queen[row] - queen[x]) == abs(row - x):\n",
    "                break\n",
    "        else:\n",
    "            cnt += dfs(n, queen, row+1)\n",
    "    return cnt\n",
    "def solution(n):\n",
    "    queen = [0]*n\n",
    "    return dfs(n, queen, 0)\n",
    "\n",
    "# 재귀함수로 조건 충족 유무를 따져서 세는 방식\n",
    "# 퀸은 가로,세로,대각선 다 이동가능하니까\n",
    "# 가로를 순회하면서 세로가 같은지 / 대각선이 같은지( 세로 차이 = 가로 차이 ) 확인\n",
    "# 다 다르면 cnt += 1"
   ]
  }
 ],
 "metadata": {
  "kernelspec": {
   "display_name": "Python 3",
   "language": "python",
   "name": "python3"
  },
  "language_info": {
   "codemirror_mode": {
    "name": "ipython",
    "version": 3
   },
   "file_extension": ".py",
   "mimetype": "text/x-python",
   "name": "python",
   "nbconvert_exporter": "python",
   "pygments_lexer": "ipython3",
   "version": "3.7.9"
  }
 },
 "nbformat": 4,
 "nbformat_minor": 4
}
