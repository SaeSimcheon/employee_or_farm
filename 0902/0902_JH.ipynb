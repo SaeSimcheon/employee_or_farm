{
 "cells": [
  {
   "cell_type": "markdown",
   "metadata": {},
   "source": [
    "# 멀리뛰기 "
   ]
  },
  {
   "cell_type": "code",
   "execution_count": null,
   "metadata": {},
   "outputs": [],
   "source": [
    "# 테케 1번만 런타임에러\n",
    "def solution(n):\n",
    "    memo = [0] * (n+1)\n",
    "    memo[1] = 1\n",
    "    memo[2] = 2\n",
    "    for i in range(3, n+1):\n",
    "        memo[i] = memo[i-2] + memo[i-1]\n",
    "    return memo[n]%1234567\n",
    "\n",
    "# 이번엔 그냥 실패\n",
    "def solution(n):\n",
    "    a, b = 1, 2\n",
    "    for _ in range(n-2):\n",
    "        b, a = a+b, b\n",
    "    return b % 1234567\n",
    "\n",
    "# n이 1인 경우라네 ㅋㅋㅋㅋ\n",
    "def solution(n):\n",
    "    if n < 3:\n",
    "        return n\n",
    "    a, b = 1, 2\n",
    "    for _ in range(n-2):\n",
    "        b, a = (a+b), b\n",
    "    return b % 1234567"
   ]
  },
  {
   "cell_type": "markdown",
   "metadata": {},
   "source": [
    "\n",
    "# 야근지수"
   ]
  },
  {
   "cell_type": "code",
   "execution_count": null,
   "metadata": {},
   "outputs": [],
   "source": [
    "# 에러 나올 때마다 해결하는 식으로 짰는데 아닌듯...\n",
    "def solution(n, works):\n",
    "    works.sort(reverse = True)\n",
    "    m = len(works)\n",
    "    for i in range(m):\n",
    "        if i == m-1:\n",
    "            works[i] -= 1\n",
    "            n -= 1\n",
    "        else:\n",
    "            while works[i] >= works[i+1]:\n",
    "                if n == 0:\n",
    "                    return sum([x**2 for x in works])\n",
    "                works[i] -= 1\n",
    "                n -= 1\n",
    "    \n",
    "    if n != 0:\n",
    "        a, b = divmod(n, m)\n",
    "        works = [x-a for x in works]\n",
    "        for k in range(b):\n",
    "            works[k] -= 1\n",
    "    \n",
    "    for k in range(m):\n",
    "        if works[k] < 0:\n",
    "            works[k] = 0\n",
    "            \n",
    "    return sum([x**2 for x in works])\n",
    "\n",
    "## 테케 효율성 떨어짐\n",
    "def solution(n, works):\n",
    "    while n > 0:\n",
    "        works.sort(reverse = True)\n",
    "        if works[0] == 0:\n",
    "            break\n",
    "        works[0] -= 1\n",
    "        n -= 1\n",
    "    return sum([x**2 for x in works])\n",
    "\n",
    "\n",
    "# heapq 쓰니까 되는구만 하하\n",
    "import heapq\n",
    "def solution(n, works):\n",
    "    works = [-x for x in works]\n",
    "    heapq.heapify(works)\n",
    "    while n > 0:\n",
    "        work = heapq.heappop(works)\n",
    "        if work == 0:\n",
    "            break\n",
    "        work += 1\n",
    "        n -= 1\n",
    "        heapq.heappush(works, work)\n",
    "    return sum([x**2 for x in works])"
   ]
  },
  {
   "cell_type": "markdown",
   "metadata": {},
   "source": [
    "\n",
    "# 줄서는 방법"
   ]
  },
  {
   "cell_type": "code",
   "execution_count": null,
   "metadata": {},
   "outputs": [],
   "source": [
    "# 효율성에서 떨어지는 군..\n",
    "from itertools import permutations\n",
    "def solution(n, k):\n",
    "    num = list(range(1, n+1))\n",
    "    arr = permutations(num, n)\n",
    "    return list(arr)[k-1]\n"
   ]
  },
  {
   "cell_type": "markdown",
   "metadata": {},
   "source": [
    "\n",
    "# 최고의집합"
   ]
  },
  {
   "cell_type": "code",
   "execution_count": null,
   "metadata": {},
   "outputs": [],
   "source": [
    "def solution(n, s):\n",
    "    a, b = divmod(s, n)\n",
    "    answer = [a] * n\n",
    "    if a == 0:\n",
    "        return [-1]\n",
    "    for i in range(b):\n",
    "        answer[i] += 1\n",
    "    answer.sort()\n",
    "    return answer\n"
   ]
  },
  {
   "cell_type": "markdown",
   "metadata": {},
   "source": [
    "\n",
    "# 하노이의 탑"
   ]
  },
  {
   "cell_type": "code",
   "execution_count": null,
   "metadata": {},
   "outputs": [],
   "source": [
    "## 이건 혼자 못 품..\n",
    "answer = []\n",
    "def DFS(n, start, end, assist):\n",
    "    global answer\n",
    "    if n == 1:\n",
    "        answer.append([start, end])\n",
    "        return\n",
    "    else:\n",
    "        DFS(n-1, start, assist, end)\n",
    "        answer.append([start, end])\n",
    "        DFS(n-1, assist, end, start)\n",
    "\n",
    "def solution(n):\n",
    "    global answer\n",
    "    DFS(n, 1, 3, 2)\n",
    "    return answer"
   ]
  },
  {
   "cell_type": "markdown",
   "metadata": {},
   "source": [
    "\n",
    "# N-Queen"
   ]
  },
  {
   "cell_type": "code",
   "execution_count": null,
   "metadata": {},
   "outputs": [],
   "source": []
  },
  {
   "cell_type": "code",
   "execution_count": null,
   "metadata": {},
   "outputs": [],
   "source": []
  }
 ],
 "metadata": {
  "kernelspec": {
   "display_name": "Python 3",
   "language": "python",
   "name": "python3"
  },
  "language_info": {
   "codemirror_mode": {
    "name": "ipython",
    "version": 3
   },
   "file_extension": ".py",
   "mimetype": "text/x-python",
   "name": "python",
   "nbconvert_exporter": "python",
   "pygments_lexer": "ipython3",
   "version": "3.7.6"
  }
 },
 "nbformat": 4,
 "nbformat_minor": 4
}
