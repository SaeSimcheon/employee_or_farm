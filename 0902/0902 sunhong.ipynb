{
 "cells": [
  {
   "cell_type": "markdown",
   "id": "union-hollow",
   "metadata": {},
   "source": [
    "## 최고의 집합"
   ]
  },
  {
   "cell_type": "code",
   "execution_count": null,
   "id": "satisfied-harrison",
   "metadata": {},
   "outputs": [],
   "source": [
    "def solution(n, s):\n",
    "    x=s//n\n",
    "    if x==0:\n",
    "        return [-1]\n",
    "    else:\n",
    "        y=s%n\n",
    "        ans=[]\n",
    "        for _ in range(n-y):\n",
    "            ans.append(x)\n",
    "        for _ in range(y):\n",
    "            ans.append(x+1)\n",
    "\n",
    "        return ans"
   ]
  },
  {
   "cell_type": "markdown",
   "id": "convenient-mongolia",
   "metadata": {},
   "source": [
    "## 멀리 뛰기"
   ]
  },
  {
   "cell_type": "code",
   "execution_count": null,
   "id": "expected-stand",
   "metadata": {},
   "outputs": [],
   "source": [
    "def solution(n):\n",
    "    if n==1:\n",
    "        return 1\n",
    "    elif n==2:\n",
    "        return 2\n",
    "    else:        \n",
    "        a,b=1,2\n",
    "        for _ in range(n-2):\n",
    "            a,b=b,a+b\n",
    "    return b%1234567"
   ]
  },
  {
   "cell_type": "markdown",
   "id": "lightweight-testimony",
   "metadata": {},
   "source": [
    "## 하노이"
   ]
  },
  {
   "cell_type": "code",
   "execution_count": null,
   "id": "subject-maria",
   "metadata": {},
   "outputs": [],
   "source": [
    "def solution(n):\n",
    "    def move(n,start,to):\n",
    "        nonlocal ans\n",
    "        ans.append([start,to])\n",
    "        \n",
    "    def hanoi(n,start,to,via):\n",
    "        nonlocal ans\n",
    "        if n==1:\n",
    "            move(1,start,to)\n",
    "        else:\n",
    "            hanoi(n-1,start,via,to)\n",
    "            move(n,start,to)\n",
    "            hanoi(n-1,via,to,start)\n",
    "            \n",
    "    ans=[]\n",
    "    hanoi(n,1,3,2)\n",
    "    return ans"
   ]
  },
  {
   "cell_type": "markdown",
   "id": "hidden-politics",
   "metadata": {},
   "source": [
    "## 야근지수"
   ]
  },
  {
   "cell_type": "code",
   "execution_count": null,
   "id": "flying-reservoir",
   "metadata": {},
   "outputs": [],
   "source": [
    "## 이거 jupyter notebook 에서는 돌아가는데 왜 프로그래머스에서는 typeerror: int is not iterable 뜨지?\n",
    "\n",
    "def solution(works,n):\n",
    "    works=[(-1*x,x) for x in works]\n",
    "    hq.heapify(works)\n",
    "    cnt=0\n",
    "    while True:\n",
    "        if cnt==n:\n",
    "            break\n",
    "        a=hq.heappop(works)\n",
    "        a=a[1]\n",
    "        if a==0:\n",
    "            return 0\n",
    "        else:\n",
    "            hq.heappush(works,(-1*a+1,a-1))\n",
    "            cnt+=1\n",
    "            \n",
    "    return sum([x[1]**2 for x in works])"
   ]
  },
  {
   "cell_type": "markdown",
   "id": "vietnamese-vietnamese",
   "metadata": {},
   "source": [
    "## 줄서는방법"
   ]
  },
  {
   "cell_type": "code",
   "execution_count": null,
   "id": "clean-laptop",
   "metadata": {},
   "outputs": [],
   "source": [
    "def DFS(arr,n,k):\n",
    "    global cnt\n",
    "    global stopp\n",
    "    global ans\n",
    "    global ch\n",
    "\n",
    "    if stopp==True:\n",
    "        return\n",
    "    if len(arr)==n:\n",
    "        cnt+=1 ## global인데 왜이러지\n",
    "\n",
    "        if cnt==k:\n",
    "            stopp=True\n",
    "            ans=arr\n",
    "            return\n",
    "    else:\n",
    "        for i in range(1,n+1):\n",
    "            if ch[i]==0:\n",
    "                ch[i]=1\n",
    "                DFS(arr+[i],n,k)\n",
    "                ch[i]=0\n",
    "\n",
    "\n",
    "def solution(n, k):\n",
    "    global cnt\n",
    "    global stopp\n",
    "    global ans\n",
    "    global ch\n",
    "    ch=[0]*(n+1)\n",
    "    cnt=0\n",
    "    ans=[]\n",
    "    stopp=False\n",
    "    DFS([],n,k)\n",
    "    return ans"
   ]
  },
  {
   "cell_type": "markdown",
   "id": "assigned-booth",
   "metadata": {},
   "source": [
    "## N-Queen"
   ]
  },
  {
   "cell_type": "code",
   "execution_count": 2,
   "id": "demanding-converter",
   "metadata": {},
   "outputs": [],
   "source": [
    "def solution(n):\n",
    "    def cal(array,x,y):\n",
    "        for i in range(n):\n",
    "            for j in range(n):\n",
    "                if i==x:\n",
    "                    array[i][j]=1\n",
    "                if j==y:\n",
    "                    array[i][j]=1\n",
    "                if abs(i-x)==abs(j-y):\n",
    "                    array[i][j]=1\n",
    "        return array\n",
    "    def DFS(array,cnt1):# cnt1: number of queen\n",
    "        nonlocal cnt2 # 찐 cnt\n",
    "        if cnt1==n:\n",
    "            cnt2+=1\n",
    "        else:\n",
    "            for i in range(n):\n",
    "                for j in range(n):\n",
    "                    if array[i][j]==0:\n",
    "                        array[i][j]=1\n",
    "                        DFS(cal(array,i,j),cnt1+1)\n",
    "    #\n",
    "    if n<4:\n",
    "        return 0\n",
    "    else:\n",
    "        cnt2=0\n",
    "        array=[[0]*n for _ in range(n)]\n",
    "        DFS(array,0)\n",
    "        \n",
    "    return cnt2"
   ]
  },
  {
   "cell_type": "code",
   "execution_count": 8,
   "id": "opening-chester",
   "metadata": {},
   "outputs": [],
   "source": [
    "def dfs(queen, row, n):\n",
    "    count = 0\n",
    "    if n == row:\n",
    "        return 1\n",
    "    for col in range(n):\n",
    "        queen[row] = col\n",
    "        for i in range(row):\n",
    "            if queen[i] == queen[row]:\n",
    "                break\n",
    "            if abs(queen[i]-queen[row]) == row - i:\n",
    "                break\n",
    "        else:\n",
    "            count += dfs(queen, row + 1, n)\n",
    "    return count\n",
    "def solution(n):\n",
    "    return dfs([0]*n, 0, n)"
   ]
  },
  {
   "cell_type": "code",
   "execution_count": null,
   "id": "coated-television",
   "metadata": {},
   "outputs": [],
   "source": []
  }
 ],
 "metadata": {
  "kernelspec": {
   "display_name": "Python 3",
   "language": "python",
   "name": "python3"
  },
  "language_info": {
   "codemirror_mode": {
    "name": "ipython",
    "version": 3
   },
   "file_extension": ".py",
   "mimetype": "text/x-python",
   "name": "python",
   "nbconvert_exporter": "python",
   "pygments_lexer": "ipython3",
   "version": "3.7.10"
  }
 },
 "nbformat": 4,
 "nbformat_minor": 5
}
