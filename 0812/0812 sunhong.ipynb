{
 "cells": [
  {
   "cell_type": "markdown",
   "id": "opposite-drinking",
   "metadata": {},
   "source": [
    "## 다단계"
   ]
  },
  {
   "cell_type": "code",
   "execution_count": null,
   "id": "checked-harassment",
   "metadata": {},
   "outputs": [],
   "source": [
    "from collections import defaultdict\n",
    "def solution(enroll, referral, seller, amount):\n",
    "    ref={} ## refer에 '-'면 center바로밑\n",
    "    ans={}\n",
    "    amount=[100*x for x in amount]\n",
    "    for i in range(len(enroll)):\n",
    "        ref[enroll[i]]=referral[i] # key:밑, value: 위\n",
    "        ans[enroll[i]]=0\n",
    "    \n",
    "    for i in range(len(seller)): # seller,amount가 같이\n",
    "        v=amount[i] # seller[i]가 번 돈 덩어리\n",
    "        under=seller[i]\n",
    "        upper=ref[under]\n",
    "        while True:\n",
    "            if upper=='-':\n",
    "                ans[under]+=v-int(v/10)\n",
    "                break\n",
    "            if int(v/10): # 요게 0이 아니면\n",
    "                ans[under]+=v-int(v/10) \n",
    "                under=upper\n",
    "                upper=ref[under]\n",
    "                v=int(v/10)\n",
    "            else: # 잔돈이 0이면\n",
    "                ans[under]+=v\n",
    "                break\n",
    "            \n",
    "    return [ans[x] for x in enroll]"
   ]
  },
  {
   "cell_type": "markdown",
   "id": "honey-palestine",
   "metadata": {},
   "source": [
    "## 경주로"
   ]
  },
  {
   "cell_type": "code",
   "execution_count": null,
   "id": "designed-petersburg",
   "metadata": {},
   "outputs": [],
   "source": [
    "from collections import deque\n",
    "def calcul(stack):\n",
    "    for i in range(len(stack)-2):\n",
    "        b=0\n",
    "        if stack[i][0]!=stack[i+2][0] and stack[i][1]!=stack[i+2][1]:\n",
    "            b+=500\n",
    "    return b+100*(len(stack)-1)\n",
    "\n",
    "def solution(board):\n",
    "    def DFS(x,y):\n",
    "        nonlocal board,stack,cost,dx,dy\n",
    "        if x==y==len(board)-1:\n",
    "            cost=min(cost,calcul(stack))\n",
    "        else:\n",
    "            for i in range(4):\n",
    "                xx=x+dx[i]\n",
    "                yy=y+dy[i]\n",
    "                if 0<=xx<len(board) and 0<=yy<len(board) and board[yy][xx]==0:\n",
    "                    board[yy][xx]=1\n",
    "                    stack.append((x,y))\n",
    "                    DFS(xx,yy)\n",
    "                    board[yy][xx]=0\n",
    "                    stack.pop()\n",
    "            \n",
    "    dx=[0,1,0,-1]\n",
    "    dy=[1,0,-1,0]\n",
    "    cost=float('inf')\n",
    "    stack=deque()\n",
    "    board[0][0]=1\n",
    "    DFS(0,0)\n",
    "    return cost"
   ]
  },
  {
   "cell_type": "markdown",
   "id": "deadly-atmosphere",
   "metadata": {},
   "source": [
    "## 이중우선순위큐"
   ]
  },
  {
   "cell_type": "code",
   "execution_count": null,
   "id": "scheduled-communist",
   "metadata": {},
   "outputs": [],
   "source": [
    "from collections import deque\n",
    "\n",
    "def solution(operations):\n",
    "    answer = deque([])\n",
    "    for x in operations:\n",
    "        if x[0]=='I':\n",
    "            answer.append(int(x.split(' ')[-1]))\n",
    "        else:\n",
    "            if answer and x.split(' ')[-1]=='-1': ## 최솟값 삭제\n",
    "                l=list(answer)\n",
    "                l.remove(min(l))\n",
    "                answer=deque(l)\n",
    "            elif answer and x.split(' ')[-1]=='1': ## 최댓값 삭제\n",
    "                l=list(answer)\n",
    "                l.remove(max(l))\n",
    "                answer=deque(l)\n",
    "    if answer:\n",
    "        return [max(answer),min(answer)]\n",
    "    else:\n",
    "        return [0,0]"
   ]
  },
  {
   "cell_type": "markdown",
   "id": "existing-simon",
   "metadata": {},
   "source": [
    "## 등굣길"
   ]
  },
  {
   "cell_type": "code",
   "execution_count": null,
   "id": "genuine-citizen",
   "metadata": {},
   "outputs": [],
   "source": [
    "## 좌표평면상 (x,y)는 ch에서 ch[y][x]\n",
    "## DFS로 풀었는데 5~9번 출력크기초과라는 에러가 나옴, 효율성은 전부 출력크기초과라고 나옴\n",
    "## DP로만 풀어야는듯\n",
    "def solution(m,n,puddles):\n",
    "    def DFS(x,y,m,n): # x가 x축, y가 y축을 나타낸다\n",
    "        nonlocal cnt,ch,dx,dy\n",
    "        if x==m-1 and y==n-1:\n",
    "            print(ch,cnt)\n",
    "            cnt+=1\n",
    "        else:\n",
    "            for j in range(2):\n",
    "                xx=x+dx[j]\n",
    "                yy=y+dy[j]\n",
    "                if 0<=xx<m and 0<=yy<n and ch[yy][xx]==0:\n",
    "                    ch[yy][xx]=1\n",
    "                    DFS(xx,yy,m,n)\n",
    "                    ch[yy][xx]=0\n",
    "    dx=[0,1]\n",
    "    dy=[1,0]\n",
    "    cnt=0\n",
    "    x=y=0\n",
    "    ch=[[0 for _ in range(m)] for __ in range(n)]\n",
    "    ch[0][0]=1\n",
    "    for a,b in puddles: #x,y\n",
    "        ch[b-1][a-1]=1\n",
    "    DFS(0,0,m,n)\n",
    "    return cnt"
   ]
  },
  {
   "cell_type": "code",
   "execution_count": null,
   "id": "temporal-ukraine",
   "metadata": {},
   "outputs": [],
   "source": [
    "## DP로 재시도/\n",
    "def solution(m,n,puddles):\n",
    "    \n",
    "    ch=[[0]+[1]*m+[0] for __ in range(n)]\n",
    "    ch=[[0]*(m+2)]+ch+[[0]*(m+2)]\n",
    "    for a,b in puddles:\n",
    "        ch[b][a]=0\n",
    "        if a==1: # 이러면 (a,b),(a,b+1).... 쭉 x\n",
    "            for z in range(b,n+1):\n",
    "                ch[z][1]=0\n",
    "        if b==1: ## 이러면 (a,b),(a+1,b)....전부x\n",
    "            for z in range(a,m+1):\n",
    "                ch[1][z]=0\n",
    "        \n",
    "    for i in range(1,m+1):\n",
    "        for j in range(1,n+1): ## ch[j][i]봐야함\n",
    "            if ch[j][i] !=0:\n",
    "                print(i,j)\n",
    "                for x in ch:\n",
    "                    print(x)\n",
    "                ch[j][i]=ch[j-1][i]+ch[j][i-1]                        \n",
    "    return ch[n][m]%1000000007"
   ]
  },
  {
   "cell_type": "markdown",
   "id": "rubber-security",
   "metadata": {},
   "source": [
    "## 여행경로"
   ]
  },
  {
   "cell_type": "code",
   "execution_count": 1,
   "id": "spiritual-calcium",
   "metadata": {},
   "outputs": [],
   "source": [
    "## 1,2번 runtimeerror\n",
    "from collections import deque,defaultdict\n",
    "def solution(tickets):\n",
    "    tickets.sort(key=lambda x: x[-1])\n",
    "    dic=defaultdict(int)\n",
    "    for a,b in tickets:\n",
    "        if a in dic.keys():\n",
    "            dic[a]=dic[a]+[b]\n",
    "        else:\n",
    "            dic[a]=[b]\n",
    "            \n",
    "    answer=['ICN']\n",
    "    start=answer[-1]\n",
    "    \n",
    "    while True:\n",
    "        if list(dic.values()).count(0)==len(dic.keys()): # 모든 value가 0=> 전부 다 돌앗을 떄 끝\n",
    "            break\n",
    "        a=dic[start] ## a의 0번쨰 idx가 다음 목적지\n",
    "        if len(a)==1:\n",
    "            dic[start]=0 \n",
    "            start=a[0]\n",
    "            answer.append(start)\n",
    "        else:\n",
    "            dic[start]=a[1:]\n",
    "            start=a[0]\n",
    "            answer.append(start)\n",
    "\n",
    "    return answer"
   ]
  },
  {
   "cell_type": "code",
   "execution_count": null,
   "id": "alone-information",
   "metadata": {},
   "outputs": [],
   "source": []
  },
  {
   "cell_type": "code",
   "execution_count": null,
   "id": "romance-posting",
   "metadata": {},
   "outputs": [],
   "source": []
  }
 ],
 "metadata": {
  "kernelspec": {
   "display_name": "Python 3",
   "language": "python",
   "name": "python3"
  },
  "language_info": {
   "codemirror_mode": {
    "name": "ipython",
    "version": 3
   },
   "file_extension": ".py",
   "mimetype": "text/x-python",
   "name": "python",
   "nbconvert_exporter": "python",
   "pygments_lexer": "ipython3",
   "version": "3.8.8"
  }
 },
 "nbformat": 4,
 "nbformat_minor": 5
}
