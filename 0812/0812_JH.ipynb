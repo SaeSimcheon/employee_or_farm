{
 "cells": [
  {
   "cell_type": "markdown",
   "metadata": {},
   "source": [
    "# 좌물쇠와 열쇠\n",
    "\n",
    "\n",
    "\n",
    "\n",
    "\n",
    "\n"
   ]
  },
  {
   "cell_type": "markdown",
   "metadata": {},
   "source": [
    "# 다단계 칫솔 판매"
   ]
  },
  {
   "cell_type": "markdown",
   "metadata": {},
   "source": [
    "# 경주로 건설"
   ]
  },
  {
   "cell_type": "markdown",
   "metadata": {},
   "source": [
    "# 합승 택시 요금"
   ]
  },
  {
   "cell_type": "markdown",
   "metadata": {},
   "source": [
    "# 이중우선순위큐 "
   ]
  },
  {
   "cell_type": "code",
   "execution_count": null,
   "metadata": {},
   "outputs": [],
   "source": [
    "import heapq as hq\n",
    "def solution(operations):\n",
    "    heap = []\n",
    "    for op in operations:\n",
    "        a, b = op.split()\n",
    "        if a == 'I':\n",
    "            hq.heappush(heap, int(b))\n",
    "        elif a == \"D\" and b == \"1\" and len(heap) != 0:\n",
    "            heap.remove(max(heap))\n",
    "        elif a == \"D\" and b == \"-1\" and len(heap) != 0:\n",
    "            hq.heappop(heap)\n",
    "    \n",
    "    if len(heap) == 0:\n",
    "        return [0,0]\n",
    "    else:\n",
    "        return [max(heap),hq.heappop(heap)]"
   ]
  },
  {
   "cell_type": "markdown",
   "metadata": {},
   "source": [
    "# 등굣길"
   ]
  },
  {
   "cell_type": "code",
   "execution_count": null,
   "metadata": {},
   "outputs": [],
   "source": [
    "def solution(m, n, puddles):\n",
    "    board = [[0] * (m+1) for _ in range(n+1)]\n",
    "    board[1][1] = 1\n",
    "    \n",
    "    for i in range(1, (n+1)):\n",
    "        for j in range(1, (m+1)):\n",
    "            if i ==1 and j == 1:\n",
    "                continue\n",
    "            if [j,i] in puddles:\n",
    "                board[i][j] = 0\n",
    "            else:\n",
    "                board[i][j] = board[i-1][j] + board[i][j-1]\n",
    "    return board[n][m] % 1000000007"
   ]
  },
  {
   "cell_type": "markdown",
   "metadata": {},
   "source": [
    "# 여행 경로"
   ]
  },
  {
   "cell_type": "code",
   "execution_count": null,
   "metadata": {},
   "outputs": [],
   "source": [
    "# 내가 못 품... 어렵다\n",
    "from collections import defaultdict\n",
    "def solution(tickets):\n",
    "    answer = []\n",
    "    route = defaultdict(list)\n",
    "    for key, value in tickets:\n",
    "        route[key].append(value)\n",
    "    for r in route:\n",
    "        route[r].sort(reverse=True)\n",
    "    \n",
    "    stack = [\"ICN\"]\n",
    "    path = []\n",
    "    \n",
    "    while stack:\n",
    "        top = stack[-1]\n",
    "        if top not in route or len(route[top]) == 0:\n",
    "            path.append(stack.pop())\n",
    "        else:\n",
    "            stack.append(route[top].pop())\n",
    "    return path[::-1]"
   ]
  }
 ],
 "metadata": {
  "kernelspec": {
   "display_name": "Python 3",
   "language": "python",
   "name": "python3"
  },
  "language_info": {
   "codemirror_mode": {
    "name": "ipython",
    "version": 3
   },
   "file_extension": ".py",
   "mimetype": "text/x-python",
   "name": "python",
   "nbconvert_exporter": "python",
   "pygments_lexer": "ipython3",
   "version": "3.7.6"
  }
 },
 "nbformat": 4,
 "nbformat_minor": 4
}
