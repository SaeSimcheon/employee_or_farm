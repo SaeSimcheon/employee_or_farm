{
 "cells": [
  {
   "cell_type": "markdown",
   "metadata": {},
   "source": [
    "좌물쇠와 열쇠"
   ]
  },
  {
   "cell_type": "code",
   "execution_count": null,
   "metadata": {},
   "outputs": [],
   "source": [
    "def solution(key, lock):\n",
    "    A = [(j,idx)  for j,seq in enumerate(lock) for idx,i in enumerate(seq) if i == 0]\n",
    "    print(A)\n",
    "    n = len(A)\n",
    "    print(n)\n",
    "    rotated = key[:]\n",
    "    while True:    \n",
    "        rotated=list(zip(*rotated[::-1]))\n",
    "        B = \n",
    "        if \n",
    "        \n",
    "    rotated=list(zip(*rotated[::-1]))\n",
    "    print(rotated)\n",
    "    \n",
    "    answer = True\n",
    "    \n",
    "    return answer"
   ]
  },
  {
   "cell_type": "markdown",
   "metadata": {},
   "source": [
    "경주로 건설"
   ]
  },
  {
   "cell_type": "code",
   "execution_count": null,
   "metadata": {},
   "outputs": [],
   "source": [
    "# DP?\n",
    "def solution(board):\n",
    "    \n",
    "    MM = [[float(\"inf\")]*len(board) for i in range(len(board))]\n",
    "    answer = float(\"inf\")\n",
    "    \n",
    "    \n",
    "    def dfs(P,DIR):\n",
    "        nonlocal answer ,MM\n",
    "        if P == [0,0]:\n",
    "            MM[P[0]][P[1]] = 100\n",
    "            return MM[P[0]][P[1]]\n",
    "        \n",
    "        if MM[P[0]][P[1]] != float(\"inf\") :\n",
    "            return MM[P[0]][P[1]]\n",
    "        \n",
    "        if board[P[0]][P[1]] ==1:\n",
    "            return float(\"inf\")\n",
    "        \n",
    "        else:\n",
    "            catch = []\n",
    "            if DIR == \"R\":\n",
    "                if P[0]+1 < len(board): catch.append(dfs([P[0]+1,P[1]],\"U\") +500)\n",
    "                if P[0]-1 >= 0 : catch.append(dfs([P[0]-1,P[1]],\"D\") +500)\n",
    "                if P[1]-1 >= 0 : catch.append(dfs([P[0],P[1]-1],\"R\") +100)\n",
    "                MM[P[0]][P[1]] = min(catch,MM[P[0]][P[1]])\n",
    "            elif DIR == \"L\":\n",
    "                if P[0]+1 < len(board): catch.append(dfs([P[0]+1,P[1]],\"U\") +500)\n",
    "                if P[0]-1 >= 0 : catch.append(dfs([P[0]-1,P[1]],\"D\") +500)\n",
    "                if P[1]+1 < len(board) : catch.append(dfs([P[0],P[1]+1],\"L\") +100)\n",
    "                MM[P[0]][P[1]] = min(catch,MM[P[0]][P[1]])\n",
    "            elif DIR == \"U\":\n",
    "                if P[1]-1 >= 0 : catch.append(dfs([P[0],P[1]-1],\"R\") +500)\n",
    "                if P[1]+1 < len(board) : catch.append(dfs([P[0],P[1]+1],\"L\") +500)\n",
    "                if P[0]+1 < len(board): catch.append(dfs([P[0]+1,P[1]],\"U\") +100)\n",
    "                MM[P[0]][P[1]] = min(catch,MM[P[0]][P[1]])\n",
    "            else:\n",
    "                if P[1]-1 >= 0 : catch.append(dfs([P[0],P[1]-1],\"R\") +500)\n",
    "                if P[1]+1 < len(board) : catch.append(dfs([P[0],P[1]+1],\"L\") +500)\n",
    "                if P[0]-1 >= 0 : catch.append(dfs([P[0]-1,P[1]],\"D\") +100)\n",
    "                MM[P[0]][P[1]] = min(catch,MM[P[0]][P[1]])\n",
    "            \n",
    "            return MM[P[0]][P[1]]\n",
    "                \n",
    "                \n",
    "                \n",
    "    \n",
    "    print(dfs([len(board)-1,len(board)-1],\"R\"))\n",
    "    \n",
    "    \n",
    "    print(MM)\n",
    "    \n",
    "    answer = 0\n",
    "    \n",
    "    \n",
    "    \n",
    "            \n",
    "    return answer"
   ]
  },
  {
   "cell_type": "markdown",
   "metadata": {},
   "source": [
    "여행경로"
   ]
  },
  {
   "cell_type": "code",
   "execution_count": null,
   "metadata": {},
   "outputs": [],
   "source": [
    "def solution(tickets):\n",
    "    ch = [0]*len(tickets)\n",
    "    answer = []\n",
    "    out = [\"ICN\"]\n",
    "    def dfs(point):\n",
    "        nonlocal ch , answer\n",
    "        cast = [(idx,i[1]) for idx,i in enumerate(tickets) if (i[0] == point)&(ch[idx] == 0)]\n",
    "        if answer :\n",
    "            if (answer[:len(out)] < out)&(len(out) !=0):\n",
    "                return\n",
    "        if sum(ch) == len(tickets):\n",
    "            if ((len(out)==len(answer))&(answer > out)) or len(answer) == 0 :\n",
    "                answer = out[:]\n",
    "            return\n",
    "        else:\n",
    "            for j in cast:\n",
    "                idx , i = j\n",
    "                ch[idx] = 1\n",
    "                out.append(i)\n",
    "                dfs(i)\n",
    "                out.pop()\n",
    "                ch[idx] = 0\n",
    "            \n",
    "    dfs(\"ICN\")\n",
    "    return answer"
   ]
  },
  {
   "cell_type": "markdown",
   "metadata": {},
   "source": [
    "다단계 칫솔 판매"
   ]
  },
  {
   "cell_type": "code",
   "execution_count": null,
   "metadata": {},
   "outputs": [],
   "source": [
    "def solution(enroll, referral, seller, amount):\n",
    "    keys=list(enroll)\n",
    "    keys.append(\"-\")\n",
    "    D1={j:i for i,j in zip(referral,enroll)}\n",
    "    answer ={i:0 for i in keys}\n",
    "    for i, j in zip(seller,amount):\n",
    "        K = \"\"\n",
    "        A = j*100\n",
    "        DEV = A //10\n",
    "        if DEV < 1 :\n",
    "            DEV = 0\n",
    "        answer[i] += A - DEV\n",
    "        \n",
    "        while True : \n",
    "            K = D1[i]\n",
    "            answer[K] += DEV \n",
    "            \n",
    "            DEV = DEV //10\n",
    "            if DEV <1:\n",
    "                DEV = 0\n",
    "            if DEV == 0 :\n",
    "                break\n",
    "            answer[K] -= DEV \n",
    "            \n",
    "            if K == \"-\":\n",
    "                break\n",
    "            i = K\n",
    "    return list(answer.values())[:-1]"
   ]
  },
  {
   "cell_type": "markdown",
   "metadata": {},
   "source": [
    "이중우선순위큐"
   ]
  },
  {
   "cell_type": "code",
   "execution_count": null,
   "metadata": {},
   "outputs": [],
   "source": [
    "def solution(operations):\n",
    "    from collections import deque\n",
    "    seq = deque([])\n",
    "    operations=deque(list(map(lambda x : x.split(\" \"),operations)))\n",
    "    previous = \"\"\n",
    "    while operations :\n",
    "        P=operations.popleft()\n",
    "        if P[0] == \"I\":\n",
    "            seq.append(int(P[1]))\n",
    "        else:\n",
    "            if previous == \"D\":\n",
    "                if len(seq) == 0:\n",
    "                    continue\n",
    "                if P[1] == \"1\":\n",
    "                    seq.pop()\n",
    "                else:    \n",
    "                    seq.popleft()\n",
    "            else:\n",
    "                if len(seq) == 0:\n",
    "                    continue\n",
    "                seq=sorted(seq)\n",
    "                seq = deque(seq)\n",
    "                if P[1] == \"1\":\n",
    "                    seq.pop()\n",
    "                else:    \n",
    "                    seq.popleft()\n",
    "        previous = P[0]\n",
    "    #print(seq)   \n",
    "    seq = sorted(seq)\n",
    "    if len(seq)==0: return [0,0] \n",
    "    elif len(seq) == 1: return [seq[0],seq[0]]\n",
    "    else  : return [seq[-1],seq[0]]"
   ]
  },
  {
   "cell_type": "markdown",
   "metadata": {},
   "source": [
    "등굣길"
   ]
  },
  {
   "cell_type": "code",
   "execution_count": null,
   "metadata": {},
   "outputs": [],
   "source": [
    "# subproblem -> 집에서 특정 포인트까지 갈 수 있는 최단 \n",
    "# 오른쪽이랑 아래만\n",
    "# 최단 경로의 개수 -> 같은 거리수를 갖는다\n",
    "\n",
    "def solution(m, n, puddles):\n",
    "    \n",
    "    #puddles.append([2,1])\n",
    "    #puddles.append([1,3])\n",
    "    #print([[ 1 if [i+1,j+1] in puddles else 0 for j in range(m)] for i in range(n)])\n",
    "    MM =[[0]*(m) for i in range(n)] \n",
    "    \n",
    "    MM[0][0] = 1\n",
    "    for i in range(n):\n",
    "        for j in range(m):\n",
    "            if ((i == 0)&( j == 0))|([j+1,i+1] in puddles):\n",
    "                continue\n",
    "            if ([j+1,i]in puddles)&([j,i+1]in puddles) :\n",
    "                MM[i][j] = 0\n",
    "                continue\n",
    "            if (i == 0)|([j+1,i]in puddles):\n",
    "                MM[i][j] = MM[i][j-1]\n",
    "                continue\n",
    "            if (j == 0)|([j,i+1] in puddles):\n",
    "                MM[i][j] = MM[i-1][j]\n",
    "                continue\n",
    "            MM[i][j] = MM[i-1][j] + MM[i][j-1]\n",
    "    #print(MM)\n",
    "    return MM[n-1][m-1]%1000000007"
   ]
  },
  {
   "cell_type": "markdown",
   "metadata": {},
   "source": [
    "합승택시요금"
   ]
  },
  {
   "cell_type": "code",
   "execution_count": null,
   "metadata": {},
   "outputs": [],
   "source": [
    "# 플로이드 와샬로 풀어야할 것 같은데\n",
    "def solution(n, s, a, b, fares):\n",
    "    wadj = [[float(\"inf\")]*n for i in range(n)]\n",
    "    for i in range(n) : wadj[i][i] = 0\n",
    "    \n",
    "    for i in fares:\n",
    "        wadj[i[0]-1][i[1]-1] = i[2]\n",
    "        wadj[i[1]-1][i[0]-1] = i[2]\n",
    "    \n",
    "    \n",
    "    for k in range(n):\n",
    "        for i in range(n):\n",
    "            for j in range(n):\n",
    "                wadj[i][j] = min(wadj[i][j],wadj[i][k]+wadj[k][j])\n",
    "    answer= float(\"inf\")\n",
    "    for k in range(n):\n",
    "        if k == s-1:\n",
    "            if answer > wadj[s-1][a-1] + wadj[s-1][b-1]:\n",
    "                answer = wadj[s-1][a-1] + wadj[s-1][b-1]\n",
    "        else :\n",
    "            if answer > wadj[s-1][k] + wadj[k][a-1] + wadj[k][b-1]:\n",
    "                answer = wadj[s-1][k] + wadj[k][a-1] + wadj[k][b-1]\n",
    "    \n",
    "    \n",
    "    #print(answer)\n",
    "    \n",
    "    \n",
    "    #answer = 0\n",
    "    return answer"
   ]
  },
  {
   "cell_type": "markdown",
   "metadata": {},
   "source": []
  },
  {
   "cell_type": "code",
   "execution_count": null,
   "metadata": {},
   "outputs": [],
   "source": []
  }
 ],
 "metadata": {
  "kernelspec": {
   "display_name": "Python 3",
   "language": "python",
   "name": "python3"
  },
  "language_info": {
   "codemirror_mode": {
    "name": "ipython",
    "version": 3
   },
   "file_extension": ".py",
   "mimetype": "text/x-python",
   "name": "python",
   "nbconvert_exporter": "python",
   "pygments_lexer": "ipython3",
   "version": "3.8.5"
  }
 },
 "nbformat": 4,
 "nbformat_minor": 4
}
