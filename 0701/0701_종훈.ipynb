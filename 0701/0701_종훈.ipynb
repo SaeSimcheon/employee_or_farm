{
 "cells": [
  {
   "cell_type": "markdown",
   "metadata": {},
   "source": [
    "# 짝수와 홀수"
   ]
  },
  {
   "cell_type": "code",
   "execution_count": null,
   "metadata": {},
   "outputs": [],
   "source": [
    "def solution(num):\n",
    "    if num % 2 == 0:\n",
    "        return \"Even\"\n",
    "    else:\n",
    "        return \"Odd\""
   ]
  },
  {
   "cell_type": "markdown",
   "metadata": {},
   "source": [
    "# 최대공약수와 최소공배수\n"
   ]
  },
  {
   "cell_type": "code",
   "execution_count": null,
   "metadata": {},
   "outputs": [],
   "source": [
    "def solution(n, m):\n",
    "    x = max(n, m)\n",
    "    y = min(n, m)\n",
    "\n",
    "    # 유클리드 호제법\n",
    "    while x % y != 0:\n",
    "        x, y = y, x%y\n",
    "    return [y, n*m//y]"
   ]
  },
  {
   "cell_type": "markdown",
   "metadata": {},
   "source": [
    "# 콜라츠 추측\n"
   ]
  },
  {
   "cell_type": "code",
   "execution_count": null,
   "metadata": {},
   "outputs": [],
   "source": [
    "def solution(num):\n",
    "    cnt = 0\n",
    "    while num > 1:\n",
    "        if cnt == 500:\n",
    "            cnt = -1\n",
    "            break\n",
    "        else:\n",
    "            if num%2 == 0:\n",
    "                num = num//2\n",
    "                cnt += 1\n",
    "            else:\n",
    "                num = num*3 + 1\n",
    "                cnt += 1\n",
    "            \n",
    "    return cnt"
   ]
  },
  {
   "cell_type": "markdown",
   "metadata": {},
   "source": [
    "# 평균 구하기\n"
   ]
  },
  {
   "cell_type": "code",
   "execution_count": null,
   "metadata": {},
   "outputs": [],
   "source": [
    "def solution(arr):\n",
    "    return sum(arr)/len(arr)"
   ]
  },
  {
   "cell_type": "markdown",
   "metadata": {},
   "source": [
    "# 하샤드 수\n"
   ]
  },
  {
   "cell_type": "code",
   "execution_count": null,
   "metadata": {},
   "outputs": [],
   "source": [
    "def solution(x):\n",
    "    n = x\n",
    "    num = 0\n",
    "    while x > 0:\n",
    "        num += x%10\n",
    "        x = x//10\n",
    "    if n%num == 0:\n",
    "        return True\n",
    "    else:\n",
    "        return False"
   ]
  },
  {
   "cell_type": "markdown",
   "metadata": {},
   "source": [
    "# 핸드폰 번호 가리기\n"
   ]
  },
  {
   "cell_type": "code",
   "execution_count": null,
   "metadata": {},
   "outputs": [],
   "source": [
    "def solution(phone_number):\n",
    "    return phone_number[-4:].rjust(len(phone_number),'*')"
   ]
  },
  {
   "cell_type": "markdown",
   "metadata": {},
   "source": [
    "# 행렬의 덧셈\n"
   ]
  },
  {
   "cell_type": "code",
   "execution_count": null,
   "metadata": {},
   "outputs": [],
   "source": [
    "def solution(arr1, arr2):\n",
    "    return [[i+j for i, j in zip(arr1[k], arr2[k])] for k in range(len(arr1))]"
   ]
  },
  {
   "cell_type": "markdown",
   "metadata": {},
   "source": [
    "# x만큼 간격이 있는 n개의 숫자\n"
   ]
  },
  {
   "cell_type": "code",
   "execution_count": null,
   "metadata": {},
   "outputs": [],
   "source": [
    "def solution(x, n):\n",
    "    if x == 0:\n",
    "        return [0]*n\n",
    "    else:\n",
    "        return list(range(x, x*(n+1), x))"
   ]
  },
  {
   "cell_type": "markdown",
   "metadata": {},
   "source": [
    "# 직사각형 별찍기\n"
   ]
  },
  {
   "cell_type": "code",
   "execution_count": null,
   "metadata": {},
   "outputs": [],
   "source": [
    "a, b = map(int, input().strip().split(' '))\n",
    "for _ in range(b):\n",
    "    print(\"*\"*a)"
   ]
  },
  {
   "cell_type": "markdown",
   "metadata": {},
   "source": [
    "# 짝지어 제거하기\n"
   ]
  },
  {
   "cell_type": "code",
   "execution_count": null,
   "metadata": {},
   "outputs": [],
   "source": [
    "def solution(s):\n",
    "    stack = []\n",
    "    for x in s:\n",
    "        if len(stack) == 0:\n",
    "            stack.append(x)\n",
    "        else:\n",
    "            if stack[-1] == x:\n",
    "                stack.pop()\n",
    "            else:\n",
    "                stack.append(x)\n",
    "    if len(stack) == 0:\n",
    "        return 1\n",
    "    else:\n",
    "        return 0"
   ]
  },
  {
   "cell_type": "markdown",
   "metadata": {},
   "source": [
    "# 멀쩡한 사각형\n"
   ]
  },
  {
   "cell_type": "code",
   "execution_count": null,
   "metadata": {},
   "outputs": [],
   "source": [
    "def solution(w,h):\n",
    "    w1=w \n",
    "    h1=h\n",
    "    while(w1!=h1):#유클리드 호제법\n",
    "        if w1>h1:#W1이 더크면 w1에서 h1을 빼준다\n",
    "            w1-=h1\n",
    "        else:   #h1이 더크면 반대\n",
    "            h1-=w1\n",
    "    \n",
    "    return w*h-(w+h-h1) #h1 이든 w1 이든 같음"
   ]
  },
  {
   "cell_type": "markdown",
   "metadata": {},
   "source": [
    "# 오픈채팅방\n"
   ]
  },
  {
   "cell_type": "code",
   "execution_count": null,
   "metadata": {},
   "outputs": [],
   "source": [
    "def solution(record):\n",
    "    dic = {}\n",
    "    answer = []\n",
    "    for re in record:\n",
    "        x = re.split()\n",
    "        if (x[0] == 'Enter') | (x[0] == 'Change'):\n",
    "            dic[x[1]] = x[2]\n",
    "    for re in record:\n",
    "        x = re.split()\n",
    "        if x[0] == 'Enter':\n",
    "            answer.append(dic[x[1]] + '님이 들어왔습니다.')\n",
    "        elif x[0] == 'Leave':\n",
    "            answer.append(dic[x[1]] + '님이 나갔습니다.')\n",
    "    \n",
    "    return answer"
   ]
  },
  {
   "cell_type": "markdown",
   "metadata": {},
   "source": [
    "# 타겟 넘버\n"
   ]
  },
  {
   "cell_type": "code",
   "execution_count": null,
   "metadata": {},
   "outputs": [],
   "source": [
    "def DFS(i, sum, numbers, target):\n",
    "    global cnt\n",
    "    if i == len(numbers):\n",
    "        if sum == target:\n",
    "            cnt += 1\n",
    "        return\n",
    "    else:\n",
    "        DFS(i+1, sum + numbers[i], numbers, target)\n",
    "        DFS(i+1, sum - numbers[i], numbers, target)\n",
    "        \n",
    "cnt = 0        \n",
    "def solution(numbers, target):\n",
    "    DFS(0, 0, numbers, target)\n",
    "    return cnt         "
   ]
  },
  {
   "cell_type": "markdown",
   "metadata": {},
   "source": [
    "# 124 나라의 숫자\n"
   ]
  },
  {
   "cell_type": "code",
   "execution_count": null,
   "metadata": {},
   "outputs": [],
   "source": [
    "def solution(n):\n",
    "    answer = ''\n",
    "    aa = ['1', '2', '4']\n",
    "    while True:\n",
    "        if n <= 3:\n",
    "            answer += aa[n-1]\n",
    "            break\n",
    "        else:\n",
    "            a = (n-1)%3\n",
    "            n = (n-1)//3 \n",
    "            answer += aa[a]\n",
    "    answer = answer[::-1]\n",
    "    return answer"
   ]
  },
  {
   "cell_type": "markdown",
   "metadata": {},
   "source": [
    "# 기능개발\n"
   ]
  },
  {
   "cell_type": "code",
   "execution_count": null,
   "metadata": {},
   "outputs": [],
   "source": [
    "from collections import deque\n",
    "def solution(progresses, speeds):\n",
    "    q1 = deque(progresses)\n",
    "    q2 = deque(speeds)\n",
    "    answer = []\n",
    "    while q1:\n",
    "        q1 = deque(x+y for x, y in zip(q1, q2))\n",
    "        cnt = 0\n",
    "        if q1[0] >= 100:\n",
    "            while len(q1) != 0 and q1[0] >= 100:\n",
    "                cnt += 1\n",
    "                q1.popleft()\n",
    "                q2.popleft()\n",
    "            answer.append(cnt)\n",
    "    return answer"
   ]
  },
  {
   "cell_type": "markdown",
   "metadata": {},
   "source": [
    "# 문자열 압축\n"
   ]
  },
  {
   "cell_type": "code",
   "execution_count": null,
   "metadata": {},
   "outputs": [],
   "source": [
    "def solution(s):\n",
    "    answer = 21470000\n",
    "    for i in range(1, len(s)//2 + 2):\n",
    "        string = [s[j:j+i] for j in range(0, len(s), i)]\n",
    "\n",
    "        ans = ''\n",
    "        cnt = 1\n",
    "        for k in range(1, len(string)):\n",
    "            if string[k-1] == string[k]:\n",
    "                cnt += 1\n",
    "            else:\n",
    "                ans += (str(cnt)+string[k-1]) if cnt > 1 else string[k-1]\n",
    "                cnt = 1\n",
    "        ans += (str(cnt)+string[k-1]) if cnt > 1 else string[-1]\n",
    "\n",
    "        if len(ans) < answer:\n",
    "            answer = len(ans)\n",
    "\n",
    "    return answer"
   ]
  },
  {
   "cell_type": "markdown",
   "metadata": {},
   "source": [
    "# 더 맵게\n"
   ]
  },
  {
   "cell_type": "code",
   "execution_count": null,
   "metadata": {},
   "outputs": [],
   "source": [
    "def solution(scoville, K):\n",
    "    import heapq as hq\n",
    "    hq.heapify(scoville)\n",
    "    cnt = 0\n",
    "    while True:\n",
    "        if scoville[0] >= K:\n",
    "            break\n",
    "        else:\n",
    "            if len(scoville) <= 1:\n",
    "                cnt = -1\n",
    "                break\n",
    "            else:\n",
    "                a = hq.heappop(scoville)\n",
    "                b = hq.heappop(scoville)\n",
    "                c = a + b*2\n",
    "                hq.heappush(scoville, c)\n",
    "                cnt += 1\n",
    "    return cnt"
   ]
  },
  {
   "cell_type": "markdown",
   "metadata": {},
   "source": [
    "# 소수 찾기\n"
   ]
  },
  {
   "cell_type": "code",
   "execution_count": null,
   "metadata": {},
   "outputs": [],
   "source": [
    "from itertools import permutations\n",
    "def solution(numbers):\n",
    "    lst = []\n",
    "    for i in range(1, len(numbers)+1):\n",
    "        lst.extend(list(permutations(numbers,i)))\n",
    "    \n",
    "    nums = []\n",
    "    for i in range(len(lst)):\n",
    "        num = int(''.join(lst[i]))\n",
    "        nums.append(num)\n",
    "    nums = list(set(nums))\n",
    "    \n",
    "    cnt = 0\n",
    "    for x in nums:\n",
    "        if x > 1:\n",
    "            for j in range(2, x//2 + 1):\n",
    "                if x % j == 0:\n",
    "                    break\n",
    "            else:\n",
    "                cnt += 1\n",
    "    return cnt\n",
    "\n",
    "\n",
    "# 다른사람의 풀이\n",
    "\n",
    "from itertools import permutations\n",
    "def solution(n):\n",
    "    a = set()\n",
    "    for i in range(len(n)):\n",
    "        a |= set(map(int, map(\"\".join, permutations(list(n), i + 1))))\n",
    "    a -= set(range(0, 2))\n",
    "    for i in range(2, int(max(a) ** 0.5) + 1):\n",
    "        a -= set(range(i * 2, max(a) + 1, i))\n",
    "    return len(a)"
   ]
  },
  {
   "cell_type": "markdown",
   "metadata": {},
   "source": [
    "# 게임 맵 최단거리\n"
   ]
  },
  {
   "cell_type": "code",
   "execution_count": null,
   "metadata": {},
   "outputs": [],
   "source": [
    "from collections import deque\n",
    "def solution(maps):\n",
    "    n = len(maps)\n",
    "    m = len(maps[0])\n",
    "\n",
    "    dis = [[0]*m for _ in range(n)]\n",
    "\n",
    "    dx = [-1, 0, 1, 0]\n",
    "    dy = [0, 1, 0, -1]\n",
    "\n",
    "    Q = deque()\n",
    "    maps[0][0] = 0\n",
    "    Q.append((0, 0))\n",
    "\n",
    "    while Q: # Q가 비면 멈추도록\n",
    "        tmp = Q.popleft()\n",
    "        for i in range(4):\n",
    "            x = tmp[0] + dx[i]\n",
    "            y = tmp[1] + dy[i]\n",
    "            if 0 <= x <= (n-1) and 0 <= y <= (m-1) and maps[x][y] == 1:\n",
    "                maps[x][y] = 0 # 벽으로 만들어 버리기\n",
    "                dis[x][y] = dis[tmp[0]][tmp[1]] + 1\n",
    "                Q.append((x, y))\n",
    "\n",
    "    if dis[n-1][m-1] == 0:\n",
    "        return -1\n",
    "    else:\n",
    "        return dis[n-1][m-1]+1"
   ]
  },
  {
   "cell_type": "markdown",
   "metadata": {},
   "source": [
    "# [1차] 뉴스 클러스터링\n"
   ]
  },
  {
   "cell_type": "markdown",
   "metadata": {},
   "source": [
    "# 가장 큰 수\n"
   ]
  },
  {
   "cell_type": "code",
   "execution_count": null,
   "metadata": {},
   "outputs": [],
   "source": [
    "def solution(numbers):\n",
    "    num = [(str(x), str(x)*3) for x in numbers]\n",
    "    num.sort(key = lambda x : x[1], reverse = True)\n",
    "    return str(int(''.join(map(lambda x : x[0], num))))"
   ]
  },
  {
   "cell_type": "markdown",
   "metadata": {},
   "source": [
    "# 행렬 테두리 회전하기\n"
   ]
  },
  {
   "cell_type": "markdown",
   "metadata": {},
   "source": [
    "# 괄호 변환\n"
   ]
  },
  {
   "cell_type": "markdown",
   "metadata": {},
   "source": [
    "# 튜플\n"
   ]
  },
  {
   "cell_type": "code",
   "execution_count": null,
   "metadata": {},
   "outputs": [],
   "source": [
    "from collections import Counter\n",
    "import re\n",
    "def solution(s):\n",
    "    ans = Counter(re.findall(\"\\d+\", s))\n",
    "    ans = ans.most_common()\n",
    "    ans.sort(key = lambda x:x[1], reverse = True)\n",
    "    res = []\n",
    "    for x in ans:\n",
    "        res.append(int(x[0]))\n",
    "    \n",
    "    '''\n",
    "    splited = s[2:-2].split(\"},{\")\n",
    "    splited.sort(key = lambda x : len(x))\n",
    "    ans = []\n",
    "    for x in splited:\n",
    "        ans = [(int(num) for num in x.split(\",\"))]\n",
    "    ''' \n",
    "    \n",
    "    \n",
    "    return res"
   ]
  },
  {
   "cell_type": "markdown",
   "metadata": {},
   "source": [
    "# 프린터\n"
   ]
  },
  {
   "cell_type": "markdown",
   "metadata": {},
   "source": [
    "# 전화번호 목록"
   ]
  },
  {
   "cell_type": "markdown",
   "metadata": {},
   "source": [
    "# 수식 최대화"
   ]
  },
  {
   "cell_type": "markdown",
   "metadata": {},
   "source": [
    "# 메뉴 리뉴얼"
   ]
  },
  {
   "cell_type": "markdown",
   "metadata": {},
   "source": [
    "# 예상 대진표"
   ]
  },
  {
   "cell_type": "code",
   "execution_count": null,
   "metadata": {},
   "outputs": [],
   "source": []
  }
 ],
 "metadata": {
  "kernelspec": {
   "display_name": "Python 3",
   "language": "python",
   "name": "python3"
  },
  "language_info": {
   "codemirror_mode": {
    "name": "ipython",
    "version": 3
   },
   "file_extension": ".py",
   "mimetype": "text/x-python",
   "name": "python",
   "nbconvert_exporter": "python",
   "pygments_lexer": "ipython3",
   "version": "3.7.6"
  }
 },
 "nbformat": 4,
 "nbformat_minor": 2
}
