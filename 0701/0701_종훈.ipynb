{
 "cells": [
  {
   "cell_type": "markdown",
   "metadata": {},
   "source": [
    "짝수와 홀수"
   ]
  },
  {
   "cell_type": "code",
   "execution_count": null,
   "metadata": {},
   "outputs": [],
   "source": [
    "def solution(num):\n",
    "    if num % 2 == 0:\n",
    "        return \"Even\"\n",
    "    else:\n",
    "        return \"Odd\""
   ]
  },
  {
   "cell_type": "markdown",
   "metadata": {},
   "source": [
    "최대공약수와 최소공배수"
   ]
  },
  {
   "cell_type": "code",
   "execution_count": null,
   "metadata": {},
   "outputs": [],
   "source": [
    "def solution(n, m):\n",
    "    x = max(n, m)\n",
    "    y = min(n, m)\n",
    "\n",
    "    # 유클리드 호제법\n",
    "    while x % y != 0:\n",
    "        x, y = y, x%y\n",
    "    return [y, n*m//y]"
   ]
  },
  {
   "cell_type": "markdown",
   "metadata": {},
   "source": [
    "콜라츠 추측"
   ]
  },
  {
   "cell_type": "code",
   "execution_count": null,
   "metadata": {},
   "outputs": [],
   "source": [
    "def solution(num):\n",
    "    cnt = 0\n",
    "    while num > 1:\n",
    "        if cnt == 500:\n",
    "            cnt = -1\n",
    "            break\n",
    "        else:\n",
    "            if num%2 == 0:\n",
    "                num = num//2\n",
    "                cnt += 1\n",
    "            else:\n",
    "                num = num*3 + 1\n",
    "                cnt += 1\n",
    "            \n",
    "    return cnt"
   ]
  },
  {
   "cell_type": "markdown",
   "metadata": {},
   "source": [
    "평균 구하기"
   ]
  },
  {
   "cell_type": "code",
   "execution_count": null,
   "metadata": {},
   "outputs": [],
   "source": [
    "def solution(arr):\n",
    "    return sum(arr)/len(arr)"
   ]
  },
  {
   "cell_type": "markdown",
   "metadata": {},
   "source": [
    "하샤드 수"
   ]
  },
  {
   "cell_type": "code",
   "execution_count": null,
   "metadata": {},
   "outputs": [],
   "source": [
    "def solution(x):\n",
    "    n = x\n",
    "    num = 0\n",
    "    while x > 0:\n",
    "        num += x%10\n",
    "        x = x//10\n",
    "    if n%num == 0:\n",
    "        return True\n",
    "    else:\n",
    "        return False"
   ]
  },
  {
   "cell_type": "markdown",
   "metadata": {},
   "source": [
    "핸드폰 번호 가리기"
   ]
  },
  {
   "cell_type": "code",
   "execution_count": null,
   "metadata": {},
   "outputs": [],
   "source": [
    "def solution(phone_number):\n",
    "    return phone_number[-4:].rjust(len(phone_number),'*')"
   ]
  },
  {
   "cell_type": "markdown",
   "metadata": {},
   "source": [
    "행렬의 덧셈"
   ]
  },
  {
   "cell_type": "code",
   "execution_count": null,
   "metadata": {},
   "outputs": [],
   "source": [
    "def solution(arr1, arr2):\n",
    "    return [[i+j for i, j in zip(arr1[k], arr2[k])] for k in range(len(arr1))]"
   ]
  },
  {
   "cell_type": "markdown",
   "metadata": {},
   "source": [
    "x만큼 간격이 있는 n개의 숫자"
   ]
  },
  {
   "cell_type": "code",
   "execution_count": null,
   "metadata": {},
   "outputs": [],
   "source": [
    "def solution(x, n):\n",
    "    if x == 0:\n",
    "        return [0]*n\n",
    "    else:\n",
    "        return list(range(x, x*(n+1), x))"
   ]
  },
  {
   "cell_type": "markdown",
   "metadata": {},
   "source": [
    "직사각형 별찍기"
   ]
  },
  {
   "cell_type": "code",
   "execution_count": null,
   "metadata": {},
   "outputs": [],
   "source": [
    "a, b = map(int, input().strip().split(' '))\n",
    "for _ in range(b):\n",
    "    print(\"*\"*a)"
   ]
  },
  {
   "cell_type": "markdown",
   "metadata": {},
   "source": [
    "짝지어 제거하기"
   ]
  },
  {
   "cell_type": "code",
   "execution_count": null,
   "metadata": {},
   "outputs": [],
   "source": [
    "def solution(s):\n",
    "    stack = []\n",
    "    for x in s:\n",
    "        if len(stack) == 0:\n",
    "            stack.append(x)\n",
    "        else:\n",
    "            if stack[-1] == x:\n",
    "                stack.pop()\n",
    "            else:\n",
    "                stack.append(x)\n",
    "    if len(stack) == 0:\n",
    "        return 1\n",
    "    else:\n",
    "        return 0"
   ]
  },
  {
   "cell_type": "markdown",
   "metadata": {},
   "source": [
    "기능개발"
   ]
  },
  {
   "cell_type": "code",
   "execution_count": null,
   "metadata": {},
   "outputs": [],
   "source": [
    "from collections import deque\n",
    "def solution(progresses, speeds):\n",
    "    q1 = deque(progresses)\n",
    "    q2 = deque(speeds)\n",
    "    answer = []\n",
    "    while q1:\n",
    "        q1 = deque(x+y for x, y in zip(q1, q2))\n",
    "        cnt = 0\n",
    "        if q1[0] >= 100:\n",
    "            while len(q1) != 0 and q1[0] >= 100:\n",
    "                cnt += 1\n",
    "                q1.popleft()\n",
    "                q2.popleft()\n",
    "            answer.append(cnt)\n",
    "    return answer"
   ]
  },
  {
   "cell_type": "markdown",
   "metadata": {},
   "source": [
    "타겟 넘버"
   ]
  },
  {
   "cell_type": "code",
   "execution_count": null,
   "metadata": {},
   "outputs": [],
   "source": [
    "def DFS(i, sum, numbers, target):\n",
    "    global cnt\n",
    "    if i == len(numbers):\n",
    "        if sum == target:\n",
    "            cnt += 1\n",
    "        return\n",
    "    else:\n",
    "        DFS(i+1, sum + numbers[i], numbers, target)\n",
    "        DFS(i+1, sum - numbers[i], numbers, target)\n",
    "        \n",
    "cnt = 0        \n",
    "def solution(numbers, target):\n",
    "    DFS(0, 0, numbers, target)\n",
    "    return cnt         "
   ]
  },
  {
   "cell_type": "markdown",
   "metadata": {},
   "source": [
    "124 나라의 숫자"
   ]
  },
  {
   "cell_type": "code",
   "execution_count": null,
   "metadata": {},
   "outputs": [],
   "source": [
    "def solution(n):\n",
    "    answer = ''\n",
    "    aa = ['1', '2', '4']\n",
    "    while True:\n",
    "        if n <= 3:\n",
    "            answer += aa[n-1]\n",
    "            break\n",
    "        else:\n",
    "            a = (n-1)%3\n",
    "            n = (n-1)//3 \n",
    "            answer += aa[a]\n",
    "    answer = answer[::-1]\n",
    "    return answer"
   ]
  }
 ],
 "metadata": {
  "kernelspec": {
   "display_name": "Python 3",
   "language": "python",
   "name": "python3"
  },
  "language_info": {
   "codemirror_mode": {
    "name": "ipython",
    "version": 3
   },
   "file_extension": ".py",
   "mimetype": "text/x-python",
   "name": "python",
   "nbconvert_exporter": "python",
   "pygments_lexer": "ipython3",
   "version": "3.7.1"
  }
 },
 "nbformat": 4,
 "nbformat_minor": 2
}
