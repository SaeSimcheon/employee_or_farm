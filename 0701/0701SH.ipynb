{
 "cells": [
  {
   "cell_type": "markdown",
   "metadata": {},
   "source": []
  },
  {
   "cell_type": "markdown",
   "metadata": {},
   "source": []
  },
  {
   "cell_type": "markdown",
   "metadata": {},
   "source": []
  },
  {
   "cell_type": "markdown",
   "metadata": {},
   "source": []
  },
  {
   "cell_type": "markdown",
   "metadata": {},
   "source": []
  },
  {
   "cell_type": "markdown",
   "metadata": {},
   "source": []
  },
  {
   "cell_type": "markdown",
   "metadata": {},
   "source": []
  },
  {
   "cell_type": "markdown",
   "metadata": {},
   "source": []
  },
  {
   "cell_type": "markdown",
   "metadata": {},
   "source": []
  },
  {
   "cell_type": "markdown",
   "metadata": {},
   "source": []
  },
  {
   "cell_type": "markdown",
   "metadata": {},
   "source": []
  },
  {
   "cell_type": "markdown",
   "metadata": {},
   "source": []
  },
  {
   "cell_type": "markdown",
   "metadata": {},
   "source": []
  },
  {
   "cell_type": "markdown",
   "metadata": {},
   "source": []
  },
  {
   "cell_type": "markdown",
   "metadata": {},
   "source": []
  },
  {
   "cell_type": "markdown",
   "metadata": {},
   "source": []
  },
  {
   "cell_type": "markdown",
   "metadata": {},
   "source": []
  },
  {
   "cell_type": "markdown",
   "metadata": {},
   "source": [
    "짝수와 홀수"
   ]
  },
  {
   "cell_type": "code",
   "execution_count": null,
   "metadata": {},
   "outputs": [],
   "source": [
    "def solution(num):\n",
    "    answer= \"Odd\"\n",
    "    if num %2 ==0:\n",
    "        answer = \"Even\"\n",
    "    return answer"
   ]
  },
  {
   "cell_type": "markdown",
   "metadata": {},
   "source": [
    "최대공약수와 최소공배수"
   ]
  },
  {
   "cell_type": "code",
   "execution_count": null,
   "metadata": {},
   "outputs": [],
   "source": [
    "def solution(n, m):\n",
    "    out = list()\n",
    "    for i in range(1,n+1):\n",
    "        if n % i ==0:\n",
    "            out.append(i)\n",
    "    print(out)\n",
    "    ans1 = 0\n",
    "    \n",
    "    for j in out:\n",
    "        if m % j==0:\n",
    "            ans1 = j\n",
    "    \n",
    "    seq1 = list(range(n,n*1000,n))\n",
    "    seq2 = list(range(m,m*1000,m))\n",
    "    \n",
    "    for i in seq1:\n",
    "        if seq2.count(i) ==1:\n",
    "            ans2=seq2[seq2.index(i)]\n",
    "            break\n",
    "        \n",
    "    answer = [ans1,ans2]\n",
    "    \n",
    "    return answer"
   ]
  },
  {
   "cell_type": "markdown",
   "metadata": {},
   "source": [
    "콜라츠 추측"
   ]
  },
  {
   "cell_type": "code",
   "execution_count": null,
   "metadata": {},
   "outputs": [],
   "source": [
    "def solution(num):\n",
    "    iter = 0\n",
    "    while iter < 500 and num != 1:\n",
    "        if num %2  == 0 :\n",
    "            num = num / 2 \n",
    "        elif num %2  == 1:\n",
    "            num = num * 3 + 1\n",
    "        iter +=1\n",
    "    if num ==1 :\n",
    "        answer= iter\n",
    "    else: \n",
    "        answer= -1\n",
    "    return answer"
   ]
  },
  {
   "cell_type": "markdown",
   "metadata": {},
   "source": [
    "평균 구하기"
   ]
  },
  {
   "cell_type": "code",
   "execution_count": null,
   "metadata": {},
   "outputs": [],
   "source": [
    "def solution(arr):\n",
    "    answer = sum(arr)/len(arr)\n",
    "    return answer"
   ]
  },
  {
   "cell_type": "markdown",
   "metadata": {},
   "source": [
    "하샤드 수"
   ]
  },
  {
   "cell_type": "code",
   "execution_count": null,
   "metadata": {},
   "outputs": [],
   "source": [
    "def solution(x):\n",
    "    splitted=list(map(int,list(str(x))))\n",
    "    if x % sum(splitted) == 0:\n",
    "        answer = True\n",
    "    else:\n",
    "        answer = False\n",
    "    return answer"
   ]
  },
  {
   "cell_type": "markdown",
   "metadata": {},
   "source": [
    "핸드폰 번호 가리기"
   ]
  },
  {
   "cell_type": "code",
   "execution_count": null,
   "metadata": {},
   "outputs": [],
   "source": [
    "def solution(phone_number):\n",
    "    import re\n",
    "    length=len(phone_number)\n",
    "    answer=re.sub(\"(^\\d{,\"+str(length-4)+\"})\",\"*\"*(length-4),phone_number)\n",
    "    return answer"
   ]
  },
  {
   "cell_type": "markdown",
   "metadata": {},
   "source": [
    "행렬의 덧셈"
   ]
  },
  {
   "cell_type": "code",
   "execution_count": null,
   "metadata": {},
   "outputs": [],
   "source": [
    "def solution(arr1, arr2):\n",
    "\n",
    "    answer = [[seq1[idx]+seq2[idx] for idx in range(len(seq1))] for seq1,seq2 in zip(arr1,arr2)]\n",
    "    return answer"
   ]
  },
  {
   "cell_type": "markdown",
   "metadata": {},
   "source": [
    "x만큼 간격이 있는 n개의 숫자"
   ]
  },
  {
   "cell_type": "code",
   "execution_count": null,
   "metadata": {},
   "outputs": [],
   "source": [
    "def solution(x, n):\n",
    "    if x < 0:\n",
    "        answer = [i for i in range(x,x*n-1,x)]\n",
    "    elif x > 0:\n",
    "        answer = [i for i in range(x,x*n+1,x)]\n",
    "    else:\n",
    "        answer = [0]*n\n",
    "    return answer\n",
    "# test 8 error"
   ]
  },
  {
   "cell_type": "markdown",
   "metadata": {},
   "source": [
    "직사각형 별찍기"
   ]
  },
  {
   "cell_type": "code",
   "execution_count": null,
   "metadata": {},
   "outputs": [],
   "source": [
    "a, b = map(int, input().strip().split(' '))\n",
    "print((\"*\"*(a)+\"\\n\")*b)"
   ]
  },
  {
   "cell_type": "markdown",
   "metadata": {},
   "source": [
    "짝지어 제거하기"
   ]
  },
  {
   "cell_type": "code",
   "execution_count": null,
   "metadata": {},
   "outputs": [],
   "source": [
    "def solution(s):\n",
    "    # list vs deque\n",
    "    from collections import Counter\n",
    "    from collections import deque\n",
    "    sdict=Counter(s)\n",
    "    answer = 1\n",
    "    \n",
    "    if sum(sdict.values())%2 == 1:\n",
    "        answer =0\n",
    "    for i in sdict.values():\n",
    "        if i %2 == 1 :\n",
    "            answer = 0\n",
    "            break\n",
    "    \n",
    "    s = deque(list(s))\n",
    "    stack = deque([])\n",
    "    while s:\n",
    "        popped=s.popleft()\n",
    "        if len(stack) == 0:\n",
    "            stack.append(popped)\n",
    "            continue\n",
    "        if popped == stack[-1]:\n",
    "            del stack[-1]\n",
    "        else :\n",
    "            stack.append(popped)\n",
    "    if len(stack) != 0:\n",
    "        answer =0\n",
    "                    \n",
    "            \n",
    "    return answer"
   ]
  },
  {
   "cell_type": "markdown",
   "metadata": {},
   "source": [
    "멀쩡한 사각형"
   ]
  },
  {
   "cell_type": "code",
   "execution_count": null,
   "metadata": {},
   "outputs": [],
   "source": [
    "def solution(w,h):\n",
    "    import math\n",
    "    \n",
    "    \n",
    "    if (w ==1)|(h ==1) :\n",
    "        answer = 0\n",
    "    else:\n",
    "        if w == h :\n",
    "            answer = w*h-w\n",
    "        else:\n",
    "            out = []\n",
    "            for i in range(w):\n",
    "                \n",
    "                left = float(math.floor(h*i/w))\n",
    "                right = float(math.ceil(h*(i+1)/w))\n",
    "                out.append(right - left)\n",
    "            answer = w*h - sum(out)\n",
    "    return answer"
   ]
  },
  {
   "cell_type": "markdown",
   "metadata": {},
   "source": [
    "오픈채팅방"
   ]
  },
  {
   "cell_type": "code",
   "execution_count": null,
   "metadata": {},
   "outputs": [],
   "source": [
    "def makesentence(element1,element2):\n",
    "    if element2 == \"Enter\":\n",
    "        return element1 + \"님이 들어왔습니다.\"\n",
    "    else :\n",
    "        return element1 + \"님이 나갔습니다.\"\n",
    "\n",
    "def convert(element,Name,odd):\n",
    "    act=element.group(1)\n",
    "    odd = act\n",
    "    uid=element.group(2)\n",
    "    name=element.group(3)\n",
    "    if uid not in Name.keys():\n",
    "        Name[uid] = name\n",
    "        \n",
    "    if act == \"Change\":\n",
    "        Name[uid] = name\n",
    "    else :\n",
    "        if name ==\"\":\n",
    "            return makesentence(Name[uid],act)\n",
    "        else:\n",
    "            return makesentence(Name[uid],act)\n",
    "def solution(record):\n",
    "    import re\n",
    "    global Name , odd\n",
    "    odd = \"\"\n",
    "    Name =dict()\n",
    "    answer= []\n",
    "    for i in record:\n",
    "        SE1 = re.sub(\"(Enter|Leave|Change) ([A-Za-z1-9]*)\\s*([A-Za-z]*)\", lambda x : convert(x,Name,odd),i)\n",
    "        print(odd)\n",
    "        if SE1 == \"\":\n",
    "            continue\n",
    "        answer.insert(0,SE1)\n",
    "    return answer"
   ]
  },
  {
   "cell_type": "markdown",
   "metadata": {},
   "source": [
    "타겟 넘버"
   ]
  },
  {
   "cell_type": "markdown",
   "metadata": {},
   "source": [
    "124 나라의 숫자"
   ]
  },
  {
   "cell_type": "code",
   "execution_count": null,
   "metadata": {},
   "outputs": [],
   "source": [
    "def solution(n):\n",
    "    \n",
    "    out = list()\n",
    "\n",
    "    for i in range(0,18):\n",
    "        one = 0\n",
    "        for j in [3 **k for k in range(0,i+1) ]:\n",
    "            one += j\n",
    "        out.append(one)\n",
    "    \n",
    "    print(len(out))\n",
    "    print(out)\n",
    "    \"4\"\n",
    "        \n",
    "    \n",
    "    answer = \"\"\n",
    "    return answer"
   ]
  },
  {
   "cell_type": "markdown",
   "metadata": {},
   "source": [
    "기능개발"
   ]
  },
  {
   "cell_type": "code",
   "execution_count": null,
   "metadata": {},
   "outputs": [],
   "source": [
    "def solution(progresses, speeds):\n",
    "    answer = list()\n",
    "    while progresses :\n",
    "        cnt = 0\n",
    "        for i in range(len(progresses)):\n",
    "            popped=progresses.pop(0)\n",
    "            popped_=speeds.pop(0)\n",
    "            if popped >=100:\n",
    "                cnt+=1\n",
    "                continue\n",
    "            else :\n",
    "                progresses.insert(0,popped)\n",
    "                speeds.insert(0,popped_)\n",
    "                break\n",
    "        progresses = [ i + j for i , j in zip(progresses,speeds) ]\n",
    "        if cnt !=0:\n",
    "            answer.append(cnt)\n",
    "        \n",
    "            \n",
    "    \n",
    "    return answer"
   ]
  },
  {
   "cell_type": "markdown",
   "metadata": {},
   "source": [
    "문자열 압축"
   ]
  },
  {
   "cell_type": "code",
   "execution_count": null,
   "metadata": {},
   "outputs": [],
   "source": [
    "def convert(matchObj):\n",
    "    g1=matchObj.group(1)\n",
    "    number = int((matchObj.span()[1] - matchObj.span()[0])/len(g1))\n",
    "    if number != 1 :\n",
    "        return str(number)+g1\n",
    "    else:\n",
    "        return g1\n",
    "\n",
    "\n",
    "def solution(s):\n",
    "    import re\n",
    "    zero = len(s)\n",
    "    out = [zero]\n",
    "    for i in range(1,len(s)):\n",
    "        substituted =re.sub('('+'\\w'*i +')\\\\1*',convert,s)\n",
    "        out.append(len(substituted))\n",
    "    answer = min(out)\n",
    "    return answer"
   ]
  },
  {
   "cell_type": "markdown",
   "metadata": {},
   "source": [
    "더 맵게"
   ]
  },
  {
   "cell_type": "markdown",
   "metadata": {},
   "source": [
    "게임 맵 최단거리"
   ]
  },
  {
   "cell_type": "markdown",
   "metadata": {},
   "source": [
    "[1차] 뉴스 클러스터링"
   ]
  },
  {
   "cell_type": "markdown",
   "metadata": {},
   "source": [
    "가장 큰 수"
   ]
  },
  {
   "cell_type": "code",
   "execution_count": null,
   "metadata": {},
   "outputs": [],
   "source": [
    "def solution(numbers):\n",
    "    \n",
    "    \n",
    "    \n",
    "    numbers=list(map(str,numbers))\n",
    "    length = max(list(map(len,numbers)))\n",
    "    numbers=list(map(list,numbers))\n",
    "    numbers.sort(key =  lambda x : (x,len) , reverse = True)\n",
    "    answer = ''\n",
    "    \n",
    "    for i in range(9,0,-1):\n",
    "        tie =[j for j in numbers if str(i) == j[0] ] \n",
    "        \n",
    "        if len(tie) == 0 :\n",
    "            continue\n",
    "        \n",
    "        for k in tie[::-1]:\n",
    "            for kk in tie[:tie.index(k)]:\n",
    "                print(k,kk)\n",
    "                \n",
    "        \n",
    "        tie = list(map(lambda x : \"\".join(x),tie))\n",
    "        answer += \"\".join(tie)\n",
    "    print(answer)\n",
    "\n",
    "    return answer"
   ]
  },
  {
   "cell_type": "markdown",
   "metadata": {},
   "source": [
    "행렬 테두리 회전하기"
   ]
  },
  {
   "cell_type": "code",
   "execution_count": null,
   "metadata": {},
   "outputs": [],
   "source": []
  },
  {
   "cell_type": "markdown",
   "metadata": {},
   "source": [
    "괄호 변환"
   ]
  },
  {
   "cell_type": "code",
   "execution_count": null,
   "metadata": {},
   "outputs": [],
   "source": []
  },
  {
   "cell_type": "markdown",
   "metadata": {},
   "source": [
    "튜플"
   ]
  },
  {
   "cell_type": "code",
   "execution_count": null,
   "metadata": {},
   "outputs": [],
   "source": [
    "def solution(s):\n",
    "    import re\n",
    "    s = s[1:(len(s)-1)]\n",
    "    ans=[ i.group(1)   for i in re.finditer(\"\\{((\\d,*)*)\\}\",s)]\n",
    "    \n",
    "    ans = [i.split(\",\") for i in ans]\n",
    "    ans.sort(key = len)\n",
    "    \n",
    "    answer = []\n",
    "    \n",
    "    answer.append(int(ans[0][0]))\n",
    "    if len(ans) >1:\n",
    "        for i in ans[:-1]:\n",
    "            ch=ans[ans.index(i)+1]\n",
    "            \n",
    "            a=[j for j in ch if j not in i]\n",
    "            answer.append(int(a[0]))\n",
    "        \n",
    "    return answer"
   ]
  },
  {
   "cell_type": "markdown",
   "metadata": {},
   "source": [
    "프린터"
   ]
  },
  {
   "cell_type": "code",
   "execution_count": null,
   "metadata": {},
   "outputs": [],
   "source": [
    "def solution(priorities, location):\n",
    "    iter= 0\n",
    "    ch = [0]*len(priorities)\n",
    "    ch[location] = 1\n",
    "    answer= 0\n",
    "    while priorities:\n",
    "        popped = priorities.pop(0)\n",
    "        ch_popped = ch.pop(0)\n",
    "        if len(priorities) == 0 :\n",
    "            iter +=1\n",
    "            answer= iter\n",
    "            break\n",
    "        if popped >= max(priorities):\n",
    "            iter +=1\n",
    "            \n",
    "            if ch_popped ==1:\n",
    "                answer = iter\n",
    "                break\n",
    "                \n",
    "            continue\n",
    "        else :\n",
    "            priorities.append(popped)\n",
    "            ch.append(ch_popped)\n",
    "        \n",
    "    return answer"
   ]
  },
  {
   "cell_type": "markdown",
   "metadata": {},
   "source": [
    "전화번호 목록"
   ]
  },
  {
   "cell_type": "code",
   "execution_count": null,
   "metadata": {},
   "outputs": [],
   "source": [
    "def solution(phone_book):\n",
    "    #import re\n",
    "    phone_book=sorted(phone_book, key= lambda x : (x,len(x)))\n",
    "    answer = True\n",
    "    for idx,j in enumerate(phone_book[:-1]):\n",
    "        if phone_book[idx+1].find(j)==0:\n",
    "            answer= False\n",
    "            break\n",
    "            \n",
    "    return answer"
   ]
  },
  {
   "cell_type": "markdown",
   "metadata": {},
   "source": [
    "수식 최대화"
   ]
  },
  {
   "cell_type": "code",
   "execution_count": null,
   "metadata": {},
   "outputs": [],
   "source": [
    "def star(element):\n",
    "    return str(int(element.group(1))*int(element.group(2)))\n",
    "def minus(element):\n",
    "    return str(int(element.group(1))-int(element.group(2)))\n",
    "def plus(element):\n",
    "    return str(int(element.group(1))+int(element.group(2)))\n",
    "\n",
    "def solution(expression):\n",
    "    import re\n",
    "    num_star=expression.count(\"*\")\n",
    "    num_plus=expression.count(\"+\")\n",
    "    num_minus=expression.count(\"-\")\n",
    "    \n",
    "    for i in range(num_start):\n",
    "        expression=re.sub(r\"(\\d+)\\*(\\d+)\",lambda x : star(x),expression,1)\n",
    "    for i in range(num_plus):\n",
    "        expression=re.sub(r\"(\\d+)\\*(\\d+)\",lambda x : plus(x),expression,1)\n",
    "    for i in range(num_minus):\n",
    "        expression=re.sub(r\"(\\d+)\\-(\\d+)\",lambda x : minus(x),expression,1)\n",
    "    \n",
    "    answer = 0\n",
    "    \n",
    "    return answer"
   ]
  },
  {
   "cell_type": "markdown",
   "metadata": {},
   "source": [
    "메뉴 리뉴얼"
   ]
  },
  {
   "cell_type": "code",
   "execution_count": null,
   "metadata": {},
   "outputs": [],
   "source": [
    "def ftn1(element):\n",
    "    from itertools import combinations\n",
    "    out = list()\n",
    "    for i in range(2,len(element)+1):\n",
    "        \n",
    "        out.extend(list(combinations(element,i)))\n",
    "    return out\n",
    "def solution(orders, course):\n",
    "    from collections import Counter\n",
    "    out = list()\n",
    "    for i in orders:\n",
    "        A=ftn1(i)\n",
    "        A = list(map(set,A))\n",
    "        A = list(map(sorted,A))\n",
    "        A = list(map(lambda x : \"\".join(x) ,A))\n",
    "        out.extend(A)\n",
    "    out_dict=Counter(out)\n",
    "    answer = []\n",
    "    while course:\n",
    "        k=course.pop(0)\n",
    "        \n",
    "        A={ i:j for i,j in out_dict.items() if (len(i) == k) }\n",
    "        \n",
    "        if len(A) ==0:\n",
    "            break\n",
    "        thismax=max(A.values())\n",
    "        select = [i for i,j in A.items() if (j == thismax)&(j >=2)]\n",
    "        print(select)\n",
    "        if len(select)!=0:\n",
    "            answer.extend(select)\n",
    "    answer.sort()\n",
    "    print(answer)\n",
    "            \n",
    "    \n",
    "    \n",
    "    \n",
    "    return answer"
   ]
  },
  {
   "cell_type": "markdown",
   "metadata": {},
   "source": [
    "예상 대진표"
   ]
  },
  {
   "cell_type": "code",
   "execution_count": null,
   "metadata": {},
   "outputs": [],
   "source": [
    "def solution(n,a,b):\n",
    "    \n",
    "    answer = 0\n",
    "    \n",
    "    while b - a != 0:\n",
    "        b = (b+1) // 2\n",
    "        a = (a+1) // 2\n",
    "        answer +=1\n",
    "        \n",
    "    \n",
    "\n",
    "    return answer"
   ]
  },
  {
   "cell_type": "markdown",
   "metadata": {},
   "source": [
    "조이스틱"
   ]
  },
  {
   "cell_type": "code",
   "execution_count": null,
   "metadata": {},
   "outputs": [],
   "source": [
    "def ordord(element,seq):\n",
    "    return abs(seq.index(\"A\")-seq.index(element))\n",
    "\n",
    "\n",
    "def solution(name):\n",
    "    name = \"ABAAAAAAAAABB\"\n",
    "    length = len(name)\n",
    "    name=list(name)\n",
    "    al=list(map(chr,range(ord(\"A\"),ord(\"Z\")+1)))\n",
    "    end = ord(\"M\")-ord(\"A\")+1\n",
    "    start = ord(\"A\")-ord(\"A\")\n",
    "    print(end)\n",
    "    sliced=slice(start,end)\n",
    "    head=al[sliced]\n",
    "    tail=al[end:]\n",
    "    tail.extend(head)\n",
    "    \n",
    "    \n",
    "    name_score=list(map(lambda x : ordord(x,tail),name))\n",
    "    \n",
    "    \n",
    "    cnt= 0 \n",
    "    ahead=name.pop(0)\n",
    "    for idx,j in enumerate(name):\n",
    "        if name.pop(0) == \"A\":\n",
    "            cnt+=1\n",
    "        else:\n",
    "            break\n",
    "    \n",
    "    if cnt ==0:\n",
    "        answer = sum(name_score) + length - 1\n",
    "    else :\n",
    "        \n",
    "        answer = sum(name_score) + length - 1 -cnt\n",
    "    \n",
    "    if sum(name_score) == 0 : \n",
    "        answer=  0\n",
    "        \n",
    "    print(answer)\n",
    "    \n",
    "    \n",
    "    return answer"
   ]
  }
 ],
 "metadata": {
  "kernelspec": {
   "display_name": "Python 3",
   "language": "python",
   "name": "python3"
  },
  "language_info": {
   "codemirror_mode": {
    "name": "ipython",
    "version": 3
   },
   "file_extension": ".py",
   "mimetype": "text/x-python",
   "name": "python",
   "nbconvert_exporter": "python",
   "pygments_lexer": "ipython3",
   "version": "3.8.5"
  }
 },
 "nbformat": 4,
 "nbformat_minor": 4
}
